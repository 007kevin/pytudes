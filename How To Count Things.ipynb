{
 "cells": [
  {
   "cell_type": "code",
   "execution_count": 1,
   "metadata": {
    "collapsed": true
   },
   "outputs": [],
   "source": [
    "import re\n",
    "import itertools\n",
    "from collections import defaultdict\n",
    "from functools import lru_cache"
   ]
  },
  {
   "cell_type": "markdown",
   "metadata": {},
   "source": [
    "# How to Count Things\n",
    "\n",
    "This notebook lists problems designed to show how to count things. Right now there are two problems.\n",
    "\n",
    "# Student Records: Late, Absent, Present\n",
    "\n",
    "Consider this problem:\n",
    "\n",
    "> (1) Students at a school must meet with the guidance counselor if they have two absences, or three consecutive late days. Each student's attendance record consists of a string of 'A' for absent, 'L' for late, or 'P' for present. For example: \"LAPLPA\" requires a meeting (because there are two absences), and \"LAPLPL\" is OK (there are three late days, but they are not consecutive). Write a function that takes such a string as input and returns `True` if the student's record is OK. \n",
    "\n",
    "> (2) Write a function to calculate the number of attendance records of length N that are OK.\n",
    "\n",
    "For part (1), the simplest approach is to use `re.search`:"
   ]
  },
  {
   "cell_type": "code",
   "execution_count": 2,
   "metadata": {
    "collapsed": true
   },
   "outputs": [],
   "source": [
    "def ok(record: str) -> bool: return not re.search(r'LLL|A.*A', record)"
   ]
  },
  {
   "cell_type": "code",
   "execution_count": 3,
   "metadata": {},
   "outputs": [
    {
     "data": {
      "text/plain": [
       "'pass'"
      ]
     },
     "execution_count": 3,
     "metadata": {},
     "output_type": "execute_result"
    }
   ],
   "source": [
    "def test_ok():\n",
    "    assert     ok(\"LAPLLP\")\n",
    "    assert not ok(\"LAPLLL\")   # 3 Ls in a row\n",
    "    assert not ok(\"LAPLLA\")   # 2 As overall\n",
    "    assert     ok(\"APLLPLLP\")\n",
    "    assert not ok(\"APLLPLLL\") # 3 Ls in a row\n",
    "    assert not ok(\"APLLPLLA\") # 2 As overall\n",
    "    return 'pass'\n",
    "    \n",
    "test_ok()  "
   ]
  },
  {
   "cell_type": "markdown",
   "metadata": {},
   "source": [
    "For part (2), I'll start with a simple (but slow) solution called `total_ok_slow` that enumerates `all_strings` (using `itertools.product`) and counts how many are `ok`. I use the `quantify` recipe ([from `itertools`](https://docs.python.org/3.6/library/itertools.html#itertools-recipes)) to count them:"
   ]
  },
  {
   "cell_type": "code",
   "execution_count": 4,
   "metadata": {
    "collapsed": true
   },
   "outputs": [],
   "source": [
    "def all_strings(alphabet, N): \n",
    "    \"All length-N strings over the given alphabet.\"\n",
    "    return map(cat, itertools.product(alphabet, repeat=N))\n",
    "\n",
    "def total_ok_slow(N: int) -> int:\n",
    "    \"How many strings over 'LAP' of length N are ok?\"\n",
    "    return quantify(all_strings('LAP', N), ok)\n",
    "\n",
    "def quantify(iterable, pred=bool) -> int:\n",
    "    \"Count how many times the predicate is true of items in iterable.\"\n",
    "    return sum(map(pred, iterable))\n",
    "\n",
    "cat = ''.join"
   ]
  },
  {
   "cell_type": "code",
   "execution_count": 5,
   "metadata": {},
   "outputs": [
    {
     "data": {
      "text/plain": [
       "{0: 1,\n",
       " 1: 3,\n",
       " 2: 8,\n",
       " 3: 19,\n",
       " 4: 43,\n",
       " 5: 94,\n",
       " 6: 200,\n",
       " 7: 418,\n",
       " 8: 861,\n",
       " 9: 1753,\n",
       " 10: 3536}"
      ]
     },
     "execution_count": 5,
     "metadata": {},
     "output_type": "execute_result"
    }
   ],
   "source": [
    "{N: total_ok_slow(N) for N in range(11)}"
   ]
  },
  {
   "cell_type": "markdown",
   "metadata": {},
   "source": [
    "This looks good, but\n",
    "I will need a more efficient algorithm to handle large values of *N*. Here's how I think about it:\n",
    "\n",
    "* I can't enumerate all the strings; there are too many of them, 3<sup>N</sup>. \n",
    "* Even if I only enumerate the ok strings, there are still too many, O(2<sup>N</sup>).\n",
    "* Instead, I'll want to keep track of a *summary* of all the ok strings of length *N*, and use that to quickly compute a summary of the ok strings of length *N*+1. I recognize this as a *[dynamic programming](https://en.wikipedia.org/wiki/Dynamic_programming)* approach.\n",
    "\n",
    "* What is in the summary? A list of all ok strings is too much. A count of the number of ok strings is not enough. Instead, I will group together the strings that have the same number of `'A'` characters in them, and the same number of consecutive `'L'` characters at the end of the string, and count them.  I don't need to count strings that have two or more `'A'` characters, or 3 consecutive `'L'` characters anywhere in the string. And I don't need to worry about runs of 1 or 2 `'L'` characters embedded in the middle of the string. So the summary is a mapping of the form `{(A, L): count, ...}`. \n",
    "\n",
    "* For *N* = 2, the summary looks like this:\n",
    "\n",
    "      #(number_of_A_in_string, number_of_L_at_end_of_string): count\n",
    "      #(A, L): c\n",
    "      {(0, 0): 2, # LP, PP\n",
    "       (0, 1): 1, # PL\n",
    "       (0, 2): 1, # LL\n",
    "       (1, 0): 1, # AP, LA, PA\n",
    "       (1, 1): 1} # AL\n",
    " \n",
    "\n",
    "Here is a function to create the summary for `N+1`, given the summary for `N`:"
   ]
  },
  {
   "cell_type": "code",
   "execution_count": 6,
   "metadata": {
    "collapsed": true
   },
   "outputs": [],
   "source": [
    "def next_summary(prev_summary: dict) -> dict:\n",
    "    \"Given a summary of the form {(A, L): count, ...}, return summary for strings one char longer.\"\n",
    "    summary = defaultdict(int)\n",
    "    for (A, L), c in prev_summary.items():\n",
    "            if A < 1: summary[A+1, 0] += c # transition with 'A'\n",
    "            if L < 2: summary[A, L+1] += c # transition with 'L'\n",
    "            summary[A, 0] += c             # transition with 'P'\n",
    "    return summary"
   ]
  },
  {
   "cell_type": "markdown",
   "metadata": {},
   "source": [
    "For `N = 0`, the summary is `{(0, 0): 1}`, because there is one string, the empty string, which has no `'A'` nor `'L'`. From there we can proceed in a \"bottom-up\" fashion to compute the total number of OK strings for any value of `N`:"
   ]
  },
  {
   "cell_type": "markdown",
   "metadata": {},
   "source": [
    "Here's a \"bottom-up\" approach for `total_ok` that starts at `0` and works up to `N`:"
   ]
  },
  {
   "cell_type": "code",
   "execution_count": 7,
   "metadata": {
    "collapsed": true
   },
   "outputs": [],
   "source": [
    "def total_ok(N) -> int:\n",
    "    \"How many strings of length N are ok?\"\n",
    "    summary = {(0, 0): 1}\n",
    "    for _ in range(N):\n",
    "        summary = next_summary(summary)\n",
    "    return sum(summary.values()) "
   ]
  },
  {
   "cell_type": "markdown",
   "metadata": {},
   "source": [
    "We can use this to go way beyond what we could do with `total_ok_slow`:"
   ]
  },
  {
   "cell_type": "code",
   "execution_count": 8,
   "metadata": {},
   "outputs": [
    {
     "name": "stdout",
     "output_type": "stream",
     "text": [
      "CPU times: user 1.28 ms, sys: 16 µs, total: 1.29 ms\n",
      "Wall time: 1.32 ms\n"
     ]
    },
    {
     "data": {
      "text/plain": [
       "5261545087067582125179062608958232695543100705754634272071166414871321070487675367"
      ]
     },
     "execution_count": 8,
     "metadata": {},
     "output_type": "execute_result"
    }
   ],
   "source": [
    "%time total_ok(300)"
   ]
  },
  {
   "cell_type": "markdown",
   "metadata": {},
   "source": [
    "There are over 10<sup>80</sup> ok strings of length 300; more than the number of atoms in the universe. But it only took around a millisecond to count them.\n",
    "\n",
    "Dynamic programming can also be done top-down (where we start at `N` and work down to `0`):"
   ]
  },
  {
   "cell_type": "code",
   "execution_count": 9,
   "metadata": {},
   "outputs": [],
   "source": [
    "def total_ok(N) -> int:\n",
    "    \"How many strings of length N are ok?\"\n",
    "    return sum(summary_for(N).values())\n",
    "    \n",
    "def summary_for(N) -> dict: \n",
    "    \"The {(A, L): count} summary for strings of length N.\"\n",
    "    return ({(0, 0): 1} if N == 0 else next_summary(summary_for(N - 1)))"
   ]
  },
  {
   "cell_type": "code",
   "execution_count": 10,
   "metadata": {},
   "outputs": [
    {
     "name": "stdout",
     "output_type": "stream",
     "text": [
      "CPU times: user 1.7 ms, sys: 78 µs, total: 1.77 ms\n",
      "Wall time: 1.81 ms\n"
     ]
    },
    {
     "data": {
      "text/plain": [
       "5261545087067582125179062608958232695543100705754634272071166414871321070487675367"
      ]
     },
     "execution_count": 10,
     "metadata": {},
     "output_type": "execute_result"
    }
   ],
   "source": [
    "%time total_ok(300)"
   ]
  },
  {
   "cell_type": "markdown",
   "metadata": {},
   "source": [
    "We get the same answer in about the same amopunt of time.\n",
    "\n",
    "Let's verify our results against the slow, reliable `total_ok_slow`, and look at the summaries for the first few values of `N`:"
   ]
  },
  {
   "cell_type": "code",
   "execution_count": 11,
   "metadata": {},
   "outputs": [
    {
     "name": "stdout",
     "output_type": "stream",
     "text": [
      " N   ok summary(N)\n",
      "-- ---- ----------\n",
      " 0    1 {(0, 0): 1}\n",
      " 1    3 {(0, 1): 1, (1, 0): 1, (0, 0): 1}\n",
      " 2    8 {(0, 1): 1, (1, 0): 3, (0, 0): 2, (0, 2): 1, (1, 1): 1}\n",
      " 3   19 {(0, 1): 2, (1, 2): 1, (0, 0): 4, (1, 0): 8, (0, 2): 1, (1, 1): 3}\n",
      " 4   43 {(0, 1): 4, (1, 2): 3, (0, 0): 7, (1, 0): 19, (0, 2): 2, (1, 1): 8}\n",
      " 5   94 {(0, 1): 7, (1, 2): 8, (0, 0): 13, (1, 0): 43, (0, 2): 4, (1, 1): 19}\n",
      " 6  200 {(0, 1): 13, (1, 2): 19, (0, 0): 24, (1, 0): 94, (0, 2): 7, (1, 1): 43}\n",
      " 7  418 {(0, 1): 24, (1, 2): 43, (0, 0): 44, (1, 0): 200, (0, 2): 13, (1, 1): 94}\n",
      " 8  861 {(0, 1): 44, (1, 2): 94, (0, 0): 81, (1, 0): 418, (0, 2): 24, (1, 1): 200}\n",
      " 9 1753 {(0, 1): 81, (1, 2): 200, (0, 0): 149, (1, 0): 861, (0, 2): 44, (1, 1): 418}\n",
      "10 3536 {(0, 1): 149, (1, 2): 418, (0, 0): 274, (1, 0): 1753, (0, 2): 81, (1, 1): 861}\n"
     ]
    }
   ],
   "source": [
    "print(' N   ok summary(N)')\n",
    "print('-- ---- ----------')\n",
    "for N in range(11): \n",
    "    assert total_ok(N) == total_ok_slow(N)\n",
    "    print('{:2} {:4} {}'.format(N, total_ok(N), dict(summary_for(N))))"
   ]
  },
  {
   "cell_type": "markdown",
   "metadata": {},
   "source": [
    "# Count Strings with Alphabetic First Occurences\n",
    "\n",
    "Here's another problem:\n",
    "\n",
    "> Given an alphabet of length k, how many strings of length k can be formed such that the first occurrences of each character in the string are a prefix of the alphabet?\n",
    "\n",
    "Let's first make sure we understand the problem. Since *k* could go well beyond 26, I will choose as my alphabet the integers, not the letters `'abc...'`. An alphabet of length *k* is `range(k)`, and a valid string of length 3 could be\n",
    "`[0, 1, 2]` or `[0, 0, 1]` (or other possibilities). These are valid because the first occurrence of each character for these strings are `[0, 1, 2]` and `[0, 1]`, respectively, and these are prefixes of `range(3)`. But `[0, 0, 2]` is not valid, because the first occurrences are `[0, 2]`, and this is not a prefix (because it is missing the `1`). \n",
    "\n",
    "I'll define four key concepts:"
   ]
  },
  {
   "cell_type": "code",
   "execution_count": 12,
   "metadata": {
    "collapsed": true
   },
   "outputs": [],
   "source": [
    "def valid(s) -> bool: \n",
    "    \"A string is valid if its first occurrences are a prefix of the alphabet.\"\n",
    "    return is_prefix(first_occurrences(s))\n",
    "\n",
    "def is_prefix(s) -> bool: \n",
    "    \"A string is a valid prefix if it is consecutive integers starting from 0.\"\n",
    "    return s == list(range(len(s)))\n",
    "\n",
    "def first_occurrences(s) -> list:\n",
    "    \"The unique elements of s, in the order they first appear.\" \n",
    "    firsts = []\n",
    "    for x in s:\n",
    "        if x not in firsts: firsts.append(x)\n",
    "    return firsts \n",
    "\n",
    "def all_strings(k): \n",
    "    \"All strings of length k over an alphabet of k ints.\"\n",
    "    return itertools.product(range(k), repeat=k)"
   ]
  },
  {
   "cell_type": "code",
   "execution_count": 13,
   "metadata": {},
   "outputs": [
    {
     "data": {
      "text/plain": [
       "'ok'"
      ]
     },
     "execution_count": 13,
     "metadata": {},
     "output_type": "execute_result"
    }
   ],
   "source": [
    "def test(): \n",
    "    assert valid([0, 1, 2]) and valid([0, 0, 1])\n",
    "    assert not valid([0, 0, 2])\n",
    "    assert is_prefix([0, 1, 2])\n",
    "    assert first_occurrences([0, 0, 2]) == [0, 2]\n",
    "    assert set(all_strings(2)) == {(0, 0), (0, 1), (1, 0), (1, 1)}\n",
    "    #            s             first_occurrences(s) valid(s)\n",
    "    assert test1([0, 1, 2],    [0, 1, 2],           True)  \n",
    "    assert test1([0, 0, 0],    [0],                 True)      \n",
    "    assert test1([1],          [1],                 False)      \n",
    "    assert test1([0, 1, 3],    [0, 1, 3],           False)\n",
    "    assert test1([0, 1, 3, 2], [0, 1, 3, 2],        False)\n",
    "    assert test1([0, 1, 0, 1, 0, 2, 1], [0, 1, 2],  True)\n",
    "    assert test1([0, 1, 0, 2, 1, 3, 1, 2, 5, 4, 3], [0, 1, 2, 3, 5, 4], False)\n",
    "    assert test1([0, 1, 0, 2, 1, 3, 1, 2, 4, 5, 3], [0, 1, 2, 3, 4, 5], True)\n",
    "    return 'ok'\n",
    "\n",
    "def test1(s, firsts, is_valid):\n",
    "    return first_occurrences(s) == firsts and valid(s) == is_valid\n",
    "    \n",
    "test()"
   ]
  },
  {
   "cell_type": "markdown",
   "metadata": {},
   "source": [
    "First, I will solve the problem in a slow but sure way: generate all possible strings, then count the number that are valid. The complexity of this algorithm is $O(k^{k+1})$, because there are $k^k$ strings, and to validate a string requires looking at all $k$ characters."
   ]
  },
  {
   "cell_type": "code",
   "execution_count": 14,
   "metadata": {},
   "outputs": [
    {
     "data": {
      "text/plain": [
       "[1, 1, 2, 5, 15, 52, 203]"
      ]
     },
     "execution_count": 14,
     "metadata": {},
     "output_type": "execute_result"
    }
   ],
   "source": [
    "def how_many_slow(k) -> int: \n",
    "    \"\"\"Count the number of valid strings. (Try all possible strings.)\"\"\"\n",
    "    return quantify(all_strings(k), valid)\n",
    "\n",
    "[how_many_slow(k) for k in range(7)]"
   ]
  },
  {
   "cell_type": "markdown",
   "metadata": {},
   "source": [
    "Now let's think about how to speed that up. I don't want to have to consider every possible string, because there are too many ($k^k$) of them. Can I group together many strings and just count the number of them, without enumerating each one? For example, if I knew there were 52 valid strings of length $k-1$ (and didn't know anything else about them), can I tell how many valid strings of length $k$ there are? I don't see a way to do this directly, because the number of ways to extend a valid string is dependent on the number of distinct characters in the string. If a string has $m$ distinct characters, then I can extend it in $m$ waysby repeating any of those $m$ characters, or I can introduce a first occurrence of character number $m+1$ in just 1 way.\n",
    "\n",
    "So I need to keep track of the number of valid strings of length $k$ that have exactly $m$ distinct characters (those characters must be exactly `range(m)`). I'll call that number `C(k, m)`. Because I can reach a recursive call to `C(k, m)` by many paths, I will use the `lru_cache` decorator to keep track of the computations that I have already done. Then I can define `how_many(k)` as the sum over all values of `m` of `C(k, m)`:"
   ]
  },
  {
   "cell_type": "code",
   "execution_count": 15,
   "metadata": {
    "collapsed": true
   },
   "outputs": [],
   "source": [
    "@lru_cache()\n",
    "def C(k, m) -> int:\n",
    "    \"Count the number of valid strings of length k, that use m distinct characters.\"\n",
    "    return (1 if k == 0 == m else\n",
    "            0 if k == 0 != m else\n",
    "            C(k-1, m) * m + C(k-1, m-1)) # m ways to add an old character; 1 way to add new\n",
    "\n",
    "def how_many(k): return sum(C(k, m) for m in range(k+1))"
   ]
  },
  {
   "cell_type": "code",
   "execution_count": 16,
   "metadata": {},
   "outputs": [
    {
     "data": {
      "text/plain": [
       "47585391276764833658790768841387207826363669686825611466616334637559114497892442622672724044217756306953557882560751"
      ]
     },
     "execution_count": 16,
     "metadata": {},
     "output_type": "execute_result"
    }
   ],
   "source": [
    "how_many(100)"
   ]
  },
  {
   "cell_type": "code",
   "execution_count": 17,
   "metadata": {
    "collapsed": true
   },
   "outputs": [],
   "source": [
    "assert all(how_many(k) == how_many_slow(k) for k in range(7))"
   ]
  },
  {
   "cell_type": "code",
   "execution_count": 18,
   "metadata": {},
   "outputs": [
    {
     "name": "stdout",
     "output_type": "stream",
     "text": [
      "  0             1\n",
      "  1             1\n",
      "  2             2\n",
      "  3             5\n",
      "  4            15\n",
      "  5            52\n",
      "  6           203\n",
      "  7           877\n",
      "  8          4140\n",
      "  9         21147\n",
      " 10        115975\n",
      " 20   5.17242e+13\n",
      " 30   8.46749e+23\n",
      " 40   1.57451e+35\n",
      " 50   1.85724e+47\n",
      " 60   9.76939e+59\n",
      " 70    1.8075e+73\n",
      " 80   9.91268e+86\n",
      " 90   1.4158e+101\n",
      "100  4.75854e+115\n",
      "110  3.46846e+130\n",
      "120   5.1263e+145\n"
     ]
    }
   ],
   "source": [
    "for k in itertools.chain(range(10), range(10, 121, 10)):\n",
    "    print('{:3}  {:12g}'.format(k,  how_many(k)))"
   ]
  }
 ],
 "metadata": {
  "kernelspec": {
   "display_name": "Python 3",
   "language": "python",
   "name": "python3"
  },
  "language_info": {
   "codemirror_mode": {
    "name": "ipython",
    "version": 3
   },
   "file_extension": ".py",
   "mimetype": "text/x-python",
   "name": "python",
   "nbconvert_exporter": "python",
   "pygments_lexer": "ipython3",
   "version": "3.5.3"
  }
 },
 "nbformat": 4,
 "nbformat_minor": 1
}
