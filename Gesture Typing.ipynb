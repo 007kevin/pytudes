{
 "cells": [
  {
   "cell_type": "markdown",
   "metadata": {},
   "source": [
    "Gesture Typing \n",
    "===\n",
    "\n",
    "Typing quickly and accurately on a smartphone screen is hard! One invention to make it easier is **gesture typing**, in which your finger can trace a **path** consisting of letter-to-letter **segments**. When you lift your finger the path (and the word) is complete. Below we see the path for the word \"hello.\" Note that the path is imprecise; it didn't quite hit the \"L\", but the word was recognized anyways, because \"Hello\" is a known word, whereas \"Hekko\", \"Hwerklo\", etc., are not.\n",
    "\n",
    "<img src=\"http://norvig.com/gesture.png\">\n",
    "\n",
    "Questions About Gesture Typing\n",
    "===\n",
    "\n",
    "My colleague Nicolas Schank examined (and answered) the question of what word has the longest path length. I mentioned this to [Shumin Zhai](http://www.shuminzhai.com/), the pioneer of gesture typing, and between the three of us we expanded the list of questions:\n",
    "\n",
    " 1. What words have the longest path length?\n",
    " 2. What words have the highest ratio of path length to word length? \n",
    " 3. What is the average segment length, over a typical typing work load?\n",
    " 3. Is there a better keyboard layout to minimize the average segment length over a work load?\n",
    " 4. How often are two words confused because they have similar paths?\n",
    " 5. Is there a better keyboard layout to minimize confusion? \n",
    " 6. Is there a better keyboard layout to maximize overall user satisfaction?\n",
    "\n",
    "Let's look at each of these questions, but first, let's get a rough idea for of the concepts we will need to model.\n",
    "\n",
    "Vocabulary\n",
    "===\n",
    "\n",
    "We will need to talk about the following concepts:\n",
    "\n",
    "* **Keyboard**: We'll need to know the **location** of each letter on the keyboard (we consider only letters, not the other symbols).\n",
    "* **Location**: A location is a **point** in two-dimensional space (we assume keyboards are flat).\n",
    "* **Path**: A path connects the letters in a word. In the picture above the path is curved, but a shortest path is formed by connecting straight line **segments**, so maybe we need only deal with straight lines.\n",
    "* **Segment**: A line segment is a straight line between two points.\n",
    "* **Length**: Paths and Segments have lengths; the distance travelled along them.\n",
    "* **Words**: We will need a list of allowable words (in order to find the one with the longest path).\n",
    "* **Work Load**: If we want to find the average path length over a typical work load, we'll have to represent a work load: not\n",
    "just a list of words, but a measure of how frequent each word (or each segment) is.\n",
    "* **Confusion**: We need some measure of *whether* (or perhaps *to what degree*) the paths for two words can be confused with each other.\n",
    "* **Satisfaction**: This is a very difficult concept to define.  A user will be more satisfied with a keyboard if it allows for fast, accurate typing, and if it gives the user a feeling of mastery, not frustration.\n",
    "\n",
    "**Note**: Before we get started writing any real code, I've taken all the `import`s I will need throughout this notebook and gathered them together here:\n",
    "\n",
    "\n",
    "             "
   ]
  },
  {
   "cell_type": "code",
   "execution_count": 1,
   "metadata": {
    "collapsed": true
   },
   "outputs": [],
   "source": [
    "from collections import Counter\n",
    "from statistics import mean\n",
    "import matplotlib.pyplot as plt\n",
    "import urllib\n",
    "import itertools\n",
    "import random \n",
    "import re"
   ]
  },
  {
   "cell_type": "markdown",
   "metadata": {},
   "source": [
    "Representing Keyboards and Points\n",
    "===\n",
    "\n",
    "The representation for a keyboard needs to describe the location of each of the letters. Using the principle of *\"Do the simplest thing that could possibly work,\"* I represent a keyboard as a `dict` of `{letter: point}` pairs, where there will be 26 letters, A-Z,\n",
    "and each point will mark the x-y coordinates of the center of the corresponding key.  In a standard keyboard the letters are not all on a strict rectangular grid; the **A** key is half way between the **Q** and **W** in the horizontal direction. I would like to have a programmer-friendly way of defining keyboard layouts.  For example, a programmer should be able to write:\n",
    "\n",
    "    Keyboard(('Q W E R T Y U I O P',\n",
    "              ' A S D F G H J K L ',\n",
    "              '   Z X C V B N M   '))\n",
    "              \n",
    "and this would be equivalent to the `dict`:\n",
    "\n",
    "    {'Q': Point(0, 0),   'W': Point(1, 0), ...\n",
    "     'A': Point(0.5, 1), 'S': Point(1.5, 1), ...\n",
    "     'Z': Point(1.5, 2), 'X': Point(2.5, 2), ...}\n",
    "              \n",
    "Note that one key width is two characters in the input to `Keyboard`.  Here is the implementation:"
   ]
  },
  {
   "cell_type": "code",
   "execution_count": 2,
   "metadata": {
    "collapsed": true
   },
   "outputs": [],
   "source": [
    "def Keyboard(rows):\n",
    "    \"A keyboard is a {letter: location} map, e.g. {'Q':Point(0, 0), 'A': Point(0.5, 1)}.\"\n",
    "    return {ch: Point(x/2, y) \n",
    "            for (y, row) in enumerate(rows)\n",
    "            for (x, ch) in enumerate(row)\n",
    "            if ch != ' '}"
   ]
  },
  {
   "cell_type": "markdown",
   "metadata": {},
   "source": [
    "What about `Point`? At first glance, Python does not appear to have a two-dimensional point as a builtin data type, but\n",
    "on second thought, it does: `complex`. A complex number is a point in the two-dimensional complex plane;\n",
    "we can use that to model the two-dimensional (x, y) plane. Because complex numbers are built in, manipulating them will be efficient. A bonus is that the distance between points `A` and `B` is simply  `abs(A-B)`; easier than the usual formula involving squares and a square root. Thus, the simplest possible thing I could do to represent points is\n",
    "\n",
    "<pre>\n",
    "Point = complex\n",
    "</pre>\n",
    "\n",
    "That would work fine. However, I would like to refer to the x coordinate of point `p` as `p.x` rather than `p.real`, and I would like points to display nicely, so I will do the second-simplest thing: make `Point` be a subclass of `complex` with `x` and `y` properties and a  `__repr__` method:"
   ]
  },
  {
   "cell_type": "code",
   "execution_count": 3,
   "metadata": {
    "collapsed": true
   },
   "outputs": [],
   "source": [
    "class Point(complex):\n",
    "    \"A point in the (x, y) plane.\"\n",
    "    def __repr__(self): return 'Point({}, {})'.format(self.x, self.y)\n",
    "    x = property(lambda p: p.real)\n",
    "    y = property(lambda p: p.imag)\n",
    "    \n",
    "def distance(A, B):\n",
    "    \"The distance between two points.\"\n",
    "    return abs(A - B)"
   ]
  },
  {
   "cell_type": "markdown",
   "metadata": {},
   "source": [
    "**Design notes for Point:** Alternative representations for points include an `(x, y)` tuple or namedtuple, or a NumPy two-element array, or a class. \n",
    "\n",
    "**Design notes for Keyboard:** Alternatives for `Keyboard` include a subclass of `dict`, or a class that contains a `dict`.  \n",
    "\n",
    "\n",
    "Now we can check that `Keyboard` works:"
   ]
  },
  {
   "cell_type": "code",
   "execution_count": 4,
   "metadata": {},
   "outputs": [
    {
     "data": {
      "text/plain": [
       "{'A': Point(0.5, 1.0),\n",
       " 'B': Point(5.5, 2.0),\n",
       " 'C': Point(3.5, 2.0),\n",
       " 'D': Point(2.5, 1.0),\n",
       " 'E': Point(2.0, 0.0),\n",
       " 'F': Point(3.5, 1.0),\n",
       " 'G': Point(4.5, 1.0),\n",
       " 'H': Point(5.5, 1.0),\n",
       " 'I': Point(7.0, 0.0),\n",
       " 'J': Point(6.5, 1.0),\n",
       " 'K': Point(7.5, 1.0),\n",
       " 'L': Point(8.5, 1.0),\n",
       " 'M': Point(7.5, 2.0),\n",
       " 'N': Point(6.5, 2.0),\n",
       " 'O': Point(8.0, 0.0),\n",
       " 'P': Point(9.0, 0.0),\n",
       " 'Q': Point(0.0, 0.0),\n",
       " 'R': Point(3.0, 0.0),\n",
       " 'S': Point(1.5, 1.0),\n",
       " 'T': Point(4.0, 0.0),\n",
       " 'U': Point(6.0, 0.0),\n",
       " 'V': Point(4.5, 2.0),\n",
       " 'W': Point(1.0, 0.0),\n",
       " 'X': Point(2.5, 2.0),\n",
       " 'Y': Point(5.0, 0.0),\n",
       " 'Z': Point(1.5, 2.0)}"
      ]
     },
     "execution_count": 4,
     "metadata": {},
     "output_type": "execute_result"
    }
   ],
   "source": [
    "qwerty = Keyboard(('Q W E R T Y U I O P',\n",
    "                   ' A S D F G H J K L ',\n",
    "                   '   Z X C V B N M   '))\n",
    "qwerty"
   ]
  },
  {
   "cell_type": "markdown",
   "metadata": {},
   "source": [
    "Computing Path Length\n",
    "===\n",
    "\n",
    "Now let's figure out the path length for a word: the sum of the lengths of segments between letters.  So the path length for `'WORD'` would be the sum of the segment lengths for `'WO'` plus `'OR'` plus `'RD'`:"
   ]
  },
  {
   "cell_type": "code",
   "execution_count": 5,
   "metadata": {},
   "outputs": [
    {
     "data": {
      "text/plain": [
       "13.118033988749895"
      ]
     },
     "execution_count": 5,
     "metadata": {},
     "output_type": "execute_result"
    }
   ],
   "source": [
    "W, O, R, D = qwerty['W'], qwerty['O'], qwerty['R'], qwerty['D'], \n",
    "distance(W, O) + distance(O, R) + distance(R, D)"
   ]
  },
  {
   "cell_type": "markdown",
   "metadata": {},
   "source": [
    "Let's make a function to compute this:"
   ]
  },
  {
   "cell_type": "code",
   "execution_count": 6,
   "metadata": {
    "collapsed": true
   },
   "outputs": [],
   "source": [
    "def path_length(word, kbd=qwerty):\n",
    "    \"The total path length for a word on this keyboard: the sum of the segment lengths.\"\n",
    "    return sum(distance(kbd[word[i]], kbd[word[i+1]])\n",
    "               for i in range(len(word)-1))"
   ]
  },
  {
   "cell_type": "code",
   "execution_count": 7,
   "metadata": {},
   "outputs": [
    {
     "data": {
      "text/plain": [
       "13.118033988749895"
      ]
     },
     "execution_count": 7,
     "metadata": {},
     "output_type": "execute_result"
    }
   ],
   "source": [
    "path_length('WORD')"
   ]
  },
  {
   "cell_type": "markdown",
   "metadata": {},
   "source": [
    "Let's check with a simpler example that we know the answer to:"
   ]
  },
  {
   "cell_type": "code",
   "execution_count": 8,
   "metadata": {},
   "outputs": [
    {
     "data": {
      "text/plain": [
       "4.0"
      ]
     },
     "execution_count": 8,
     "metadata": {},
     "output_type": "execute_result"
    }
   ],
   "source": [
    "path_length('TO')"
   ]
  },
  {
   "cell_type": "markdown",
   "metadata": {},
   "source": [
    "That makes it clearer&mdash;the **O** is four keys to the right of the **T**, on the same row, so the distance between them is 4.\n",
    "\n",
    "Here's another one that you can verify on your own:"
   ]
  },
  {
   "cell_type": "code",
   "execution_count": 9,
   "metadata": {},
   "outputs": [
    {
     "data": {
      "text/plain": [
       "True"
      ]
     },
     "execution_count": 9,
     "metadata": {},
     "output_type": "execute_result"
    }
   ],
   "source": [
    "path_length('TYPEWRITER') == 1 + 4 + 7 + 1 + 2 + 4 + 3 + 2 + 1 == 25"
   ]
  },
  {
   "cell_type": "markdown",
   "metadata": {},
   "source": [
    "Question 1: Longest Path Length?\n",
    "===\n",
    "\n",
    "To know what the longest word is, we'll have to know what the allowable words are. The so-called TWL06 word list gives all the words that are legal in the game of Scrabble; that seems like a reasonable list (although it omits proper nouns). Here's how to load a copy:"
   ]
  },
  {
   "cell_type": "code",
   "execution_count": 10,
   "metadata": {
    "collapsed": true
   },
   "outputs": [],
   "source": [
    "! [ -e TWL06.txt ] || curl -O http://norvig.com/ngrams/TWL06.txt\n",
    "    \n",
    "WORDS = set(open('TWL06.txt').read().split())"
   ]
  },
  {
   "cell_type": "code",
   "execution_count": 11,
   "metadata": {},
   "outputs": [
    {
     "data": {
      "text/plain": [
       "178691"
      ]
     },
     "execution_count": 11,
     "metadata": {},
     "output_type": "execute_result"
    }
   ],
   "source": [
    "len(WORDS)"
   ]
  },
  {
   "cell_type": "markdown",
   "metadata": {},
   "source": [
    "That's a lot of words; which one has the longest path?"
   ]
  },
  {
   "cell_type": "code",
   "execution_count": 12,
   "metadata": {},
   "outputs": [
    {
     "data": {
      "text/plain": [
       "'PALEOMAGNETISMS'"
      ]
     },
     "execution_count": 12,
     "metadata": {},
     "output_type": "execute_result"
    }
   ],
   "source": [
    "max(WORDS, key=path_length)"
   ]
  },
  {
   "cell_type": "markdown",
   "metadata": {},
   "source": [
    "And the longest ten paths? Including the lengths? We'll use a helper function, `print_top`, which prints the top *n* items in a seqence according to some key function:"
   ]
  },
  {
   "cell_type": "code",
   "execution_count": 13,
   "metadata": {},
   "outputs": [
    {
     "name": "stdout",
     "output_type": "stream",
     "text": [
      "72.2 PALEOMAGNETISMS\n",
      "70.0 ANTIQUARIANISMS\n",
      "69.9 ELECTROANALYSIS\n",
      "69.9 ANTIAPHRODISIAC\n",
      "69.3 PARLIAMENTARIAN\n",
      "68.9 BLEPHAROSPASMS\n",
      "68.6 BIDIALECTALISMS\n",
      "67.6 PALEOGEOGRAPHIC\n",
      "67.6 SPERMATOZOANS\n",
      "67.1 APOCALYPTICISMS\n"
     ]
    }
   ],
   "source": [
    "def print_top(n, sequence, key=None, fmt='{:.1f} {}'):\n",
    "    \"Find the top n elements of sequence as ranked by key function, and print them.\"\n",
    "    for x in sorted(sequence, key=key, reverse=True)[:n]:\n",
    "        print(fmt.format(key(x), x))\n",
    "              \n",
    "print_top(10, WORDS, path_length)"
   ]
  },
  {
   "cell_type": "markdown",
   "metadata": {},
   "source": [
    "Question 2: Highest Path Length to Word Length Ratio?\n",
    "===\n",
    "\n",
    "Very long words tend to have long path lengths.  But what words have the highest *ratio*\n",
    "of path length to word length? (I decided to measure word length by number of letters; an alternative is number of segments.) "
   ]
  },
  {
   "cell_type": "code",
   "execution_count": 14,
   "metadata": {
    "collapsed": true
   },
   "outputs": [],
   "source": [
    "def path_length_ratio(word, kbd=qwerty): return path_length(word, kbd) / len(word)"
   ]
  },
  {
   "cell_type": "code",
   "execution_count": 15,
   "metadata": {},
   "outputs": [
    {
     "name": "stdout",
     "output_type": "stream",
     "text": [
      "6.9 PALAPA\n",
      "6.7 PAPAL\n",
      "6.4 PAPA\n",
      "6.4 JALAPS\n",
      "6.2 SLAPS\n",
      "6.2 KAMALA\n",
      "6.2 LAPELS\n",
      "6.2 PAPS\n",
      "6.2 HALALA\n",
      "6.1 SPALE\n"
     ]
    }
   ],
   "source": [
    "print_top(10, WORDS, path_length_ratio)"
   ]
  },
  {
   "cell_type": "markdown",
   "metadata": {},
   "source": [
    "Question 3: Average Segment Length on Work Load?\n",
    "===\n",
    "\n",
    "What is the average segment length for a typical typing work load? To answer that, we need to know what a typical work load is.\n",
    "\n",
    "Representing Workloads\n",
    "---\n",
    "\n",
    "We will read a file of \"typical\" text, and count up how many times each segment is used. We'll define a `Workload` as a `dict` of the form `{segment: proportion, ...},` e.g. `{'AB': 0.02}`, where each key is a two-letter string representing a segment, and each value is the proportion of time that segment appears in the workload.  Since the distance from `A` to `B` on a keyboard is the same as the distance from `B` to `A`, we don't need both `AB` and `BA` as keys; we'll combine the counts for both of them under the alphabetically first one (in this case,  `AB`). So `Workload` will first generate all two-letter *bigrams* in the text, then take the `segment` of each bigram, and count up (with `Counter`) how many times each segment occurs, and finally normalize these counts so that they sum to 1.0, but retain their proportion to each other."
   ]
  },
  {
   "cell_type": "code",
   "execution_count": 16,
   "metadata": {
    "collapsed": true
   },
   "outputs": [],
   "source": [
    "def Workload(text):\n",
    "    \"\"\"Create a Workload--a dict of the form {'AB': 1000, ...} \n",
    "    saying how often each letter pair occurs in text.\"\"\"\n",
    "    return normalize(Counter(map(segment, bigrams(text))))\n",
    "\n",
    "def bigrams(text): return re.findall(r'(?=([A-Z][A-Z]))', text)\n",
    "    \n",
    "def segment(AB): return min(AB, AB[::])\n",
    "\n",
    "def normalize(dictionary):\n",
    "    \"Normalize a {key: val} dict so that the sum of the vals is 1.0.\"\n",
    "    total = sum(dictionary.values())\n",
    "    for k in dictionary:\n",
    "        dictionary[k] /= total\n",
    "    return dictionary"
   ]
  },
  {
   "cell_type": "markdown",
   "metadata": {},
   "source": [
    "Let's see what a workload looks like for a tiny text:"
   ]
  },
  {
   "cell_type": "code",
   "execution_count": 17,
   "metadata": {},
   "outputs": [
    {
     "data": {
      "text/plain": [
       "Counter({'AL': 0.05,\n",
       "         'GO': 0.1,\n",
       "         'HO': 0.05,\n",
       "         'IS': 0.05,\n",
       "         'OA': 0.05,\n",
       "         'OD': 0.05,\n",
       "         'OO': 0.55,\n",
       "         'OT': 0.05,\n",
       "         'SH': 0.05})"
      ]
     },
     "execution_count": 17,
     "metadata": {},
     "output_type": "execute_result"
    }
   ],
   "source": [
    "Workload('SHOT IS GOOD -- GOOOOOOOOOOOAL!')"
   ]
  },
  {
   "cell_type": "markdown",
   "metadata": {},
   "source": [
    "I happened to have a file of about a megabyte of random text, `smaller.txt`; that should work fine as a typical work load:"
   ]
  },
  {
   "cell_type": "code",
   "execution_count": 18,
   "metadata": {
    "collapsed": true
   },
   "outputs": [],
   "source": [
    "! [ -e smaller.txt ] || curl -O http://norvig.com/ngrams/smaller.txt\n",
    "    \n",
    "WORKLOAD = Workload(open('smaller.txt').read().upper())"
   ]
  },
  {
   "cell_type": "markdown",
   "metadata": {},
   "source": [
    "Let's peek at the most common segments:"
   ]
  },
  {
   "cell_type": "code",
   "execution_count": 19,
   "metadata": {},
   "outputs": [
    {
     "data": {
      "text/plain": [
       "[('TH', 0.03945159113049897),\n",
       " ('HE', 0.035568108897097696),\n",
       " ('IN', 0.02354361103999521),\n",
       " ('ER', 0.022218638719780824),\n",
       " ('AN', 0.020760670432669128),\n",
       " ('RE', 0.018283620549206844),\n",
       " ('ON', 0.017146505032234898),\n",
       " ('ND', 0.01536269662622481),\n",
       " ('EN', 0.014606282064496394),\n",
       " ('AT', 0.01432532808442584)]"
      ]
     },
     "execution_count": 19,
     "metadata": {},
     "output_type": "execute_result"
    }
   ],
   "source": [
    "WORKLOAD.most_common(10)"
   ]
  },
  {
   "cell_type": "markdown",
   "metadata": {},
   "source": [
    "The most popular segments, at about 4% each are `HT/TH` and `ER/RE`. Now we can compute the workload average:"
   ]
  },
  {
   "cell_type": "code",
   "execution_count": 20,
   "metadata": {},
   "outputs": [],
   "source": [
    "def workload_average(kbd, workload=WORKLOAD):\n",
    "    \"The average segment length over a workload of segments.\"\n",
    "    return sum(distance(kbd[A], kbd[B]) * workload[A+B]\n",
    "               for (A, B) in workload)"
   ]
  },
  {
   "cell_type": "code",
   "execution_count": 21,
   "metadata": {},
   "outputs": [
    {
     "data": {
      "text/plain": [
       "3.2333097802127657"
      ]
     },
     "execution_count": 21,
     "metadata": {},
     "output_type": "execute_result"
    }
   ],
   "source": [
    "workload_average(qwerty)"
   ]
  },
  {
   "cell_type": "markdown",
   "metadata": {},
   "source": [
    "So, on average, your finger has to travel a little over 3 keys from one letter to the next over a typical workload."
   ]
  },
  {
   "cell_type": "markdown",
   "metadata": {},
   "source": [
    "Aside: Visualizing a Keyboard\n",
    "---\n",
    "\n",
    "We'll need a way of visualizing what a keyboard looks like. I could just `print` letters, but I think it is more compelling to use IPython's `plot` facility. In the function `plot_kbd` we'll draw a square around the center point of each key, and annotate the square with the key letter. In `show_kbd`, we'll call `plot_kbd` and also print out the keyboard's name and workload average:"
   ]
  },
  {
   "cell_type": "code",
   "execution_count": 22,
   "metadata": {
    "collapsed": true
   },
   "outputs": [],
   "source": [
    "def show_kbd(kbd, name='keyboard',  K=20):\n",
    "    \"Plot the keyboard with square keys, K units on a side.\"\n",
    "    H = K / 2 # (K is Key width/height; H is half K)\n",
    "    for L in kbd:\n",
    "        x, y = K * kbd[L].x, -K * kbd[L].y\n",
    "        plot_square(x, y, H, label=L)\n",
    "    plt.axis('equal'); plt.axis('off')\n",
    "    plt.title(title(kbd, name));\n",
    "    plt.show()\n",
    "\n",
    "def plot_square(x, y, H, label='', style='k-'):\n",
    "    \"Plot a square with center (x, y), half-width H, and optional label.\"\n",
    "    plt.plot([x-H, x+H, x+H, x-H, x-H], \n",
    "             [y-H, y-H, y+H, y+H, y-H], style)  \n",
    "    plt.annotate(label, (x-H/4, y-H/4)) # H/4 seems to place label well.\n",
    "    \n",
    "def title(kbd, name): return '{}: avg = {:.1f}'.format(name, workload_average(kbd))"
   ]
  },
  {
   "cell_type": "code",
   "execution_count": 23,
   "metadata": {},
   "outputs": [
    {
     "data": {
      "image/png": "[encoded data removed]",
      "text/plain": [
       "<matplotlib.figure.Figure at 0x1189b39e8>"
      ]
     },
     "metadata": {},
     "output_type": "display_data"
    }
   ],
   "source": [
    "show_kbd(qwerty, 'qwerty')"
   ]
  },
  {
   "cell_type": "markdown",
   "metadata": {},
   "source": [
    "Question 4: Keyboard with Minimal Workload Average?\n",
    "===\n",
    "\n",
    "Now for a much harder question: can we find a different keyboard layout that has a smaller average segment length over the workload? First, let's note that there are two ways to modify a keyboard:  \n",
    "\n",
    "* Keep the keys in the same locations but swap letters. (This is an operation you can do on a physical keyboard just by prying off the key caps and swapping them.) \n",
    "* Change the locations of keys.  (On a physical keyboard you'd need a saw and glue to do this, but it is easier on a virtual keyboard.)  \n",
    "\n",
    "Let's start by limiting ourselves to just swapping letters.  \n",
    "\n",
    "This is an **optimization** problem.  There are many permutations of letters; too many to try them all. To be precise, there are 26! (26 factorial) permutations, which is about 10<sup>26</sup> (fun fact: 25 and 26 are the only integers for which n! &approx; 10<sup>n</sup>).  If we can't try them all, we need some way to sample the configurations, trying to make progress towards a better one. Again, we'll try the simplest thing that could possibly work: \n",
    "\n",
    "  1. Pick two keys at random.\n",
    "  2. Swap them.\n",
    "  3. If that gives a better (lower) workload total, keep them that way.\n",
    "  4. If not, swap back.\n",
    "  5. Repeat this for a given number of times, say 1000."
   ]
  },
  {
   "cell_type": "code",
   "execution_count": 24,
   "metadata": {
    "collapsed": true
   },
   "outputs": [],
   "source": [
    "def improved(kbd, swaps=1000, scorer=workload_average):\n",
    "    \"Minimize scorer(kbd) by swapping keys and keeping improvements.\"\n",
    "    kbd = kbd.copy()\n",
    "    score = scorer(kbd)\n",
    "    letters = list(kbd)\n",
    "    for _ in range(swaps):\n",
    "        A, B = random.sample(letters, 2)   # Step 1: pick two keys\n",
    "        swap(kbd, A, B)                    # Step 2: swap them\n",
    "        score2 = scorer(kbd)\n",
    "        if score2 < score:                 # Step 3: If better, keep them\n",
    "            score = score2                 # (and record the new best total)\n",
    "        else:\n",
    "            swap(kbd, B, A)                # Step 4: swap back if not better\n",
    "    return kbd\n",
    "\n",
    "def swap(kbd, A, B): kbd[A], kbd[B] = kbd[B], kbd[A]"
   ]
  },
  {
   "cell_type": "markdown",
   "metadata": {},
   "source": [
    "**Note 1:** This strategy is called **hillclimbing**, drawing on the metaphor of getting to a high peak by trying to take a step, and continuing if the step is uphill, and returning if it is not.  This technique often finds a local maximum&mdash;a solution that is better than all its neighbors, but not as good as another solution that is many steps away.\n",
    "\n",
    "**Note 2:** I make `scorer` be a parameter, in case we later decide we want to minimize something else other than `workload_average`."
   ]
  },
  {
   "cell_type": "markdown",
   "metadata": {},
   "source": [
    "Let's see how well we can do:"
   ]
  },
  {
   "cell_type": "code",
   "execution_count": 25,
   "metadata": {},
   "outputs": [
    {
     "data": {
      "image/png": "[encoded data removed]",
      "text/plain": [
       "<matplotlib.figure.Figure at 0x11033e6d8>"
      ]
     },
     "metadata": {},
     "output_type": "display_data"
    }
   ],
   "source": [
    "show_kbd(improved(qwerty, 3000))"
   ]
  },
  {
   "cell_type": "markdown",
   "metadata": {},
   "source": [
    "That's a pretty good improvement! We decreased the workload average  by about a third. (If you are reading this in an active IPython notebook, you can re-run the cell above and see a different result each time.) "
   ]
  },
  {
   "cell_type": "markdown",
   "metadata": {},
   "source": [
    "Visualizing `improved`\n",
    "---\n",
    "\n",
    "Let's get a better feeling for what `improved` does.  We will keep track of the workload average after each swap, and plot that as a line.  (We know this line should be monotonically decreasing, starting at 3.23.)  We will then plot a dozen instances of this line (different each time because the swaps are random).  \n",
    "\n",
    "I'll add another parameter, `scores`, to `improved`, If it is not `None`, accumulate scores into it. Then I'll add a new function, `plot_improvements`, that plots the scores that `improved` accumulates."
   ]
  },
  {
   "cell_type": "code",
   "execution_count": 26,
   "metadata": {},
   "outputs": [],
   "source": [
    "def improved(kbd, swaps=1000, scorer=workload_average, scores=None):\n",
    "    \"Minimize scorer(kbd) by swapping keys and keeping improvements.\"\n",
    "    kbd = kbd.copy()\n",
    "    score = scorer(kbd)\n",
    "    letters = list(kbd)\n",
    "    for _ in range(swaps):\n",
    "        A, B = random.sample(letters, 2)   # Step 1: pick two keys\n",
    "        swap(kbd, A, B)                    # Step 2: swap them\n",
    "        score2 = scorer(kbd)\n",
    "        if score2 < score:                 # Step 3: If better, keep them\n",
    "            score = score2                 # (and record the new best total)\n",
    "        else:\n",
    "            swap(kbd, B, A)                # Step 4: swap back if not better\n",
    "        if scores is not None: \n",
    "            scores.append(score)           # <<< NEW\n",
    "    return kbd"
   ]
  },
  {
   "cell_type": "code",
   "execution_count": 27,
   "metadata": {},
   "outputs": [
    {
     "data": {
      "image/png": "[encoded data removed]",
      "text/plain": [
       "<matplotlib.figure.Figure at 0x117ab1be0>"
      ]
     },
     "metadata": {},
     "output_type": "display_data"
    }
   ],
   "source": [
    "def plot_improvements(kbd, swaps, scorer=workload_average, repeats=10):\n",
    "    plt.ylabel('Workload average segment length') \n",
    "    plt.xlabel('Number of swaps');  \n",
    "    for _ in range(repeats):\n",
    "        scores = []\n",
    "        improved(kbd.copy(), swaps, scorer, scores)\n",
    "        plt.plot(scores)\n",
    "    plt.show()\n",
    "    \n",
    "plot_improvements(qwerty, 2500)"
   ]
  },
  {
   "cell_type": "markdown",
   "metadata": {},
   "source": [
    "This plot is interesting. I note the following:\n",
    "\n",
    "* Each line follows a slightly different path (because the swaps are random).\n",
    "* The lines are grouped very tightly together; the variance is small.  Almost everywhere, the difference between the best line and the worst line is about 0.2 or less. By the end, almost all the lines are between 1.9 and 2.0.\n",
    "* We make rapid progress, decreasing from 3.2 to around 2.2 in about 200 swaps, and to around 2.0 in about 500 swaps.\n",
    "* After 1000 swaps, progress is slow, and after 2000, even slower."
   ]
  },
  {
   "cell_type": "markdown",
   "metadata": {},
   "source": [
    "I can't say we've found the best possible keyboard, but it looks like progress will be slow in improving over about 1.9. \n",
    "\n",
    "Keys in Different Physical Locations\n",
    "---\n",
    "\n",
    "Now let's allow keys  to be in different physical locations.  Rather than allowing complete freedom of movement, we'll start from a few different fixed key layouts and swap keys from there. I'll define three layouts and gather them into a `dict`:"
   ]
  },
  {
   "cell_type": "code",
   "execution_count": 28,
   "metadata": {
    "collapsed": true
   },
   "outputs": [],
   "source": [
    "keyboards = {\n",
    "    'qwerty': Keyboard(('Q W E R T Y U I O P',\n",
    "                        ' A S D F G H J K L ',  \n",
    "                        '   Z X C V B N M   ')),\n",
    "\n",
    "    '4-by-7': Keyboard((' A B C D E F ',\n",
    "                        'G H I J K L M',\n",
    "                        ' N O P Q R S ',\n",
    "                        'T U V W X Y Z')),\n",
    "\n",
    "    '5-by-6': Keyboard((' A B C D E ',\n",
    "                        ' F G H I J ',\n",
    "                        'K L M N O P',\n",
    "                        ' Q R S T U ',\n",
    "                        ' V W X Y Z '))\n",
    "    }"
   ]
  },
  {
   "cell_type": "markdown",
   "metadata": {},
   "source": [
    "Here is a function to report on these keyboards (after improving them):"
   ]
  },
  {
   "cell_type": "code",
   "execution_count": 29,
   "metadata": {},
   "outputs": [
    {
     "data": {
      "image/png": "[encoded data removed]",
      "text/plain": [
       "<matplotlib.figure.Figure at 0x119841a20>"
      ]
     },
     "metadata": {},
     "output_type": "display_data"
    },
    {
     "data": {
      "image/png": "[encoded data removed]",
      "text/plain": [
       "<matplotlib.figure.Figure at 0x117b50518>"
      ]
     },
     "metadata": {},
     "output_type": "display_data"
    },
    {
     "data": {
      "image/png": "[encoded data removed]",
      "text/plain": [
       "<matplotlib.figure.Figure at 0x117a43470>"
      ]
     },
     "metadata": {},
     "output_type": "display_data"
    }
   ],
   "source": [
    "def report(keyboards=keyboards, swaps=3000, scorer=workload_average):\n",
    "    \"Iterate through a dict of {name: kbd} pairs, showing kbd before and after repeated_improved(kbd).\"\n",
    "    for (name, kbd) in keyboards.items():\n",
    "        show_kbd(improved(kbd, swaps=swaps, scorer=scorer), 'improved ' + name)\n",
    "        \n",
    "report()"
   ]
  },
  {
   "cell_type": "markdown",
   "metadata": {},
   "source": [
    "(**Note:** The plots of different-shaped keyboards have different-sized squares around the keys. Some of the plots have a lot of whitespace around them. If anyone knows an easy way to tell `plot` to display them better, let me know.)"
   ]
  },
  {
   "cell_type": "markdown",
   "metadata": {},
   "source": [
    "\n",
    "\n",
    "So the more compact keyboards with a smaller diameter (`4-by-7` and `5-by-6`) perform slightly better than `qwerty`. \n"
   ]
  },
  {
   "cell_type": "markdown",
   "metadata": {},
   "source": [
    "Question 5: How often are two words confused because they have similar paths?\n",
    "===\n",
    "\n",
    "When can one word be confused with another?  When their paths are similar (which means that their corresponding letters are in similar locations). For example, on a Qwerty keyboard, the paths for \"HELLO\" and \"JELLO\" are similar, because **H** and **J** are adjacent, and the other letters are the same.\n",
    "\n",
    "<img src=\"http://norvig.com/gesture.png\">\n",
    "\n",
    "We'd like to know, for a given keyboard, how confusing is it? How many words have paths on the keyboard that can be confused for other words? We have our work cut out for us:\n",
    "\n",
    "1. Determine what letters could be confused for each other.\n",
    "2. Determine what words/paths can be confused.\n",
    "3. Invent some metric for the overall confusingness of a keyboard. \n",
    "4. Try to find less-confusing keyboards.\n",
    "\n",
    "Letter Confusions\n",
    "---\n",
    "\n",
    "So, as a first step, we will make a mapping from each key to the keys that it can be confused with. I'll say that any key within a distance of 1.5 units on the keyboard is a **neighboring** key, and thus a potential confusion:"
   ]
  },
  {
   "cell_type": "code",
   "execution_count": 30,
   "metadata": {
    "collapsed": true
   },
   "outputs": [],
   "source": [
    "def neighboring_keys(kbd, radius=1.5):\n",
    "    \"Build a dict of {Letter:NeighboringLetters}, e.g. {'Q':'AQW', ...}.\"\n",
    "    return {A: cat(sorted(B for B in kbd if distance(kbd[A], kbd[B]) <= radius))\n",
    "            for A in kbd}\n",
    "\n",
    "cat = ''.join  ## Function to join letters (or strings) into one string"
   ]
  },
  {
   "cell_type": "code",
   "execution_count": 31,
   "metadata": {},
   "outputs": [
    {
     "data": {
      "text/plain": [
       "{'A': 'AQSWZ',\n",
       " 'B': 'BGHJNV',\n",
       " 'C': 'CDFGVX',\n",
       " 'D': 'CDEFRSXZ',\n",
       " 'E': 'DERSW',\n",
       " 'F': 'CDFGRTVX',\n",
       " 'G': 'BCFGHTVY',\n",
       " 'H': 'BGHJNUVY',\n",
       " 'I': 'IJKOU',\n",
       " 'J': 'BHIJKMNU',\n",
       " 'K': 'IJKLMNO',\n",
       " 'L': 'KLMOP',\n",
       " 'M': 'JKLMN',\n",
       " 'N': 'BHJKMN',\n",
       " 'O': 'IKLOP',\n",
       " 'P': 'LOP',\n",
       " 'Q': 'AQW',\n",
       " 'R': 'DEFRT',\n",
       " 'S': 'ADESWXZ',\n",
       " 'T': 'FGRTY',\n",
       " 'U': 'HIJUY',\n",
       " 'V': 'BCFGHV',\n",
       " 'W': 'AEQSW',\n",
       " 'X': 'CDFSXZ',\n",
       " 'Y': 'GHTUY',\n",
       " 'Z': 'ADSXZ'}"
      ]
     },
     "execution_count": 31,
     "metadata": {},
     "output_type": "execute_result"
    }
   ],
   "source": [
    "qwerty_neighbors = neighboring_keys(qwerty) \n",
    "qwerty_neighbors"
   ]
  },
  {
   "cell_type": "markdown",
   "metadata": {},
   "source": [
    "We see, for example, that **Q**, off in the corner, has only **A**, **W**, and itself as neighbors, while **G**, in the middle of the keyboard, has 8 neighbors. \n",
    "\n",
    "Word Confusions\n",
    "---\n",
    "\n",
    "Consider each of the letters in the word \"HELLO,\" and all the possible choices for neighbors of each letter:"
   ]
  },
  {
   "cell_type": "code",
   "execution_count": 32,
   "metadata": {},
   "outputs": [
    {
     "data": {
      "text/plain": [
       "['BGHJNUVY', 'DERSW', 'KLMOP', 'KLMOP', 'IKLOP']"
      ]
     },
     "execution_count": 32,
     "metadata": {},
     "output_type": "execute_result"
    }
   ],
   "source": [
    "columns = [qwerty_neighbors[L] for L in 'HELLO']\n",
    "columns"
   ]
  },
  {
   "cell_type": "markdown",
   "metadata": {},
   "source": [
    "These are five columns of letters, and if we pick one letter from each column, we get a path that is formed by letters that are each confusions of letters in the original word, and so the whole path is a confusion for the original word.  So \"JELLO\" is a confusion for \"HELLO\", as would be \"BDKKI\" and \"YWPPP\", except they are not words.\n",
    "\n",
    "It turns out that there is a library function, `itertools.product`, that will take an iterable of alternative choices, and generate all possible ways of assembling a sequence consisting of one selection (letter) from each alternative choice."
   ]
  },
  {
   "cell_type": "code",
   "execution_count": 33,
   "metadata": {},
   "outputs": [],
   "source": [
    "paths = {cat(picks) for picks in itertools.product(*columns)}"
   ]
  },
  {
   "cell_type": "markdown",
   "metadata": {},
   "source": [
    "How many paths are there?"
   ]
  },
  {
   "cell_type": "code",
   "execution_count": 34,
   "metadata": {},
   "outputs": [
    {
     "data": {
      "text/plain": [
       "5000"
      ]
     },
     "execution_count": 34,
     "metadata": {},
     "output_type": "execute_result"
    }
   ],
   "source": [
    "len(paths)"
   ]
  },
  {
   "cell_type": "markdown",
   "metadata": {},
   "source": [
    "Let's look at a few of them:"
   ]
  },
  {
   "cell_type": "code",
   "execution_count": 35,
   "metadata": {},
   "outputs": [
    {
     "data": {
      "text/plain": [
       "['BEKMI', 'VWOPI', 'JELLI', 'GWPMO', 'NRLPP', 'JSMKI', 'VELMK', 'YRPKP']"
      ]
     },
     "execution_count": 35,
     "metadata": {},
     "output_type": "execute_result"
    }
   ],
   "source": [
    "random.sample(paths, 8)"
   ]
  },
  {
   "cell_type": "markdown",
   "metadata": {},
   "source": [
    "And let's see all the paths that are also words:"
   ]
  },
  {
   "cell_type": "code",
   "execution_count": 36,
   "metadata": {},
   "outputs": [
    {
     "data": {
      "text/plain": [
       "{'BROMO', 'BROOK', 'HELLO', 'JELLO'}"
      ]
     },
     "execution_count": 36,
     "metadata": {},
     "output_type": "execute_result"
    }
   ],
   "source": [
    "WORDS & paths"
   ]
  },
  {
   "cell_type": "markdown",
   "metadata": {},
   "source": [
    "Only 4 out of 5000;  That's pretty good, but it means \"HELLO\" is still a confusing word. We can package this as the function  `confusions`:"
   ]
  },
  {
   "cell_type": "code",
   "execution_count": 37,
   "metadata": {
    "collapsed": true
   },
   "outputs": [],
   "source": [
    "def confusions(word, neighbors=neighboring_keys(qwerty)):\n",
    "    \"All valid words whose paths could be confused with the path for the given word.\"\n",
    "    columns = [neighbors[L] for L in word]\n",
    "    return {cat(picks) for picks in itertools.product(*columns)} & WORDS"
   ]
  },
  {
   "cell_type": "code",
   "execution_count": 38,
   "metadata": {},
   "outputs": [
    {
     "data": {
      "text/plain": [
       "{'BROMO', 'BROOK', 'HELLO', 'JELLO'}"
      ]
     },
     "execution_count": 38,
     "metadata": {},
     "output_type": "execute_result"
    }
   ],
   "source": [
    "confusions('HELLO')"
   ]
  },
  {
   "cell_type": "code",
   "execution_count": 39,
   "metadata": {},
   "outputs": [
    {
     "data": {
      "text/plain": [
       "{'ALTOS', 'EIDOS', 'SIDLE', 'SKEPS', 'WIELD', 'WORKS', 'WORLD', 'WORMS'}"
      ]
     },
     "execution_count": 39,
     "metadata": {},
     "output_type": "execute_result"
    }
   ],
   "source": [
    "confusions('WORLD')"
   ]
  },
  {
   "cell_type": "code",
   "execution_count": 40,
   "metadata": {},
   "outputs": [
    {
     "data": {
      "text/plain": [
       "{'FEARING',\n",
       " 'FRAYING',\n",
       " 'GEARING',\n",
       " 'GRATING',\n",
       " 'GRAYING',\n",
       " 'GREYING',\n",
       " 'REARING',\n",
       " 'REEFING',\n",
       " 'RESTING',\n",
       " 'TEARING',\n",
       " 'TESTING'}"
      ]
     },
     "execution_count": 40,
     "metadata": {},
     "output_type": "execute_result"
    }
   ],
   "source": [
    "confusions('TESTING')"
   ]
  },
  {
   "cell_type": "markdown",
   "metadata": {},
   "source": [
    "So far, so good.  But I'm worried about the efficiency of `confusions` for long words.  \n",
    "\n",
    "More Efficient `confusions`\n",
    "---\n",
    "\n",
    "Consider:"
   ]
  },
  {
   "cell_type": "code",
   "execution_count": 41,
   "metadata": {},
   "outputs": [
    {
     "name": "stdout",
     "output_type": "stream",
     "text": [
      "CPU times: user 3.11 s, sys: 370 ms, total: 3.48 s\n",
      "Wall time: 3.49 s\n"
     ]
    },
    {
     "data": {
      "text/plain": [
       "{'SOMETHING'}"
      ]
     },
     "execution_count": 41,
     "metadata": {},
     "output_type": "execute_result"
    }
   ],
   "source": [
    "%time confusions('SOMETHING')"
   ]
  },
  {
   "cell_type": "markdown",
   "metadata": {},
   "source": [
    "It took (on my computer) 3 seconds to compute this.  Why so long? Let's count:"
   ]
  },
  {
   "cell_type": "code",
   "execution_count": 42,
   "metadata": {},
   "outputs": [
    {
     "data": {
      "text/plain": [
       "[7, 5, 5, 5, 5, 8, 5, 6, 8]"
      ]
     },
     "execution_count": 42,
     "metadata": {},
     "output_type": "execute_result"
    }
   ],
   "source": [
    "[len(neighboring_keys(qwerty)[L]) for L in 'SOMETHING']"
   ]
  },
  {
   "cell_type": "markdown",
   "metadata": {},
   "source": [
    "There are 7 &times; 5 &times; 5 &times; 5 &times; 5 &times; 8 &times; 5 &times; 6 &times; 8 = 8,400,000 paths for `confusions` to consider. Looking at them all takes 3 seconds, but for most of these paths, we're wasting our time.  For example, one choice for the first two neighboring letters of 'SOMETHING' is 'XP', but 'XP' does not start any word in the dictionary.  Nevertheless, `itertools.product` will generate 240,000 combinations that start with 'XP', and will then rule them out one at a time. It would be better to stop as soon as we see 'XP', and never consider continuations of this path.\n",
    "\n",
    "So that gives us the key idea for a more efficient version of `confusions`: *only follow paths that form a prefix of at least one word.*  \n",
    "\n",
    "So, first we need to define the set of prefixes:"
   ]
  },
  {
   "cell_type": "code",
   "execution_count": 43,
   "metadata": {
    "collapsed": true
   },
   "outputs": [],
   "source": [
    "def prefixes(words):\n",
    "    \"Return a set of prefixes (1 to N characters) of this collection of words.\"\n",
    "    return {word[:i] for word in words for i in range(1, len(word)+1)}"
   ]
  },
  {
   "cell_type": "code",
   "execution_count": 44,
   "metadata": {},
   "outputs": [
    {
     "data": {
      "text/plain": [
       "{'T', 'TH', 'THE', 'THES', 'THESE', 'THEY', 'THO', 'THOS', 'THOSE'}"
      ]
     },
     "execution_count": 44,
     "metadata": {},
     "output_type": "execute_result"
    }
   ],
   "source": [
    "prefixes(['THESE', 'THEY', 'THOSE'])"
   ]
  },
  {
   "cell_type": "markdown",
   "metadata": {},
   "source": [
    "I'm worried that our dictionary of words includes too many weird words, so there would be too many confusions. So I will read in a smaller word set, with only common words:"
   ]
  },
  {
   "cell_type": "code",
   "execution_count": 45,
   "metadata": {},
   "outputs": [
    {
     "data": {
      "text/plain": [
       "(7005, 3614, 'SPECIALS', 'UNDERSTANDINGS')"
      ]
     },
     "execution_count": 45,
     "metadata": {},
     "output_type": "execute_result"
    }
   ],
   "source": [
    "! [ -e words.js ] || curl -O https://xkcd.com/simplewriter/words.js\n",
    "    \n",
    "COMMON = set(re.findall('[A-Z]+', open('words.js').read().upper()))\n",
    "PREFIXES = prefixes(COMMON)\n",
    "\n",
    "len(PREFIXES), len(COMMON), max(COMMON, key=path_length), max(COMMON, key=len)"
   ]
  },
  {
   "cell_type": "markdown",
   "metadata": {},
   "source": [
    "We can describe the more efficient version of the `confusions` algorithm:\n",
    "\n",
    "1. Maintain a queue of partial paths, where a partial path is a string representing choices for neighboring letters for a prefix of the word. For example, 'HE' and 'JE' are both partial paths for the word 'HELLO'.  Initialize the queue to have just one partial path, the empty string.\n",
    "2. Remove a partial path from the queue. Find all possible ways to extend the path by adding a neighboring letter, but only if doing so creates a path that is a prefix of some word in the dictionary.  For example, given the word 'HELLO', and the partial path 'JE', consider all the neighbors of 'L' (namely, 'K', 'M', 'L', 'O', or 'P'), but only 'JEM', 'JEL', and 'JEO' are prefixes of words, so add just those to the queue.\n",
    "3. When a partial path reaches the same length as the word ('HELLO' in this example), then don't extend it any farther; instead check to see if the path is a word.  If it is, add it to the set of paths/words that form the result."
   ]
  },
  {
   "cell_type": "code",
   "execution_count": 46,
   "metadata": {
    "collapsed": true
   },
   "outputs": [],
   "source": [
    "def confusions(word, neighbors=neighboring_keys(qwerty)):\n",
    "    \"All valid words whose paths could be confused with the path for this word.\"\n",
    "    Q = ['']        # A queue of partial paths \n",
    "    while Q:\n",
    "        path = Q.pop()\n",
    "        if len(path) < len(word):\n",
    "            for L in neighbors[word[len(path)]]:\n",
    "                if path + L in PREFIXES:\n",
    "                    Q.append(path + L)\n",
    "        elif path in COMMON:\n",
    "            yield path\n",
    "\n",
    "def confusable(word, neighbors=neighboring_keys(qwerty)) -> bool: \n",
    "    \"Is this word confusable with another, given this keyboard's neighboring keys?\"\n",
    "    for w in confusions(word, neighbors):\n",
    "        if w != word: return True\n",
    "    return False"
   ]
  },
  {
   "cell_type": "markdown",
   "metadata": {},
   "source": [
    "Let's check the speed (the old version took over 3 seconds):"
   ]
  },
  {
   "cell_type": "code",
   "execution_count": 47,
   "metadata": {},
   "outputs": [
    {
     "name": "stdout",
     "output_type": "stream",
     "text": [
      "CPU times: user 91 µs, sys: 1 µs, total: 92 µs\n",
      "Wall time: 93.9 µs\n"
     ]
    },
    {
     "data": {
      "text/plain": [
       "{'SOMETHING'}"
      ]
     },
     "execution_count": 47,
     "metadata": {},
     "output_type": "execute_result"
    }
   ],
   "source": [
    "%time set(confusions('SOMETHING'))"
   ]
  },
  {
   "cell_type": "code",
   "execution_count": 48,
   "metadata": {},
   "outputs": [
    {
     "name": "stdout",
     "output_type": "stream",
     "text": [
      "CPU times: user 92 µs, sys: 0 ns, total: 92 µs\n",
      "Wall time: 94.2 µs\n"
     ]
    },
    {
     "data": {
      "text/plain": [
       "False"
      ]
     },
     "execution_count": 48,
     "metadata": {},
     "output_type": "execute_result"
    }
   ],
   "source": [
    "%time confusable('SOMETHING')"
   ]
  },
  {
   "cell_type": "markdown",
   "metadata": {},
   "source": [
    "We went from about 3 seconds to 100 microseconds: that's 30,000 times faster!  We can look at some more confusions:"
   ]
  },
  {
   "cell_type": "code",
   "execution_count": 49,
   "metadata": {},
   "outputs": [
    {
     "data": {
      "text/plain": [
       "{'BORING': 'NOTING HIDING BORING BITING',\n",
       " 'BRANCHINGS': 'BRANCHINGS',\n",
       " 'DISCOVER': 'DISCOVER',\n",
       " 'EVERYONE': 'EVERYONE',\n",
       " 'FLASH': 'FLASH DOZEN',\n",
       " 'FLIGHT': 'TOOTHY FOUGHT FLIGHT',\n",
       " 'FOOTING': 'ROOFING FOOTING',\n",
       " 'GATHERED': 'GATHERED FATHERED',\n",
       " 'HEART': 'NEWER HEART',\n",
       " 'HIGHER': 'HIGHER BOTHER BIGGER',\n",
       " 'IGNORE': 'IGNORE',\n",
       " 'KILLER': 'LOOKER LOOKED KILLER KILLED JUMPER JUMPED',\n",
       " 'LANDERS': 'LANDERS',\n",
       " 'MEMORY': 'MEMORY',\n",
       " 'MIRROR': 'MIRROR MIDDLE LITTLE',\n",
       " 'PAINTINGS': 'PAINTINGS',\n",
       " 'PARENT': 'PARENT',\n",
       " 'REMEMBER': 'REMEMBER',\n",
       " 'REVEALED': 'REVEALED',\n",
       " 'RUNS': 'TIME RUNS RUBS FINE FIND',\n",
       " 'SCENE': 'SCENE EVENS',\n",
       " 'SMILERS': 'SMOKERS SMILERS',\n",
       " 'SOUNDS': 'SOUNDS',\n",
       " 'SUITED': 'WHITES WHITER WHITED SUITES SUITED',\n",
       " 'TEACH': 'TEACH READY REACH',\n",
       " 'THEY': 'THEY RUSH',\n",
       " 'TIME': 'TONE TOLD TIME RUNS GUNS GONE GOLD FINE FIND',\n",
       " 'TRAVELLERS': 'TRAVELLERS',\n",
       " 'UPON': 'UPON JOIN',\n",
       " 'WASN': 'WASN WASH'}"
      ]
     },
     "execution_count": 49,
     "metadata": {},
     "output_type": "execute_result"
    }
   ],
   "source": [
    "{w: ' '.join(confusions(w))\n",
    " for w in random.sample(COMMON, 30)}"
   ]
  },
  {
   "cell_type": "markdown",
   "metadata": {},
   "source": [
    "Visualizing Paths on a Keyboard\n",
    "----\n",
    "\n",
    "To determine if these `confusions` are good ones, let's build something to visualize paths on a keyboard.  \n",
    "\n",
    "\n",
    "I'll add functionality to `show_kbd` to call the new function `plot_paths` and implement that:\n",
    "\n"
   ]
  },
  {
   "cell_type": "code",
   "execution_count": 50,
   "metadata": {
    "collapsed": true
   },
   "outputs": [],
   "source": [
    "def show_kbd(kbd, name='keyboard',  K=20, words=()):\n",
    "    \"Plot the keyboard with square keys, K units on a side.\"\n",
    "    H = K / 2 # (K is Key width/height; H is half K)\n",
    "    for L in kbd:\n",
    "        x, y = K * kbd[L].x, -K * kbd[L].y\n",
    "        plot_square(x, y, H, label=L)\n",
    "    plot_paths(kbd, K, words)\n",
    "    plt.axis('equal'); plt.axis('off')\n",
    "    plt.title(title(kbd, name));\n",
    "    plt.show()\n",
    "    \n",
    "def plot_paths(kbd, K, words):\n",
    "    \"Plot paths for each word.\"\n",
    "    for (i, word) in enumerate(words):\n",
    "        Xs = [+K * kbd[L].x for L in word]\n",
    "        Ys = [-K * kbd[L].y for L in word]\n",
    "        plt.plot(Xs, Ys, '-o')"
   ]
  },
  {
   "cell_type": "markdown",
   "metadata": {},
   "source": [
    "Let's see how it works on three similar paths:"
   ]
  },
  {
   "cell_type": "code",
   "execution_count": 51,
   "metadata": {},
   "outputs": [
    {
     "data": {
      "image/png": "[encoded data removed]",
      "text/plain": [
       "<matplotlib.figure.Figure at 0x117a5b9b0>"
      ]
     },
     "metadata": {},
     "output_type": "display_data"
    }
   ],
   "source": [
    "show_kbd(qwerty, words=['VALUE', 'VALOR', 'CAKE'])"
   ]
  },
  {
   "cell_type": "markdown",
   "metadata": {},
   "source": [
    "OK, we're on the right track, but I see three problems: \n",
    "- The letters are obscured by the circles.  \n",
    "- When the paths are the same, they overwrite each other.  \n",
    "- There is no indication what direction the path is going in..  \n",
    "\n",
    "I have an idea to fix the first two problems (and I will ignore the third for now).  Instead of plotting the circle in the center of the key, offset it towards one of the corners of the key.  That way they won't overlap (at least for up to four paths).  "
   ]
  },
  {
   "cell_type": "code",
   "execution_count": 52,
   "metadata": {},
   "outputs": [],
   "source": [
    "def plot_paths(kbd, K, words):\n",
    "    \"Plot paths for each word, each with a different offset (and color).\"\n",
    "    Q = K / 5  # Q originally meant a quarter of a key width; but 1/5 looks nicer.\n",
    "    offsets = [Point(-Q, -Q), Point(-Q, +Q),  Point(Q, +Q), Point(Q, -Q)]\n",
    "    for (i, word) in enumerate(words):\n",
    "        Xs = [+K * kbd[L].x + offsets[i % 4].x for L in word]\n",
    "        Ys = [-K * kbd[L].y + offsets[i % 4].y for L in word]\n",
    "        plt.plot(Xs, Ys, '-o')"
   ]
  },
  {
   "cell_type": "code",
   "execution_count": 53,
   "metadata": {},
   "outputs": [
    {
     "data": {
      "image/png": "[encoded data removed]",
      "text/plain": [
       "<matplotlib.figure.Figure at 0x117ead0b8>"
      ]
     },
     "metadata": {},
     "output_type": "display_data"
    }
   ],
   "source": [
    "show_kbd(qwerty, words=['VALUE', 'VALOR', 'CAKE'])"
   ]
  },
  {
   "cell_type": "markdown",
   "metadata": {},
   "source": [
    "That looks busier, but it is much easier to follow the paths. Another example:"
   ]
  },
  {
   "cell_type": "code",
   "execution_count": 54,
   "metadata": {},
   "outputs": [
    {
     "data": {
      "text/plain": [
       "{'HOUSED', 'HOUSES', 'NOISED', 'NOISES'}"
      ]
     },
     "execution_count": 54,
     "metadata": {},
     "output_type": "execute_result"
    }
   ],
   "source": [
    "set(confusions('HOUSED'))"
   ]
  },
  {
   "cell_type": "code",
   "execution_count": 55,
   "metadata": {},
   "outputs": [
    {
     "data": {
      "image/png": "[encoded data removed]",
      "text/plain": [
       "<matplotlib.figure.Figure at 0x117ea5550>"
      ]
     },
     "metadata": {},
     "output_type": "display_data"
    }
   ],
   "source": [
    "show_kbd(qwerty, words=_)"
   ]
  },
  {
   "cell_type": "markdown",
   "metadata": {},
   "source": [
    "Average Confusions of a Keyboard\n",
    "===\n",
    "\n",
    "The question is: how confusing is a keyboard? One metric for confusingness is the percentage of words that are confused with other words:"
   ]
  },
  {
   "cell_type": "code",
   "execution_count": 56,
   "metadata": {
    "collapsed": true
   },
   "outputs": [],
   "source": [
    "def confusingness(kbd):\n",
    "    \"The proportion of words in COMMON that are confused with other words on this keyboard.\"\n",
    "    neighbors = neighboring_keys(kbd)\n",
    "    return mean([confusable(w, neighbors) for w in COMMON])\n",
    "\n",
    "def title(kbd, name): \n",
    "    return ('{}: avg = {:.1f}, confuse = {:.0%}'\n",
    "            .format(name, workload_average(kbd), confusingness(kbd)))"
   ]
  },
  {
   "cell_type": "code",
   "execution_count": 57,
   "metadata": {},
   "outputs": [
    {
     "data": {
      "text/plain": [
       "{'4-by-7': 0.4571112340896514,\n",
       " '5-by-6': 0.5838406198118429,\n",
       " 'qwerty': 0.5398450470392916}"
      ]
     },
     "execution_count": 57,
     "metadata": {},
     "output_type": "execute_result"
    }
   ],
   "source": [
    "{name: confusingness(kbd) for (name, kbd) in keyboards.items()}"
   ]
  },
  {
   "cell_type": "markdown",
   "metadata": {},
   "source": [
    "About half the common words are confusable, with a little bit of variation between keyboards.\n",
    "\n",
    "Remember that `improved` is still working to improve the workload average, not confusingness, so it will be interesting to see how `improved` changes confusingness:"
   ]
  },
  {
   "cell_type": "code",
   "execution_count": 58,
   "metadata": {},
   "outputs": [
    {
     "data": {
      "image/png": "[encoded data removed]",
      "text/plain": [
       "<matplotlib.figure.Figure at 0x1179d1198>"
      ]
     },
     "metadata": {},
     "output_type": "display_data"
    },
    {
     "data": {
      "image/png": "[encoded data removed]",
      "text/plain": [
       "<matplotlib.figure.Figure at 0x117a12d68>"
      ]
     },
     "metadata": {},
     "output_type": "display_data"
    },
    {
     "data": {
      "image/png": "[encoded data removed]",
      "text/plain": [
       "<matplotlib.figure.Figure at 0x119c7ed68>"
      ]
     },
     "metadata": {},
     "output_type": "display_data"
    }
   ],
   "source": [
    "report(keyboards)"
   ]
  },
  {
   "cell_type": "markdown",
   "metadata": {},
   "source": [
    "Confusingness got worse as workload average length got better. Can we make confusingness better?\n",
    "\n",
    "Question 6: Is there a Keyboard that Minimizes Confusion?\n",
    "===\n",
    "\n",
    "Unfortunately, we won't be able to search as quickly.  Consider:"
   ]
  },
  {
   "cell_type": "code",
   "execution_count": 59,
   "metadata": {},
   "outputs": [
    {
     "name": "stdout",
     "output_type": "stream",
     "text": [
      "CPU times: user 124 ms, sys: 1.69 ms, total: 125 ms\n",
      "Wall time: 125 ms\n"
     ]
    },
    {
     "data": {
      "text/plain": [
       "0.5398450470392916"
      ]
     },
     "execution_count": 59,
     "metadata": {},
     "output_type": "execute_result"
    }
   ],
   "source": [
    "%time confusingness(qwerty)"
   ]
  },
  {
   "cell_type": "code",
   "execution_count": 60,
   "metadata": {},
   "outputs": [
    {
     "name": "stdout",
     "output_type": "stream",
     "text": [
      "CPU times: user 294 µs, sys: 1 µs, total: 295 µs\n",
      "Wall time: 297 µs\n"
     ]
    },
    {
     "data": {
      "text/plain": [
       "3.2333097802127657"
      ]
     },
     "execution_count": 60,
     "metadata": {},
     "output_type": "execute_result"
    }
   ],
   "source": [
    "%time workload_average(qwerty)"
   ]
  },
  {
   "cell_type": "markdown",
   "metadata": {},
   "source": [
    "Computing `confusingness` takes about 500 times longer than computing `workload_average`, so if we want to use `confusingness` as a scoring function, we will have to settle for fewer swaps:"
   ]
  },
  {
   "cell_type": "code",
   "execution_count": 61,
   "metadata": {},
   "outputs": [
    {
     "data": {
      "image/png": "[encoded data removed]",
      "text/plain": [
       "<matplotlib.figure.Figure at 0x117a12e80>"
      ]
     },
     "metadata": {},
     "output_type": "display_data"
    },
    {
     "name": "stdout",
     "output_type": "stream",
     "text": [
      "CPU times: user 18.6 s, sys: 43.3 ms, total: 18.7 s\n",
      "Wall time: 18.7 s\n"
     ]
    }
   ],
   "source": [
    "%time show_kbd(improved(qwerty, swaps=200, scorer=confusingness))"
   ]
  },
  {
   "cell_type": "markdown",
   "metadata": {},
   "source": [
    "This did indeed reduce confusingness (which was 54%); not bad for only 200 swaps. Too bad the workload average got worse."
   ]
  },
  {
   "cell_type": "markdown",
   "metadata": {},
   "source": [
    "Question 7: Is there a Keyboard that Maximizes User Satisfaction?\n",
    "===\n",
    "\n",
    "What is user satisfaction? I don't know, but for now I'll approximate satisfaction (or rather, *dissatisfaction*, since lower scores are better) with a combined score that is the average of workload average and 10 times confusingness. Why 10 times? Because our best scores are around 1.8 for workload average and about 1/10 of that for confusingness.\n",
    "\n",
    "First we'll define the combined scorer function:"
   ]
  },
  {
   "cell_type": "code",
   "execution_count": 62,
   "metadata": {
    "collapsed": true
   },
   "outputs": [],
   "source": [
    "def dissatisfaction(kbd):\n",
    "    \"The product of workload average and confusingness, scaled by 5.\"\n",
    "    return 5 * workload_average(kbd) * confusingness(kbd)"
   ]
  },
  {
   "cell_type": "code",
   "execution_count": 72,
   "metadata": {},
   "outputs": [
    {
     "data": {
      "text/plain": [
       "8.72743135195781"
      ]
     },
     "execution_count": 72,
     "metadata": {},
     "output_type": "execute_result"
    }
   ],
   "source": [
    "dissatisfaction(qwerty)"
   ]
  },
  {
   "cell_type": "markdown",
   "metadata": {},
   "source": [
    "We can incorporate the combined score into `title`:"
   ]
  },
  {
   "cell_type": "code",
   "execution_count": 63,
   "metadata": {},
   "outputs": [],
   "source": [
    "def title(kbd, name): \n",
    "    W = workload_average(kbd)\n",
    "    C = confusingness(kbd)\n",
    "    S = dissatisfaction(kbd)\n",
    "    return ('{}: avg = {:.1f}, confuse = {:.0%}, overall = {:.1f}'\n",
    "            .format(name, W, C, S))"
   ]
  },
  {
   "cell_type": "code",
   "execution_count": 71,
   "metadata": {},
   "outputs": [
    {
     "data": {
      "image/png": "[encoded data removed]",
      "text/plain": [
       "<matplotlib.figure.Figure at 0x11b4c99b0>"
      ]
     },
     "metadata": {},
     "output_type": "display_data"
    },
    {
     "data": {
      "image/png": "[encoded data removed]",
      "text/plain": [
       "<matplotlib.figure.Figure at 0x117eaa358>"
      ]
     },
     "metadata": {},
     "output_type": "display_data"
    },
    {
     "data": {
      "image/png": "[encoded data removed]",
      "text/plain": [
       "<matplotlib.figure.Figure at 0x119d34e10>"
      ]
     },
     "metadata": {},
     "output_type": "display_data"
    },
    {
     "name": "stdout",
     "output_type": "stream",
     "text": [
      "CPU times: user 2min 26s, sys: 330 ms, total: 2min 27s\n",
      "Wall time: 2min 27s\n"
     ]
    }
   ],
   "source": [
    "%time report(swaps=500, scorer=dissatisfaction)"
   ]
  },
  {
   "cell_type": "markdown",
   "metadata": {},
   "source": [
    "Success!  We were in fact able to make progress on the combined metric.  If we could run 50,000 swaps instead of just 500, we could probably do even better. To do so would require either (1) more computers, (2) more patience, or (3) more efficient algorithms.  I'll leave it up to you to make more progress.\n",
    "\n",
    "**Note**: Each time this notebook is run, different random results can occur.  I'll record a keyboard found by one\n",
    "of the good runs (only 11% confusingness) here, just in case another run is not as good:"
   ]
  },
  {
   "cell_type": "code",
   "execution_count": 70,
   "metadata": {},
   "outputs": [
    {
     "data": {
      "image/png": "[encoded data removed]",
      "text/plain": [
       "<matplotlib.figure.Figure at 0x11b6466d8>"
      ]
     },
     "metadata": {},
     "output_type": "display_data"
    }
   ],
   "source": [
    "show_kbd(Keyboard((' U D J K N W ',\n",
    "                   'T V H E B Q R',\n",
    "                   ' Z I M X A C ',\n",
    "                   'S P G O F Y L')))"
   ]
  },
  {
   "cell_type": "markdown",
   "metadata": {},
   "source": [
    "Summary\n",
    "=====\n",
    "  \n",
    "  So where are we? Let's revisit our initial questions and see what answers we have:\n",
    "  \n",
    " 1. What words have the longest path length? <br>**Answered**: \"PALEOMAGNETISMS\" etc.\n",
    " 2. What words have the highest ratio of path length to word length? <br>**Answered**: \"PALAPA\" etc.\n",
    " 3. What is the average segment length, over a typical typing work load? <br>**Answered**: 3.23 keys, for Qwerty keyboard, on our sample workload.\n",
    " 4. Is there a better keyboard layout to minimize the average segment length over a work load?  <br>**Answered**: Yes, many layouts at around 1.9 on Qwerty; or 1.7 or 1.8 on more square keyboards.\n",
    " 5. How often are two words confused because they have similar paths? <br>**Answered**: On Qwerty, 26% of the words in a small dictionary, and 55% of the words in running text have at least one possible confusion. Other layouts are worse.\n",
    " 6. Is there a better keyboard layout to minimize confusion? <br>**Partially Answered**: We found a keyboard with less confusingness than Qwerty.  The computation of confusingness takes too long to do very much hillclimbing search.  \n",
    " 7. Is there a better keyboard layout to maximize overall user satisfaction? <br>**Partially Answered**: We defined a combined metric, and found\n",
    "a keyboard with a better score. There are no doubt better metrics, and better keyboards to be found.\n",
    " \n",
    "\n",
    "\n",
    "\n",
    "Going Beyond\n",
    "===\n",
    "\n",
    "Now it is your turn to answer the open questions, or make up some questions of your own.  Good luck! Here are a few ideas to get you started:\n",
    "\n",
    "* Hillclimbing just keeps the one best keyboard it has found so far.  Other optimization techniques such as\n",
    "[beam search](http://en.wikipedia.org/wiki/Beam_search) or [genetic algorithms](http://en.wikipedia.org/wiki/Genetic_algorithm)  or [ant colony optimization](http://en.wikipedia.org/wiki/Ant_colony_optimization_algorithms) maintain several candidates at a time. Is that a good idea?\n",
    "\n",
    "* The code in this notebook emphasises clarity, not efficiency.  Can you modify the code (or perhaps port it to another language) and make it twice as efficient? 10 times? 100 times?\n",
    "\n",
    "* What other factors do you think are important to user satisfaction with a keyboard.  Can you measure them?\n",
    "\n",
    "* Consider the 5 paths below. They all start at 'P', move in a straight line to 'T', and then go to 'S', but they all make different stops along the top row. In other words, the 5 paths all trace exacty the same lines, so they are very confusing, but our definition of  `confusions` makes most of them different. Can you think\n",
    "of a better way to handle confusions for paths like this?"
   ]
  },
  {
   "cell_type": "code",
   "execution_count": 66,
   "metadata": {},
   "outputs": [
    {
     "data": {
      "image/png": "[encoded data removed]",
      "text/plain": [
       "<matplotlib.figure.Figure at 0x11a0ba7b8>"
      ]
     },
     "metadata": {},
     "output_type": "display_data"
    }
   ],
   "source": [
    "show_kbd(qwerty, words=['POUTS', 'POIUYTS', 'PUTTS', 'PUTS', 'POTS', 'PITS'])"
   ]
  }
 ],
 "metadata": {
  "kernelspec": {
   "display_name": "Python 3",
   "language": "python",
   "name": "python3"
  },
  "language_info": {
   "codemirror_mode": {
    "name": "ipython",
    "version": 3
   },
   "file_extension": ".py",
   "mimetype": "text/x-python",
   "name": "python",
   "nbconvert_exporter": "python",
   "pygments_lexer": "ipython3",
   "version": "3.5.3"
  }
 },
 "nbformat": 4,
 "nbformat_minor": 1
}
