{
 "cells": [
  {
   "cell_type": "markdown",
   "metadata": {},
   "source": [
    "Gesture Typing \n",
    "===\n",
    "\n",
    "Typing quickly and accurately on a smartphone screen is hard! One invention to make it easier is **gesture typing**, in which your finger can trace a **path** consisting of letter-to-letter **segments**. When you lift your finger the path (and the word) is complete. Below we see the path for the word \"hello.\" Note that the path is imprecise; it didn't quite hit the \"L\", but the word was recognized anyways, because \"Hello\" is a known word, whereas \"Hekko\", \"Hwerklo\", etc., are not.\n",
    "\n",
    "<img src=\"http://norvig.com/gesture.png\">\n",
    "\n",
    "Questions About Gesture Typing\n",
    "===\n",
    "\n",
    "My colleague Nicolas Schank examined (and answered) the question of what word has the longest path length. I mentioned this to [Shumin Zhai](http://www.shuminzhai.com/), the pioneer of gesture typing, and between the three of us we expanded the list of questions:\n",
    "\n",
    " 1. What words have the longest path length?\n",
    " 2. What words have the highest ratio of path length to word length? \n",
    " 3. What is the average segment length, over a typical typing work load?\n",
    " 3. Is there a better keyboard layout to minimize the average segment length over a work load?\n",
    " 4. How often are two words confused because they have similar paths?\n",
    " 5. Is there a better keyboard layout to minimize confusion? \n",
    " 6. Is there a better keyboard layout to maximize overall user satisfaction?\n",
    "\n",
    "Let's look at each of these questions, but first, let's get a rough idea for of the concepts we will need to model.\n",
    "\n",
    "Vocabulary\n",
    "===\n",
    "\n",
    "We will need to talk about the following concepts:\n",
    "\n",
    "* **Keyboard**: We'll need to know the **location** of each letter on the keyboard (we consider only letters, not the other symbols).\n",
    "* **Location**: A location is a **point** in two-dimensional space (we assume keyboards are flat).\n",
    "* **Path**: A path connects the letters in a word. In the picture above the path is curved, but a shortest path is formed by connecting straight line **segments**, so maybe we need only deal with straight lines.\n",
    "* **Segment**: A line segment is a straight line between two points.\n",
    "* **Words**: We will need a list of allowable words (in order to find the one with the longest path).\n",
    "* **Work Load**: If we want to find the average path length over a typical work load, we'll have to represent a work load: not\n",
    "just a list of words, but a measure of how frequent each word is.\n",
    "* **Confusion**: We need some measure of *whether* (or perhaps *to what degree*) the paths for two words can be confused with each other.\n",
    "* **Satisfaction**: This is a very difficult concept to define.  A user will be more satisfied with a keyboard if it allows for fast, accurate typing, and if it gives the user a feeling of mastery, not frustration.\n",
    "\n",
    "**Note**: Before we get started writing any real code, I've taken all the imports I will need throughout this notebook and gathered them together here:\n",
    "\n",
    "\n",
    "             "
   ]
  },
  {
   "cell_type": "code",
   "execution_count": 1,
   "metadata": {},
   "outputs": [],
   "source": [
    "from collections import Counter\n",
    "import matplotlib.pyplot as plt\n",
    "import urllib\n",
    "import itertools\n",
    "import random \n",
    "import re"
   ]
  },
  {
   "cell_type": "markdown",
   "metadata": {},
   "source": [
    "Representing Keyboards and Points\n",
    "===\n",
    "\n",
    "The representation for a keyboard needs to describe the location of each of the letters. Using the principle of *\"Do the simplest thing that could possibly work,\"* I represent a keyboard as a `dict` of `{letter: point}` pairs, where there will be 26 letters, A-Z,\n",
    "and each point will mark the x-y coordinates of the center of the corresponding key.  In a standard keyboard the letters are not all on a strict rectangular grid; the **A** key is half way between the **Q** and **W** in the horizontal direction. I would like to have a programmer-friendly way of defining keyboard layouts.  For example, a programmer should be able to write:\n",
    "\n",
    "    Keyboard(('Q W E R T Y U I O P',\n",
    "              ' A S D F G H J K L ',\n",
    "              '   Z X C V B N M   '))\n",
    "              \n",
    "and this would be equivalent to the `dict`:\n",
    "\n",
    "    {'Q': Point(0, 0),   'W': Point(1, 0), ...\n",
    "     'A': Point(0.5, 1), 'S': Point(1.5, 1), ...\n",
    "     'Z': Point(1.5, 2), 'X': Point(2.5, 2), ...}\n",
    "              \n",
    "Note that one key width is two characters in the input to `Keyboard`.  Here is the implementation:"
   ]
  },
  {
   "cell_type": "code",
   "execution_count": 2,
   "metadata": {},
   "outputs": [],
   "source": [
    "def Keyboard(rows):\n",
    "    \"A keyboard is a {letter: location} map, e.g. {'Q':Point(0, 0), 'A': Point(0.5, 1)}.\"\n",
    "    return {ch: Point(x/2, y) \n",
    "            for (y, row) in enumerate(rows)\n",
    "            for (x, ch) in enumerate(row)\n",
    "            if ch != ' '}"
   ]
  },
  {
   "cell_type": "markdown",
   "metadata": {},
   "source": [
    "What about `Point`? At first glance, Python does not appear to have a two-dimensional point as a builtin data type, but\n",
    "on second thought, it does: `complex`. A complex number is a point in the two-dimensional complex plane;\n",
    "we can use that to model the two-dimensional (x, y) plane. Because complex numbers are built in, manipulating them will be efficient. A bonus is that the distance between points `A` and `B` is simply  `abs(A-B)`; easier than the usual formula involving squares and a square root. Thus, the simplest possible thing I could do to represent points is\n",
    "\n",
    "<pre>\n",
    "Point = complex\n",
    "</pre>\n",
    "\n",
    "That would work fine. However, I would like to refer to the x coordinate of point `p` as `p.x` rather than `p.real`, and I would like points to display nicely, so I will do the second-simplest thing: make `Point` be a subclass of `complex` with `x` and `y` properties and a  `__repr__` method:"
   ]
  },
  {
   "cell_type": "code",
   "execution_count": 3,
   "metadata": {},
   "outputs": [],
   "source": [
    "class Point(complex):\n",
    "    \"A point in the (x, y) plane.\"\n",
    "    def __repr__(self): return 'Point({}, {})'.format(self.x, self.y)\n",
    "    x = property(lambda p: p.real)\n",
    "    y = property(lambda p: p.imag)\n",
    "    \n",
    "def distance(A, B):\n",
    "    \"The distance between two points.\"\n",
    "    return abs(A - B)"
   ]
  },
  {
   "cell_type": "markdown",
   "metadata": {},
   "source": [
    "**Design notes for Point:** Alternative representations for points include an `(x, y)` tuple, or a NumPy two-element array, or a namedtuple. \n",
    "\n",
    "**Design notes for Keyboard:** Alternatives for `Keyboard` include a subclass of `dict`, or a class that contains a `dict`.  \n",
    "I considered support for keyboards\n",
    "in which one row is, say, offset 1/3 of a key rather than 1/2 key from the row above. In the end I decided to keep the function `Keyboard` as simple as possible; you can always define a function, `FancyKeyboard`, if you want more.\n",
    "\n",
    "Now we can check that `Keyboard` works:"
   ]
  },
  {
   "cell_type": "code",
   "execution_count": 4,
   "metadata": {},
   "outputs": [
    {
     "data": {
      "text/plain": [
       "{'A': Point(0.5, 1.0),\n",
       " 'B': Point(5.5, 2.0),\n",
       " 'C': Point(3.5, 2.0),\n",
       " 'D': Point(2.5, 1.0),\n",
       " 'E': Point(2.0, 0.0),\n",
       " 'F': Point(3.5, 1.0),\n",
       " 'G': Point(4.5, 1.0),\n",
       " 'H': Point(5.5, 1.0),\n",
       " 'I': Point(7.0, 0.0),\n",
       " 'J': Point(6.5, 1.0),\n",
       " 'K': Point(7.5, 1.0),\n",
       " 'L': Point(8.5, 1.0),\n",
       " 'M': Point(7.5, 2.0),\n",
       " 'N': Point(6.5, 2.0),\n",
       " 'O': Point(8.0, 0.0),\n",
       " 'P': Point(9.0, 0.0),\n",
       " 'Q': Point(0.0, 0.0),\n",
       " 'R': Point(3.0, 0.0),\n",
       " 'S': Point(1.5, 1.0),\n",
       " 'T': Point(4.0, 0.0),\n",
       " 'U': Point(6.0, 0.0),\n",
       " 'V': Point(4.5, 2.0),\n",
       " 'W': Point(1.0, 0.0),\n",
       " 'X': Point(2.5, 2.0),\n",
       " 'Y': Point(5.0, 0.0),\n",
       " 'Z': Point(1.5, 2.0)}"
      ]
     },
     "execution_count": 4,
     "metadata": {},
     "output_type": "execute_result"
    }
   ],
   "source": [
    "qwerty = Keyboard(('Q W E R T Y U I O P',\n",
    "                   ' A S D F G H J K L ',\n",
    "                   '   Z X C V B N M   '))\n",
    "qwerty"
   ]
  },
  {
   "cell_type": "markdown",
   "metadata": {},
   "source": [
    "Computing Path Length\n",
    "===\n",
    "\n",
    "Now let's figure out the path length for a word: the sum of the lengths of segments between letters.  So the path length for `'WORD'` would be the sum of the segment lengths for `'WO'` plus `'OR'` plus `'RD'`:"
   ]
  },
  {
   "cell_type": "code",
   "execution_count": 5,
   "metadata": {},
   "outputs": [
    {
     "data": {
      "text/plain": [
       "13.118033988749895"
      ]
     },
     "execution_count": 5,
     "metadata": {},
     "output_type": "execute_result"
    }
   ],
   "source": [
    "W, O, R, D = qwerty['W'], qwerty['O'], qwerty['R'], qwerty['D'], \n",
    "distance(W, O) + distance(O, R) + distance(R, D)"
   ]
  },
  {
   "cell_type": "markdown",
   "metadata": {},
   "source": [
    "Let's make a function to compute this:"
   ]
  },
  {
   "cell_type": "code",
   "execution_count": 6,
   "metadata": {},
   "outputs": [],
   "source": [
    "def path_length(word, kbd=qwerty):\n",
    "    \"The total path length for a word on this keyboard: the sum of the segment lengths.\"\n",
    "    return sum(distance(kbd[word[i]], kbd[word[i+1]])\n",
    "               for i in range(len(word)-1))"
   ]
  },
  {
   "cell_type": "code",
   "execution_count": 7,
   "metadata": {},
   "outputs": [
    {
     "data": {
      "text/plain": [
       "13.118033988749895"
      ]
     },
     "execution_count": 7,
     "metadata": {},
     "output_type": "execute_result"
    }
   ],
   "source": [
    "path_length('WORD')"
   ]
  },
  {
   "cell_type": "markdown",
   "metadata": {},
   "source": [
    "Let's check with a simpler example that we know the answer to:"
   ]
  },
  {
   "cell_type": "code",
   "execution_count": 8,
   "metadata": {},
   "outputs": [
    {
     "data": {
      "text/plain": [
       "4.0"
      ]
     },
     "execution_count": 8,
     "metadata": {},
     "output_type": "execute_result"
    }
   ],
   "source": [
    "path_length('TO')"
   ]
  },
  {
   "cell_type": "markdown",
   "metadata": {},
   "source": [
    "That makes it clearer&mdash;the **O** is four keys to the right of the **T**, on the same row, so the distance between them is 4.\n",
    "\n",
    "Here's another one that you can verify on your own:"
   ]
  },
  {
   "cell_type": "code",
   "execution_count": 9,
   "metadata": {},
   "outputs": [
    {
     "data": {
      "text/plain": [
       "True"
      ]
     },
     "execution_count": 9,
     "metadata": {},
     "output_type": "execute_result"
    }
   ],
   "source": [
    "path_length('TYPEWRITER') == 1 + 4 + 7 + 1 + 2 + 4 + 3 + 2 + 1 == 25"
   ]
  },
  {
   "cell_type": "markdown",
   "metadata": {},
   "source": [
    "Question 1: Longest Path Length?\n",
    "===\n",
    "\n",
    "To know what the longest word is, we'll have to know what the allowable words are. The so-called TWL06 word list gives all the words that are legal in the game of Scrabble; that seems like a reasonable list (although it omits proper nouns). Here's how to load a copy:"
   ]
  },
  {
   "cell_type": "code",
   "execution_count": 10,
   "metadata": {},
   "outputs": [],
   "source": [
    "! [ -e TWL06.txt ] || curl -O http://norvig.com/ngrams/TWL06.txt\n",
    "    \n",
    "WORDS = set(open('TWL06.txt').read().split())"
   ]
  },
  {
   "cell_type": "code",
   "execution_count": 11,
   "metadata": {},
   "outputs": [
    {
     "data": {
      "text/plain": [
       "178691"
      ]
     },
     "execution_count": 11,
     "metadata": {},
     "output_type": "execute_result"
    }
   ],
   "source": [
    "len(WORDS)"
   ]
  },
  {
   "cell_type": "markdown",
   "metadata": {},
   "source": [
    "That's a lot of words; which one has the longest path?"
   ]
  },
  {
   "cell_type": "code",
   "execution_count": 12,
   "metadata": {},
   "outputs": [
    {
     "data": {
      "text/plain": [
       "'PALEOMAGNETISMS'"
      ]
     },
     "execution_count": 12,
     "metadata": {},
     "output_type": "execute_result"
    }
   ],
   "source": [
    "max(WORDS, key=path_length)"
   ]
  },
  {
   "cell_type": "markdown",
   "metadata": {},
   "source": [
    "And the longest ten paths? Including the lengths? We'll use a helper function, `print_top`, which prints the top *n* items in a seqence according to some key function:"
   ]
  },
  {
   "cell_type": "code",
   "execution_count": 13,
   "metadata": {},
   "outputs": [
    {
     "name": "stdout",
     "output_type": "stream",
     "text": [
      "72.2 PALEOMAGNETISMS\n",
      "70.0 ANTIQUARIANISMS\n",
      "69.9 ELECTROANALYSIS\n",
      "69.9 ANTIAPHRODISIAC\n",
      "69.3 PARLIAMENTARIAN\n",
      "68.9 BLEPHAROSPASMS\n",
      "68.6 BIDIALECTALISMS\n",
      "67.6 PALEOGEOGRAPHIC\n",
      "67.6 SPERMATOZOANS\n",
      "67.1 APOCALYPTICISMS\n"
     ]
    }
   ],
   "source": [
    "def print_top(n, sequence, key=None, fmt='{:.1f} {}'):\n",
    "    \"Find the top n elements of sequence as ranked by key function, and print them.\"\n",
    "    for x in sorted(sequence, key=key, reverse=True)[:n]:\n",
    "        print(fmt.format(key(x), x))\n",
    "              \n",
    "print_top(10, WORDS, path_length)"
   ]
  },
  {
   "cell_type": "markdown",
   "metadata": {},
   "source": [
    "Question 2: Highest Path Length to Word Length Ratio?\n",
    "===\n",
    "\n",
    "Very long words tend to have long path lengths.  But what words have the highest *ratio*\n",
    "of path length to word length? (I decided to measure word length by number of letters; an alternative is number of segments.) "
   ]
  },
  {
   "cell_type": "code",
   "execution_count": 14,
   "metadata": {},
   "outputs": [],
   "source": [
    "def path_length_ratio(word, kbd=qwerty): return path_length(word, kbd) / len(word)"
   ]
  },
  {
   "cell_type": "code",
   "execution_count": 15,
   "metadata": {},
   "outputs": [
    {
     "name": "stdout",
     "output_type": "stream",
     "text": [
      "6.9 PALAPA\n",
      "6.7 PAPAL\n",
      "6.4 PAPA\n",
      "6.4 JALAPS\n",
      "6.2 SLAPS\n",
      "6.2 KAMALA\n",
      "6.2 LAPELS\n",
      "6.2 PAPS\n",
      "6.2 HALALA\n",
      "6.1 SPALE\n"
     ]
    }
   ],
   "source": [
    "print_top(10, WORDS, path_length_ratio)"
   ]
  },
  {
   "cell_type": "markdown",
   "metadata": {},
   "source": [
    "Aside: Where did \"TYPEWRITER\" Come From?\n",
    "===\n",
    "\n",
    "How did I find \"TYPEWRITER,\" a long word whose letters are all on the top row?  I could have [looked it up](http://lmgtfy.com/?q=longest+word+typed+all+on+one+row+on+typewriter), but instead I used the following code:"
   ]
  },
  {
   "cell_type": "code",
   "execution_count": 16,
   "metadata": {},
   "outputs": [
    {
     "name": "stdout",
     "output_type": "stream",
     "text": [
      "10.0 PERPETUITY\n",
      "10.0 PREREQUIRE\n",
      "10.0 PEPPERTREE\n",
      "10.0 TYPEWRITER\n",
      "10.0 REPERTOIRE\n",
      "10.0 PROPRIETOR\n",
      "9.0 PROPRIETY\n",
      "9.0 ETIQUETTE\n",
      "9.0 PUTTYROOT\n",
      "9.0 TWITTERER\n"
     ]
    }
   ],
   "source": [
    "def on_top_row(word): return all(L in 'QWERTYUIOP' for L in word)\n",
    "\n",
    "print_top(10, filter(on_top_row, WORDS), len)"
   ]
  },
  {
   "cell_type": "markdown",
   "metadata": {},
   "source": [
    "Question 3: Average Segment Length on Work Load?\n",
    "===\n",
    "\n",
    "What is the average segment length for a typical typing work load? To answer that, we need to know what a typical work load is.\n",
    "\n",
    "Representing Workloads\n",
    "---\n",
    "\n",
    "We will read a file of \"typical\" text, and count up how many times each segment is used. We'll define a `Workload` as a `dict` of the form `{segment: proportion, ...},` e.g. `{'AB': 0.02}`, where each key is a two-letter string representing a segment, and each value is the proportion of time that segment appears in the workload.  Since the distance from `A` to `B` on a keyboard is the same as the distance from `B` to `A`, we don't need both `AB` and `BA` as keys; we'll combine the counts for both of them under the alphabetically first one (in this case,  `AB`). So `Workload` will first generate all two-character *bigrams* in the text, then filter out the non-alphabetic ones, then take the `segment` of each pair, and count up (with `Counter`) how many times each segment occurs, and finally normalize these counts so that they sum to 1.0, but retain their proportion to each other."
   ]
  },
  {
   "cell_type": "code",
   "execution_count": 17,
   "metadata": {},
   "outputs": [],
   "source": [
    "def Workload(text):\n",
    "    \"\"\"Create a Workload--a dict of the form {'AB': 1000, ...} \n",
    "    saying how often each letter pair occurs in text.\"\"\"\n",
    "    pairs = filter(str.isalpha, bigrams(text))\n",
    "    return normalize(Counter(segment(A, B) for (A, B) in pairs))\n",
    "\n",
    "def bigrams(sequence):\n",
    "    \"Every sequence of two adjacent elements (overlapping) in sequence.\"\n",
    "    return (sequence[i:i+2] for i in range(len(sequence) - 1))\n",
    "    \n",
    "def segment(A, B):\n",
    "    \"Canonical two-character segment: segment('A', 'B') == segment('B', 'A') == 'AB'.\"\n",
    "    return A+B if (A < B) else B+A\n",
    "\n",
    "def normalize(dictionary):\n",
    "    \"Normalize a {key: val} dict so that the sum of the vals is 1.0.\"\n",
    "    total = sum(dictionary.values())\n",
    "    for k in dictionary:\n",
    "        dictionary[k] /= total\n",
    "    return dictionary"
   ]
  },
  {
   "cell_type": "markdown",
   "metadata": {},
   "source": [
    "Let's see what a workload looks like for a tiny text:"
   ]
  },
  {
   "cell_type": "code",
   "execution_count": 18,
   "metadata": {},
   "outputs": [
    {
     "data": {
      "text/plain": [
       "Counter({'AL': 0.05,\n",
       "         'AO': 0.05,\n",
       "         'DO': 0.05,\n",
       "         'GO': 0.1,\n",
       "         'HO': 0.05,\n",
       "         'HS': 0.05,\n",
       "         'IS': 0.05,\n",
       "         'OO': 0.55,\n",
       "         'OT': 0.05})"
      ]
     },
     "execution_count": 18,
     "metadata": {},
     "output_type": "execute_result"
    }
   ],
   "source": [
    "Workload('SHOT IS GOOD -- GOOOOOOOOOOOAL!')"
   ]
  },
  {
   "cell_type": "markdown",
   "metadata": {},
   "source": [
    "I happened to have a file of about a megabyte of random text, `smaller.txt`; that should work fine as a typical work load:"
   ]
  },
  {
   "cell_type": "code",
   "execution_count": 19,
   "metadata": {},
   "outputs": [],
   "source": [
    "! [ -e smaller.txt ] || curl -O http://norvig.com/ngrams/smaller.txt\n",
    "    \n",
    "TEXT     = open('smaller.txt').read().upper()\n",
    "WORKLOAD = Workload(TEXT)"
   ]
  },
  {
   "cell_type": "markdown",
   "metadata": {},
   "source": [
    "Let's peek at the most common segments:"
   ]
  },
  {
   "cell_type": "code",
   "execution_count": 20,
   "metadata": {},
   "outputs": [
    {
     "data": {
      "text/plain": [
       "[('HT', 0.04144819308354474),\n",
       " ('ER', 0.04050225926898767),\n",
       " ('EH', 0.03576926529702987),\n",
       " ('IN', 0.02699818128015268),\n",
       " ('AN', 0.02320447132440709),\n",
       " ('NO', 0.022344984888333263),\n",
       " ('EN', 0.021994208025641622),\n",
       " ('IT', 0.021467211506811055),\n",
       " ('ES', 0.020667573255841017),\n",
       " ('DE', 0.020619362217840744)]"
      ]
     },
     "execution_count": 20,
     "metadata": {},
     "output_type": "execute_result"
    }
   ],
   "source": [
    "WORKLOAD.most_common(10)"
   ]
  },
  {
   "cell_type": "markdown",
   "metadata": {},
   "source": [
    "How many distict segments are there?  "
   ]
  },
  {
   "cell_type": "code",
   "execution_count": 21,
   "metadata": {},
   "outputs": [
    {
     "data": {
      "text/plain": [
       "283"
      ]
     },
     "execution_count": 21,
     "metadata": {},
     "output_type": "execute_result"
    }
   ],
   "source": [
    "len(WORKLOAD)"
   ]
  },
  {
   "cell_type": "markdown",
   "metadata": {},
   "source": [
    "Now we want to compute the average segment length, on a given keyboard, over all the segments that appear in a workload, so just multiply the length of each segment by the proportion of time it appears and sum these up:"
   ]
  },
  {
   "cell_type": "markdown",
   "metadata": {},
   "source": [
    "Close enough.  Now we can compute the workload average:"
   ]
  },
  {
   "cell_type": "code",
   "execution_count": 22,
   "metadata": {},
   "outputs": [],
   "source": [
    "def workload_average(kbd, workload=WORKLOAD):\n",
    "    \"The average segment length over a workload of segments.\"\n",
    "    return sum(distance(kbd[A], kbd[B]) * workload[A+B]\n",
    "               for (A, B) in workload)"
   ]
  },
  {
   "cell_type": "code",
   "execution_count": 23,
   "metadata": {},
   "outputs": [
    {
     "data": {
      "text/plain": [
       "3.2333097802127635"
      ]
     },
     "execution_count": 23,
     "metadata": {},
     "output_type": "execute_result"
    }
   ],
   "source": [
    "workload_average(qwerty)"
   ]
  },
  {
   "cell_type": "markdown",
   "metadata": {},
   "source": [
    "So, on average, your finger has to travel a little over 3 keys from one letter to the next over a typical workload."
   ]
  },
  {
   "cell_type": "markdown",
   "metadata": {},
   "source": [
    "Aside: Visualizing a Keyboard\n",
    "---\n",
    "\n",
    "We'll need a way of visualizing what a keyboard looks like. I could just `print` letters, but I think it is more compelling to use IPython's `plot` facility. In the function `plot_kbd` we'll draw a square around the center point of each key, and annotate the square with the key letter. In `show_kbd`, we'll call `plot_kbd` and also print out the keyboard's name and workload average:"
   ]
  },
  {
   "cell_type": "code",
   "execution_count": 24,
   "metadata": {},
   "outputs": [],
   "source": [
    "def plot_kbd(kbd, K=20):\n",
    "    \"Plot the keyboard with square keys, K units on a side.\"\n",
    "    H = K / 2       ## (K is Key width/height; H is half K)\n",
    "    # Draw a square for each key\n",
    "    for L in kbd:\n",
    "        x, y = K * kbd[L].x, -K * kbd[L].y\n",
    "        plot_square(x, y, H, label=L)\n",
    "    # Show the plot\n",
    "    plt.axis('equal'); plt.axis('off'); plt.show()\n",
    "\n",
    "def plot_square(x, y, H, label='', style='k-'):\n",
    "    \"Plot a square with center (x, y), half-width H, and optional label.\"\n",
    "    plt.plot([x-H, x+H, x+H, x-H, x-H], \n",
    "             [y-H, y-H, y+H, y+H, y-H], style)  \n",
    "    plt.annotate(label, (x-H/4, y-H/4)) # H/4 seems to place label well.\n",
    "    \n",
    "def show_kbd(kbd, name='keyboard'):\n",
    "    \"Plot a keyboard and print statistics about it.\"\n",
    "    plot_kbd(kbd)    \n",
    "    print('workload average = {:.1f} for {}'\n",
    "          .format(workload_average(kbd), name))"
   ]
  },
  {
   "cell_type": "code",
   "execution_count": 25,
   "metadata": {},
   "outputs": [
    {
     "data": {
      "image/png": "[encoded data removed]",
      "text/plain": [
       "<matplotlib.figure.Figure at 0x108b64128>"
      ]
     },
     "metadata": {},
     "output_type": "display_data"
    },
    {
     "name": "stdout",
     "output_type": "stream",
     "text": [
      "workload average = 3.2 for keyboard\n"
     ]
    }
   ],
   "source": [
    "show_kbd(qwerty)"
   ]
  },
  {
   "cell_type": "markdown",
   "metadata": {},
   "source": [
    "Question 4: Keyboard with Minimal Workload Average?\n",
    "===\n",
    "\n",
    "Now for a much harder question: can we find a different keyboard layout that has a smaller average segment length over the workload? First, let's note that there are two ways to modify a keyboard:  \n",
    "\n",
    "* Keep the keys in the same locations but swap letters. (This is an operation you can do on a physical keyboard just by prying off the key caps and swapping them.) \n",
    "* Change the locations of keys.  (On a physical keyboard you'd need a saw and glue to do this, but it is easier on a virtual keyboard.)  \n",
    "\n",
    "Let's start by limiting ourselves to just swapping letters.  \n",
    "\n",
    "This is an **optimization** problem.  There are many permutations of letters; too many to try them all. To be precise, there are 26! (26 factorial) permutations, which is about 10<sup>26</sup> (fun fact: 25 and 26 are the only integers for which n! &approx; 10<sup>n</sup>).  If we can't try them all, we need some way to sample the configurations, trying to make progress towards a better one. Again, we'll try the simplest thing that could possibly work: \n",
    "\n",
    "  1. Pick two keys at random.\n",
    "  2. Swap them.\n",
    "  3. If that gives a better (lower) workload total, keep them that way.\n",
    "  4. If not, swap back.\n",
    "  5. Repeat this for a given number of times, say 1000."
   ]
  },
  {
   "cell_type": "code",
   "execution_count": 26,
   "metadata": {},
   "outputs": [],
   "source": [
    "def improve(kbd, swaps=1000, scorer=workload_average):\n",
    "    \"Minimize scorer(kbd) by swapping keys and keeping improvements.\"\n",
    "    score = scorer(kbd)\n",
    "    letters = list(kbd)\n",
    "    for _ in range(swaps):\n",
    "        A, B = random.sample(letters, 2)   # Step 1: pick two keys\n",
    "        swap(kbd, A, B)                    # Step 2: swap them\n",
    "        score2 = scorer(kbd)\n",
    "        if score2 < score:                 # Step 3: If better, keep them\n",
    "            score = score2                 # (and record the new best total)\n",
    "        else:\n",
    "            swap(kbd, B, A)                # Step 4: swap back if not better\n",
    "    return kbd\n",
    "\n",
    "def swap(kbd, A, B): kbd[A], kbd[B] = kbd[B], kbd[A]"
   ]
  },
  {
   "cell_type": "markdown",
   "metadata": {},
   "source": [
    "**Note 1:** This strategy is called **hillclimbing**, drawing on the metaphor of getting to a high peak by trying to take a step, and continuing if the step is uphill, and returning if it is not.  This technique often finds a local maximum&mdash;a solution that is better than all its neighbors, but not as good as another solution that is many steps away.\n",
    "\n",
    "**Note 2:** I make `scorer` be a parameter, in case we later decide we want to minimize something else other than `workload_average` (such as confusingness).\n",
    "\n",
    "**Note 3:** The procedure  `improve` modifies its argument.  If you called `improve(qwerty)`, then `qwerty` would be modified. We\n",
    "probably don't want that. So, in analogy with the built-in function `sorted`, I will define the pure function `improved` to return a new keyboard, without modifying its argument:"
   ]
  },
  {
   "cell_type": "code",
   "execution_count": 27,
   "metadata": {},
   "outputs": [],
   "source": [
    "def improved(kbd, swaps=1000, scorer=workload_average): \n",
    "    \"Minimize scorer(kbd) by swapping keys and keeping improvements; don't modify kbd.\"\n",
    "    return improve(kbd.copy(), swaps, scorer)"
   ]
  },
  {
   "cell_type": "markdown",
   "metadata": {},
   "source": [
    "Let's see how well we can do:"
   ]
  },
  {
   "cell_type": "code",
   "execution_count": 28,
   "metadata": {},
   "outputs": [
    {
     "data": {
      "image/png": "[encoded data removed]",
      "text/plain": [
       "<matplotlib.figure.Figure at 0x10052e6d8>"
      ]
     },
     "metadata": {},
     "output_type": "display_data"
    },
    {
     "name": "stdout",
     "output_type": "stream",
     "text": [
      "workload average = 2.0 for keyboard\n"
     ]
    }
   ],
   "source": [
    "show_kbd(improved(qwerty, 1000))"
   ]
  },
  {
   "cell_type": "markdown",
   "metadata": {},
   "source": [
    "That's a pretty good improvement! We decreased the workload average  by about a third. (If you are reading this in an active IPython notebook, you can re-run the cell above and see a different result each time.) "
   ]
  },
  {
   "cell_type": "markdown",
   "metadata": {},
   "source": [
    "Visualizing `improved`\n",
    "---\n",
    "\n",
    "Let's get a better feeling for what `improved` does.  We will keep track of the workload average after each swap, and plot that as a line.  (We know this line should be monotonically decreasing, starting at 3.23.)  We will then plot a dozen instances of this line (different each time because the swaps are random).  \n",
    "\n",
    "I'll copy-and-paste `improve`   (regrettably violating the [don't repeat yourself](http://en.wikipedia.org/wiki/Don%27t_repeat_yourself) principle), and make `improve_scores`, adding code that yields the average workload after each swap."
   ]
  },
  {
   "cell_type": "code",
   "execution_count": 29,
   "metadata": {},
   "outputs": [
    {
     "data": {
      "image/png": "[encoded data removed]",
      "text/plain": [
       "<matplotlib.figure.Figure at 0x109b01d30>"
      ]
     },
     "metadata": {},
     "output_type": "display_data"
    }
   ],
   "source": [
    "def improve_scores(kbd, swaps=1000, scorer=workload_average):\n",
    "    \"A version of 'improve' that yields the workload average after each swap.\"\n",
    "    total = scorer(kbd)\n",
    "    letters = list(kbd)\n",
    "    T = sum(WORKLOAD.values())             # <<< NEW\n",
    "    for _ in range(swaps):\n",
    "        A, B = random.sample(letters, 2)   # Step 1: pick two keys\n",
    "        swap(kbd, A, B)                         # Step 2: swap them\n",
    "        total2 = scorer(kbd)\n",
    "        if total2 < total:                 # Step 3: If better, keep them\n",
    "            total = total2                 # (and record the new best total)\n",
    "        else:\n",
    "            swap(kbd, B, A)                     # Step 4: swap back if not better\n",
    "        yield total / T                    # <<< NEW\n",
    "    \n",
    "def workload_plot(kbd, swaps):\n",
    "    plt.ylabel('Workload average segment length') \n",
    "    plt.xlabel('Number of swaps');  \n",
    "    plt.plot(list(improve_scores(kbd.copy(), swaps)))  \n",
    "    plt.show()\n",
    "\n",
    "workload_plot(qwerty, 3000)"
   ]
  },
  {
   "cell_type": "markdown",
   "metadata": {},
   "source": [
    "That's interesting; it looks like most of the progress in in the first few hundred swaps.  But this is just one random run of the algorithm.  Let's compare ten runs:"
   ]
  },
  {
   "cell_type": "code",
   "execution_count": 30,
   "metadata": {},
   "outputs": [
    {
     "data": {
      "image/png": "[encoded data removed]",
      "text/plain": [
       "<matplotlib.figure.Figure at 0x109bbb6a0>"
      ]
     },
     "metadata": {},
     "output_type": "display_data"
    }
   ],
   "source": [
    "def workload_plot(kbd, swaps, runs=10):\n",
    "    plt.ylabel('Workload average segment length') \n",
    "    plt.xlabel('Number of swaps');  \n",
    "    for _ in range(runs):\n",
    "        plt.plot(list(improve_scores(kbd.copy(), swaps)))  \n",
    "    plt.show()\n",
    "    \n",
    "workload_plot(qwerty, 3000, 10)"
   ]
  },
  {
   "cell_type": "markdown",
   "metadata": {},
   "source": [
    "This plot is even more interesting. I note the following:\n",
    "\n",
    "* Each line follows a slightly different path (because the swaps are random).\n",
    "* The lines are grouped very tightly together; the variance is small.  Almost everywhere, the difference between the best line and the worst line is about 0.2 or less. By the end, almost all the lines are between 1.9 and 2.0.\n",
    "* We make rapid progress, decreasing from 3.2 to around 2.2 in about 200 swaps, and to around 2.0 in about 500 swaps.\n",
    "* After 1000 swaps, progress is slow, and after 2000 swaps progress is very slow.\n",
    "* Obviously, at any number of swaps the minimum of the 10 lines is less than the average of the 10 lines.\n",
    "\n",
    "This last point suggests a strategy: *repeat the hillclimbing search multiple times, and take the best result.* Let's investigate that strategy.\n",
    "\n",
    "Improvement with Repeated Runs\n",
    "---\n",
    "\n",
    "Suppose we have a certain budget of time that we are willing to spend to try to find a keyboard\n",
    "with a low workload average. Suppose the budget is, say, 3,000 swaps and scorings.  How should we spend this budget?  We could have a single run of `improved(qwerty, 3000)`.  Or we could repeat `improved(qwerty, 1000)` three times and take the best of the three results. Or repeat `improved(qwerty, 500)` six times.  From the plot above, it is not clear which of these approaches would be better. (From the plot it is clear that there is rapid progress in the first 500 swaps, so I wouldn't want each run to be much less than that.)\n",
    "\n",
    "The function `repeated_improved` allows you to decide how to split up your budget between long runs and repeated runs, and always takes the best of the repeated runs:"
   ]
  },
  {
   "cell_type": "code",
   "execution_count": 31,
   "metadata": {},
   "outputs": [],
   "source": [
    "def repeated_improved(kbd, repeats=20, swaps=1000, scorer=workload_average):\n",
    "    \"Try improved(kbd, swaps) multiple times and take the best result.\"\n",
    "    return min([improved(kbd, swaps, scorer) for run in range(repeats)],\n",
    "               key=scorer)"
   ]
  },
  {
   "cell_type": "markdown",
   "metadata": {},
   "source": [
    "Let's see what this can do:"
   ]
  },
  {
   "cell_type": "code",
   "execution_count": 32,
   "metadata": {},
   "outputs": [
    {
     "data": {
      "image/png": "[encoded data removed]",
      "text/plain": [
       "<matplotlib.figure.Figure at 0x109aa4748>"
      ]
     },
     "metadata": {},
     "output_type": "display_data"
    },
    {
     "name": "stdout",
     "output_type": "stream",
     "text": [
      "workload average = 1.9 for 3000 swaps repeated once\n"
     ]
    },
    {
     "data": {
      "image/png": "[encoded data removed]",
      "text/plain": [
       "<matplotlib.figure.Figure at 0x109aa4a90>"
      ]
     },
     "metadata": {},
     "output_type": "display_data"
    },
    {
     "name": "stdout",
     "output_type": "stream",
     "text": [
      "workload average = 1.9 for 1000 swaps repeated three times\n"
     ]
    },
    {
     "data": {
      "image/png": "[encoded data removed]",
      "text/plain": [
       "<matplotlib.figure.Figure at 0x109a14be0>"
      ]
     },
     "metadata": {},
     "output_type": "display_data"
    },
    {
     "name": "stdout",
     "output_type": "stream",
     "text": [
      "workload average = 1.9 for 500 swaps repeated six times\n"
     ]
    }
   ],
   "source": [
    "show_kbd(repeated_improved(qwerty, 1, 3000), \"3000 swaps repeated once\")\n",
    "show_kbd(repeated_improved(qwerty, 3, 1000), \"1000 swaps repeated three times\")\n",
    "show_kbd(repeated_improved(qwerty, 6, 500),  \"500 swaps repeated six times\")"
   ]
  },
  {
   "cell_type": "markdown",
   "metadata": {},
   "source": [
    "Let's do it again, to see how different the result is, and this time let's also check how long it takes:"
   ]
  },
  {
   "cell_type": "code",
   "execution_count": 33,
   "metadata": {},
   "outputs": [
    {
     "data": {
      "image/png": "[encoded data removed]",
      "text/plain": [
       "<matplotlib.figure.Figure at 0x109c46438>"
      ]
     },
     "metadata": {},
     "output_type": "display_data"
    },
    {
     "name": "stdout",
     "output_type": "stream",
     "text": [
      "workload average = 2.0 for 3000 swaps repeated once\n"
     ]
    },
    {
     "data": {
      "image/png": "[encoded data removed]",
      "text/plain": [
       "<matplotlib.figure.Figure at 0x1099f0c18>"
      ]
     },
     "metadata": {},
     "output_type": "display_data"
    },
    {
     "name": "stdout",
     "output_type": "stream",
     "text": [
      "workload average = 1.9 for 1000 swaps repeated three times\n"
     ]
    },
    {
     "data": {
      "image/png": "[encoded data removed]",
      "text/plain": [
       "<matplotlib.figure.Figure at 0x109a5f2e8>"
      ]
     },
     "metadata": {},
     "output_type": "display_data"
    },
    {
     "name": "stdout",
     "output_type": "stream",
     "text": [
      "workload average = 1.9 for 500 swaps repeated six times\n",
      "CPU times: user 1.86 s, sys: 25.5 ms, total: 1.89 s\n",
      "Wall time: 1.91 s\n"
     ]
    }
   ],
   "source": [
    "%%time\n",
    "show_kbd(repeated_improved(qwerty, 1, 3000), \"3000 swaps repeated once\")\n",
    "show_kbd(repeated_improved(qwerty, 3, 1000), \"1000 swaps repeated three times\")\n",
    "show_kbd(repeated_improved(qwerty, 6, 500),  \"500 swaps repeated six times\")"
   ]
  },
  {
   "cell_type": "markdown",
   "metadata": {},
   "source": [
    "So it looks like in about a second, we can repeatedly get down from a workload average of 3.2 to about 1.9.  The resulting keyboard will not be the same each time, but will tend to have the rare letters in the corners and the common ones in the middle.\n",
    "\n",
    "What happens if we work a lot harder? Say we have a budget of 30,000 instead of 3,000?"
   ]
  },
  {
   "cell_type": "code",
   "execution_count": 34,
   "metadata": {},
   "outputs": [
    {
     "data": {
      "image/png": "[encoded data removed]",
      "text/plain": [
       "<matplotlib.figure.Figure at 0x109bd3d68>"
      ]
     },
     "metadata": {},
     "output_type": "display_data"
    },
    {
     "name": "stdout",
     "output_type": "stream",
     "text": [
      "workload average = 1.9 for 30000 swaps repeated once\n"
     ]
    },
    {
     "data": {
      "image/png": "[encoded data removed]",
      "text/plain": [
       "<matplotlib.figure.Figure at 0x109b510b8>"
      ]
     },
     "metadata": {},
     "output_type": "display_data"
    },
    {
     "name": "stdout",
     "output_type": "stream",
     "text": [
      "workload average = 1.9 for 2000 swaps repeated fifteen times\n"
     ]
    },
    {
     "data": {
      "image/png": "[encoded data removed]",
      "text/plain": [
       "<matplotlib.figure.Figure at 0x10c8af6d8>"
      ]
     },
     "metadata": {},
     "output_type": "display_data"
    },
    {
     "name": "stdout",
     "output_type": "stream",
     "text": [
      "workload average = 1.9 for 500 swaps repeated sixty times\n",
      "CPU times: user 14.6 s, sys: 143 ms, total: 14.8 s\n",
      "Wall time: 14.9 s\n"
     ]
    }
   ],
   "source": [
    "%%time \n",
    "show_kbd(repeated_improved(qwerty, 1, 30000), \"30000 swaps repeated once\")\n",
    "show_kbd(repeated_improved(qwerty, 15, 2000), \"2000 swaps repeated fifteen times\")\n",
    "show_kbd(repeated_improved(qwerty, 60, 500),  \"500 swaps repeated sixty times\")"
   ]
  },
  {
   "cell_type": "markdown",
   "metadata": {},
   "source": [
    "It looks like spending more time doesn't help.  I can't say we've found the best possible keyboard, but I can say it will take either a very long run time or a more clever algorithm to do much better than 1.9. I can also say that it doesn't seem to matter too much exactly how you manage the budget between repetitions and swaps.\n",
    "\n",
    "Keys in Different Locations\n",
    "---\n",
    "\n",
    "Now let's allow keys  to be in different physical locations.  Rather than allowing complete freedom of movement, we'll start from a few different fixed key layouts and swap keys from there. I'll define three layouts and gather them into a `dict`:"
   ]
  },
  {
   "cell_type": "code",
   "execution_count": 35,
   "metadata": {},
   "outputs": [],
   "source": [
    "keyboards = {\n",
    "    'qwerty': Keyboard(('Q W E R T Y U I O P',\n",
    "                        ' A S D F G H J K L ',  \n",
    "                        '   Z X C V B N M   ')),\n",
    "\n",
    "    '4-by-7': Keyboard((' A B C D E F ',\n",
    "                        'G H I J K L M',\n",
    "                        ' N O P Q R S ',\n",
    "                        'T U V W X Y Z')),\n",
    "\n",
    "    '5-by-6': Keyboard((' A B C D E ',\n",
    "                        ' F G H I J ',\n",
    "                        'K L M N O P',\n",
    "                        ' Q R S T U ',\n",
    "                        ' V W X Y Z '))\n",
    "    }"
   ]
  },
  {
   "cell_type": "code",
   "execution_count": 36,
   "metadata": {},
   "outputs": [
    {
     "data": {
      "image/png": "[encoded data removed]",
      "text/plain": [
       "<matplotlib.figure.Figure at 0x10c88d390>"
      ]
     },
     "metadata": {},
     "output_type": "display_data"
    },
    {
     "name": "stdout",
     "output_type": "stream",
     "text": [
      "workload average = 2.7 for 4-by-7\n"
     ]
    },
    {
     "data": {
      "image/png": "[encoded data removed]",
      "text/plain": [
       "<matplotlib.figure.Figure at 0x107b865c0>"
      ]
     },
     "metadata": {},
     "output_type": "display_data"
    },
    {
     "name": "stdout",
     "output_type": "stream",
     "text": [
      "workload average = 3.2 for qwerty\n"
     ]
    },
    {
     "data": {
      "image/png": "[encoded data removed]",
      "text/plain": [
       "<matplotlib.figure.Figure at 0x107d1cbe0>"
      ]
     },
     "metadata": {},
     "output_type": "display_data"
    },
    {
     "name": "stdout",
     "output_type": "stream",
     "text": [
      "workload average = 2.5 for 5-by-6\n"
     ]
    }
   ],
   "source": [
    "# Compare keyboards\n",
    "for name in keyboards:\n",
    "    show_kbd(keyboards[name], name)"
   ]
  },
  {
   "cell_type": "markdown",
   "metadata": {},
   "source": [
    "(**Note:** The plots of different-shaped keyboards have different-sized squares around the keys. Some of the plots have a lot of whitespace around them. If anyone knows an easy way to tell `plot` to display them better, let me know.)\n",
    "\n",
    "And here is a function to iterate over these layouts, applying `repeated_improved` to each one and displaying the improved keyboard, the workload average before and after improvement, and the time taken:"
   ]
  },
  {
   "cell_type": "code",
   "execution_count": 37,
   "metadata": {},
   "outputs": [],
   "source": [
    "def report(keyboards, scorer=workload_average):\n",
    "    \"Iterate through a dict of {name: kbd} pairs, showing kbd before and after repeated_improved(kbd).\"\n",
    "    for (name, kbd) in keyboards.items():\n",
    "        show_kbd(repeated_improved(kbd, scorer=scorer), \n",
    "                 'repeated improved ' + name)"
   ]
  },
  {
   "cell_type": "code",
   "execution_count": 38,
   "metadata": {},
   "outputs": [
    {
     "data": {
      "image/png": "[encoded data removed]",
      "text/plain": [
       "<matplotlib.figure.Figure at 0x107c7eeb8>"
      ]
     },
     "metadata": {},
     "output_type": "display_data"
    },
    {
     "name": "stdout",
     "output_type": "stream",
     "text": [
      "workload average = 1.8 for repeated improved 4-by-7\n"
     ]
    },
    {
     "data": {
      "image/png": "[encoded data removed]",
      "text/plain": [
       "<matplotlib.figure.Figure at 0x107d1d550>"
      ]
     },
     "metadata": {},
     "output_type": "display_data"
    },
    {
     "name": "stdout",
     "output_type": "stream",
     "text": [
      "workload average = 1.9 for repeated improved qwerty\n"
     ]
    },
    {
     "data": {
      "image/png": "[encoded data removed]",
      "text/plain": [
       "<matplotlib.figure.Figure at 0x107ce4358>"
      ]
     },
     "metadata": {},
     "output_type": "display_data"
    },
    {
     "name": "stdout",
     "output_type": "stream",
     "text": [
      "workload average = 1.7 for repeated improved 5-by-6\n",
      "CPU times: user 10 s, sys: 101 ms, total: 10.1 s\n",
      "Wall time: 10.2 s\n"
     ]
    }
   ],
   "source": [
    "%%time\n",
    "report(keyboards)"
   ]
  },
  {
   "cell_type": "markdown",
   "metadata": {},
   "source": [
    "\n",
    "\n",
    "So, any keyboard can be improved, but the more compact keyboards with a smaller diameter (`4-by-7` and `5-by-6`) perform slightly better than `qwerty`. \n",
    "\n",
    "But ... I still want to know: how close are we coming to the optimal keyboard?  Can we do better than about 1.7 or 1.8?  \n",
    "\n",
    "One thing to try is to start from a better position.  It is easier to do hillclimbing of Mt. Everest if you start at Everest Base Camp (elevation 17,000 ft) rather than at sea level.  Let's see what we can do."
   ]
  },
  {
   "cell_type": "markdown",
   "metadata": {},
   "source": [
    "Better Starting Keyboard\n",
    "---\n",
    "\n",
    "What if we started with a keyboard where the most common letters (as measured by the workload text) are in the center?  Then, on average, many of the common segments would tend to be short.  To make this a little more precise:\n",
    "\n",
    "1. Sort the letters of the alphabet, most frequent first.\n",
    "2. Find the center of the keyboard.\n",
    "3. Sort the key locations, closest to center first.\n",
    "4. Make a new keyboard where the most frequent letter is in the center, the next most frequent is the next closest to center, and so on.\n"
   ]
  },
  {
   "cell_type": "code",
   "execution_count": 39,
   "metadata": {},
   "outputs": [],
   "source": [
    "cat = ''.join    ## Function to join strings together into one big string\n",
    "\n",
    "# Order letters by frequency in TEXT\n",
    "ordered_letters = cat(sorted(list(qwerty), reverse=True, key=lambda L: TEXT.count(L)))\n",
    "\n",
    "def recentered(kbd):\n",
    "    \"Put the most frequent letters in the center of this keyboard.\"\n",
    "    center = mean(kbd.values())\n",
    "    ordered_locations = sorted(kbd.values(), key=lambda point: abs(point-center))\n",
    "    return dict(zip(ordered_letters, ordered_locations))\n",
    "\n",
    "def mean(numbers): return sum(numbers) / len(numbers)"
   ]
  },
  {
   "cell_type": "code",
   "execution_count": 40,
   "metadata": {},
   "outputs": [
    {
     "data": {
      "text/plain": [
       "'ETAONISRHDLCUMFWYGPBVKXJQZ'"
      ]
     },
     "execution_count": 40,
     "metadata": {},
     "output_type": "execute_result"
    }
   ],
   "source": [
    "ordered_letters"
   ]
  },
  {
   "cell_type": "code",
   "execution_count": 41,
   "metadata": {},
   "outputs": [
    {
     "data": {
      "image/png": "[encoded data removed]",
      "text/plain": [
       "<matplotlib.figure.Figure at 0x109a144e0>"
      ]
     },
     "metadata": {},
     "output_type": "display_data"
    },
    {
     "name": "stdout",
     "output_type": "stream",
     "text": [
      "workload average = 2.0 for recentered qwerty\n"
     ]
    }
   ],
   "source": [
    "show_kbd(recentered(qwerty), 'recentered qwerty')"
   ]
  },
  {
   "cell_type": "code",
   "execution_count": 42,
   "metadata": {},
   "outputs": [
    {
     "data": {
      "image/png": "[encoded data removed]",
      "text/plain": [
       "<matplotlib.figure.Figure at 0x101e34710>"
      ]
     },
     "metadata": {},
     "output_type": "display_data"
    }
   ],
   "source": [
    "workload_plot(recentered(qwerty), 3000, 10)"
   ]
  },
  {
   "cell_type": "markdown",
   "metadata": {},
   "source": [
    "That's interesting.  At first glance it looks like there is much more variability in the lines, compared to the previous plot for the plain `qwerty` keyboard. But that's just an illusion.  The Y axis is much more compressed on this plot; if you look at the numbers on the Y axis, you see the variation is actually *smaller* on this plot.   \n",
    "\n",
    "Let's try the `report` function:"
   ]
  },
  {
   "cell_type": "code",
   "execution_count": 43,
   "metadata": {},
   "outputs": [
    {
     "data": {
      "image/png": "[encoded data removed]",
      "text/plain": [
       "<matplotlib.figure.Figure at 0x109a14240>"
      ]
     },
     "metadata": {},
     "output_type": "display_data"
    },
    {
     "name": "stdout",
     "output_type": "stream",
     "text": [
      "workload average = 1.9 for repeated improved recentered qwerty\n"
     ]
    }
   ],
   "source": [
    "show_kbd(repeated_improved(recentered(qwerty)), 'repeated improved recentered qwerty')"
   ]
  },
  {
   "cell_type": "markdown",
   "metadata": {},
   "source": [
    "So the starting layout of keys seems not to matter very much; you can start with a workload average of 3.2 or 2.1, but either way you end up with an improved version somewhere close to 1.9.\n",
    "\n",
    "Aside: Lower Bound on Best Keyboard\n",
    "---\n",
    "\n",
    "The best improvement on Qwerty that I've seen so far has workload average of 1.86.  But can we estimate a **lower bound** on the best possible permutation of letters?  Here's one approach:  \n",
    "\n",
    "1. Start with a recentered keyboard (that is, frequent keys are in the center).\n",
    "2. Now, for each letter `L` on the keyboard, figure out the best possible rearrangement of the other letters to minimize the workload on segments that involve `L`.  The best rearrangement will have the letter that appears in the most segments with `L` closest to `L`; the letter that appears in the next most number of segments with `L` the next closest to `L`, and so on.\n",
    "3. Do this independently for each letter.  That is, we're summing up the workloads segment by segment, but instead of doing this on one keyboard, we're actually doing it on 26 different keyboards, each one optimized  to give the absolute minimum possible distance for one letter.\n",
    "\n",
    "I can't quite prove this is a lower bound, because of the assumption that we hold one end of the segments fixed in the recentered-keyboard layout.  I'm pretty confident that the freedom to optimize the other end of each segment for each letter independently means that it is a lower bound, but I can't prove it. Still, here it is:"
   ]
  },
  {
   "cell_type": "code",
   "execution_count": 44,
   "metadata": {},
   "outputs": [],
   "source": [
    "def workload_lower_bound(kbd=recentered(qwerty), workload=WORKLOAD):\n",
    "    \"Given a keyboard, find a lower bound on the workload average.\"\n",
    "    letters = list(kbd)\n",
    "    def distances(L):\n",
    "        \"Distances to L key, shortest distance first.\"\n",
    "        return sorted(abs(kbd[A] - kbd[L]) for A in letters if A != L)\n",
    "    def counts(L):\n",
    "        \"Workload counts for segments involving L, biggest count first.\"\n",
    "        return sorted([workload[segment(A, L)] for A in letters if A != L],\n",
    "                      reverse=True)\n",
    "    return (sum(dot_product(distances(L), counts(L)) for L in kbd)\n",
    "            / sum(workload.values()) / 2) # Divide by 2 because we counted each segment twice\n",
    "\n",
    "def dot_product(A, B):\n",
    "    \"Σ_i{A_i * B_i}\"\n",
    "    return sum(A[i] * B[i] for i in range(len(A)))"
   ]
  },
  {
   "cell_type": "code",
   "execution_count": 45,
   "metadata": {},
   "outputs": [
    {
     "name": "stdout",
     "output_type": "stream",
     "text": [
      "4-by-7 1.5038079625992777\n",
      "qwerty 1.606564973591206\n",
      "5-by-6 1.4709459024696767\n"
     ]
    }
   ],
   "source": [
    "for name in keyboards:\n",
    "    print(name, workload_lower_bound(keyboards[name]))"
   ]
  },
  {
   "cell_type": "markdown",
   "metadata": {},
   "source": [
    "So there's a gap of around 0.2 or 0.3 of a key distance between the best keyboard we've found so far, and the lower bound we computed for each keyboard shape.  We don't know where within this gap the actual best keyboard lies. But rather than mind the gap, I'll turn my attention to other matters."
   ]
  },
  {
   "cell_type": "markdown",
   "metadata": {},
   "source": [
    "Question 5: How often are two words confused because they have similar paths?\n",
    "===\n",
    "\n",
    "When can one word be confused with another?  When their paths are similar (which means that their corresponding letters are in similar locations). For example, on a Qwerty keyboard, the paths for \"HELLO\" and \"JELLO\" are similar, because **H** and **J** are adjacent, and the other letters are the same.\n",
    "\n",
    "<img src=\"http://norvig.com/gesture.png\">\n",
    "\n",
    "We'd like to know, for a given keyboard, how confusing is it? How many words have paths on the keyboard that can be confused for other words? We have our work cut out for us:\n",
    "\n",
    "1. Determine what letters could be confused for each other.\n",
    "2. Determine what words/paths can be confused.\n",
    "3. Invent some metric for the overall confusingness of a keyboard. \n",
    "4. Try to find less-confusing keyboards.\n",
    "\n",
    "Letter Confusions\n",
    "---\n",
    "\n",
    "So, as a first step, we will make a mapping from each key to the keys that it can be confused with. I'll say that any key within a distance of 1.5 units on the keyboard is a **neighboring** key, and thus a potential confusion:"
   ]
  },
  {
   "cell_type": "code",
   "execution_count": 46,
   "metadata": {},
   "outputs": [],
   "source": [
    "def neighboring_keys(kbd, radius=1.5):\n",
    "    \"Build a dict of {Letter:NeighboringLetters}, e.g. {'Q':'QAW', ...}.\"\n",
    "    def neighboring_letters(A): \n",
    "        return cat(B for B in kbd if distance(kbd[A], kbd[B]) <= radius)\n",
    "    return {A: neighboring_letters(A) for A in kbd}\n",
    "\n",
    "def neighboring_keys(kbd, radius=1.5):\n",
    "    \"Build a dict of {Letter:NeighboringLetters}, e.g. {'Q':'QAW', ...}.\"\n",
    "    def neighboring_letters(A): \n",
    "        return \n",
    "    return {A: cat(B for B in kbd if distance(kbd[A], kbd[B]) <= radius)\n",
    "            for A in kbd}\n",
    "\n",
    "cat = ''.join  ## Function to join letters (or strings) into one string"
   ]
  },
  {
   "cell_type": "code",
   "execution_count": 47,
   "metadata": {},
   "outputs": [
    {
     "data": {
      "text/plain": [
       "{'A': 'ZASQW',\n",
       " 'B': 'VNGBHJ',\n",
       " 'C': 'VCGDFX',\n",
       " 'D': 'EZCSDRFX',\n",
       " 'E': 'ESDRW',\n",
       " 'F': 'VCGDRFXT',\n",
       " 'G': 'VCGYBHFT',\n",
       " 'H': 'VNUGYBHJ',\n",
       " 'I': 'UJOKI',\n",
       " 'J': 'NUBHJKIM',\n",
       " 'K': 'NLJOKIM',\n",
       " 'L': 'PLOKM',\n",
       " 'M': 'NLJKM',\n",
       " 'N': 'NBHJKM',\n",
       " 'O': 'PLOKI',\n",
       " 'P': 'PLO',\n",
       " 'Q': 'AQW',\n",
       " 'R': 'EDRFT',\n",
       " 'S': 'EZASDWX',\n",
       " 'T': 'GYRFT',\n",
       " 'U': 'UYHJI',\n",
       " 'V': 'VCGBHF',\n",
       " 'W': 'EASQW',\n",
       " 'X': 'ZCSDFX',\n",
       " 'Y': 'UGYHT',\n",
       " 'Z': 'ZASDX'}"
      ]
     },
     "execution_count": 47,
     "metadata": {},
     "output_type": "execute_result"
    }
   ],
   "source": [
    "qwerty_neighbors = neighboring_keys(qwerty) \n",
    "qwerty_neighbors"
   ]
  },
  {
   "cell_type": "markdown",
   "metadata": {},
   "source": [
    "We see, for example, that **Q**, off in the corner, has only **A**, **W**, and itself as neighbors, while **G**, in the middle of the keyboard, has 8 neighbors. \n",
    "\n",
    "Word Confusions\n",
    "---\n",
    "\n",
    "Consider each of the letters in the word \"HELLO,\" and all the possible choices for neighbors of each letter:"
   ]
  },
  {
   "cell_type": "code",
   "execution_count": 48,
   "metadata": {},
   "outputs": [
    {
     "data": {
      "text/plain": [
       "['VNUGYBHJ', 'ESDRW', 'PLOKM', 'PLOKM', 'PLOKI']"
      ]
     },
     "execution_count": 48,
     "metadata": {},
     "output_type": "execute_result"
    }
   ],
   "source": [
    "choices = [qwerty_neighbors[L] for L in 'HELLO']\n",
    "choices"
   ]
  },
  {
   "cell_type": "markdown",
   "metadata": {},
   "source": [
    "Think of this as five \"columns\" of letters, and if we pick one letter from each column, we get a path that is formed by letters that are each confusions of letters in the original word, and so the whole path is a confusion for the original word.  So \"JELLO\" is a confusion for \"HELLO\", as would be \"GEOOO\" and \"JRMML\", except they are not words.\n",
    "\n",
    "It turns out that there is a library function, `itertools.product`, that will take an iterable of alternative choices, and generate all possible ways of assembling a sequence consisting of one selection (letter) from each alternative choice."
   ]
  },
  {
   "cell_type": "code",
   "execution_count": 49,
   "metadata": {},
   "outputs": [],
   "source": [
    "paths = {cat(letters) for letters in itertools.product(*choices)}"
   ]
  },
  {
   "cell_type": "markdown",
   "metadata": {},
   "source": [
    "How many paths are there?"
   ]
  },
  {
   "cell_type": "code",
   "execution_count": 50,
   "metadata": {},
   "outputs": [
    {
     "data": {
      "text/plain": [
       "5000"
      ]
     },
     "execution_count": 50,
     "metadata": {},
     "output_type": "execute_result"
    }
   ],
   "source": [
    "len(paths)"
   ]
  },
  {
   "cell_type": "markdown",
   "metadata": {},
   "source": [
    "Let's look at a few of them:"
   ]
  },
  {
   "cell_type": "code",
   "execution_count": 51,
   "metadata": {},
   "outputs": [
    {
     "data": {
      "text/plain": [
       "['UEKKP', 'BDOOP', 'JEMMO', 'JWLLK', 'NELKK', 'VRKLO', 'UWOKI', 'BRKPP']"
      ]
     },
     "execution_count": 51,
     "metadata": {},
     "output_type": "execute_result"
    }
   ],
   "source": [
    "random.sample(paths, 8)"
   ]
  },
  {
   "cell_type": "markdown",
   "metadata": {},
   "source": [
    "And let's see all the paths that are also words:"
   ]
  },
  {
   "cell_type": "code",
   "execution_count": 52,
   "metadata": {},
   "outputs": [
    {
     "data": {
      "text/plain": [
       "{'BROMO', 'BROOK', 'HELLO', 'JELLO'}"
      ]
     },
     "execution_count": 52,
     "metadata": {},
     "output_type": "execute_result"
    }
   ],
   "source": [
    "WORDS & paths"
   ]
  },
  {
   "cell_type": "markdown",
   "metadata": {},
   "source": [
    "Only 4 out of 5000!  That's pretty good, but it means \"HELLO\" is still a confusing word. We can wrap this up as the function  `confusions`:"
   ]
  },
  {
   "cell_type": "code",
   "execution_count": 53,
   "metadata": {},
   "outputs": [],
   "source": [
    "def confusions(word, neighbors=neighboring_keys(qwerty), words=WORDS):\n",
    "    \"All valid words whose paths could be confused with the path for the given word.\"\n",
    "    choices = [neighbors[L] for L in word]\n",
    "    return {cat(letters) for letters in itertools.product(*choices)} & words"
   ]
  },
  {
   "cell_type": "code",
   "execution_count": 54,
   "metadata": {},
   "outputs": [
    {
     "data": {
      "text/plain": [
       "{'BROMO', 'BROOK', 'HELLO', 'JELLO'}"
      ]
     },
     "execution_count": 54,
     "metadata": {},
     "output_type": "execute_result"
    }
   ],
   "source": [
    "confusions('HELLO')"
   ]
  },
  {
   "cell_type": "code",
   "execution_count": 55,
   "metadata": {},
   "outputs": [
    {
     "data": {
      "text/plain": [
       "{'ALTOS', 'EIDOS', 'SIDLE', 'SKEPS', 'WIELD', 'WORKS', 'WORLD', 'WORMS'}"
      ]
     },
     "execution_count": 55,
     "metadata": {},
     "output_type": "execute_result"
    }
   ],
   "source": [
    "confusions('WORLD')"
   ]
  },
  {
   "cell_type": "code",
   "execution_count": 56,
   "metadata": {},
   "outputs": [
    {
     "data": {
      "text/plain": [
       "{'FEARING',\n",
       " 'FRAYING',\n",
       " 'GEARING',\n",
       " 'GRATING',\n",
       " 'GRAYING',\n",
       " 'GREYING',\n",
       " 'REARING',\n",
       " 'REEFING',\n",
       " 'RESTING',\n",
       " 'TEARING',\n",
       " 'TESTING'}"
      ]
     },
     "execution_count": 56,
     "metadata": {},
     "output_type": "execute_result"
    }
   ],
   "source": [
    "confusions('TESTING')"
   ]
  },
  {
   "cell_type": "markdown",
   "metadata": {},
   "source": [
    "So far, so good.  But I'm worried about the efficiency of `confusions` for longer words.  \n",
    "\n",
    "More Efficient `confusions`\n",
    "---\n",
    "\n",
    "Consider:"
   ]
  },
  {
   "cell_type": "code",
   "execution_count": 57,
   "metadata": {},
   "outputs": [
    {
     "name": "stdout",
     "output_type": "stream",
     "text": [
      "CPU times: user 3.6 s, sys: 496 ms, total: 4.1 s\n",
      "Wall time: 4.2 s\n"
     ]
    },
    {
     "data": {
      "text/plain": [
       "{'SOMETHING'}"
      ]
     },
     "execution_count": 57,
     "metadata": {},
     "output_type": "execute_result"
    }
   ],
   "source": [
    "%time confusions('SOMETHING')"
   ]
  },
  {
   "cell_type": "markdown",
   "metadata": {},
   "source": [
    "It took (on my computer) 4 seconds to compute this.  Why so long? Let's count:"
   ]
  },
  {
   "cell_type": "code",
   "execution_count": 58,
   "metadata": {},
   "outputs": [
    {
     "data": {
      "text/plain": [
       "[7, 5, 5, 5, 5, 8, 5, 6, 8]"
      ]
     },
     "execution_count": 58,
     "metadata": {},
     "output_type": "execute_result"
    }
   ],
   "source": [
    "[len(neighboring_keys(qwerty)[L]) for L in 'SOMETHING']"
   ]
  },
  {
   "cell_type": "markdown",
   "metadata": {},
   "source": [
    "There are 7 &times; 5 &times; 5 &times; 5 &times; 5 &times; 8 &times; 5 &times; 6 &times; 8 = 8,400,000 paths for `confusions` to consider. Looking at them all takes 4 seconds, but for most of these paths, we're wasting our time.  For example, one choice for the first two neighboring letters of 'SOMETHING' is 'XP', but 'XP' does not start any word in the dictionary.  Nevertheless, `itertools.product` will generate 240,000 combinations that start with 'XP', and will then rule them out one at a time. It would be better to stop as soon as we see 'XP', and never consider continuations of this path.\n",
    "\n",
    "So that gives us the key idea for a more efficient version of `confusions`: *only follow paths that form a prefix of at least one word.*  \n",
    "\n",
    "So, first we need to define the set of prefixes:"
   ]
  },
  {
   "cell_type": "code",
   "execution_count": 59,
   "metadata": {},
   "outputs": [],
   "source": [
    "def prefixes(words):\n",
    "    \"Return a set of prefixes (1 to N characters) of this collection of words.\"\n",
    "    return {word[:i] for word in words for i in range(1, len(word)+1)}"
   ]
  },
  {
   "cell_type": "code",
   "execution_count": 60,
   "metadata": {},
   "outputs": [
    {
     "data": {
      "text/plain": [
       "{'T', 'TH', 'THE', 'THES', 'THESE', 'THEY', 'THO', 'THOS', 'THOSE'}"
      ]
     },
     "execution_count": 60,
     "metadata": {},
     "output_type": "execute_result"
    }
   ],
   "source": [
    "prefixes(['THESE', 'THEY', 'THOSE'])"
   ]
  },
  {
   "cell_type": "markdown",
   "metadata": {},
   "source": [
    "Let's generate the prefixes of all the words, and check how many there are:"
   ]
  },
  {
   "cell_type": "code",
   "execution_count": 61,
   "metadata": {},
   "outputs": [
    {
     "data": {
      "text/plain": [
       "(395184, 178691)"
      ]
     },
     "execution_count": 61,
     "metadata": {},
     "output_type": "execute_result"
    }
   ],
   "source": [
    "PREFIXES = prefixes(WORDS)\n",
    "\n",
    "len(PREFIXES), len(WORDS)"
   ]
  },
  {
   "cell_type": "markdown",
   "metadata": {},
   "source": [
    "We can describe the more efficient version of the `confusions` algorithm:\n",
    "\n",
    "1. Maintain a queue of partial paths, where a partial path is a string representing choices for neighboring letters for a prefix of the word. For example, 'HE' and 'JE' are both partial paths for the word 'HELLO'.  Initialize the queue to have just one partial path, the empty string.\n",
    "2. Remove a partial path from the queue. Find all possible ways to extend the path by adding a neighboring letter, but only if doing so creates a path that is a prefix of some word in the dictionary.  For example, given the word 'HELLO', and the partial path 'JE', consider all the neighbors of 'L' (namely, 'K', 'M', 'L', 'O', or 'P'), but only 'JEM', 'JEL', and 'JEO' are prefixes of words, so add just those to the queue.\n",
    "3. When a partial path reaches the same length as the word ('HELLO' in this example), then don't extend it any farther; instead check to see if the path is a word.  If it is, add it to the set of paths/words that form the result."
   ]
  },
  {
   "cell_type": "code",
   "execution_count": 62,
   "metadata": {},
   "outputs": [],
   "source": [
    "def confusions(word, neighbors=neighboring_keys(qwerty), words=WORDS, prefixes=PREFIXES):\n",
    "    \"All valid words whose paths could be confused with the path for this word.\"\n",
    "    results = set() # A set of words that are confusions of 'word'\n",
    "    Q = ['']        # A queue of partial paths \n",
    "    while Q:\n",
    "        path = Q.pop()\n",
    "        if len(path) < len(word):\n",
    "            for L in neighbors[word[len(path)]]:\n",
    "                if path + L in prefixes:\n",
    "                    Q.append(path + L)\n",
    "        elif path in words:\n",
    "            results.add(path)\n",
    "    return results"
   ]
  },
  {
   "cell_type": "markdown",
   "metadata": {},
   "source": [
    "Let's do one quick check to see if we are getting the same answers as before:"
   ]
  },
  {
   "cell_type": "code",
   "execution_count": 63,
   "metadata": {},
   "outputs": [
    {
     "data": {
      "text/plain": [
       "{'BROMO', 'BROOK', 'HELLO', 'JELLO'}"
      ]
     },
     "execution_count": 63,
     "metadata": {},
     "output_type": "execute_result"
    }
   ],
   "source": [
    "confusions('HELLO')"
   ]
  },
  {
   "cell_type": "markdown",
   "metadata": {},
   "source": [
    "And let's see how much faster this version is:"
   ]
  },
  {
   "cell_type": "code",
   "execution_count": 64,
   "metadata": {},
   "outputs": [
    {
     "name": "stdout",
     "output_type": "stream",
     "text": [
      "CPU times: user 403 µs, sys: 8 µs, total: 411 µs\n",
      "Wall time: 419 µs\n"
     ]
    },
    {
     "data": {
      "text/plain": [
       "{'SOMETHING'}"
      ]
     },
     "execution_count": 64,
     "metadata": {},
     "output_type": "execute_result"
    }
   ],
   "source": [
    "%time confusions('SOMETHING')"
   ]
  },
  {
   "cell_type": "markdown",
   "metadata": {},
   "source": [
    "We went from about 4 seconds to under a millisecond: that's more than 4000 times faster!  We can do a bigger test:"
   ]
  },
  {
   "cell_type": "code",
   "execution_count": 65,
   "metadata": {},
   "outputs": [],
   "source": [
    "def words(text): \n",
    "    \"Extract a list of all words from a text. Make everything uppercase.\"\n",
    "    return re.findall('[A-Z]+', text.upper())\n",
    "\n",
    "test_words = words(\"\"\"Hello world! Testing something: confusion paths on \n",
    "multiple distinct inputs of various lengths. See if everything works \n",
    "perfect, or poorly, or somewhere between the extremes.\"\"\")\n",
    "\n",
    "def test_confusions(words=test_words):\n",
    "    \"Run through some test words, printing and summarizing the confusions.\"\n",
    "    total = 0\n",
    "    for word in sorted(set(words)):\n",
    "        others = sorted(set(confusions(word)) - {word})\n",
    "        total += len(others)\n",
    "        if others:\n",
    "            print('{}({}): {}'.format(word, len(others), ' '.join(others)))\n",
    "    print('Total of {} confusions for {} words'.format(total, len(words)))"
   ]
  },
  {
   "cell_type": "code",
   "execution_count": 66,
   "metadata": {},
   "outputs": [
    {
     "name": "stdout",
     "output_type": "stream",
     "text": [
      "BETWEEN(2): BERSEEM BERSERK\n",
      "CONFUSION(2): CONCISION CONTUSION\n",
      "EXTREMES(3): ESTEEMED EXTERNES SCREENED\n",
      "HELLO(3): BROMO BROOK JELLO\n",
      "IF(7): ID IT OD OF OR OX UT\n",
      "INPUTS(6): IMPURE IMPUTE KNOUTS OBLIGE UMPIRE UNPURE\n",
      "OF(6): ID IF IT OD OR OX\n",
      "ON(3): IN OH OM\n",
      "OR(7): ID IF IT OD OE OF PE\n",
      "PATHS(7): LARGE LARVA LATHE LATHS OATHS PARGE PARVE\n",
      "PERFECT(2): PREFECT PRETEXT\n",
      "POORLY(1): LIKELY\n",
      "SEE(20): ADD ADS ARE ARS ASS AWE DEE DEW EDS ERE ERR ERS ESS EWE SER SEW WED WEE ZED ZEE\n",
      "SOMEWHERE(1): WINDSURFS\n",
      "TESTING(10): FEARING FRAYING GEARING GRATING GRAYING GREYING REARING REEFING RESTING TEARING\n",
      "THE(5): FUD FUR RUE RYE TYE\n",
      "VARIOUS(3): CARIOUS CAROLUS FATUOUS\n",
      "WORKS(13): AIRNS AKELA AKENE ALTOS EIDOS SIDLE SKENE SORNS SPEND WIDOW WIELD WORLD WORMS\n",
      "WORLD(7): ALTOS EIDOS SIDLE SKEPS WIELD WORKS WORMS\n",
      "Total of 108 confusions for 25 words\n"
     ]
    }
   ],
   "source": [
    "test_confusions()"
   ]
  },
  {
   "cell_type": "markdown",
   "metadata": {},
   "source": [
    "So, 108 confusions for 25 test words, or an average of 4 confusions per word.\n",
    "\n",
    "Visualizing Paths on a Keyboard\n",
    "----\n",
    "\n",
    "To determine if these `confusions` are good ones, let's build something to visualize paths on a keyboard.  \n",
    "\n",
    "\n",
    "I'll add functionality to `plot_kbd` to call the new function `plot_paths` and implement that:\n",
    "\n"
   ]
  },
  {
   "cell_type": "code",
   "execution_count": 67,
   "metadata": {},
   "outputs": [],
   "source": [
    "def plot_kbd(kbd, K=20, words=()):\n",
    "    \"Plot the keyboard with square keys, K units on a side.\"\n",
    "    H = K / 2       ## (K is Key width/height; H is half K)\n",
    "    # Draw a square for each key, and plot paths for words\n",
    "    for L in kbd:\n",
    "        x, y = K * kbd[L].x, -K * kbd[L].y\n",
    "        plot_square(x, y, H, label=L)\n",
    "    plot_paths(kbd, K, words)\n",
    "    # Show the plot and print the workload average\n",
    "    plt.axis('equal'); plt.axis('off'); plt.show()\n",
    "    \n",
    "def plot_paths(kbd, K, words):\n",
    "    \"Plot paths for each word.\"\n",
    "    for (i, word) in enumerate(words):\n",
    "        Xs = [+K * kbd[L].x for L in word]\n",
    "        Ys = [-K * kbd[L].y for L in word]\n",
    "        plt.plot(Xs, Ys, '-o')"
   ]
  },
  {
   "cell_type": "markdown",
   "metadata": {},
   "source": [
    "Let's see how it works:"
   ]
  },
  {
   "cell_type": "code",
   "execution_count": 68,
   "metadata": {},
   "outputs": [
    {
     "data": {
      "image/png": "[encoded data removed]",
      "text/plain": [
       "<matplotlib.figure.Figure at 0x10c779dd8>"
      ]
     },
     "metadata": {},
     "output_type": "display_data"
    }
   ],
   "source": [
    "plot_kbd(qwerty, words=['HELLO', 'JELLO'])"
   ]
  },
  {
   "cell_type": "markdown",
   "metadata": {},
   "source": [
    "OK, we're on the right track, but I see three problems: first, the letters are obscured by the circles.  Second, when the paths are the same (for the \"ELLO\" part), they overwrite each other.  And third, there is no indication what direction the path is going in (\"OLLEH\" would look the same as \"HELLO\").  \n",
    "\n",
    "I have an idea to fix the first two problems (and I will ignore the third for now).  Instead of plotting the circle in the center of the key, offset it to one of the corners of the key.  Have each path offset to a different corner; that way they won't overlap (at least for up to four paths).  "
   ]
  },
  {
   "cell_type": "code",
   "execution_count": 69,
   "metadata": {},
   "outputs": [],
   "source": [
    "def plot_paths(kbd, K, words):\n",
    "    \"Plot paths for each word, each with a different offset (and color).\"\n",
    "    Q = K / 4  ## Q is a quarter of a key width\n",
    "    offsets = [Point(-Q, -Q), Point(-Q, +Q),  Point(Q, +Q), Point(Q, -Q)]\n",
    "    for (i, word) in enumerate(words):\n",
    "        Xs = [+K * kbd[L].x + offsets[i % 4].x for L in word]\n",
    "        Ys = [-K * kbd[L].y + offsets[i % 4].y for L in word]\n",
    "        plt.plot(Xs, Ys, '-o')"
   ]
  },
  {
   "cell_type": "code",
   "execution_count": 70,
   "metadata": {},
   "outputs": [
    {
     "data": {
      "image/png": "[encoded data removed]",
      "text/plain": [
       "<matplotlib.figure.Figure at 0x10da09b00>"
      ]
     },
     "metadata": {},
     "output_type": "display_data"
    }
   ],
   "source": [
    "plot_kbd(qwerty, words=['HELLO', 'JELLO'])"
   ]
  },
  {
   "cell_type": "markdown",
   "metadata": {},
   "source": [
    "That looks much better!  Let's look at all four confusions of \"HELLO\":"
   ]
  },
  {
   "cell_type": "code",
   "execution_count": 71,
   "metadata": {},
   "outputs": [
    {
     "data": {
      "image/png": "[encoded data removed]",
      "text/plain": [
       "<matplotlib.figure.Figure at 0x109b87f98>"
      ]
     },
     "metadata": {},
     "output_type": "display_data"
    }
   ],
   "source": [
    "plot_kbd(qwerty, words=confusions('HELLO'))"
   ]
  },
  {
   "cell_type": "markdown",
   "metadata": {},
   "source": [
    "Not all the paths are very close to each other. This suggests that maybe they shouldn't all be confusions of 'HELLO'.  Let's see if we can get less confusion.\n",
    "\n",
    "Less Confusion\n",
    "---\n",
    "\n",
    "Let's concentrate on 'JELLO' instead of 'HELLO':"
   ]
  },
  {
   "cell_type": "code",
   "execution_count": 72,
   "metadata": {},
   "outputs": [
    {
     "data": {
      "text/plain": [
       "{'BROMO', 'BROOK', 'HELLO', 'IROKO', 'JELLO'}"
      ]
     },
     "execution_count": 72,
     "metadata": {},
     "output_type": "execute_result"
    }
   ],
   "source": [
    "confusions('JELLO')"
   ]
  },
  {
   "cell_type": "markdown",
   "metadata": {},
   "source": [
    "Two confusions are 'JELLO' and 'BROOK':"
   ]
  },
  {
   "cell_type": "code",
   "execution_count": 73,
   "metadata": {},
   "outputs": [
    {
     "data": {
      "image/png": "[encoded data removed]",
      "text/plain": [
       "<matplotlib.figure.Figure at 0x10da09748>"
      ]
     },
     "metadata": {},
     "output_type": "display_data"
    }
   ],
   "source": [
    "plot_kbd(qwerty, words=['JELLO', 'BROOK'])"
   ]
  },
  {
   "cell_type": "markdown",
   "metadata": {},
   "source": [
    "I think these two paths should not be confusions of each other. To see why, I'll start with just the first segment of each path:"
   ]
  },
  {
   "cell_type": "code",
   "execution_count": 74,
   "metadata": {},
   "outputs": [
    {
     "data": {
      "image/png": "[encoded data removed]",
      "text/plain": [
       "<matplotlib.figure.Figure at 0x1099f9208>"
      ]
     },
     "metadata": {},
     "output_type": "display_data"
    }
   ],
   "source": [
    "plot_kbd(qwerty, words=['JE', 'BR'])"
   ]
  },
  {
   "cell_type": "markdown",
   "metadata": {},
   "source": [
    "Note that 'J' and 'B' are within 1.5 units of each other, as are 'E' and 'R' (as all neighboring letters must be).  The issue, as I see it, is that 'B' is offset  to the left from 'J' while 'R' is offset to the right.  Together, that seems like too much difference to allow these segments to be confusions of each other.  How much difference is it?  We can define `JE` and `BR` as the vectors for each segment, and find the difference (or distance) between these two vectors:"
   ]
  },
  {
   "cell_type": "code",
   "execution_count": 75,
   "metadata": {},
   "outputs": [
    {
     "data": {
      "text/plain": [
       "2.23606797749979"
      ]
     },
     "execution_count": 75,
     "metadata": {},
     "output_type": "execute_result"
    }
   ],
   "source": [
    "JE = qwerty['E'] - qwerty['J']\n",
    "BR = qwerty['R'] - qwerty['B']\n",
    "distance(JE, BR)"
   ]
  },
  {
   "cell_type": "markdown",
   "metadata": {},
   "source": [
    "That seems like too big a difference&mdash;maybe we should limit the difference.\n",
    "Let's experiment with a function, `similar_segments`, that decides whether the last segment in a path is similar to the corresponding segment in a word:"
   ]
  },
  {
   "cell_type": "code",
   "execution_count": 76,
   "metadata": {},
   "outputs": [],
   "source": [
    "def similar_segments(kbd, path, word):\n",
    "    \"Do the last two letters of path form a similar segment to corresponding letters of word?\"\n",
    "    n = len(path)\n",
    "    if n < 2: return True\n",
    "    # Define endpoints (P1, P2), (W1, W2); then vectors P and W; then difference between.\n",
    "    (P1, P2), (W1, W2) = (path[n-2:n], word[n-2:n])\n",
    "    P = kbd[P2] - kbd[P1]\n",
    "    W = kbd[W2] - kbd[W1]\n",
    "    return distance(P, W) < 2"
   ]
  },
  {
   "cell_type": "markdown",
   "metadata": {},
   "source": [
    "We can play with `similar_segments` to make sure it looks right:"
   ]
  },
  {
   "cell_type": "code",
   "execution_count": 77,
   "metadata": {},
   "outputs": [
    {
     "data": {
      "text/plain": [
       "False"
      ]
     },
     "execution_count": 77,
     "metadata": {},
     "output_type": "execute_result"
    }
   ],
   "source": [
    "similar_segments(qwerty, 'BR', 'JELLO')"
   ]
  },
  {
   "cell_type": "code",
   "execution_count": 78,
   "metadata": {},
   "outputs": [
    {
     "data": {
      "text/plain": [
       "True"
      ]
     },
     "execution_count": 78,
     "metadata": {},
     "output_type": "execute_result"
    }
   ],
   "source": [
    "similar_segments(qwerty, 'HE', 'JELLO')"
   ]
  },
  {
   "cell_type": "code",
   "execution_count": 79,
   "metadata": {},
   "outputs": [
    {
     "data": {
      "text/plain": [
       "True"
      ]
     },
     "execution_count": 79,
     "metadata": {},
     "output_type": "execute_result"
    }
   ],
   "source": [
    "similar_segments(qwerty, 'HEP', 'JELLO')"
   ]
  },
  {
   "cell_type": "code",
   "execution_count": 80,
   "metadata": {},
   "outputs": [
    {
     "data": {
      "text/plain": [
       "True"
      ]
     },
     "execution_count": 80,
     "metadata": {},
     "output_type": "execute_result"
    }
   ],
   "source": [
    "similar_segments(qwerty, 'J', 'JELLO')"
   ]
  },
  {
   "cell_type": "markdown",
   "metadata": {},
   "source": [
    "Now we will modify `confusions` to call `similar_segments`, and then re-test:"
   ]
  },
  {
   "cell_type": "code",
   "execution_count": 81,
   "metadata": {},
   "outputs": [],
   "source": [
    "def confusions(word, neighbors=neighboring_keys(qwerty), \n",
    "               words=WORDS, prefixes=PREFIXES, kbd=qwerty):\n",
    "    \"All valid words whose paths could be confused with the path for this word.\"\n",
    "    results = set() # A set of words that are confusions of 'word'\n",
    "    Q = ['']        # A queue of partial paths \n",
    "    while Q:\n",
    "        path = Q.pop()\n",
    "        if len(path) < len(word):\n",
    "            for L in neighbors[word[len(path)]]:\n",
    "                newpath = path + L\n",
    "                if (newpath in prefixes) and similar_segments(kbd, newpath, word):\n",
    "                    Q.append(newpath)\n",
    "        elif path in words:\n",
    "            results.add(path)\n",
    "    return results"
   ]
  },
  {
   "cell_type": "code",
   "execution_count": 82,
   "metadata": {},
   "outputs": [
    {
     "name": "stdout",
     "output_type": "stream",
     "text": [
      "BETWEEN(2): BERSEEM BERSERK\n",
      "CONFUSION(2): CONCISION CONTUSION\n",
      "EXTREMES(1): ESTEEMED\n",
      "HELLO(1): JELLO\n",
      "IF(5): ID IT OF OR UT\n",
      "INPUTS(4): IMPURE IMPUTE KNOUTS UNPURE\n",
      "OF(6): ID IF IT OD OR OX\n",
      "ON(3): IN OH OM\n",
      "OR(5): ID IF OD OE OF\n",
      "PATHS(6): LARGE LARVA LATHE LATHS OATHS PARGE\n",
      "POORLY(1): LIKELY\n",
      "SEE(16): ADD ADS ASS AWE DEE DEW ERE ERR ERS EWE SER SEW WED WEE ZED ZEE\n",
      "TESTING(6): FEARING GEARING GREYING REARING RESTING TEARING\n",
      "THE(3): RUE RYE TYE\n",
      "VARIOUS(2): CARIOUS CAROLUS\n",
      "WORKS(6): AIRNS ALTOS SIDLE SORNS WORLD WORMS\n",
      "WORLD(6): ALTOS SIDLE SKEPS WIELD WORKS WORMS\n",
      "Total of 75 confusions for 25 words\n"
     ]
    }
   ],
   "source": [
    "test_confusions()"
   ]
  },
  {
   "cell_type": "markdown",
   "metadata": {},
   "source": [
    "We went from 108 down to 75 confusions.  Studying the results, this looks like an improvement. For \"HELLO\", only \"JELLO\" remains, which looks good. But there are still some confusions that don't look right. For example:"
   ]
  },
  {
   "cell_type": "code",
   "execution_count": 83,
   "metadata": {},
   "outputs": [
    {
     "data": {
      "image/png": "[encoded data removed]",
      "text/plain": [
       "<matplotlib.figure.Figure at 0x109b78e10>"
      ]
     },
     "metadata": {},
     "output_type": "display_data"
    }
   ],
   "source": [
    "plot_kbd(qwerty, words=['SEE', 'DEE'])"
   ]
  },
  {
   "cell_type": "markdown",
   "metadata": {},
   "source": [
    "To me, these look different because the SE segment is going to the right while the DE segment is going to the left.  Yet they are considered similar:"
   ]
  },
  {
   "cell_type": "code",
   "execution_count": 84,
   "metadata": {},
   "outputs": [
    {
     "data": {
      "text/plain": [
       "True"
      ]
     },
     "execution_count": 84,
     "metadata": {},
     "output_type": "execute_result"
    }
   ],
   "source": [
    "similar_segments(qwerty, 'DE', 'SEE')"
   ]
  },
  {
   "cell_type": "markdown",
   "metadata": {},
   "source": [
    "Let's extend `similar_segments` to make it check that two corresponding segments aren't going in opposite directions.  If one goes right, the other can't go left; if one goes down, the other can't go up.\n",
    "\n",
    "How do I test that?  We have the vectors for each segment; we want to make sure that the `x` components of the two vectors don't have opposite signs, and that the `y` components don't have opposite signs.  One way to tell if two numbers have opposite sign is to multiply them together and see if the result is negative."
   ]
  },
  {
   "cell_type": "code",
   "execution_count": 85,
   "metadata": {},
   "outputs": [],
   "source": [
    "def similar_segments(kbd, path, word):\n",
    "    \"Do the last two letters of path form a similar segment to corresponding letters of word?\"\n",
    "    n = len(path)\n",
    "    if n < 2: return True\n",
    "    # Define endpoints (P1, P2), (W1, W2); then vectors P and W; then difference between.\n",
    "    (P1, P2), (W1, W2) = (path[n-2:n], word[n-2:n])\n",
    "    P = Point(kbd[P2] - kbd[P1])\n",
    "    W = Point(kbd[W2] - kbd[W1])\n",
    "    return (distance(P, W) < 2) and (P.x * W.x >= 0) and (P.y * W.y >= 0)"
   ]
  },
  {
   "cell_type": "markdown",
   "metadata": {},
   "source": [
    "We can re-test once more:"
   ]
  },
  {
   "cell_type": "code",
   "execution_count": 86,
   "metadata": {},
   "outputs": [
    {
     "name": "stdout",
     "output_type": "stream",
     "text": [
      "BETWEEN(2): BERSEEM BERSERK\n",
      "CONFUSION(2): CONCISION CONTUSION\n",
      "HELLO(1): JELLO\n",
      "IF(5): ID IT OF OR UT\n",
      "INPUTS(1): KNOUTS\n",
      "OF(6): ID IF IT OD OR OX\n",
      "ON(3): IN OH OM\n",
      "OR(5): ID IF OD OE OF\n",
      "PATHS(6): LARGE LARVA LATHE LATHS OATHS PARGE\n",
      "POORLY(1): LIKELY\n",
      "SEE(13): ADD ADS ASS AWE ERE ERR ERS SER SEW WED WEE ZED ZEE\n",
      "TESTING(6): FEARING GEARING GREYING REARING RESTING TEARING\n",
      "THE(3): RUE RYE TYE\n",
      "VARIOUS(2): CARIOUS CAROLUS\n",
      "WORKS(6): AIRNS ALTOS SIDLE SORNS WORLD WORMS\n",
      "WORLD(6): ALTOS SIDLE SKEPS WIELD WORKS WORMS\n",
      "Total of 68 confusions for 25 words\n"
     ]
    }
   ],
   "source": [
    "test_confusions()"
   ]
  },
  {
   "cell_type": "markdown",
   "metadata": {},
   "source": [
    "Now we're down to 68 confusions, from our initial 108.    I think I'll declare victory on  `confusions`, and move on to answer the question we *really* want to answer.\n",
    "\n",
    "Average Confusions of a Keyboard on a Workload\n",
    "===\n",
    "\n",
    "The question is: how confusing is a keyboard across a workload of words?  First we'll need a workload of words.  That's easy because we already have some `TEXT`, and the function `words` to extract words, `Counter` to otal them up, and `normalize` to make them sum to 1.0.  We'll call the workload of words `WORDLOAD`:"
   ]
  },
  {
   "cell_type": "code",
   "execution_count": 87,
   "metadata": {},
   "outputs": [],
   "source": [
    "WORDLOAD = normalize(Counter(words(TEXT)))"
   ]
  },
  {
   "cell_type": "code",
   "execution_count": 88,
   "metadata": {},
   "outputs": [
    {
     "data": {
      "text/plain": [
       "12020"
      ]
     },
     "execution_count": 88,
     "metadata": {},
     "output_type": "execute_result"
    }
   ],
   "source": [
    "len(WORDLOAD)"
   ]
  },
  {
   "cell_type": "markdown",
   "metadata": {},
   "source": [
    "This tells us there were 12,020 distinct words.  We can see the most common words:"
   ]
  },
  {
   "cell_type": "code",
   "execution_count": 89,
   "metadata": {},
   "outputs": [
    {
     "data": {
      "text/plain": [
       "[('THE', 0.0704858090087631),\n",
       " ('OF', 0.03601344319907194),\n",
       " ('AND', 0.03006522567400811),\n",
       " ('TO', 0.026505393770862834),\n",
       " ('A', 0.02193902792705188),\n",
       " ('IN', 0.02065953562959551),\n",
       " ('I', 0.0174409016724386),\n",
       " ('WAS', 0.013062194698921246),\n",
       " ('THAT', 0.012993955109723572),\n",
       " ('IT', 0.012794922974563694)]"
      ]
     },
     "execution_count": 89,
     "metadata": {},
     "output_type": "execute_result"
    }
   ],
   "source": [
    "WORDLOAD.most_common(10)"
   ]
  },
  {
   "cell_type": "markdown",
   "metadata": {},
   "source": [
    "And we can find all the confusing words:"
   ]
  },
  {
   "cell_type": "code",
   "execution_count": 90,
   "metadata": {},
   "outputs": [],
   "source": [
    "WORDLOAD_PREFIXES = prefixes(WORDLOAD)\n",
    "\n",
    "CONFUSING = [w for w in WORDLOAD \n",
    "             if len(confusions(w, words=WORDLOAD, prefixes=WORDLOAD_PREFIXES)) > 1]"
   ]
  },
  {
   "cell_type": "markdown",
   "metadata": {},
   "source": [
    "One metric for confusingness is the percentage of words that are confused with other words:"
   ]
  },
  {
   "cell_type": "code",
   "execution_count": 91,
   "metadata": {},
   "outputs": [
    {
     "name": "stdout",
     "output_type": "stream",
     "text": [
      "3164\n",
      "12020\n",
      "0.2632279534109817\n"
     ]
    }
   ],
   "source": [
    "print(len(CONFUSING))\n",
    "print(len(WORDLOAD))\n",
    "print(len(CONFUSING) / len(WORDLOAD))"
   ]
  },
  {
   "cell_type": "markdown",
   "metadata": {},
   "source": [
    "So 26% of the words in the dictionary are confusing (on a Qwerty keyboard).  But it seems more important if \"THE\" is confusing than if \"REMONSTRATED\" is.  We can weight each word by its frequency in `WORDLOAD`:"
   ]
  },
  {
   "cell_type": "code",
   "execution_count": 92,
   "metadata": {},
   "outputs": [
    {
     "data": {
      "text/plain": [
       "0.5521549493605558"
      ]
     },
     "execution_count": 92,
     "metadata": {},
     "output_type": "execute_result"
    }
   ],
   "source": [
    "sum(WORDLOAD[w] for w in WORDLOAD \n",
    "    if len(confusions(w, words=WORDLOAD, prefixes=WORDLOAD_PREFIXES)) > 1)"
   ]
  },
  {
   "cell_type": "markdown",
   "metadata": {},
   "source": [
    "That's unfortunate. A majority (55%) of words in running text are confusing. (Unfortunate&mdash;but it shouldn't be surprising. A long word is unlikely to be confused with other words, because a long word has many segments, and if just one segment differs, then there is no confusion.  A short word has only a few segments, and thus fewer chances to differentiate itself from other words.  Running text is mostly short words, while the dictionary is mostly long words; that's why running text has a higher confusingness percentage.)\n",
    "\n",
    "We can wrap this computation up in a function:"
   ]
  },
  {
   "cell_type": "code",
   "execution_count": 93,
   "metadata": {},
   "outputs": [],
   "source": [
    "def confusingness(kbd, wordload=WORDLOAD, prefixes=WORDLOAD_PREFIXES):\n",
    "    \"The proportion of words in wordload that are confused with other words.\"\n",
    "    neighbors = neighboring_keys(kbd)\n",
    "    return sum(WORDLOAD[w] for w in WORDLOAD \n",
    "               if len(confusions(w, neighbors, wordload, prefixes)) > 1)"
   ]
  },
  {
   "cell_type": "markdown",
   "metadata": {},
   "source": [
    "And we can make it part of `show_kbd`:"
   ]
  },
  {
   "cell_type": "code",
   "execution_count": 94,
   "metadata": {},
   "outputs": [],
   "source": [
    "def show_kbd(kbd, name='keyboard'):\n",
    "    \"Plot a keyboard and print statistics about it.\"\n",
    "    plot_kbd(kbd)   \n",
    "    print('workload average = {:.1f}; confusingness = {:.0%} for {}'\n",
    "          .format(workload_average(kbd), confusingness(kbd), name))"
   ]
  },
  {
   "cell_type": "markdown",
   "metadata": {},
   "source": [
    "Let's see how our keyboards do on this new metric:"
   ]
  },
  {
   "cell_type": "code",
   "execution_count": 95,
   "metadata": {},
   "outputs": [
    {
     "data": {
      "image/png": "[encoded data removed]",
      "text/plain": [
       "<matplotlib.figure.Figure at 0x10dbf6400>"
      ]
     },
     "metadata": {},
     "output_type": "display_data"
    },
    {
     "name": "stdout",
     "output_type": "stream",
     "text": [
      "workload average = 2.7; confusingness = 37% for 4-by-7\n"
     ]
    },
    {
     "data": {
      "image/png": "[encoded data removed]",
      "text/plain": [
       "<matplotlib.figure.Figure at 0x107cd66a0>"
      ]
     },
     "metadata": {},
     "output_type": "display_data"
    },
    {
     "name": "stdout",
     "output_type": "stream",
     "text": [
      "workload average = 3.2; confusingness = 55% for qwerty\n"
     ]
    },
    {
     "data": {
      "image/png": "[encoded data removed]",
      "text/plain": [
       "<matplotlib.figure.Figure at 0x10d9b0978>"
      ]
     },
     "metadata": {},
     "output_type": "display_data"
    },
    {
     "name": "stdout",
     "output_type": "stream",
     "text": [
      "workload average = 2.5; confusingness = 46% for 5-by-6\n"
     ]
    }
   ],
   "source": [
    "for name in keyboards:\n",
    "    show_kbd(keyboards[name], name)"
   ]
  },
  {
   "cell_type": "markdown",
   "metadata": {},
   "source": [
    "It looks like Qwerty is the worst on all counts. Now we can try the improved keyboards.  Remember that we are still working to improve the workload average, so any change to confusingness will be incidental, not planned."
   ]
  },
  {
   "cell_type": "code",
   "execution_count": 96,
   "metadata": {},
   "outputs": [
    {
     "data": {
      "image/png": "[encoded data removed]",
      "text/plain": [
       "<matplotlib.figure.Figure at 0x107d1c128>"
      ]
     },
     "metadata": {},
     "output_type": "display_data"
    },
    {
     "name": "stdout",
     "output_type": "stream",
     "text": [
      "workload average = 1.8; confusingness = 33% for repeated improved 4-by-7\n"
     ]
    },
    {
     "data": {
      "image/png": "[encoded data removed]",
      "text/plain": [
       "<matplotlib.figure.Figure at 0x108b3d588>"
      ]
     },
     "metadata": {},
     "output_type": "display_data"
    },
    {
     "name": "stdout",
     "output_type": "stream",
     "text": [
      "workload average = 1.9; confusingness = 32% for repeated improved qwerty\n"
     ]
    },
    {
     "data": {
      "image/png": "[encoded data removed]",
      "text/plain": [
       "<matplotlib.figure.Figure at 0x109b5de10>"
      ]
     },
     "metadata": {},
     "output_type": "display_data"
    },
    {
     "name": "stdout",
     "output_type": "stream",
     "text": [
      "workload average = 1.7; confusingness = 37% for repeated improved 5-by-6\n"
     ]
    }
   ],
   "source": [
    "report(keyboards)"
   ]
  },
  {
   "cell_type": "markdown",
   "metadata": {},
   "source": [
    "Good to see that the \"improved\" keyboards actually improve confusingness, as well as workload average. Of course, we haven't yet explicitly searched for  a keyboard with a good confusingness  score. Could we?\n",
    "\n",
    "Question 6: Is there a Keyboard that Minimizes Confusion?\n",
    "===\n",
    "\n",
    "Unfortunately, we won't get very far towards solving this problem.  Consider:"
   ]
  },
  {
   "cell_type": "code",
   "execution_count": 97,
   "metadata": {},
   "outputs": [
    {
     "name": "stdout",
     "output_type": "stream",
     "text": [
      "CPU times: user 2.04 s, sys: 21.1 ms, total: 2.06 s\n",
      "Wall time: 2.08 s\n"
     ]
    },
    {
     "data": {
      "text/plain": [
       "0.5521549493605558"
      ]
     },
     "execution_count": 97,
     "metadata": {},
     "output_type": "execute_result"
    }
   ],
   "source": [
    "%time confusingness(qwerty)"
   ]
  },
  {
   "cell_type": "code",
   "execution_count": 98,
   "metadata": {},
   "outputs": [
    {
     "name": "stdout",
     "output_type": "stream",
     "text": [
      "CPU times: user 169 µs, sys: 0 ns, total: 169 µs\n",
      "Wall time: 171 µs\n"
     ]
    },
    {
     "data": {
      "text/plain": [
       "3.2333097802127635"
      ]
     },
     "execution_count": 98,
     "metadata": {},
     "output_type": "execute_result"
    }
   ],
   "source": [
    "%time workload_average(qwerty)"
   ]
  },
  {
   "cell_type": "markdown",
   "metadata": {},
   "source": [
    "Computing `confusingness` takes thousands of times longer than computing `workload_average`, so `confusingness`, as it stands, is not a good candidate for a scorer function in the inside loop of `improved`.  We'd need some way of factoring `confusingness` into pieces that can be recomputed incrementally to make things go faster.  So for now, I'll make a token effort of scoring with confusingness, but with a paltry 20 swaps (designed to take around a minute of computation):"
   ]
  },
  {
   "cell_type": "code",
   "execution_count": 99,
   "metadata": {},
   "outputs": [
    {
     "name": "stdout",
     "output_type": "stream",
     "text": [
      "CPU times: user 21.8 s, sys: 207 ms, total: 22 s\n",
      "Wall time: 22.2 s\n"
     ]
    },
    {
     "data": {
      "image/png": "[encoded data removed]",
      "text/plain": [
       "<matplotlib.figure.Figure at 0x10dccb080>"
      ]
     },
     "metadata": {},
     "output_type": "display_data"
    },
    {
     "name": "stdout",
     "output_type": "stream",
     "text": [
      "workload average = 3.6; confusingness = 14% for keyboard\n"
     ]
    }
   ],
   "source": [
    "%time kbd = improved(qwerty, swaps=20, scorer=confusingness)\n",
    "show_kbd(kbd)"
   ]
  },
  {
   "cell_type": "markdown",
   "metadata": {},
   "source": [
    "This did indeed reduce confusingness; not bad for only 20 swaps. Too bad the workload average got worse."
   ]
  },
  {
   "cell_type": "markdown",
   "metadata": {},
   "source": [
    "Question 7: Is there a Keyboard that Maximizes User Satisfaction?\n",
    "===\n",
    "\n",
    "What is user satisfaction? I don't know, but for now I'll approximate satisfaction (or rather, *dissatisfaction*, since lower scores are better) with a combined score that is the average of workload average and 6 times confusingness. Why 6 times? Because our best scores are around 1.8 for workload average and 0.3 for confusingness, and I want both factors to weigh about the same.\n",
    "\n",
    "First we'll define the combined scorer function:"
   ]
  },
  {
   "cell_type": "code",
   "execution_count": 100,
   "metadata": {},
   "outputs": [],
   "source": [
    "def combined_scorer(kbd):\n",
    "    \"The average of workload average and 6 * confusingness.\"\n",
    "    return mean([workload_average(kbd), 6 * confusingness(kbd)])"
   ]
  },
  {
   "cell_type": "markdown",
   "metadata": {},
   "source": [
    "We can incorporate the combined score into `show_kbd`:"
   ]
  },
  {
   "cell_type": "code",
   "execution_count": 101,
   "metadata": {},
   "outputs": [],
   "source": [
    "def show_kbd(kbd, name='keyboard'):\n",
    "    \"Plot a keyboard and print statistics about it.\"\n",
    "    plot_kbd(kbd)   \n",
    "    W = workload_average(kbd)\n",
    "    C = confusingness(kbd)\n",
    "    print('workload average = {:.1f}; confusingness = {:.0%}; combined = {:.1f} for {}'\n",
    "          .format(W, C, mean([W, 6 * C]), name))"
   ]
  },
  {
   "cell_type": "markdown",
   "metadata": {},
   "source": [
    "Let's get a baseline for our keyboards to see which performs best on the combined metric."
   ]
  },
  {
   "cell_type": "code",
   "execution_count": 102,
   "metadata": {},
   "outputs": [
    {
     "data": {
      "image/png": "[encoded data removed]",
      "text/plain": [
       "<matplotlib.figure.Figure at 0x10dc68ac8>"
      ]
     },
     "metadata": {},
     "output_type": "display_data"
    },
    {
     "name": "stdout",
     "output_type": "stream",
     "text": [
      "workload average = 2.7; confusingness = 37%; combined = 2.5 for 4-by-7\n"
     ]
    },
    {
     "data": {
      "image/png": "[encoded data removed]",
      "text/plain": [
       "<matplotlib.figure.Figure at 0x10dc6c160>"
      ]
     },
     "metadata": {},
     "output_type": "display_data"
    },
    {
     "name": "stdout",
     "output_type": "stream",
     "text": [
      "workload average = 3.2; confusingness = 55%; combined = 3.3 for qwerty\n"
     ]
    },
    {
     "data": {
      "image/png": "[encoded data removed]",
      "text/plain": [
       "<matplotlib.figure.Figure at 0x10d9ce3c8>"
      ]
     },
     "metadata": {},
     "output_type": "display_data"
    },
    {
     "name": "stdout",
     "output_type": "stream",
     "text": [
      "workload average = 2.5; confusingness = 46%; combined = 2.6 for 5-by-6\n"
     ]
    }
   ],
   "source": [
    "for name in keyboards:\n",
    "    show_kbd(keyboards[name], name)"
   ]
  },
  {
   "cell_type": "markdown",
   "metadata": {},
   "source": [
    "It looks like 4-by-7 gets the best score.  Let's try a few swaps to improve it:"
   ]
  },
  {
   "cell_type": "code",
   "execution_count": 103,
   "metadata": {},
   "outputs": [
    {
     "name": "stdout",
     "output_type": "stream",
     "text": [
      "CPU times: user 24 s, sys: 224 ms, total: 24.3 s\n",
      "Wall time: 24.5 s\n"
     ]
    },
    {
     "data": {
      "image/png": "[encoded data removed]",
      "text/plain": [
       "<matplotlib.figure.Figure at 0x10dc79208>"
      ]
     },
     "metadata": {},
     "output_type": "display_data"
    },
    {
     "name": "stdout",
     "output_type": "stream",
     "text": [
      "workload average = 2.8; confusingness = 9%; combined = 1.6 for keyboard\n"
     ]
    }
   ],
   "source": [
    "%time kbd = improved(keyboards['4-by-7'], swaps=30, scorer=combined_scorer)\n",
    "show_kbd(kbd)"
   ]
  },
  {
   "cell_type": "markdown",
   "metadata": {},
   "source": [
    "Success!  We were in fact able to make progress on the combined metric.  If we could run 30,000 swaps instead of just 30, we could probably do even better. To do so would require either (1) more computers, (2) more patience, or (3) more efficient algorithms.  I'll leave it up to you to make more progress.\n",
    "\n",
    "**Note**: Each time this notebook is run, different random results can occur.  I'll record a keyboard found by one\n",
    "of the good runs (only 6% confusingness) here, just in case another run is not as good:"
   ]
  },
  {
   "cell_type": "code",
   "execution_count": 104,
   "metadata": {},
   "outputs": [
    {
     "data": {
      "image/png": "[encoded data removed]",
      "text/plain": [
       "<matplotlib.figure.Figure at 0x10dc4e2b0>"
      ]
     },
     "metadata": {},
     "output_type": "display_data"
    },
    {
     "name": "stdout",
     "output_type": "stream",
     "text": [
      "workload average = 2.9; confusingness = 6%; combined = 1.6 for keyboard\n"
     ]
    }
   ],
   "source": [
    "show_kbd(Keyboard((' A B E D Q F ',\n",
    "                   'G U M J I L H',\n",
    "                   ' N O P W C S ',\n",
    "                   'T X R V Y K Z')))"
   ]
  },
  {
   "cell_type": "markdown",
   "metadata": {},
   "source": [
    "Summary\n",
    "=====\n",
    "  \n",
    "  So where are we? Let's revisit our initial questions and see what answers we have:\n",
    "  \n",
    " 1. What words have the longest path length? <br>**Answered**: \"PALEOMAGNETISMS\" etc.\n",
    " 2. What words have the highest ratio of path length to word length? <br>**Answered**: \"PALAPA\" etc.\n",
    " 3. What is the average segment length, over a typical typing work load? <br>**Answered**: 3.23 keys, for Qwerty keyboard, on our sample workload.\n",
    " 4. Is there a better keyboard layout to minimize the average segment length over a work load?  <br>**Answered**: Yes, many layouts at around 1.9 on Qwerty; or 1.7 or 1.8 on more square keyboards.\n",
    " 5. How often are two words confused because they have similar paths? <br>**Answered**: On Qwerty, 26% of the words in a small dictionary, and 55% of the words in running text have at least one possible confusion. Other layouts are worse.\n",
    " 6. Is there a better keyboard layout to minimize confusion? <br>**Partially Answered**: We found a keyboard with less confusingness than Qwerty.  The computation of confusingness takes too long to do very much hillclimbing search.  \n",
    " 7. Is there a better keyboard layout to maximize overall user satisfaction? <br>**Partially Answered**: We defined a combined metric, and found\n",
    "a keyboard with a better score. There are no doubt better metrics, and better keyboards to be found.\n",
    " \n",
    "\n",
    "\n",
    "\n",
    "Going Beyond\n",
    "===\n",
    "\n",
    "Now it is your turn to answer the open questions, or make up some questions of your own.  Good luck! Here are a few ideas to get you started:\n",
    "\n",
    "* Hillclimbing just keeps the one best keyboard it has found so far.  Other optimization techniques such as\n",
    "[beam search](http://en.wikipedia.org/wiki/Beam_search) or [genetic algorithms](http://en.wikipedia.org/wiki/Genetic_algorithm)  or [ant colony optimization](http://en.wikipedia.org/wiki/Ant_colony_optimization_algorithms) maintain several candidates at a time. Is that a good idea?\n",
    "\n",
    "* The code in this notebook emphasises clarity, not efficiency.  Can you modify the code (or perhaps port it to another language) and make it twice as efficient? 10 times? 100 times?\n",
    "\n",
    "* What other factors do you think are important to user satisfaction with a keyboard.  Can you measure them?\n",
    "\n",
    "* Consider the 5 paths below. They all start at 'P', move in a straight line to 'T', and then go to 'S', but they all make different stops along the top row. In other words, the 5 paths all trace exacty the same lines, so they are very confusing, but our definition of  `confusions` makes most of them different. Can you think\n",
    "of a better way to handle confusions for paths like this?"
   ]
  },
  {
   "cell_type": "code",
   "execution_count": 105,
   "metadata": {},
   "outputs": [
    {
     "data": {
      "image/png": "[encoded data removed]",
      "text/plain": [
       "<matplotlib.figure.Figure at 0x107c0f208>"
      ]
     },
     "metadata": {},
     "output_type": "display_data"
    }
   ],
   "source": [
    "plot_kbd(qwerty, words=['PUTS', 'POTS', 'PITS', 'POUTS', 'PUTTS'])"
   ]
  }
 ],
 "metadata": {
  "kernelspec": {
   "display_name": "Python 3",
   "language": "python",
   "name": "python3"
  },
  "language_info": {
   "codemirror_mode": {
    "name": "ipython",
    "version": 3
   },
   "file_extension": ".py",
   "mimetype": "text/x-python",
   "name": "python",
   "nbconvert_exporter": "python",
   "pygments_lexer": "ipython3",
   "version": "3.5.3"
  }
 },
 "nbformat": 4,
 "nbformat_minor": 1
}
