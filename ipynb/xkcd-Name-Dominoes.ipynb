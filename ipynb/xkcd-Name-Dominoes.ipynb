{
 "cells": [
  {
   "cell_type": "markdown",
   "metadata": {},
   "source": [
    "<span style=\"text-align:right\">Peter Norvig<br>21 March 2018</span>\n",
    "\n",
    "# `xkcd` Name Dominoes\n",
    "\n",
    "The March 21, 2018 `xkcd` comic number 1970 was [Name Dominoes](https://xkcd.com/1970/): domino tiles laid out as if in a game, but with the tiles containing names of famous poeple rather than numbers. \n",
    "In [dominoes](https://en.wikipedia.org/wiki/Dominoes) each tile has two halves, and a tile can be legally placed only if  one half is adjacent to another tile with the same number/name, and neither half is adjacent to any tile with a different number/name. (The very first tile in a game has no adjacent tiles, so it can be placed anywhere.) I will write a function to lay out dominoes in a random, legal array.  I'll start with two key data structures:\n",
    "\n",
    "- **`Tile`**: a tile is a 2-element tuple, like `('Tim', 'Cook')`, indicating the two halves.\n",
    "- **`Board(w, h)`**: a [w × h] 2-dimensional array of locations; each location holds as a value one half of a tile, or it can be `empty`, or it can be a `border`, meaning nothing can be placed there."
   ]
  },
  {
   "cell_type": "code",
   "execution_count": 1,
   "metadata": {
    "collapsed": true
   },
   "outputs": [],
   "source": [
    "empty  = '  '\n",
    "border = '--'\n",
    "\n",
    "class Board(list):\n",
    "    \"A board is a 2d array of values.\"\n",
    "    \n",
    "    def __init__(self, width=16, height=24): \n",
    "        \"Initialize a [width × height] array of `empty`, surrounded by `border`\"\n",
    "        def rows (r, val): \n",
    "            return [[border] + width * [val] + [border] for  _ in range(r)]\n",
    "        self[:] = rows(1, border) + rows(height, empty) + rows(1, border)\n",
    "        \n",
    "    def get(self, loc): return self[loc[1]][loc[0]]\n",
    "    \n",
    "    def put(self, loc, value): self[loc[1]][loc[0]] = value"
   ]
  },
  {
   "cell_type": "code",
   "execution_count": 2,
   "metadata": {
    "collapsed": false
   },
   "outputs": [
    {
     "data": {
      "text/plain": [
       "[['--', '--', '--', '--'],\n",
       " ['--', '  ', '  ', '--'],\n",
       " ['--', '  ', '  ', '--'],\n",
       " ['--', '  ', '  ', '--'],\n",
       " ['--', '--', '--', '--']]"
      ]
     },
     "execution_count": 2,
     "metadata": {},
     "output_type": "execute_result"
    }
   ],
   "source": [
    "Board(2, 3)"
   ]
  },
  {
   "cell_type": "markdown",
   "metadata": {},
   "source": [
    "Now I need a strategy to fill the board with tiles.  I will randomly place dominoes one at a time, and I will *not* consider removing a tile from the board and backtracking. Some more concepts:\n",
    "\n",
    "- **`frontier`**: I'll maintain a *frontier*, a set of locations that are adjacent to tiles on the board, and thus are candidates for placing new tiles.\n",
    "- **`dominoes(tiles)`**: places a random tile for the first tile, then repeatedly calls `place1` to legally place an additional tile, stopping when either there is no `frontier` left (meaning no place to put a tile) or no `tiles` left to place.\n",
    "- **`try_one(tiles, board, frontier)`**: take a location in the frontier, and try to find some tile that can legally put one of its halves there, and the other half on an adjacent location; when found, `put` the tile there, and remove it from `tiles`.\n",
    "- **`legal(value, loc, board)`**: a value can be placed if the location is empty, and the value matches all the neighboring location values.\n",
    "- **`neighbors(loc)`**: returns the four neighbors of a location.\n",
    "- **`put(board, loc0, loc1, tile, frontier)`**: places a tile on the board, it accomplishes this by making two calls to the board's `put` method, one for each half of the tile. The `put` function also updates the `frontier` to say that the just-covered locations are no longer in the frontier, but the empty neighbors of the tile are.\n",
    "- **`shuffle(items)`**: used to randomize lists; calls `random.shuffle` and returns the result."
   ]
  },
  {
   "cell_type": "code",
   "execution_count": 3,
   "metadata": {
    "collapsed": false
   },
   "outputs": [],
   "source": [
    "import random\n",
    "\n",
    "def dominoes(tiles, width=16, height=24):\n",
    "    \"Place as many tiles on board as possible, legally and randomly.\"\n",
    "    tiles    = shuffle(list(tiles))\n",
    "    board    = Board(width, height)\n",
    "    frontier = set()\n",
    "    m        = min(width, height) // 2\n",
    "    put(board, (m, m), (m, m + 1), tiles.pop(), frontier) # Place first tile\n",
    "    while tiles and frontier:\n",
    "        try_one(tiles, board, frontier)\n",
    "    return board\n",
    "          \n",
    "def try_one(tiles, board, frontier):\n",
    "    \"Pop a frontier location, and try to place a random tile on that location and an adjacent square.\"\n",
    "    loc0 = frontier.pop()\n",
    "    for tile in shuffle(tiles):\n",
    "        for (v, w) in [tile, tile[::-1]]:\n",
    "            if legal(v, loc0, board):\n",
    "                for loc1 in shuffle(neighbors(loc0)):\n",
    "                    if legal(w, loc1, board):\n",
    "                        put(board, loc0, loc1, [v, w], frontier)\n",
    "                        tiles.remove(tile)\n",
    "                        return  \n",
    "                        \n",
    "def legal(value, loc, board):\n",
    "    \"Is it legal to place this value on this location on board?\"\n",
    "    return (board.get(loc) is empty and\n",
    "            all(board.get(nbr) in (empty, border, value)\n",
    "                for nbr in neighbors(loc)))\n",
    "                \n",
    "def neighbors(loc):\n",
    "    \"Neighbors of this location.\"\n",
    "    x, y = loc\n",
    "    return [(x, y+1), (x, y-1), (x+1, y), (x-1, y)]\n",
    "\n",
    "def put(board, loc0, loc1, tile, frontier): \n",
    "    \"Place the tile across the two locations, and update frontier.\"\n",
    "    board.put(loc0, tile[0])\n",
    "    board.put(loc1, tile[1])\n",
    "    frontier -= {loc0, loc1}\n",
    "    frontier |= {loc for loc in neighbors(loc0) + neighbors(loc1)\n",
    "                 if board.get(loc) is empty}\n",
    "                            \n",
    "def shuffle(items): random.shuffle(items); return items"
   ]
  },
  {
   "cell_type": "code",
   "execution_count": 4,
   "metadata": {
    "collapsed": false
   },
   "outputs": [
    {
     "data": {
      "text/plain": [
       "[['--', '--', '--', '--', '--', '--', '--', '--'],\n",
       " ['--', 'Ry', 'Ke', '  ', '  ', 'Ja', 'Ry', '--'],\n",
       " ['--', '  ', 'Ke', 'Gr', '  ', 'Ja', '  ', '--'],\n",
       " ['--', '  ', '  ', 'Gr', '  ', 'Ke', '  ', '--'],\n",
       " ['--', '  ', '  ', 'Jo', 'Jo', 'Ke', '  ', '--'],\n",
       " ['--', '  ', '  ', '  ', '  ', '  ', '  ', '--'],\n",
       " ['--', '  ', '  ', '  ', '  ', '  ', '  ', '--'],\n",
       " ['--', '--', '--', '--', '--', '--', '--', '--']]"
      ]
     },
     "execution_count": 4,
     "metadata": {},
     "output_type": "execute_result"
    }
   ],
   "source": [
    "tiles1 = [('Bo', 'Ja'), ('Ja', 'Po'), ('Ja', 'Ry'), ('Ry', 'Ke'), \n",
    "          ('Gr', 'Ke'), ('Gr', 'Jo'), ('Ja', 'Ke'), ('Ke', 'Jo')]\n",
    "\n",
    "dominoes(tiles1, 6, 6)"
   ]
  },
  {
   "cell_type": "markdown",
   "metadata": {},
   "source": [
    "# Pretty Output\n",
    "\n",
    "There are two problems with this output. One, it is ugly. Two, I can't easily tell where each domino is: when three names come together, which of the outside names goes with the middle name?  To fix those two problems I will:\n",
    "\n",
    "- Use `matplotlib` to plot a less-ugly display, by defining `plot_board(board)`.\n",
    "- Modify the `Board` class and the `put` function so that the board maintains a list of `boxes` that surround each two-location rectangle that a tile occupies."
   ]
  },
  {
   "cell_type": "code",
   "execution_count": 5,
   "metadata": {
    "collapsed": false
   },
   "outputs": [],
   "source": [
    "%matplotlib inline\n",
    "import matplotlib.pyplot as plt\n",
    "\n",
    "def plot_board(board, figsize=(16, 24)):\n",
    "    plt.figure(figsize=figsize)\n",
    "    plt.axis('off')  \n",
    "    plt.axis('equal')\n",
    "    for (x0, y0, x1, y1) in board.boxes:\n",
    "        plt.plot([x0, x1, x1, x0, x0], \n",
    "                 [y0, y0, y1, y1, y0], 'k-')\n",
    "    for (y, row) in enumerate(board):\n",
    "        for (x, val) in enumerate(row):\n",
    "            if val is not border:\n",
    "                plt.text(x + 0.5, y + 0.3, val.replace('-', ' '),\n",
    "                         ha='center', fontsize=8)\n",
    "                \n",
    "class Board(list):\n",
    "    \"A board is a 2d array of values.\"\n",
    "    \n",
    "    def __init__(self, width=20, height=36): \n",
    "        \"Initialize a [width × height] array of `empty`, surrounded by `border`\"\n",
    "        def rows (r, val): \n",
    "            return [[border] + width * [val] + [border] for  _ in range(r)]\n",
    "        self[:] = rows(1, border) + rows(height, empty) + rows(1, border)\n",
    "        self.boxes = []\n",
    "        \n",
    "    def get(self, loc): return self[loc[1]][loc[0]]\n",
    "    \n",
    "    def put(self, loc, value): self[loc[1]][loc[0]] = value\n",
    "        \n",
    "        \n",
    "def put(board, loc0, loc1, tile, frontier): \n",
    "    \"Place the tile across the two locations, and update frontier.\"\n",
    "    board.put(loc0, tile[0])\n",
    "    board.put(loc1, tile[1])\n",
    "    frontier -= {loc0, loc1}\n",
    "    frontier |= {loc for loc in neighbors(loc0) + neighbors(loc1)\n",
    "                 if board.get(loc) is empty}\n",
    "    (x0, y0), (x1, y1) = loc0, loc1\n",
    "    board.boxes.append((min(x0, x1), min(y0, y1), max(x0, x1) + 1, max(y0, y1) + 1))"
   ]
  },
  {
   "cell_type": "code",
   "execution_count": 6,
   "metadata": {
    "collapsed": false
   },
   "outputs": [
    {
     "data": {
      "image/png": "[encoded data removed]",
      "text/plain": [
       "<matplotlib.figure.Figure at 0x10eeaca20>"
      ]
     },
     "metadata": {},
     "output_type": "display_data"
    }
   ],
   "source": [
    "plot_board(dominoes(tiles1, 6, 6), (6, 6))"
   ]
  },
  {
   "cell_type": "markdown",
   "metadata": {},
   "source": [
    "# All the Names\n",
    "\n",
    "Now let's try **all** the names from `xkcd 1970`, as reported \n",
    "by [explainxkcd](http://www.explainxkcd.com/wiki/index.php/1970:_Name_Dominoes), with a few typos corrected:"
   ]
  },
  {
   "cell_type": "code",
   "execution_count": 7,
   "metadata": {
    "collapsed": false
   },
   "outputs": [],
   "source": [
    "def split_names(text):\n",
    "    \"For each line of text, create a tile of ('First Name(s)', 'Lastname').\"\n",
    "    return [name.rpartition(' ')[0::2]\n",
    "            for name in text.strip().splitlines()]\n",
    "            \n",
    "tiles1970 = split_names(\"\"\"\n",
    "Christian Campbell\n",
    "Neve Campbell\n",
    "Joe McCarthy\n",
    "Eugene McCarthy\n",
    "Gene Vincent\n",
    "Gene Kelly\n",
    "Kate Hudson\n",
    "Rock Hudson\n",
    "Gordon Brown\n",
    "James Brown\n",
    "Jon Brown\n",
    "John Howard\n",
    "Columbo\n",
    "Chris Columbus\n",
    "Christopher Columbus\n",
    "Naomi Campbell\n",
    "Joseph Campbell\n",
    "Joseph Smith\n",
    "Frank Vincent\n",
    "John Kelly\n",
    "Katherine Johnson\n",
    "The Rock\n",
    "Chris Rock\n",
    "Chris Isaac\n",
    "James Newton Howard\n",
    "John Wayne\n",
    "Howard Stern\n",
    "Howard Hunt\n",
    "Chris Hughes\n",
    "Naomi Watts\n",
    "Naomi Klein\n",
    "Kevin Kline\n",
    "Francis Bacon\n",
    "Francis Drake\n",
    "Lyndon Johnson\n",
    "Oscar The Grouch\n",
    "Oscar Isaac\n",
    "Isaac Hayes\n",
    "Isaac Newton\n",
    "Wayne Newton\n",
    "Wayne Knight\n",
    "Helen Hunt\n",
    "Helen Hughes\n",
    "James Watt\n",
    "James Watt\n",
    "Kevin Costner\n",
    "Kevin Bacon\n",
    "Kevin Love\n",
    "Lisa Frank\n",
    "Frank Drake\n",
    "Drake\n",
    "Oscar de la Renta\n",
    "Oscar de la Hoya\n",
    "Sean Hayes\n",
    "Wallace Shawn\n",
    "Wayne Howard\n",
    "Wayne Brady\n",
    "James Brady\n",
    "Tom Brady\n",
    "Helen Thomas\n",
    "Tom Hanks\n",
    "Hank Aaron\n",
    "Aaron Carter\n",
    "Stephen James\n",
    "Will Smith\n",
    "Kevin Smith\n",
    "Kein James\n",
    "Garfield\n",
    "James Garfield\n",
    "Warren Buffett\n",
    "Jimmy Buffett\n",
    "Warren Beatty\n",
    "Elizabeth Warren\n",
    "Earl Warren\n",
    "Eliabeth Kolbert\n",
    "Stephen Colbert\n",
    "George Wallace\n",
    "Charles Wallace\n",
    "James Monroe\n",
    "Marilyn Monroe\n",
    "Hank Williams\n",
    "William C. Williams\n",
    "Steve Harvey\n",
    "Domino Harvey\n",
    "Harvey Milk\n",
    "James Saint James\n",
    "Etta James\n",
    "Jim Jones\n",
    "James Earl Jones\n",
    "Charlie Parker\n",
    "Ray Parker\n",
    "Ray Charles\n",
    "Charles Manson\n",
    "Marilyn Manson\n",
    "Robin Williams\n",
    "Billy D. Williams\n",
    "Will Wright\n",
    "Fats Domino\n",
    "Bill Clinton\n",
    "Jimmy John\n",
    "Tom Jones\n",
    "Tommy John\n",
    "Quincy Jones\n",
    "James Earl Ray\n",
    "Man Ray\n",
    "Rachel Ray\n",
    "Ray Allen\n",
    "Tim Allen\n",
    "Tim Cook\n",
    "Tim Howard\n",
    "Robin Wright\n",
    "Wilbur Wright\n",
    "Fatty Arbuckle\n",
    "Fat Joe\n",
    "George Clinton\n",
    "John Kerry\n",
    "Kerry Washington\n",
    "John Irving\n",
    "John Quincy Adams\n",
    "John Adams\n",
    "Amy Adams\n",
    "Aimee Mann\n",
    "Super Man\n",
    "Bat Man\n",
    "Ayn Rand\n",
    "Lily Allen\n",
    "Paul Allen\n",
    "Ron Howard\n",
    "Howard Hughes\n",
    "Joe Kennedy\n",
    "George Bush\n",
    "George Wasington\n",
    "Wasington Irving\n",
    "Martha Wasington\n",
    "Ma Rainey\n",
    "Jack Ma\n",
    "Super Grover\n",
    "Jack Black\n",
    "Rand Paul\n",
    "Paul Ryan\n",
    "Paul Simon\n",
    "Ron Paul\n",
    "John Hughes\n",
    "Langston Hughes\n",
    "John F. Kennedy\n",
    "Little Richard\n",
    "Rich Little\n",
    "Martha Stewart\n",
    "Yo Yo Ma\n",
    "Ma Bell\n",
    "Grover Cleveland Alexander\n",
    "Grover Cleveland\n",
    "Jack White\n",
    "Jack Ryan\n",
    "Debby Ryan\n",
    "Carly Simon\n",
    "Carly Hughes\n",
    "Charles Evans Hughes\n",
    "John Williams\n",
    "Little John\n",
    "Stuart Little\n",
    "Potter Stewart\n",
    "Kristen Stewart\n",
    "Kristen Bell\n",
    "Kristen Hooks\n",
    "Alexander Graham Bell\n",
    "Franklin Graham\n",
    "Lloyd Alexander\n",
    "Meg White\n",
    "Meg Ryan\n",
    "Debbie Reynolds\n",
    "John Reynolds\n",
    "Carly Fiorina\n",
    "Grace Lee Boggs\n",
    "Wade Boggs\n",
    "William Safire\n",
    "Prince William\n",
    "Little Prince\n",
    "Harry Potter\n",
    "James Potter\n",
    "James Hook\n",
    "James Dean\n",
    "Aretha Franklin\n",
    "Frank Lloyd Wright\n",
    "Barry White\n",
    "Walter White\n",
    "Walt Whitman\n",
    "John Kelly\n",
    "Grace Lee\n",
    "Nancy Grace\n",
    "Garnet\n",
    "Prince\n",
    "Prince Felder\n",
    "Prince Harry\n",
    "Harry Styles\n",
    "John Dean\n",
    "Benjamin Franklin\n",
    "Harrold Lloyd\n",
    "Harrold Ford\n",
    "Betty White\n",
    "Meg Whitman\n",
    "Christine Todd Whitman\n",
    "Megyn Kelly\n",
    "Grace Kelly\n",
    "Grace Jones\n",
    "Jack Nicholson\n",
    "Jack Ruby\n",
    "Jack Russel\n",
    "Harry Fielder\n",
    "Harry Trueman\n",
    "Harry Jon Benjamin\n",
    "John Edward\n",
    "Benjamin Harrison\n",
    "Harrison Ford\n",
    "Henry Ford\n",
    "Betty Ford\n",
    "Betty Friedan\n",
    "Chris Christie\n",
    "Chris Pratt\n",
    "Maggie Grace\n",
    "Grace Hopper\n",
    "Russel Crowe\n",
    "Russ Smith\n",
    "John Smith\n",
    "Justin Long\n",
    "John Bel Edwards\n",
    "John Candy\n",
    "John Henry\n",
    "Henry James\n",
    "Bill James\n",
    "Chris Cooper\n",
    "Chris Hemsworth\n",
    "Chris Evans\n",
    "Topher Grace\n",
    "Van Morrison\n",
    "Sheryl Crow\n",
    "Sheryl Sandberg\n",
    "Cameron Crow\n",
    "Long John Silver\n",
    "Olivia Newton John\n",
    "Huey Long\n",
    "John Edwards\n",
    "Candy Crowley\n",
    "Aleister Crowley\n",
    "James Fenimore Cooper\n",
    "James Cook\n",
    "Robert Frost\n",
    "Bob Evans\n",
    "Evan Tayler Jones\n",
    "James Cameron\n",
    "Cam Newton\n",
    "Cameron Diaz\n",
    "Huey Newton\n",
    "Huey Lewis\n",
    "John Lewis\n",
    "Jenny Lewis\n",
    "Ryan Lewis\n",
    "Burt Reynolds\n",
    "Alistair Cooke\n",
    "Alistair Cookie\n",
    "Cokie Roberts\n",
    "John Roberts\n",
    "Robert Johnson\n",
    "Robert E. Lee\n",
    "Tommy Lee\n",
    "Tommy Lee Jones\n",
    "Etta James\n",
    "John Oliver\n",
    "Ryan Reynolds\n",
    "Alastair Reynolds\n",
    "\"\"\")"
   ]
  },
  {
   "cell_type": "code",
   "execution_count": 8,
   "metadata": {
    "collapsed": false
   },
   "outputs": [
    {
     "data": {
      "text/plain": [
       "270"
      ]
     },
     "execution_count": 8,
     "metadata": {},
     "output_type": "execute_result"
    }
   ],
   "source": [
    "len(tiles1970)"
   ]
  },
  {
   "cell_type": "code",
   "execution_count": 9,
   "metadata": {
    "collapsed": false
   },
   "outputs": [
    {
     "data": {
      "text/plain": [
       "[('Bill', 'Clinton'),\n",
       " ('Kristen', 'Stewart'),\n",
       " ('James Earl', 'Ray'),\n",
       " ('Barry', 'White'),\n",
       " ('Kevin', 'Costner'),\n",
       " ('Grace', 'Lee'),\n",
       " ('Carly', 'Hughes'),\n",
       " ('Ma', 'Bell'),\n",
       " ('Chris', 'Cooper')]"
      ]
     },
     "execution_count": 9,
     "metadata": {},
     "output_type": "execute_result"
    }
   ],
   "source": [
    "random.sample(tiles1970, 9)"
   ]
  },
  {
   "cell_type": "markdown",
   "metadata": {},
   "source": [
    "# Approximate and Partial Matches\n",
    "\n",
    "The halves of two tiles match if they are an exact match, like \"Amy\" and \"Amy\", but also if they are an **approximate match**, like \"Amy\" and \"Aimee\". You can manually define allowable approximate matches like this:\n",
    "\n",
    "     synsets = synonyms(\"Amy=Aimee, ...\")\n",
    "\n",
    "The idea is that this creates *synonym sets*, or `synsets`.\n",
    "Another issue is  a **partial match**: \"John Smith\" is allowed to match \"Long John Silver\"\n",
    "because the first name \"John\" is a piece of the first name \"Long John\". In the 1970 comic, this was drawn with one domino touching the middle of another; I won't do that, but I will allow, for first names that have multiple parts, for another tile to match any one of the parts. The second argument to `synsets`, is a list of tiles; `synonyms` will go through these and add synset entries for paets of first names. \n",
    "\n",
    "I also update `legal_match` to consult the `synsets` global variable for an approximate or partial match, and to handle a special case: a single names like \"Prince\" gets represented as the tile `('', 'Prince')`, but we don't want the empty first name of this tile to match the empty first name of \"Drake\", so we disallow an empty-to-empty match."
   ]
  },
  {
   "cell_type": "code",
   "execution_count": 10,
   "metadata": {
    "collapsed": false
   },
   "outputs": [],
   "source": [
    "import collections\n",
    "\n",
    "def synonyms(text, tiles=()): \n",
    "    \"synonyms('a=A, b=B') => dict(a={'a', 'A'}, A={'a', 'A'}, b={'b', 'B'}, B={'b', 'B'}\"\n",
    "    synsets = collections.defaultdict(set)\n",
    "    # Process `text`\n",
    "    for text1 in text.split(','):\n",
    "        synset = set(text1.strip().split('='))\n",
    "        for s in synset:\n",
    "            synsets[s] |= synset\n",
    "    # Process `tiles`\n",
    "    for (first, last) in tiles:\n",
    "        if ' ' in first:\n",
    "            for piece in first.split():\n",
    "                synsets[piece].add(first)\n",
    "                synsets[first].add(piece)\n",
    "    return synsets\n",
    "\n",
    "def legal(value, loc, board):\n",
    "    \"Is it legal to place this value on this location on board?\"\n",
    "    return (board.get(loc) is empty and\n",
    "            all(legal_match(value, board.get(nbr)) for nbr in neighbors(loc)))\n",
    "\n",
    "def legal_match(value, nbrval):\n",
    "    \"Does this value match the neighbor's value?\"\n",
    "    return (nbrval in (empty, border) or \n",
    "            nbrval == value != '' or\n",
    "            nbrval in synsets[value])"
   ]
  },
  {
   "cell_type": "code",
   "execution_count": 11,
   "metadata": {
    "collapsed": true
   },
   "outputs": [],
   "source": [
    "synsets = synonyms(\"\"\"\n",
    "  Amy=Aimee, Cook=Cooke=Cookie=Cokie, Alastair=Alistair, Columbo=Columbus, \n",
    "  Safire=Sapphire=Garnet, Garnet=Ruby, Charlie=Charles, Sean=Shawn, \n",
    "  Jimmy=James, Man=Mann, Jack=John, Tom=Tommy, Will=William=Williams, \n",
    "  Robert=Roberts=Bob, Cam=Cameron, Oliver=Olivia, Edward=Edwards, \n",
    "  Rich=Richard, Chris=Christopher=Topher, Fat=Fats=Fatty\n",
    "  \"\"\", tiles1970)"
   ]
  },
  {
   "cell_type": "markdown",
   "metadata": {},
   "source": [
    "# Random Restart\n",
    "\n",
    "The program sometimes gets stuck before it has placed enough tiles. I could modify the program to *back up* in this case, but it will be easier to just *give up* and restart with an empty board. I can restart multiple times, and take the board on which the most tiles were placed. The function `restart_dominoes` does this."
   ]
  },
  {
   "cell_type": "code",
   "execution_count": 12,
   "metadata": {
    "collapsed": true
   },
   "outputs": [],
   "source": [
    "def restart_dominoes(tiles, width=16, height=24, repeat=50):\n",
    "    return max((dominoes(tiles, width, height) for _ in range(repeat)), \n",
    "                key=lambda board: len(board.boxes))"
   ]
  },
  {
   "cell_type": "code",
   "execution_count": 16,
   "metadata": {
    "collapsed": false
   },
   "outputs": [
    {
     "data": {
      "image/png": "[encoded data removed]",
      "text/plain": [
       "<matplotlib.figure.Figure at 0x1156f4e80>"
      ]
     },
     "metadata": {},
     "output_type": "display_data"
    }
   ],
   "source": [
    "plot_board(restart_dominoes(tiles1970))"
   ]
  }
 ],
 "metadata": {
  "kernelspec": {
   "display_name": "Python 3",
   "language": "python",
   "name": "python3"
  },
  "language_info": {
   "codemirror_mode": {
    "name": "ipython",
    "version": 3
   },
   "file_extension": ".py",
   "mimetype": "text/x-python",
   "name": "python",
   "nbconvert_exporter": "python",
   "pygments_lexer": "ipython3",
   "version": "3.6.0"
  }
 },
 "nbformat": 4,
 "nbformat_minor": 2
}
