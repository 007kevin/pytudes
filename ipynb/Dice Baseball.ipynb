{
 "cells": [
  {
   "cell_type": "markdown",
   "metadata": {},
   "source": [
    "<div align=\"right\"><a href=\"http://norvig.com\">Peter Norvig</a><br><a href=\"https://github.com/norvig/pytudes\">pytudes</a><br>March 2019</div>\n",
    "\n",
    "# Dice Baseball\n",
    "\n",
    "The [March 22, 2019 Riddler](https://fivethirtyeight.com/features/can-you-turn-americas-pastime-into-a-game-of-yahtzee/) asks us to simulate baseball using probabilities from a 19th century dice game.  There were some choices to make that were left unspecified in the rules; the following are my current choices (in an early version I made different choices that resulted in slightly more runs):\n",
    "\n",
    "* On a `b`-base hit, runners advance `b` bases, except that a runner on second scores on a 1-base hit.\n",
    "* On an \"out at first\", all runners advance one base.\n",
    "* A double play only applies if there is a runner on first; in that case other runners advance.\n",
    "* On a fly out, a runner on third scores; other runners do not advance.\n",
    "* On an error all runners advance one base. \n",
    "* On a base on balls, only forced runners advance.\n",
    "\n",
    "I also made some choices about the implementation:\n",
    "- I wanted to have one event per batter, so I don't allow \"strike\" as an event. Rather I compute the probability of a strikeout event (i.e. getting three \"strike\" dice rolls in a row before getting another event) as `(7/36)**3`, and check for that.\n",
    "- Note that a die roll such as (1, 1) is a 1/36 event, whereas (1, 2) is a 2/36 event, because it also represents (2, 1).\n",
    "- I'll represent events with the following one letter codes:\n",
    "  - `K`, `O`, `o`, `f`, `D`: strikeout, foul out, out at first, fly out, double play\n",
    "  - `1`, `2`, `3`, `4`: single, double, triple, home run\n",
    "  - `E`, `B`: error, base on balls\n",
    "- I'll keep track of runners with a list of occupied bases; `runners = [1, 2]` means runners on first and second.\n",
    "- A runner who advances to base 4 or higher has scored a run (unless there are already 3 outs).\n",
    "- The function `inning` simulates a half inning and returns the number of runs scored.\n",
    "- I want to be able to test `inning` by feeding it specific events, and I also want to generate many innings worth of random events. So I'll make the interface be that I pass in an iterator of events.\n",
    "- I'll random simulate 1 million innings and store the resulting scores in `innings`.\n",
    "- To simulate a game I just sample 9 elements of `innings` and sum them."
   ]
  },
  {
   "cell_type": "code",
   "execution_count": 1,
   "metadata": {},
   "outputs": [],
   "source": [
    "%matplotlib inline\n",
    "import matplotlib.pyplot as plt\n",
    "import random"
   ]
  },
  {
   "cell_type": "code",
   "execution_count": 2,
   "metadata": {},
   "outputs": [],
   "source": [
    "def our_national_ball_game():\n",
    "    \"An iterator of events sampled from the odds specified in `Our National Ball Game`.\"\n",
    "    events = '2111111EEBBOOooooooofffffD334'\n",
    "    while True:\n",
    "        yield 'K' if random.random() < (7 / 36) ** 3 else random.choice(events)\n",
    "\n",
    "def inning(events=our_national_ball_game(), verbose=False) -> int:\n",
    "    \"Simulate a half inning based on events, and return number of runs scored.\"\n",
    "    outs = runs = 0 # Inning starts with no outs and no runs,\n",
    "    runners = []    # ... and with nobody on base\n",
    "    while True:\n",
    "        x = next(events)\n",
    "        if verbose: print(f'outs: {outs}, runs: {runs}, runners: {runners}, event: {x}')\n",
    "        if x in 'KODof': # strikeout, foul out, double play, out at first, fly out, \n",
    "            outs += 1    # Batter is out\n",
    "            if x == 'D' and 1 in runners: # double play\n",
    "                outs += 1\n",
    "                runners = [r + 1 for r in runners if r != 1]\n",
    "            elif x == 'o': # out at first (other runners advance)\n",
    "                runners = [r + 1 for r in runners]\n",
    "            elif x == 'f' and 3 in runners and outs < 3: # fly out; runner on 3rd scores\n",
    "                runners.remove(3)\n",
    "                runs += 1\n",
    "        else: \n",
    "            runners.append(0) # Batter becomes a runner\n",
    "            if x in '1234':   # single, double, triple, homer\n",
    "                runners = [r + int(x) + (r == 2) for r in runners]\n",
    "            elif x == 'E':    # error\n",
    "                runners = [r + 1 for r in runners]\n",
    "            elif x == 'B':    # base on balls\n",
    "                runners = [r + all(b in runners for b in range(r)) for r in runners]\n",
    "        # See if inning is over, and if not, whether anyone scored\n",
    "        if outs >= 3:\n",
    "            return runs\n",
    "        runs += sum(r >= 4 for r in runners)\n",
    "        runners = [r for r in runners if r < 4]"
   ]
  },
  {
   "cell_type": "markdown",
   "metadata": {},
   "source": [
    "Let's peek at some random innings:"
   ]
  },
  {
   "cell_type": "code",
   "execution_count": 3,
   "metadata": {},
   "outputs": [
    {
     "name": "stdout",
     "output_type": "stream",
     "text": [
      "outs: 0, runs: 0, runners: [], event: f\n",
      "outs: 1, runs: 0, runners: [], event: B\n",
      "outs: 1, runs: 0, runners: [1], event: o\n",
      "outs: 2, runs: 0, runners: [2], event: 1\n",
      "outs: 2, runs: 1, runners: [1], event: 2\n",
      "outs: 2, runs: 1, runners: [3, 2], event: o\n"
     ]
    },
    {
     "data": {
      "text/plain": [
       "1"
      ]
     },
     "execution_count": 3,
     "metadata": {},
     "output_type": "execute_result"
    }
   ],
   "source": [
    "inning(verbose=True)"
   ]
  },
  {
   "cell_type": "code",
   "execution_count": 4,
   "metadata": {},
   "outputs": [
    {
     "name": "stdout",
     "output_type": "stream",
     "text": [
      "outs: 0, runs: 0, runners: [], event: 3\n",
      "outs: 0, runs: 0, runners: [3], event: o\n",
      "outs: 1, runs: 1, runners: [], event: O\n",
      "outs: 2, runs: 1, runners: [], event: B\n",
      "outs: 2, runs: 1, runners: [1], event: o\n"
     ]
    },
    {
     "data": {
      "text/plain": [
       "1"
      ]
     },
     "execution_count": 4,
     "metadata": {},
     "output_type": "execute_result"
    }
   ],
   "source": [
    "inning(verbose=True)"
   ]
  },
  {
   "cell_type": "markdown",
   "metadata": {},
   "source": [
    "And we can feed in any events we want to test the code:"
   ]
  },
  {
   "cell_type": "code",
   "execution_count": 5,
   "metadata": {},
   "outputs": [
    {
     "name": "stdout",
     "output_type": "stream",
     "text": [
      "outs: 0, runs: 0, runners: [], event: 2\n",
      "outs: 0, runs: 0, runners: [2], event: E\n",
      "outs: 0, runs: 0, runners: [3, 1], event: B\n",
      "outs: 0, runs: 0, runners: [3, 2, 1], event: D\n",
      "outs: 2, runs: 1, runners: [3], event: 1\n",
      "outs: 2, runs: 2, runners: [1], event: 2\n",
      "outs: 2, runs: 2, runners: [3, 2], event: f\n"
     ]
    },
    {
     "data": {
      "text/plain": [
       "2"
      ]
     },
     "execution_count": 5,
     "metadata": {},
     "output_type": "execute_result"
    }
   ],
   "source": [
    "inning(iter('2EBD12f'), verbose=True)"
   ]
  },
  {
   "cell_type": "markdown",
   "metadata": {},
   "source": [
    "That looks good.\n",
    "\n",
    "Now, simulate a million innings, and then sample from them to simulate a million nine-inning games:"
   ]
  },
  {
   "cell_type": "code",
   "execution_count": 6,
   "metadata": {},
   "outputs": [],
   "source": [
    "N = 1000000\n",
    "innings = [inning() for _ in range(N)]\n",
    "games = [sum(random.sample(innings, 9)) for _ in range(N)]"
   ]
  },
  {
   "cell_type": "markdown",
   "metadata": {},
   "source": [
    "Finally, display the mean number of runs scored per team per nine-inning game, along with a histogram:"
   ]
  },
  {
   "cell_type": "code",
   "execution_count": 7,
   "metadata": {},
   "outputs": [
    {
     "data": {
      "text/plain": [
       "14.462798"
      ]
     },
     "execution_count": 7,
     "metadata": {},
     "output_type": "execute_result"
    },
    {
     "data": {
      "image/png": "[encoded data removed]",
      "text/plain": [
       "<Figure size 432x288 with 1 Axes>"
      ]
     },
     "metadata": {
      "needs_background": "light"
     },
     "output_type": "display_data"
    }
   ],
   "source": [
    "plt.hist(games, ec='black', bins=max(games)-min(games)+1)\n",
    "sum(games) / N"
   ]
  }
 ],
 "metadata": {
  "kernelspec": {
   "display_name": "Python 3",
   "language": "python",
   "name": "python3"
  },
  "language_info": {
   "codemirror_mode": {
    "name": "ipython",
    "version": 3
   },
   "file_extension": ".py",
   "mimetype": "text/x-python",
   "name": "python",
   "nbconvert_exporter": "python",
   "pygments_lexer": "ipython3",
   "version": "3.7.2"
  }
 },
 "nbformat": 4,
 "nbformat_minor": 2
}
