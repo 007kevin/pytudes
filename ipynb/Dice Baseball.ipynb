{
 "cells": [
  {
   "cell_type": "markdown",
   "metadata": {},
   "source": [
    "<div align=\"right\">Peter Norvig<br>March 2019</div>\n",
    "\n",
    "# Dice Baseball\n",
    "\n",
    "The [March 22, 2019 Riddler](https://fivethirtyeight.com/features/can-you-turn-americas-pastime-into-a-game-of-yahtzee/) asks us to simulate baseball using probabilities from a 19th century dice game. The simulation is pretty straightforward. (Note that I chose not to implement a strike as an event, but rather to count the probability of getting 3 strikes in a row, and calling that an event.)"
   ]
  },
  {
   "cell_type": "code",
   "execution_count": 1,
   "metadata": {},
   "outputs": [],
   "source": [
    "%matplotlib inline\n",
    "import matplotlib.pyplot as plt\n",
    "from collections import Counter\n",
    "from statistics import mean\n",
    "import random"
   ]
  },
  {
   "cell_type": "code",
   "execution_count": 2,
   "metadata": {},
   "outputs": [],
   "source": [
    "def inning(events='2111111EEBBOOooooooofffffD334', strikes=7*'s', verbose=False):\n",
    "    \"Play a random inning and return number of runs scored.\"\n",
    "    assert len(events) + len(strikes) == 6 * 6\n",
    "    K = (len(strikes) / len(strikes+events)) ** 3 # The probability of a strikeout\n",
    "    events = events.replace('E', '1') # An error is the same as a single\n",
    "    outs = runs = 0\n",
    "    runners = [] # A list of runners; [1, 2, 3] means bases loaded\n",
    "    while True:\n",
    "        x = 'K' if random.random() <= K else random.choice(events)\n",
    "        if verbose: \n",
    "            print('{} outs; {} runs; runners on {}; result is {}'\n",
    "                  .format(outs, runs, runners, x))\n",
    "        if x in '1234': # single, double, triple, homer\n",
    "            runners = [r + int(x) + (r == 2) for r in runners + [0]]\n",
    "        elif x == 'B': # base on balls\n",
    "            runners = [(r+1 if r==1 or r-1 in runners else r) for r in runners] + [1]\n",
    "        elif x in 'KOofD': # srikeout, foul out, out at first, fly out, double play\n",
    "            outs += 1\n",
    "            if x == 'D' and runners: # double play\n",
    "                runners.remove(min(runners))\n",
    "                outs += 1\n",
    "            elif x == 'o': # out at first (other runners advance)\n",
    "                runners = [r+1 for r in runners]\n",
    "            elif x == 'f' and 3 in runners: # fly out; runner on 3rd scores\n",
    "                runs += 1\n",
    "                runners.remove(3)\n",
    "        else:\n",
    "            raise ValueError('unknown events: ' + x)\n",
    "        if outs >= 3:\n",
    "            return runs\n",
    "        else: # See if anybody scored\n",
    "            runs += sum(r >= 4 for r in runners)\n",
    "            runners = [r for r in runners if r < 4]"
   ]
  },
  {
   "cell_type": "markdown",
   "metadata": {},
   "source": [
    "Let's peek at some random innings:"
   ]
  },
  {
   "cell_type": "code",
   "execution_count": 3,
   "metadata": {},
   "outputs": [
    {
     "name": "stdout",
     "output_type": "stream",
     "text": [
      "0 outs; 0 runs; runners on []; result is o\n",
      "1 outs; 0 runs; runners on []; result is o\n",
      "2 outs; 0 runs; runners on []; result is 1\n",
      "2 outs; 0 runs; runners on [1]; result is 1\n",
      "2 outs; 0 runs; runners on [2, 1]; result is O\n"
     ]
    },
    {
     "data": {
      "text/plain": [
       "0"
      ]
     },
     "execution_count": 3,
     "metadata": {},
     "output_type": "execute_result"
    }
   ],
   "source": [
    "inning(verbose=True)"
   ]
  },
  {
   "cell_type": "code",
   "execution_count": 4,
   "metadata": {},
   "outputs": [
    {
     "name": "stdout",
     "output_type": "stream",
     "text": [
      "0 outs; 0 runs; runners on []; result is 3\n",
      "0 outs; 0 runs; runners on [3]; result is f\n",
      "1 outs; 1 runs; runners on []; result is 1\n",
      "1 outs; 1 runs; runners on [1]; result is o\n",
      "2 outs; 1 runs; runners on [2]; result is 1\n",
      "2 outs; 2 runs; runners on [1]; result is 1\n",
      "2 outs; 2 runs; runners on [2, 1]; result is K\n"
     ]
    },
    {
     "data": {
      "text/plain": [
       "2"
      ]
     },
     "execution_count": 4,
     "metadata": {},
     "output_type": "execute_result"
    }
   ],
   "source": [
    "inning(verbose=True)"
   ]
  },
  {
   "cell_type": "code",
   "execution_count": 5,
   "metadata": {},
   "outputs": [
    {
     "name": "stdout",
     "output_type": "stream",
     "text": [
      "0 outs; 0 runs; runners on []; result is o\n",
      "1 outs; 0 runs; runners on []; result is 3\n",
      "1 outs; 0 runs; runners on [3]; result is D\n"
     ]
    },
    {
     "data": {
      "text/plain": [
       "0"
      ]
     },
     "execution_count": 5,
     "metadata": {},
     "output_type": "execute_result"
    }
   ],
   "source": [
    "inning(verbose=True)"
   ]
  },
  {
   "cell_type": "markdown",
   "metadata": {},
   "source": [
    "That looks good.\n",
    "\n",
    "Now, simulate a million innings, use them to simulate a million games, and show a histogram of runs scored per team per game:"
   ]
  },
  {
   "cell_type": "code",
   "execution_count": 6,
   "metadata": {},
   "outputs": [
    {
     "name": "stdout",
     "output_type": "stream",
     "text": [
      "CPU times: user 20.7 s, sys: 73.7 ms, total: 20.8 s\n",
      "Wall time: 20.9 s\n"
     ]
    }
   ],
   "source": [
    "%%time\n",
    "N = 1000000\n",
    "innings = [inning() for _ in range(N)]\n",
    "games = [sum(random.choice(innings) for i in range(9)) for g in range(N)]"
   ]
  },
  {
   "cell_type": "code",
   "execution_count": 7,
   "metadata": {},
   "outputs": [
    {
     "data": {
      "text/plain": [
       "(15.106058, 15.10542)"
      ]
     },
     "execution_count": 7,
     "metadata": {},
     "output_type": "execute_result"
    },
    {
     "data": {
      "image/png": "[encoded data removed]",
      "text/plain": [
       "<Figure size 432x288 with 1 Axes>"
      ]
     },
     "metadata": {
      "needs_background": "light"
     },
     "output_type": "display_data"
    }
   ],
   "source": [
    "plt.hist(games, ec='black', bins=max(games)-min(games)+1)\n",
    "mean(games), mean(innings) * 9"
   ]
  }
 ],
 "metadata": {
  "kernelspec": {
   "display_name": "Python 3",
   "language": "python",
   "name": "python3"
  },
  "language_info": {
   "codemirror_mode": {
    "name": "ipython",
    "version": 3
   },
   "file_extension": ".py",
   "mimetype": "text/x-python",
   "name": "python",
   "nbconvert_exporter": "python",
   "pygments_lexer": "ipython3",
   "version": "3.5.3"
  }
 },
 "nbformat": 4,
 "nbformat_minor": 2
}
