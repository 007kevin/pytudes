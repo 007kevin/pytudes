{
 "cells": [
  {
   "cell_type": "markdown",
   "metadata": {},
   "source": [
    "<div style=\"text-align: right\" align=\"right\"><i>Peter Norvig, 3 Jan 2020</i></div>\n",
    "\n",
    "# Spelling Bee\n",
    "\n",
    "The [Jan. 3 2020 Riddler](https://fivethirtyeight.com/features/can-you-solve-the-vexing-vexillology/) concerns the popular NYTimes  [Spelling Bee](https://www.nytimes.com/puzzles/spelling-bee) puzzle:\n",
    "\n",
    "*In this game, seven letters are arranged in a honeycomb lattice, with one letter in the center. Here’s the lattice from December 24, 2019:*\n",
    "\n",
    "<img src=\"https://fivethirtyeight.com/wp-content/uploads/2020/01/Screen-Shot-2019-12-24-at-5.46.55-PM.png?w=1136\" width=150>\n",
    "\n",
    "\n",
    "*The goal is to identify as many words that meet the following criteria:*\n",
    "1. *The word must be at least four letters long.*\n",
    "2. *The word must include the central letter.*\n",
    "3. *The word cannot include any letter beyond the seven given letters.*\n",
    "\n",
    "*Note that letters can be repeated. For example, the words GAME and AMALGAM are both acceptable words. Four-letter words are worth 1 point each, while five-letter words are worth 5 points, six-letter words are worth 6 points, seven-letter words are worth 7 points, etc. Words that use all of the seven letters in the honeycomb are known as “pangrams” and earn 7 bonus points (in addition to the points for the length of the word). So in the above example, MEGAPLEX is worth 15 points.*\n",
    "\n",
    "***Which seven-letter honeycomb results in the highest possible game score?*** *To be a valid choice of seven letters, no letter can be repeated, it must not contain the letter S (that would be too easy) and there must be at least one pangram.*\n",
    "\n",
    "*For consistency, please use [this word list](https://norvig.com/ngrams/enable1.txt) to check your game score.*\n",
    "\n",
    "# Approach to a Solution\n",
    "\n",
    "Since the referenced [word list](https://norvig.com/ngrams/enable1.txt) was on my web site (it is a standard Scrabble word list that I happen to host a copy of), I felt somewhat compelled to submit an answer. I had worked on word puzzles before, like Scrabble and Boggle. My first thought is that this puzzle is rather different because it deals with *unordered sets* of letters, not *ordered permutations* of letters. That makes things much easier. When I tried to find the optimal 5×5 Boggle board, I couldn't exhaustively try all $26^{(5×5)} \\approx 10^{35}$ possibilites; I had to do hillclimbing to find a local maximum solution. But for Spelling Bee, it is feasible to try every possibility and get a guaranteed highest-scoring honeycomb. Here's a sketch of my approach:\n",
    " \n",
    "- Since order and repetition don't count, we can represent a word as a **set** of letters, which I will call a `letterset`. For simplicity I'll choose to implement that as a sorted string (not as a Python `set` or `frozenset`). For example:\n",
    "      letterset(\"GLAM\") == letterset(\"AMALGAM\") == \"AGLM\"\n",
    "- A word is a **pangram** if and only if its letterset has exactly 7 letters.\n",
    "- A honeycomb can be represented by a `(letterset, center)` pair, for example `('AEGLMPX', 'G')`.\n",
    "- Since the rules say every valid honeycomb must contain a pangram, it must be that case that every valid honeycomb *is* a pangram. That means I can find the highest-scoring honeycomb by considering all possible pangram lettersets and all possible centers for each pangram, computing the game score for each one, and taking the maximum.\n",
    "- So it all comes down to having an efficient-enough `game_score` function. We'll know how efficient it has to be once we figure out how many pangram lettersets there are (1,000? 100,000?). Note that it will be less than the number of pangrams, because, for example, the pangrams CACCIATORE and EROTICA both have the same letterset, ACEIORT."
   ]
  },
  {
   "cell_type": "markdown",
   "metadata": {},
   "source": [
    "# Words, Word Scores, Pangrams, and Lettersets\n",
    "\n",
    "I'll start by loading some modules and defining four basic functions about words:"
   ]
  },
  {
   "cell_type": "code",
   "execution_count": 1,
   "metadata": {},
   "outputs": [],
   "source": [
    "from collections import Counter, defaultdict\n",
    "from itertools import combinations"
   ]
  },
  {
   "cell_type": "code",
   "execution_count": 2,
   "metadata": {},
   "outputs": [],
   "source": [
    "def Words(text) -> set:\n",
    "    \"\"\"The set of all the valid space-separated words in a str.\"\"\"\n",
    "    return {w for w in text.upper().split() \n",
    "            if len(w) >= 4 and 'S' not in w and len(set(w)) <= 7}\n",
    "\n",
    "def word_score(word) -> int: \n",
    "    \"\"\"The points for this word, including bonus for pangram.\"\"\"\n",
    "    N = len(word)\n",
    "    bonus = (7 if is_pangram(word) else 0)\n",
    "    return (1 if N == 4 else N + bonus)\n",
    "\n",
    "def is_pangram(word) -> bool: \n",
    "    \"\"\"Does a word use all 7 letters (some maybe more than once)?\"\"\"\n",
    "    return len(set(word)) == 7\n",
    "\n",
    "def letterset(word) -> str:\n",
    "    \"\"\"The set of letters in a word, represented as a sorted str of letters.\"\"\"\n",
    "    return ''.join(sorted(set(word)))"
   ]
  },
  {
   "cell_type": "markdown",
   "metadata": {},
   "source": [
    "I'll make a tiny word list to experiment with: "
   ]
  },
  {
   "cell_type": "code",
   "execution_count": 3,
   "metadata": {},
   "outputs": [
    {
     "data": {
      "text/plain": [
       "{'AMALGAM', 'CACCIATORE', 'EROTICA', 'GAME', 'GLAM', 'MEGAPLEX'}"
      ]
     },
     "execution_count": 3,
     "metadata": {},
     "output_type": "execute_result"
    }
   ],
   "source": [
    "words = Words('amalgam amalgamation game games gem glam megaplex cacciatore erotica I me')\n",
    "words"
   ]
  },
  {
   "cell_type": "markdown",
   "metadata": {},
   "source": [
    "Note that `I`, `me` and `gem` are too short, `games` has an `s` which is not allowed, and `amalgamation` has too many distinct letters. We're left with six valid words out of the original eleven.\n",
    "\n",
    "Here are examples of the functions in action:"
   ]
  },
  {
   "cell_type": "code",
   "execution_count": 4,
   "metadata": {},
   "outputs": [
    {
     "data": {
      "text/plain": [
       "{'GAME': 1,\n",
       " 'CACCIATORE': 17,\n",
       " 'AMALGAM': 7,\n",
       " 'GLAM': 1,\n",
       " 'EROTICA': 14,\n",
       " 'MEGAPLEX': 15}"
      ]
     },
     "execution_count": 4,
     "metadata": {},
     "output_type": "execute_result"
    }
   ],
   "source": [
    "{w: word_score(w) for w in words}"
   ]
  },
  {
   "cell_type": "code",
   "execution_count": 5,
   "metadata": {},
   "outputs": [
    {
     "data": {
      "text/plain": [
       "{'CACCIATORE', 'EROTICA', 'MEGAPLEX'}"
      ]
     },
     "execution_count": 5,
     "metadata": {},
     "output_type": "execute_result"
    }
   ],
   "source": [
    "{w for w in words if is_pangram(w)}"
   ]
  },
  {
   "cell_type": "code",
   "execution_count": 6,
   "metadata": {},
   "outputs": [
    {
     "data": {
      "text/plain": [
       "{'GAME': 'AEGM',\n",
       " 'CACCIATORE': 'ACEIORT',\n",
       " 'AMALGAM': 'AGLM',\n",
       " 'GLAM': 'AGLM',\n",
       " 'EROTICA': 'ACEIORT',\n",
       " 'MEGAPLEX': 'AEGLMPX'}"
      ]
     },
     "execution_count": 6,
     "metadata": {},
     "output_type": "execute_result"
    }
   ],
   "source": [
    "{w: letterset(w) for w in words}"
   ]
  },
  {
   "cell_type": "markdown",
   "metadata": {},
   "source": [
    "# The enable1 Word List\n",
    "\n",
    "Now I will load in the `enable1` word list and see what we have:"
   ]
  },
  {
   "cell_type": "code",
   "execution_count": 7,
   "metadata": {},
   "outputs": [
    {
     "name": "stdout",
     "output_type": "stream",
     "text": [
      "  172820 enable1.txt\r\n"
     ]
    }
   ],
   "source": [
    "! [ -e enable1.txt ] || curl -O http://norvig.com/ngrams/enable1.txt\n",
    "! wc -w enable1.txt"
   ]
  },
  {
   "cell_type": "code",
   "execution_count": 8,
   "metadata": {},
   "outputs": [
    {
     "data": {
      "text/plain": [
       "44585"
      ]
     },
     "execution_count": 8,
     "metadata": {},
     "output_type": "execute_result"
    }
   ],
   "source": [
    "enable1 = Words(open('enable1.txt').read())\n",
    "len(enable1)"
   ]
  },
  {
   "cell_type": "code",
   "execution_count": 9,
   "metadata": {},
   "outputs": [
    {
     "data": {
      "text/plain": [
       "['MODIFIER',\n",
       " 'FLUORIC',\n",
       " 'PENTANOL',\n",
       " 'COMPLECT',\n",
       " 'COVERTURE',\n",
       " 'GNOTOBIOTIC',\n",
       " 'INTREATED',\n",
       " 'COMMUTATOR',\n",
       " 'PREPLANT',\n",
       " 'PRINTERY']"
      ]
     },
     "execution_count": 9,
     "metadata": {},
     "output_type": "execute_result"
    }
   ],
   "source": [
    "pangrams = [w for w in enable1 if is_pangram(w)]\n",
    "pangrams[:10] # Just sample some of them"
   ]
  },
  {
   "cell_type": "code",
   "execution_count": 10,
   "metadata": {},
   "outputs": [
    {
     "data": {
      "text/plain": [
       "14741"
      ]
     },
     "execution_count": 10,
     "metadata": {},
     "output_type": "execute_result"
    }
   ],
   "source": [
    "len(pangrams)"
   ]
  },
  {
   "cell_type": "markdown",
   "metadata": {},
   "source": [
    "So: we start with 172,820 words in the word list, reduce that to 44,585 valid words, and find that 14,741 of those words are pangrams. \n",
    "\n",
    "I'm  curious: what's the highest-scoring individual word?"
   ]
  },
  {
   "cell_type": "code",
   "execution_count": 11,
   "metadata": {},
   "outputs": [
    {
     "data": {
      "text/plain": [
       "(23, 'ANTITOTALITARIAN')"
      ]
     },
     "execution_count": 11,
     "metadata": {},
     "output_type": "execute_result"
    }
   ],
   "source": [
    "max((word_score(w), w) for w in enable1)"
   ]
  },
  {
   "cell_type": "markdown",
   "metadata": {},
   "source": [
    "And what's the breakdown of reasons why words are invalid?\n"
   ]
  },
  {
   "cell_type": "code",
   "execution_count": 12,
   "metadata": {},
   "outputs": [
    {
     "data": {
      "text/plain": [
       "Counter({'short': 922, 'valid': 44585, 's': 103913, 'long': 23400})"
      ]
     },
     "execution_count": 12,
     "metadata": {},
     "output_type": "execute_result"
    }
   ],
   "source": [
    "Counter(('s' if 's' in w else 'short' if len(w) < 4 else 'long' if len(set(w)) > 7 else 'valid')\n",
    "        for w in open('enable1.txt').read().split())"
   ]
  },
  {
   "cell_type": "markdown",
   "metadata": {},
   "source": [
    "About 60% of the words have an 's' in them."
   ]
  },
  {
   "cell_type": "markdown",
   "metadata": {},
   "source": [
    "# Game Score\n",
    "\n",
    "The game score for a honeycomb is the sum of the word scores for all the words that the honeycomb can make. How do we know if a honeycomb can make a word? Well, a honeycomb can make a word if the word contains the honeycomb's center and every letter in the word is in the honeycomb. Another way of saying this is that the letters in the word must be a subset of the letters in the honeycomb.\n",
    "\n",
    "So the brute-force approach to `game_score` is:"
   ]
  },
  {
   "cell_type": "code",
   "execution_count": 13,
   "metadata": {},
   "outputs": [],
   "source": [
    "def game_score(honeycomb, words):\n",
    "    \"\"\"The total score for this honeycomb.\"\"\"\n",
    "    (letters, center) = honeycomb\n",
    "    return sum(word_score(word) for word in words \n",
    "               if center in word and all(c in letters for c in word))"
   ]
  },
  {
   "cell_type": "markdown",
   "metadata": {},
   "source": [
    "Let's try it, and see how long it takes to get the game score for one honeycomb:"
   ]
  },
  {
   "cell_type": "code",
   "execution_count": 14,
   "metadata": {},
   "outputs": [
    {
     "name": "stdout",
     "output_type": "stream",
     "text": [
      "CPU times: user 9.86 ms, sys: 343 µs, total: 10.2 ms\n",
      "Wall time: 10 ms\n"
     ]
    },
    {
     "data": {
      "text/plain": [
       "153"
      ]
     },
     "execution_count": 14,
     "metadata": {},
     "output_type": "execute_result"
    }
   ],
   "source": [
    "honeycomb = ('AEGLMPX', 'G')\n",
    "\n",
    "%time game_score(honeycomb, enable1)"
   ]
  },
  {
   "cell_type": "markdown",
   "metadata": {},
   "source": [
    "About 10 milliseconds. No problem if we only want to do it a few times. But to find the best honeycomb we're going to have to go through 14,741 pangrams, and try each of the 7 possible letters as the center. Note that 14,741 × 7 × 10 milliseconds is 15 or 20 minutes. I could leave it at that, but, for these kinds of puzzles, you don't feel like you're done until you get the runtime under one minute.\n",
    "\n",
    "# Efficient Game Score\n",
    "\n",
    "Here's my idea:\n",
    "\n",
    "1. Go through all the words, compute the `letterset` and `word_score` for each one, and make a table of `{letterset: points}` giving the total number of points that can be made with that letterset. I call this a `points_table`.\n",
    "3. The above calculations are independent of the honeycomb, so they only need to be done once, not 14,741 × 7  times. Nice saving!\n",
    "4. Now for each honeycomb, generate every valid **subset** of the letters in the honeycomb. A valid subset must include the center letter, and it may or may not include each of the other 6 letters, so there are exactly $2^6 = 64$ subsets. The function `letter_subsets(honeycomb)` returns these.\n",
    "5. To compute `game_score`, just take the sum of the 64 entries in the points table.\n",
    "6. So we're only iterating over 64 lettersets in `game_score` rather than over 44,585 words. That's a nice improvement!\n",
    "\n",
    "Here's the code:"
   ]
  },
  {
   "cell_type": "code",
   "execution_count": 15,
   "metadata": {},
   "outputs": [],
   "source": [
    "def game_score(honeycomb, pts_table) -> int:\n",
    "    \"\"\"The total score for this honeycomb, given a points_table.\"\"\"\n",
    "    return sum(pts_table[s] for s in letter_subsets(honeycomb))\n",
    "\n",
    "def letter_subsets(honeycomb) -> list:\n",
    "    \"\"\"All 64 subsets of the letters in the honeycomb that contain the center letter.\"\"\"\n",
    "    (letters, center) = honeycomb\n",
    "    return [''.join(subset) \n",
    "            for n in range(1, 8) \n",
    "            for subset in combinations(letters, n)\n",
    "            if center in subset]\n",
    "\n",
    "def points_table(words) -> dict:\n",
    "    \"\"\"Return a dict of {letterset: points} from words.\"\"\"\n",
    "    table = Counter()\n",
    "    for w in words:\n",
    "        table[letterset(w)] += word_score(w)\n",
    "    return table"
   ]
  },
  {
   "cell_type": "markdown",
   "metadata": {},
   "source": [
    "Let's look into how this works. First the `letter_subsets`:"
   ]
  },
  {
   "cell_type": "code",
   "execution_count": 16,
   "metadata": {},
   "outputs": [
    {
     "data": {
      "text/plain": [
       "64"
      ]
     },
     "execution_count": 16,
     "metadata": {},
     "output_type": "execute_result"
    }
   ],
   "source": [
    "len(letter_subsets(honeycomb)) # It will always be 64, for any honeycomb"
   ]
  },
  {
   "cell_type": "code",
   "execution_count": 17,
   "metadata": {},
   "outputs": [
    {
     "data": {
      "text/plain": [
       "['C',\n",
       " 'AC',\n",
       " 'BC',\n",
       " 'CD',\n",
       " 'CE',\n",
       " 'ABC',\n",
       " 'ACD',\n",
       " 'ACE',\n",
       " 'BCD',\n",
       " 'BCE',\n",
       " 'CDE',\n",
       " 'ABCD',\n",
       " 'ABCE',\n",
       " 'ACDE',\n",
       " 'BCDE',\n",
       " 'ABCDE']"
      ]
     },
     "execution_count": 17,
     "metadata": {},
     "output_type": "execute_result"
    }
   ],
   "source": [
    "letter_subsets(('ABCDE', 'C')) # A small `honeycomb` with only 5 letters gives 2**4 = 16 subsets"
   ]
  },
  {
   "cell_type": "markdown",
   "metadata": {},
   "source": [
    "Now the `points_table` (but first a reminder of our honeycomb and our words and their scores):"
   ]
  },
  {
   "cell_type": "code",
   "execution_count": 18,
   "metadata": {},
   "outputs": [
    {
     "data": {
      "text/plain": [
       "('AEGLMPX', 'G')"
      ]
     },
     "execution_count": 18,
     "metadata": {},
     "output_type": "execute_result"
    }
   ],
   "source": [
    "honeycomb"
   ]
  },
  {
   "cell_type": "code",
   "execution_count": 19,
   "metadata": {},
   "outputs": [
    {
     "data": {
      "text/plain": [
       "{'GAME': 1,\n",
       " 'CACCIATORE': 17,\n",
       " 'AMALGAM': 7,\n",
       " 'GLAM': 1,\n",
       " 'EROTICA': 14,\n",
       " 'MEGAPLEX': 15}"
      ]
     },
     "execution_count": 19,
     "metadata": {},
     "output_type": "execute_result"
    }
   ],
   "source": [
    "{w: word_score(w) for w in words}"
   ]
  },
  {
   "cell_type": "code",
   "execution_count": 20,
   "metadata": {},
   "outputs": [
    {
     "data": {
      "text/plain": [
       "Counter({'AEGM': 1, 'ACEIORT': 31, 'AGLM': 8, 'AEGLMPX': 15})"
      ]
     },
     "execution_count": 20,
     "metadata": {},
     "output_type": "execute_result"
    }
   ],
   "source": [
    "points_table(words)"
   ]
  },
  {
   "cell_type": "markdown",
   "metadata": {},
   "source": [
    "The letterset `'ACEIORT'` gets 31 points, 17 for CACCIATORE and 14 for EROTICA, and the letterset `'AGLM'` gets 8 points, 7 for AMALGAM and 1 for GLAM. The other lettersets represent one word each. Now, finally, we can compute the game score:"
   ]
  },
  {
   "cell_type": "code",
   "execution_count": 21,
   "metadata": {},
   "outputs": [
    {
     "data": {
      "text/plain": [
       "24"
      ]
     },
     "execution_count": 21,
     "metadata": {},
     "output_type": "execute_result"
    }
   ],
   "source": [
    "game_score(honeycomb, points_table(words))"
   ]
  },
  {
   "cell_type": "markdown",
   "metadata": {},
   "source": [
    "That's 15 points for MEGAPLEX, 7 for AMALGAM, 1 for GLAM and 1 for GAME.\n",
    "\n",
    "\n",
    "The following calculation says that there are about twice as many words as lettersets: on average about two words have the same letterset.\n",
    "\n"
   ]
  },
  {
   "cell_type": "code",
   "execution_count": 22,
   "metadata": {},
   "outputs": [
    {
     "data": {
      "text/plain": [
       "2.058307557361156"
      ]
     },
     "execution_count": 22,
     "metadata": {},
     "output_type": "execute_result"
    }
   ],
   "source": [
    "len(enable1) / len(points_table(enable1))"
   ]
  },
  {
   "cell_type": "markdown",
   "metadata": {},
   "source": [
    "# The Solution: The Best Honeycomb\n",
    "\n",
    "Now that we have an efficient `game_score` function, I can define `best_honeycomb` to search through every possible pangram and center and find the honeycomb that gives the highest game score:"
   ]
  },
  {
   "cell_type": "code",
   "execution_count": 23,
   "metadata": {},
   "outputs": [],
   "source": [
    "def best_honeycomb(words) -> tuple: \n",
    "    \"\"\"Return (score, honeycomb) for the honeycomb with highest score on these words.\"\"\"\n",
    "    pts_table = points_table(words)\n",
    "    pangrams = [s for s in pts_table if len(s) == 7]\n",
    "    honeycombs = ((pangram, center) for pangram in pangrams for center in pangram)\n",
    "    return max([game_score(h, pts_table), h]\n",
    "               for h in honeycombs)"
   ]
  },
  {
   "cell_type": "markdown",
   "metadata": {},
   "source": [
    "First the solution for the tiny `words` list:"
   ]
  },
  {
   "cell_type": "code",
   "execution_count": 24,
   "metadata": {},
   "outputs": [
    {
     "data": {
      "text/plain": [
       "[31, ('ACEIORT', 'T')]"
      ]
     },
     "execution_count": 24,
     "metadata": {},
     "output_type": "execute_result"
    }
   ],
   "source": [
    "best_honeycomb(words)"
   ]
  },
  {
   "cell_type": "markdown",
   "metadata": {},
   "source": [
    "Now the solution for the problem that The Riddler posed, the big `enable1` word list:"
   ]
  },
  {
   "cell_type": "code",
   "execution_count": 25,
   "metadata": {},
   "outputs": [
    {
     "name": "stdout",
     "output_type": "stream",
     "text": [
      "CPU times: user 2.04 s, sys: 7.02 ms, total: 2.05 s\n",
      "Wall time: 2.06 s\n"
     ]
    },
    {
     "data": {
      "text/plain": [
       "[3898, ('AEGINRT', 'R')]"
      ]
     },
     "execution_count": 25,
     "metadata": {},
     "output_type": "execute_result"
    }
   ],
   "source": [
    "%time best_honeycomb(enable1)"
   ]
  },
  {
   "cell_type": "markdown",
   "metadata": {},
   "source": [
    "**Wow! 3898 is a high score!** And it took only 2 seconds to find it!\n",
    "\n",
    "# Fancier Report\n",
    "\n",
    "I'd like to see the actual words in addition to the total score, and I'm curious about how the words are divided up by letterset. Here's a function to provide such a report. I remembered that there is a `fill` function in Python (it is in the `textwrap` module) but this all turned out to be more complicated than I expected."
   ]
  },
  {
   "cell_type": "code",
   "execution_count": 26,
   "metadata": {
    "scrolled": false
   },
   "outputs": [],
   "source": [
    "from textwrap import fill\n",
    "\n",
    "def report(words, honeycomb=None):\n",
    "    \"\"\"Print stats and word scores for the given honeycomb (or for the best honeycomb\n",
    "    if no honeycomb is given) on the given word list.\"\"\"\n",
    "    optimal = (\"\" if honeycomb else \"optimal \")\n",
    "    if not honeycomb:\n",
    "        _, honeycomb = best_honeycomb(words)\n",
    "    (letters, center) = honeycomb\n",
    "    subsets = letter_subsets(honeycomb)\n",
    "    bins = group_by(words, letterset)\n",
    "    score = sum(word_score(w) for w in words if letterset(w) in subsets)\n",
    "    N = sum(len(bins[s]) for s in subsets)\n",
    "    print(f'For this list of {len(words):,d} words:')\n",
    "    print(f'The {optimal}honeycomb ({letters}, {center}) forms '\n",
    "          f'{N} words for {score:,d} points.')\n",
    "    print(f'Here are the words formed, with pangrams first:\\n')\n",
    "    for s in sorted(subsets, key=lambda s: (-len(s), s)):\n",
    "        if bins[s]:\n",
    "            pts = sum(word_score(w) for w in bins[s])\n",
    "            print(f'{s} forms {len(bins[s])} words for {pts:,d} points:')\n",
    "            words = [f'{w}({word_score(w)})' for w in sorted(bins[s])]\n",
    "            print(fill(' '.join(words), width=80,\n",
    "                       initial_indent='    ', subsequent_indent='    '))\n",
    "\n",
    "def group_by(items, key):\n",
    "    \"Group items into bins of a dict, each bin keyed by key(item).\"\n",
    "    bins = defaultdict(list)\n",
    "    for item in items:\n",
    "        bins[key(item)].append(item)\n",
    "    return bins"
   ]
  },
  {
   "cell_type": "code",
   "execution_count": 27,
   "metadata": {},
   "outputs": [
    {
     "name": "stdout",
     "output_type": "stream",
     "text": [
      "For this list of 6 words:\n",
      "The honeycomb (AEGLMPX, G) forms 4 words for 24 points.\n",
      "Here are the words formed, with pangrams first:\n",
      "\n",
      "AEGLMPX forms 1 words for 15 points:\n",
      "    MEGAPLEX(15)\n",
      "AEGM forms 1 words for 1 points:\n",
      "    GAME(1)\n",
      "AGLM forms 2 words for 8 points:\n",
      "    AMALGAM(7) GLAM(1)\n"
     ]
    }
   ],
   "source": [
    "report(words, honeycomb)"
   ]
  },
  {
   "cell_type": "code",
   "execution_count": 28,
   "metadata": {},
   "outputs": [
    {
     "name": "stdout",
     "output_type": "stream",
     "text": [
      "For this list of 6 words:\n",
      "The optimal honeycomb (ACEIORT, T) forms 2 words for 31 points.\n",
      "Here are the words formed, with pangrams first:\n",
      "\n",
      "ACEIORT forms 2 words for 31 points:\n",
      "    CACCIATORE(17) EROTICA(14)\n"
     ]
    }
   ],
   "source": [
    "report(words)"
   ]
  },
  {
   "cell_type": "code",
   "execution_count": 29,
   "metadata": {
    "scrolled": false
   },
   "outputs": [
    {
     "name": "stdout",
     "output_type": "stream",
     "text": [
      "For this list of 44,585 words:\n",
      "The optimal honeycomb (AEGINRT, R) forms 537 words for 3,898 points.\n",
      "Here are the words formed, with pangrams first:\n",
      "\n",
      "AEGINRT forms 50 words for 832 points:\n",
      "    AERATING(15) AGGREGATING(18) ARGENTINE(16) ARGENTITE(16) ENTERTAINING(19)\n",
      "    ENTRAINING(17) ENTREATING(17) GARNIERITE(17) GARTERING(16) GENERATING(17)\n",
      "    GNATTIER(15) GRANITE(14) GRATINE(14) GRATINEE(15) GRATINEEING(18)\n",
      "    GREATENING(17) INGRATE(14) INGRATIATE(17) INTEGRATE(16) INTEGRATING(18)\n",
      "    INTENERATING(19) INTERAGE(15) INTERGANG(16) INTERREGNA(17) INTREATING(17)\n",
      "    ITERATING(16) ITINERATING(18) NATTERING(16) RATTENING(16) REAGGREGATING(20)\n",
      "    REATTAINING(18) REGENERATING(19) REGRANTING(17) REGRATING(16)\n",
      "    REINITIATING(19) REINTEGRATE(18) REINTEGRATING(20) REITERATING(18)\n",
      "    RETAGGING(16) RETAINING(16) RETARGETING(18) RETEARING(16) RETRAINING(17)\n",
      "    RETREATING(17) TANGERINE(16) TANGIER(14) TARGETING(16) TATTERING(16)\n",
      "    TEARING(14) TREATING(15)\n",
      "AEGINR forms 35 words for 270 points:\n",
      "    AGINNER(7) AGREEING(8) ANEARING(8) ANERGIA(7) ANGERING(8) ANGRIER(7)\n",
      "    ARGININE(8) EARING(6) EARNING(7) EARRING(7) ENGRAIN(7) ENGRAINING(10)\n",
      "    ENRAGING(8) GAINER(6) GANGRENING(10) GARNERING(9) GEARING(7) GRAINER(7)\n",
      "    GRAINIER(8) GRANNIE(7) GREGARINE(9) NAGGIER(7) NEARING(7) RANGIER(7)\n",
      "    REAGIN(6) REARING(7) REARRANGING(11) REEARNING(9) REENGAGING(10) REGAIN(6)\n",
      "    REGAINER(8) REGAINING(9) REGEARING(9) REGINA(6) REGINAE(7)\n",
      "AEGIRT forms 5 words for 34 points:\n",
      "    AIGRET(6) AIGRETTE(8) GAITER(6) IRRIGATE(8) TRIAGE(6)\n",
      "AEGNRT forms 13 words for 94 points:\n",
      "    ARGENT(6) GARNET(6) GENERATE(8) GRANTEE(7) GRANTER(7) GREATEN(7) NEGATER(7)\n",
      "    REAGENT(7) REGENERATE(10) REGNANT(7) REGRANT(7) TANAGER(7) TEENAGER(8)\n",
      "AEINRT forms 30 words for 232 points:\n",
      "    ARENITE(7) ATTAINER(8) ENTERTAIN(9) ENTERTAINER(11) ENTRAIN(7) ENTRAINER(9)\n",
      "    INERRANT(8) INERTIA(7) INERTIAE(8) INTENERATE(10) INTREAT(7) ITERANT(7)\n",
      "    ITINERANT(9) ITINERATE(9) NATTIER(7) NITRATE(7) RATINE(6) REATTAIN(8)\n",
      "    REINITIATE(10) RETAIN(6) RETAINER(8) RETINA(6) RETINAE(7) RETIRANT(8)\n",
      "    RETRAIN(7) TERRAIN(7) TERTIAN(7) TRAINEE(7) TRAINER(7) TRIENNIA(8)\n",
      "AGINRT forms 21 words for 167 points:\n",
      "    AIRTING(7) ATTIRING(8) GRANITA(7) GRANTING(8) GRATIN(6) GRATING(7)\n",
      "    INGRATIATING(12) INTRIGANT(9) IRRIGATING(10) IRRITATING(10) NARRATING(9)\n",
      "    NITRATING(9) RANTING(7) RATING(6) RATTING(7) TARING(6) TARRING(7) TARTING(7)\n",
      "    TITRATING(9) TRAINING(8) TRIAGING(8)\n",
      "EGINRT forms 26 words for 218 points:\n",
      "    ENGIRT(6) ENTERING(8) GETTERING(9) GITTERN(7) GREETING(8) IGNITER(7)\n",
      "    INTEGER(7) INTERNING(9) INTERRING(9) REENTERING(10) REGREETING(10)\n",
      "    REGRETTING(10) REIGNITE(8) REIGNITING(10) REINTERRING(11) RENTING(7)\n",
      "    RETINTING(9) RETIRING(8) RETTING(7) RINGENT(7) TEETERING(9) TENTERING(9)\n",
      "    TIERING(7) TITTERING(9) TREEING(7) TRIGGERING(10)\n",
      "AEGNR forms 18 words for 120 points:\n",
      "    ANGER(5) ARRANGE(7) ARRANGER(8) ENGAGER(7) ENRAGE(6) GANGER(6) GANGRENE(8)\n",
      "    GARNER(6) GENERA(6) GRANGE(6) GRANGER(7) GREENGAGE(9) NAGGER(6) RANGE(5)\n",
      "    RANGER(6) REARRANGE(9) REENGAGE(8) REGNA(5)\n",
      "AEGRT forms 19 words for 123 points:\n",
      "    AGGREGATE(9) ERGATE(6) ETAGERE(7) GARGET(6) GARRET(6) GARTER(6) GRATE(5)\n",
      "    GRATER(6) GREAT(5) GREATER(7) REAGGREGATE(11) REGATTA(7) REGRATE(7) RETAG(5)\n",
      "    RETARGET(8) TAGGER(6) TARGE(5) TARGET(6) TERGA(5)\n",
      "AEINR forms 3 words for 19 points:\n",
      "    INANER(6) NARINE(6) RAINIER(7)\n",
      "AEIRT forms 20 words for 135 points:\n",
      "    ARIETTA(7) ARIETTE(7) ARTIER(6) ATTIRE(6) ATTRITE(7) IRATE(5) IRATER(6)\n",
      "    IRRITATE(8) ITERATE(7) RATITE(6) RATTIER(7) REITERATE(9) RETIA(5)\n",
      "    RETIARII(8) TARRIER(7) TATTIER(7) TEARIER(7) TERAI(5) TERRARIA(8) TITRATE(7)\n",
      "AENRT forms 19 words for 132 points:\n",
      "    ANTEATER(8) ANTRE(5) ENTERA(6) ENTRANT(7) ENTREAT(7) ERRANT(6) NARRATE(7)\n",
      "    NARRATER(8) NATTER(6) NEATER(6) RANTER(6) RATTEEN(7) RATTEN(6) RATTENER(8)\n",
      "    REENTRANT(9) RETREATANT(10) TANNER(6) TERNATE(7) TERRANE(7)\n",
      "AGINR forms 19 words for 138 points:\n",
      "    AGRARIAN(8) AIRING(6) ANGARIA(7) ARRAIGN(7) ARRAIGNING(10) ARRANGING(9)\n",
      "    GARAGING(8) GARNI(5) GARRING(7) GNARRING(8) GRAIN(5) GRAINING(8) INGRAIN(7)\n",
      "    INGRAINING(10) RAGGING(7) RAGING(6) RAINING(7) RANGING(7) RARING(6)\n",
      "AGIRT forms 1 words for 5 points:\n",
      "    TRAGI(5)\n",
      "AGNRT forms 1 words for 5 points:\n",
      "    GRANT(5)\n",
      "AINRT forms 9 words for 64 points:\n",
      "    ANTIAIR(7) ANTIAR(6) ANTIARIN(8) INTRANT(7) IRRITANT(8) RIANT(5) TITRANT(7)\n",
      "    TRAIN(5) TRINITARIAN(11)\n",
      "EGINR forms 24 words for 186 points:\n",
      "    ENGINEER(8) ENGINEERING(11) ERRING(6) GINGER(6) GINGERING(9) GINNER(6)\n",
      "    GINNIER(7) GREEING(7) GREENIE(7) GREENIER(8) GREENING(8) GRINNER(7)\n",
      "    NIGGER(6) REENGINEER(10) REENGINEERING(13) REGREENING(10) REIGN(5)\n",
      "    REIGNING(8) REINING(7) RENEGING(8) RENIG(5) RENIGGING(9) RERIGGING(9)\n",
      "    RINGER(6)\n",
      "EGIRT forms 4 words for 27 points:\n",
      "    GRITTIER(8) TERGITE(7) TIGER(5) TRIGGER(7)\n",
      "EGNRT forms 2 words for 12 points:\n",
      "    GERENT(6) REGENT(6)\n",
      "EINRT forms 29 words for 190 points:\n",
      "    ENTIRE(6) INERT(5) INTER(5) INTERN(6) INTERNE(7) INTERNEE(8) INTERTIE(8)\n",
      "    NETTIER(7) NITER(5) NITERIE(7) NITRE(5) NITRITE(7) NITTIER(7) REINTER(7)\n",
      "    RENITENT(8) RENTIER(7) RETINE(6) RETINENE(8) RETINITE(8) RETINT(6)\n",
      "    TEENIER(7) TENTIER(7) TERRINE(7) TINIER(6) TINNER(6) TINNIER(7) TINTER(6)\n",
      "    TRIENE(6) TRINE(5)\n",
      "GINRT forms 6 words for 43 points:\n",
      "    GIRTING(7) GRITTING(8) RINGGIT(7) TIRING(6) TRIGGING(8) TRINING(7)\n",
      "AEGR forms 17 words for 84 points:\n",
      "    AGER(1) AGGER(5) AGREE(5) ARREARAGE(9) EAGER(5) EAGERER(7) EAGRE(5) EGGAR(5)\n",
      "    GAGER(5) GAGGER(6) GARAGE(6) GEAR(1) RAGE(1) RAGEE(5) RAGGEE(6) REGEAR(6)\n",
      "    REGGAE(6)\n",
      "AEIR forms 4 words for 22 points:\n",
      "    AERIE(5) AERIER(6) AIRER(5) AIRIER(6)\n",
      "AENR forms 9 words for 40 points:\n",
      "    ANEAR(5) ARENA(5) EARN(1) EARNER(6) NEAR(1) NEARER(6) RANEE(5) REEARN(6)\n",
      "    RERAN(5)\n",
      "AERT forms 24 words for 127 points:\n",
      "    AERATE(6) ARETE(5) EATER(5) ERRATA(6) RATE(1) RATER(5) RATTER(6) REATA(5)\n",
      "    RETEAR(6) RETREAT(7) RETREATER(9) TARE(1) TARRE(5) TARTER(6) TARTRATE(8)\n",
      "    TATER(5) TATTER(6) TEAR(1) TEARER(6) TERRA(5) TERRAE(6) TETRA(5) TREAT(5)\n",
      "    TREATER(7)\n",
      "AGIR forms 2 words for 6 points:\n",
      "    AGRIA(5) RAGI(1)\n",
      "AGNR forms 5 words for 13 points:\n",
      "    GNAR(1) GNARR(5) GRAN(1) GRANA(5) RANG(1)\n",
      "AGRT forms 3 words for 13 points:\n",
      "    GRAT(1) RAGTAG(6) TAGRAG(6)\n",
      "AINR forms 4 words for 8 points:\n",
      "    AIRN(1) NAIRA(5) RAIN(1) RANI(1)\n",
      "AIRT forms 5 words for 21 points:\n",
      "    AIRT(1) ATRIA(5) RIATA(5) TIARA(5) TRAIT(5)\n",
      "ANRT forms 10 words for 50 points:\n",
      "    ANTRA(5) ARRANT(6) RANT(1) RATAN(5) RATTAN(6) TANTARA(7) TANTRA(6) TARN(1)\n",
      "    TARTAN(6) TARTANA(7)\n",
      "EGIR forms 3 words for 17 points:\n",
      "    GREIGE(6) RERIG(5) RIGGER(6)\n",
      "EGNR forms 6 words for 37 points:\n",
      "    GENRE(5) GREEN(5) GREENER(7) REGREEN(7) RENEGE(6) RENEGER(7)\n",
      "EGRT forms 7 words for 45 points:\n",
      "    EGRET(5) GETTER(6) GREET(5) GREETER(7) REGREET(7) REGRET(6) REGRETTER(9)\n",
      "EINR forms 4 words for 17 points:\n",
      "    INNER(5) REIN(1) RENIN(5) RENNIN(6)\n",
      "EIRT forms 17 words for 87 points:\n",
      "    RETIE(5) RETIRE(6) RETIREE(7) RETIRER(7) RITE(1) RITTER(6) TERRIER(7)\n",
      "    TERRIT(6) TIER(1) TIRE(1) TITER(5) TITRE(5) TITTER(6) TITTERER(8) TRIER(5)\n",
      "    TRITE(5) TRITER(6)\n",
      "ENRT forms 19 words for 104 points:\n",
      "    ENTER(5) ENTERER(7) ENTREE(6) ETERNE(6) NETTER(6) REENTER(7) RENNET(6)\n",
      "    RENT(1) RENTE(5) RENTER(6) RETENE(6) TEENER(6) TENNER(6) TENTER(6) TERN(1)\n",
      "    TERNE(5) TERREEN(7) TERRENE(7) TREEN(5)\n",
      "GINR forms 9 words for 44 points:\n",
      "    GIRN(1) GIRNING(7) GRIN(1) GRINNING(8) IRING(5) RIGGING(7) RING(1)\n",
      "    RINGING(7) RINNING(7)\n",
      "GIRT forms 3 words for 3 points:\n",
      "    GIRT(1) GRIT(1) TRIG(1)\n",
      "AER forms 7 words for 25 points:\n",
      "    AREA(1) AREAE(5) ARREAR(6) RARE(1) RARER(5) REAR(1) REARER(6)\n",
      "AGR forms 2 words for 2 points:\n",
      "    AGAR(1) RAGA(1)\n",
      "AIR forms 2 words for 2 points:\n",
      "    ARIA(1) RAIA(1)\n",
      "ART forms 5 words for 24 points:\n",
      "    ATTAR(5) RATATAT(7) TART(1) TARTAR(6) TATAR(5)\n",
      "EGR forms 4 words for 15 points:\n",
      "    EGER(1) EGGER(5) GREE(1) GREEGREE(8)\n",
      "EIR forms 2 words for 11 points:\n",
      "    EERIE(5) EERIER(6)\n",
      "ENR forms 1 words for 1 points:\n",
      "    ERNE(1)\n",
      "ERT forms 7 words for 27 points:\n",
      "    RETE(1) TEETER(6) TERETE(6) TERRET(6) TETTER(6) TREE(1) TRET(1)\n",
      "GIR forms 2 words for 7 points:\n",
      "    GRIG(1) GRIGRI(6)\n"
     ]
    }
   ],
   "source": [
    "report(enable1)"
   ]
  }
 ],
 "metadata": {
  "kernelspec": {
   "display_name": "Python 3",
   "language": "python",
   "name": "python3"
  },
  "language_info": {
   "codemirror_mode": {
    "name": "ipython",
    "version": 3
   },
   "file_extension": ".py",
   "mimetype": "text/x-python",
   "name": "python",
   "nbconvert_exporter": "python",
   "pygments_lexer": "ipython3",
   "version": "3.7.2"
  }
 },
 "nbformat": 4,
 "nbformat_minor": 2
}
