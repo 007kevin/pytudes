{
 "cells": [
  {
   "cell_type": "markdown",
   "metadata": {},
   "source": [
    "<div style=\"text-align: right\" align=\"right\"><i>Peter Norvig, 3 Jan 2020</i></div>\n",
    "\n",
    "# Spelling Bee\n",
    "\n",
    "The [Jan. 3 2020 Riddler](https://fivethirtyeight.com/features/can-you-solve-the-vexing-vexillology/) concerns the popular NYTimes  [Spelling Bee](https://www.nytimes.com/puzzles/spelling-bee) puzzle:\n",
    "\n",
    "*In this game, seven letters are arranged in a honeycomb lattice, with one letter in the center. Here’s the lattice from December 24, 2019:*\n",
    "\n",
    "<img src=\"https://fivethirtyeight.com/wp-content/uploads/2020/01/Screen-Shot-2019-12-24-at-5.46.55-PM.png?w=1136\" width=150>\n",
    "\n",
    "\n",
    "*The goal is to identify as many words that meet the following criteria:*\n",
    "1. *The word must be at least four letters long.*\n",
    "2. *The word must include the central letter.*\n",
    "3. *The word cannot include any letter beyond the seven given letters.*\n",
    "\n",
    "*Note that letters can be repeated. For example, the words GAME and AMALGAM are both acceptable words. Four-letter words are worth 1 point each, while five-letter words are worth 5 points, six-letter words are worth 6 points, seven-letter words are worth 7 points, etc. Words that use all of the seven letters in the honeycomb are known as “pangrams” and earn 7 bonus points (in addition to the points for the length of the word). So in the above example, MEGAPLEX is worth 15 points.*\n",
    "\n",
    "***Which seven-letter honeycomb results in the highest possible game score?*** *To be a valid choice of seven letters, no letter can be repeated, it must not contain the letter S (that would be too easy) and there must be at least one pangram.*\n",
    "\n",
    "*For consistency, please use [this word list](https://norvig.com/ngrams/enable1.txt) to check your game score.*\n",
    "\n",
    "# Approach to a Solution\n",
    "\n",
    "Since the word list was on my web site (it is a standard Scrabble word list that I happen to host a copy of), I felt somewhat compelled to submit an answer. I had worked on word puzzles before, like Scrabble and Boggle. My first thought is that this puzzle is rather different because it deals with *unordered sets* of letters, not *ordered permutations* of letters. That makes things much easier. When I tried to find the optimal 5×5 Boggle board, I couldn't exhaustively try all $26^{(5×5)} \\approx 10^{35}$ possibilites; I had to do hillclimbing to find a locally (but not necessarily globally) optimal solution. But for Spelling Bee, it is feasible to try every possibility. Here's a sketch of an approach:\n",
    " \n",
    "\n",
    "- Since every honeycomb must contain a pangram, I can find the best honeycomb by considering all possible pangrams and all possible centers for each pangram and taking the one that scores highest. Something like:\n",
    "\n",
    "      max(game_score(pangram, center) \n",
    "          for pangram in pangrams for center in pangram)\n",
    "      \n",
    "- So it comes down to having an efficient-enough computation of the words that a honeycomb can make.\n",
    "- Represent a word as a set of letters, which I'll implement as a sorted string, e.g.: \n",
    "      letterset(\"GLAM\") == letterset(\"AMALGAM\") == \"AGLM\".  \n",
    "- Note: I could have used a `frozenset`, but strings have a more compact printed representation, making them easier to debug, and they take up less memory. I won't need any fancy `set` operations like union and intersection.\n",
    "- Represent a honeycomb as a letterset of 7 letters, along with an indication of which one is the center. So the honeycomb in the image above would be represented by `('AEGLMPX', 'G')`."
   ]
  },
  {
   "cell_type": "markdown",
   "metadata": {},
   "source": [
    "# Words, Word Scores, Pangrams, and Lettersets\n",
    "\n",
    "I'll start by loading some modules and defining four basic functions about words:"
   ]
  },
  {
   "cell_type": "code",
   "execution_count": 1,
   "metadata": {},
   "outputs": [],
   "source": [
    "from itertools import combinations\n",
    "from collections import Counter"
   ]
  },
  {
   "cell_type": "code",
   "execution_count": 2,
   "metadata": {},
   "outputs": [],
   "source": [
    "def Words(text) -> set:\n",
    "    \"\"\"The set of all the valid space-separated words in a str.\"\"\"\n",
    "    return {w for w in text.upper().split() \n",
    "            if len(w) >= 4 and 'S' not in w and len(set(w)) <= 7}\n",
    "\n",
    "def word_score(word) -> int: \n",
    "    \"\"\"The points for this word, including bonus for pangram.\"\"\"\n",
    "    N = len(word)\n",
    "    bonus = (7 if is_pangram(word) else 0)\n",
    "    return (1 if N == 4 else N + bonus)\n",
    "\n",
    "def is_pangram(word) -> bool: \n",
    "    \"\"\"Does a word use all 7 letters (some maybe more than once)?\"\"\"\n",
    "    return len(set(word)) == 7\n",
    "\n",
    "def letterset(word) -> str:\n",
    "    \"\"\"The set of letters in a word, represented as a sorted str of letters.\"\"\"\n",
    "    return ''.join(sorted(set(word)))"
   ]
  },
  {
   "cell_type": "markdown",
   "metadata": {},
   "source": [
    "I'll make a tiny word list to experiment with: "
   ]
  },
  {
   "cell_type": "code",
   "execution_count": 3,
   "metadata": {},
   "outputs": [
    {
     "data": {
      "text/plain": [
       "{'AMALGAM', 'GAME', 'GLAM', 'MAPLE', 'MEGAPLEX', 'PELAGIC'}"
      ]
     },
     "execution_count": 3,
     "metadata": {},
     "output_type": "execute_result"
    }
   ],
   "source": [
    "words = Words('amalgam amalgamation game games gem glam maple megaplex pelagic I me')\n",
    "words"
   ]
  },
  {
   "cell_type": "markdown",
   "metadata": {},
   "source": [
    "Note that `I`, `me` and `gem` are too short, `games` has an `s` which is not allowed, and `amalgamation` has too many distinct letters. \n",
    "\n",
    "Here are examples of the functions in action:"
   ]
  },
  {
   "cell_type": "code",
   "execution_count": 4,
   "metadata": {},
   "outputs": [
    {
     "data": {
      "text/plain": [
       "{'AMALGAM': 7, 'MEGAPLEX': 15, 'GLAM': 1, 'MAPLE': 5, 'GAME': 1, 'PELAGIC': 14}"
      ]
     },
     "execution_count": 4,
     "metadata": {},
     "output_type": "execute_result"
    }
   ],
   "source": [
    "{w: word_score(w) for w in words}"
   ]
  },
  {
   "cell_type": "code",
   "execution_count": 5,
   "metadata": {},
   "outputs": [
    {
     "data": {
      "text/plain": [
       "{'MEGAPLEX', 'PELAGIC'}"
      ]
     },
     "execution_count": 5,
     "metadata": {},
     "output_type": "execute_result"
    }
   ],
   "source": [
    "{w for w in words if is_pangram(w)}"
   ]
  },
  {
   "cell_type": "code",
   "execution_count": 6,
   "metadata": {},
   "outputs": [
    {
     "data": {
      "text/plain": [
       "{'AMALGAM': 'AGLM',\n",
       " 'MEGAPLEX': 'AEGLMPX',\n",
       " 'GLAM': 'AGLM',\n",
       " 'MAPLE': 'AELMP',\n",
       " 'GAME': 'AEGM',\n",
       " 'PELAGIC': 'ACEGILP'}"
      ]
     },
     "execution_count": 6,
     "metadata": {},
     "output_type": "execute_result"
    }
   ],
   "source": [
    "{w: letterset(w) for w in words}"
   ]
  },
  {
   "cell_type": "markdown",
   "metadata": {},
   "source": [
    "# The enable1 Word List\n",
    "\n",
    "Now I will load in the `enable1` word list and see what we have:"
   ]
  },
  {
   "cell_type": "code",
   "execution_count": 7,
   "metadata": {},
   "outputs": [
    {
     "name": "stdout",
     "output_type": "stream",
     "text": [
      "  172820 enable1.txt\r\n"
     ]
    }
   ],
   "source": [
    "! [ -e enable1.txt ] || curl -O http://norvig.com/ngrams/enable1.txt\n",
    "! wc -w enable1.txt"
   ]
  },
  {
   "cell_type": "code",
   "execution_count": 8,
   "metadata": {},
   "outputs": [
    {
     "data": {
      "text/plain": [
       "44585"
      ]
     },
     "execution_count": 8,
     "metadata": {},
     "output_type": "execute_result"
    }
   ],
   "source": [
    "enable1 = Words(open('enable1.txt').read())\n",
    "len(enable1)"
   ]
  },
  {
   "cell_type": "code",
   "execution_count": 9,
   "metadata": {},
   "outputs": [
    {
     "data": {
      "text/plain": [
       "['CRACKLIER',\n",
       " 'TURBINE',\n",
       " 'METHIONINE',\n",
       " 'UPGAZING',\n",
       " 'CUMBERED',\n",
       " 'BREEZEWAY',\n",
       " 'JAMBING',\n",
       " 'PAPERBACK',\n",
       " 'TRIPINNATE',\n",
       " 'TUNICAE']"
      ]
     },
     "execution_count": 9,
     "metadata": {},
     "output_type": "execute_result"
    }
   ],
   "source": [
    "pangrams = [w for w in enable1 if is_pangram(w)]\n",
    "pangrams[:10] # Just sample some of them"
   ]
  },
  {
   "cell_type": "code",
   "execution_count": 10,
   "metadata": {},
   "outputs": [
    {
     "data": {
      "text/plain": [
       "14741"
      ]
     },
     "execution_count": 10,
     "metadata": {},
     "output_type": "execute_result"
    }
   ],
   "source": [
    "len(pangrams)"
   ]
  },
  {
   "cell_type": "markdown",
   "metadata": {},
   "source": [
    "So: we start with 172,820 words in the word list, reduce that to 44,585 valid words (the others are either shorter than 4 letters in length, or contain an 'S', or have more than 7 distinct letters), and discover that 14,741 of those words are pangrams. \n",
    "\n",
    "I'm also curious: what's the highest-scoring individual word?"
   ]
  },
  {
   "cell_type": "code",
   "execution_count": 11,
   "metadata": {},
   "outputs": [
    {
     "data": {
      "text/plain": [
       "('ANTITOTALITARIAN', True, 23)"
      ]
     },
     "execution_count": 11,
     "metadata": {},
     "output_type": "execute_result"
    }
   ],
   "source": [
    "w = max(enable1, key=word_score)\n",
    "w, is_pangram(w), word_score(w)"
   ]
  },
  {
   "cell_type": "markdown",
   "metadata": {},
   "source": [
    "#  Efficiency: Caching a Scoring Table\n",
    "\n",
    "The goal is to find the honeycomb that maximizes the  `game_score`: the total score of all words that can be made with the honeycomb. I've chosen to go down the path of considering all 14,741 pangrams, and all 7 centers for each pangram, for a total of 103,187 candidate honeycombs. \n",
    "I'll make things more efficient by *caching* some important information after computing it once, so I don't need to recompute it 103,187 times.\n",
    "- For each word, I'll precompute the `letterset` and the `word_score`.\n",
    "- For each letterset, I'll add up the total `word_score` points (over all the words with that letterset).\n",
    "- The function `scoring_table(words)` will return a table (dict) with this information:"
   ]
  },
  {
   "cell_type": "code",
   "execution_count": 12,
   "metadata": {},
   "outputs": [],
   "source": [
    "def scoring_table(words) -> dict:\n",
    "    \"\"\"Return a dict of {letterset: sum_of_word_scores} over words.\"\"\"\n",
    "    table = Counter()\n",
    "    for w in words:\n",
    "        table[letterset(w)] += word_score(w)\n",
    "    return table"
   ]
  },
  {
   "cell_type": "code",
   "execution_count": 13,
   "metadata": {},
   "outputs": [
    {
     "data": {
      "text/plain": [
       "Counter({'AGLM': 8, 'AEGLMPX': 15, 'AELMP': 5, 'AEGM': 1, 'ACEGILP': 14})"
      ]
     },
     "execution_count": 13,
     "metadata": {},
     "output_type": "execute_result"
    }
   ],
   "source": [
    "scoring_table(words)"
   ]
  },
  {
   "cell_type": "markdown",
   "metadata": {},
   "source": [
    "Note the letterset\n",
    "`'AGLM'` scores 8 points as the sum over two words: 7 for `'AMALGAM'` and 1 for `'GLAM'`.  The other lettersets get their points from just one word.\n",
    "The following calculation says that there are about twice as many words as lettersets: on average about two words have the same letterset.\n",
    "\n"
   ]
  },
  {
   "cell_type": "code",
   "execution_count": 14,
   "metadata": {},
   "outputs": [
    {
     "data": {
      "text/plain": [
       "2.058307557361156"
      ]
     },
     "execution_count": 14,
     "metadata": {},
     "output_type": "execute_result"
    }
   ],
   "source": [
    "len(enable1) / len(scoring_table(enable1))"
   ]
  },
  {
   "cell_type": "markdown",
   "metadata": {},
   "source": [
    "# Computing the Game Score\n",
    "\n",
    "The brute force approach would be to take each of the 103,187 honeycombs, and for each honeycomb look at each of the 44,585 words and add up the word scores of the words that can be made by the honeycomb. That seems slow. I have an idea for a faster approach:\n",
    "\n",
    "- For each honeycomb, generate every possible *subset* of the letters in the honeycomb. A subset must include the central letter, and it may or may not include each of the other 6 letters, so there are $2^6 = 64$ subsets. The function `letter_subsets(letters)` returns these.\n",
    "- We already have letterset scores in the scoring table, so we can compute the `game_score` of a honeycomb just by fetching 64 entries in the scoring table and adding them up.\n",
    "- 64 is less than 44,585, so that's a nice optimization!\n"
   ]
  },
  {
   "cell_type": "code",
   "execution_count": 15,
   "metadata": {},
   "outputs": [],
   "source": [
    "def game_score(letters, center, table) -> int:\n",
    "    \"\"\"The total score for this honeycomb, given a scoring table.\"\"\"\n",
    "    subsets = letter_subsets(letters, center)\n",
    "    return sum(table[s] for s in subsets)\n",
    "\n",
    "def letter_subsets(letters, center) -> list:\n",
    "    \"\"\"All subsets of `letters` that contain the letter `center`.\"\"\"\n",
    "    return [letterset(subset) \n",
    "            for n in range(1, 8) \n",
    "            for subset in combinations(letters, n)\n",
    "            if center in subset]"
   ]
  },
  {
   "cell_type": "markdown",
   "metadata": {},
   "source": [
    "Trying out `letter_subsets`:"
   ]
  },
  {
   "cell_type": "code",
   "execution_count": 16,
   "metadata": {},
   "outputs": [
    {
     "data": {
      "text/plain": [
       "64"
      ]
     },
     "execution_count": 16,
     "metadata": {},
     "output_type": "execute_result"
    }
   ],
   "source": [
    "len(letter_subsets('ABCDEFG', 'C')) # It will always be 64, for any honeycomb"
   ]
  },
  {
   "cell_type": "code",
   "execution_count": 17,
   "metadata": {},
   "outputs": [
    {
     "data": {
      "text/plain": [
       "['C', 'AC', 'BC', 'CD', 'ABC', 'ACD', 'BCD', 'ABCD']"
      ]
     },
     "execution_count": 17,
     "metadata": {},
     "output_type": "execute_result"
    }
   ],
   "source": [
    "letter_subsets('ABCD', 'C') # A smaller example gives 2**3 = 8 subsets"
   ]
  },
  {
   "cell_type": "markdown",
   "metadata": {},
   "source": [
    "Trying out `game_score`:"
   ]
  },
  {
   "cell_type": "code",
   "execution_count": 18,
   "metadata": {},
   "outputs": [
    {
     "data": {
      "text/plain": [
       "24"
      ]
     },
     "execution_count": 18,
     "metadata": {},
     "output_type": "execute_result"
    }
   ],
   "source": [
    "game_score('AEGLMPX', 'G', scoring_table(words)) "
   ]
  },
  {
   "cell_type": "code",
   "execution_count": 19,
   "metadata": {},
   "outputs": [
    {
     "data": {
      "text/plain": [
       "153"
      ]
     },
     "execution_count": 19,
     "metadata": {},
     "output_type": "execute_result"
    }
   ],
   "source": [
    "game_score('AEGLMPX', 'G', scoring_table(enable1)) "
   ]
  },
  {
   "cell_type": "markdown",
   "metadata": {},
   "source": [
    "Let's choose some more common letters and see if we can score more:"
   ]
  },
  {
   "cell_type": "code",
   "execution_count": 20,
   "metadata": {},
   "outputs": [
    {
     "data": {
      "text/plain": [
       "2240"
      ]
     },
     "execution_count": 20,
     "metadata": {},
     "output_type": "execute_result"
    }
   ],
   "source": [
    "game_score('ETANHRD', 'E', scoring_table(enable1)) "
   ]
  },
  {
   "cell_type": "markdown",
   "metadata": {},
   "source": [
    "# The Solution: The Best Honeycomb\n",
    "\n",
    "\n",
    "Finally, here's the function that will give us the solution: `best_honeycomb` searches through every possible pangram and center and finds the combination that gives the highest game score:"
   ]
  },
  {
   "cell_type": "code",
   "execution_count": 21,
   "metadata": {},
   "outputs": [],
   "source": [
    "def best_honeycomb(words) -> tuple: \n",
    "    \"\"\"Return (score, letters, center) for the honeycomb with highest score on these words.\"\"\"\n",
    "    table = scoring_table(words)\n",
    "    pangrams = {s for s in table if len(s) == 7}\n",
    "    return max([game_score(pangram, center, table), pangram, center]\n",
    "               for pangram in pangrams\n",
    "               for center in pangram)"
   ]
  },
  {
   "cell_type": "markdown",
   "metadata": {},
   "source": [
    "First the solution for the tiny `words` list:"
   ]
  },
  {
   "cell_type": "code",
   "execution_count": 22,
   "metadata": {},
   "outputs": [
    {
     "data": {
      "text/plain": [
       "[29, 'AEGLMPX', 'M']"
      ]
     },
     "execution_count": 22,
     "metadata": {},
     "output_type": "execute_result"
    }
   ],
   "source": [
    "best_honeycomb(words)"
   ]
  },
  {
   "cell_type": "markdown",
   "metadata": {},
   "source": [
    "Now the solution for the problem that The Riddler posed, the big `enable1` word list:"
   ]
  },
  {
   "cell_type": "code",
   "execution_count": 23,
   "metadata": {},
   "outputs": [
    {
     "name": "stdout",
     "output_type": "stream",
     "text": [
      "CPU times: user 4.28 s, sys: 11.2 ms, total: 4.29 s\n",
      "Wall time: 4.3 s\n"
     ]
    },
    {
     "data": {
      "text/plain": [
       "[3898, 'AEGINRT', 'R']"
      ]
     },
     "execution_count": 23,
     "metadata": {},
     "output_type": "execute_result"
    }
   ],
   "source": [
    "%time best_honeycomb(enable1)"
   ]
  },
  {
   "cell_type": "markdown",
   "metadata": {},
   "source": [
    "**Wow. 3898** is a high score! And it took less than 5 seconds to find it.\n",
    "\n",
    "However, I'd like to see the actual words in addition to the score. If I had designed my program to be modular rather than to be efficient, that would be trivial. But as is, I need to define a new function, `scoring_words`, before I can create such a report:"
   ]
  },
  {
   "cell_type": "code",
   "execution_count": 24,
   "metadata": {
    "scrolled": false
   },
   "outputs": [],
   "source": [
    "def scoring_words(letters, center, words) -> set:\n",
    "    \"\"\"The set of words that this honeycomb can make.\"\"\"\n",
    "    subsets = letter_subsets(letters, center)\n",
    "    return {w for w in words if letterset(w) in subsets}\n",
    "\n",
    "def report(words):\n",
    "    \"\"\"Print stats and word scores for the best honeycomb on these words.\"\"\"\n",
    "    (score, letters, center) = best_honeycomb(words)\n",
    "    sw = scoring_words(letters, center, words)\n",
    "    top = max(sw, key=word_score)\n",
    "    np = sum(map(is_pangram, sw))\n",
    "    assert score == sum(map(word_score, sw))\n",
    "    print(f'''\n",
    "    The highest-scoring honeycomb for this list of {len(words)} words is:\n",
    "        {letters} (center {center})\n",
    "    It scores {score} points on {len(sw)} words with {np} pangrams*\n",
    "    The top scoring word is {top} for {word_score(top)} points.\\n''')\n",
    "    printcolumns(4, 20, [f'{w} ({word_score(w)}){\"*\" if is_pangram(w) else \" \"}'\n",
    "                         for w in sorted(sw)])\n",
    "\n",
    "def printcolumns(cols, width, items):\n",
    "    \"\"\"Print items in designated columns of designated width.\"\"\"\n",
    "    for i, item in enumerate(items, 1):\n",
    "        print(item.ljust(width), end='')\n",
    "        if i % cols == 0: print()"
   ]
  },
  {
   "cell_type": "code",
   "execution_count": 25,
   "metadata": {
    "scrolled": false
   },
   "outputs": [
    {
     "name": "stdout",
     "output_type": "stream",
     "text": [
      "\n",
      "    The highest-scoring honeycomb for this list of 44585 words is:\n",
      "        AEGINRT (center R)\n",
      "    It scores 3898 points on 537 words with 50 pangrams*\n",
      "    The top scoring word is REINTEGRATING for 20 points.\n",
      "\n",
      "AERATE (6)          AERATING (15)*      AERIE (5)           AERIER (6)          \n",
      "AGAR (1)            AGER (1)            AGGER (5)           AGGREGATE (9)       \n",
      "AGGREGATING (18)*   AGINNER (7)         AGRARIAN (8)        AGREE (5)           \n",
      "AGREEING (8)        AGRIA (5)           AIGRET (6)          AIGRETTE (8)        \n",
      "AIRER (5)           AIRIER (6)          AIRING (6)          AIRN (1)            \n",
      "AIRT (1)            AIRTING (7)         ANEAR (5)           ANEARING (8)        \n",
      "ANERGIA (7)         ANGARIA (7)         ANGER (5)           ANGERING (8)        \n",
      "ANGRIER (7)         ANTEATER (8)        ANTIAIR (7)         ANTIAR (6)          \n",
      "ANTIARIN (8)        ANTRA (5)           ANTRE (5)           AREA (1)            \n",
      "AREAE (5)           ARENA (5)           ARENITE (7)         ARETE (5)           \n",
      "ARGENT (6)          ARGENTINE (16)*     ARGENTITE (16)*     ARGININE (8)        \n",
      "ARIA (1)            ARIETTA (7)         ARIETTE (7)         ARRAIGN (7)         \n",
      "ARRAIGNING (10)     ARRANGE (7)         ARRANGER (8)        ARRANGING (9)       \n",
      "ARRANT (6)          ARREAR (6)          ARREARAGE (9)       ARTIER (6)          \n",
      "ATRIA (5)           ATTAINER (8)        ATTAR (5)           ATTIRE (6)          \n",
      "ATTIRING (8)        ATTRITE (7)         EAGER (5)           EAGERER (7)         \n",
      "EAGRE (5)           EARING (6)          EARN (1)            EARNER (6)          \n",
      "EARNING (7)         EARRING (7)         EATER (5)           EERIE (5)           \n",
      "EERIER (6)          EGER (1)            EGGAR (5)           EGGER (5)           \n",
      "EGRET (5)           ENGAGER (7)         ENGINEER (8)        ENGINEERING (11)    \n",
      "ENGIRT (6)          ENGRAIN (7)         ENGRAINING (10)     ENRAGE (6)          \n",
      "ENRAGING (8)        ENTER (5)           ENTERA (6)          ENTERER (7)         \n",
      "ENTERING (8)        ENTERTAIN (9)       ENTERTAINER (11)    ENTERTAINING (19)*  \n",
      "ENTIRE (6)          ENTRAIN (7)         ENTRAINER (9)       ENTRAINING (17)*    \n",
      "ENTRANT (7)         ENTREAT (7)         ENTREATING (17)*    ENTREE (6)          \n",
      "ERGATE (6)          ERNE (1)            ERRANT (6)          ERRATA (6)          \n",
      "ERRING (6)          ETAGERE (7)         ETERNE (6)          GAGER (5)           \n",
      "GAGGER (6)          GAINER (6)          GAITER (6)          GANGER (6)          \n",
      "GANGRENE (8)        GANGRENING (10)     GARAGE (6)          GARAGING (8)        \n",
      "GARGET (6)          GARNER (6)          GARNERING (9)       GARNET (6)          \n",
      "GARNI (5)           GARNIERITE (17)*    GARRET (6)          GARRING (7)         \n",
      "GARTER (6)          GARTERING (16)*     GEAR (1)            GEARING (7)         \n",
      "GENERA (6)          GENERATE (8)        GENERATING (17)*    GENRE (5)           \n",
      "GERENT (6)          GETTER (6)          GETTERING (9)       GINGER (6)          \n",
      "GINGERING (9)       GINNER (6)          GINNIER (7)         GIRN (1)            \n",
      "GIRNING (7)         GIRT (1)            GIRTING (7)         GITTERN (7)         \n",
      "GNAR (1)            GNARR (5)           GNARRING (8)        GNATTIER (15)*      \n",
      "GRAIN (5)           GRAINER (7)         GRAINIER (8)        GRAINING (8)        \n",
      "GRAN (1)            GRANA (5)           GRANGE (6)          GRANGER (7)         \n",
      "GRANITA (7)         GRANITE (14)*       GRANNIE (7)         GRANT (5)           \n",
      "GRANTEE (7)         GRANTER (7)         GRANTING (8)        GRAT (1)            \n",
      "GRATE (5)           GRATER (6)          GRATIN (6)          GRATINE (14)*       \n",
      "GRATINEE (15)*      GRATINEEING (18)*   GRATING (7)         GREAT (5)           \n",
      "GREATEN (7)         GREATENING (17)*    GREATER (7)         GREE (1)            \n",
      "GREEGREE (8)        GREEING (7)         GREEN (5)           GREENER (7)         \n",
      "GREENGAGE (9)       GREENIE (7)         GREENIER (8)        GREENING (8)        \n",
      "GREET (5)           GREETER (7)         GREETING (8)        GREGARINE (9)       \n",
      "GREIGE (6)          GRIG (1)            GRIGRI (6)          GRIN (1)            \n",
      "GRINNER (7)         GRINNING (8)        GRIT (1)            GRITTIER (8)        \n",
      "GRITTING (8)        IGNITER (7)         INANER (6)          INERRANT (8)        \n",
      "INERT (5)           INERTIA (7)         INERTIAE (8)        INGRAIN (7)         \n",
      "INGRAINING (10)     INGRATE (14)*       INGRATIATE (17)*    INGRATIATING (12)   \n",
      "INNER (5)           INTEGER (7)         INTEGRATE (16)*     INTEGRATING (18)*   \n",
      "INTENERATE (10)     INTENERATING (19)*  INTER (5)           INTERAGE (15)*      \n",
      "INTERGANG (16)*     INTERN (6)          INTERNE (7)         INTERNEE (8)        \n",
      "INTERNING (9)       INTERREGNA (17)*    INTERRING (9)       INTERTIE (8)        \n",
      "INTRANT (7)         INTREAT (7)         INTREATING (17)*    INTRIGANT (9)       \n",
      "IRATE (5)           IRATER (6)          IRING (5)           IRRIGATE (8)        \n",
      "IRRIGATING (10)     IRRITANT (8)        IRRITATE (8)        IRRITATING (10)     \n",
      "ITERANT (7)         ITERATE (7)         ITERATING (16)*     ITINERANT (9)       \n",
      "ITINERATE (9)       ITINERATING (18)*   NAGGER (6)          NAGGIER (7)         \n",
      "NAIRA (5)           NARINE (6)          NARRATE (7)         NARRATER (8)        \n",
      "NARRATING (9)       NATTER (6)          NATTERING (16)*     NATTIER (7)         \n",
      "NEAR (1)            NEARER (6)          NEARING (7)         NEATER (6)          \n",
      "NEGATER (7)         NETTER (6)          NETTIER (7)         NIGGER (6)          \n",
      "NITER (5)           NITERIE (7)         NITRATE (7)         NITRATING (9)       \n",
      "NITRE (5)           NITRITE (7)         NITTIER (7)         RAGA (1)            \n",
      "RAGE (1)            RAGEE (5)           RAGGEE (6)          RAGGING (7)         \n",
      "RAGI (1)            RAGING (6)          RAGTAG (6)          RAIA (1)            \n",
      "RAIN (1)            RAINIER (7)         RAINING (7)         RANEE (5)           \n",
      "RANG (1)            RANGE (5)           RANGER (6)          RANGIER (7)         \n",
      "RANGING (7)         RANI (1)            RANT (1)            RANTER (6)          \n",
      "RANTING (7)         RARE (1)            RARER (5)           RARING (6)          \n",
      "RATAN (5)           RATATAT (7)         RATE (1)            RATER (5)           \n",
      "RATINE (6)          RATING (6)          RATITE (6)          RATTAN (6)          \n",
      "RATTEEN (7)         RATTEN (6)          RATTENER (8)        RATTENING (16)*     \n",
      "RATTER (6)          RATTIER (7)         RATTING (7)         REAGENT (7)         \n",
      "REAGGREGATE (11)    REAGGREGATING (20)* REAGIN (6)          REAR (1)            \n",
      "REARER (6)          REARING (7)         REARRANGE (9)       REARRANGING (11)    \n",
      "REATA (5)           REATTAIN (8)        REATTAINING (18)*   REEARN (6)          \n",
      "REEARNING (9)       REENGAGE (8)        REENGAGING (10)     REENGINEER (10)     \n",
      "REENGINEERING (13)  REENTER (7)         REENTERING (10)     REENTRANT (9)       \n",
      "REGAIN (6)          REGAINER (8)        REGAINING (9)       REGATTA (7)         \n",
      "REGEAR (6)          REGEARING (9)       REGENERATE (10)     REGENERATING (19)*  \n",
      "REGENT (6)          REGGAE (6)          REGINA (6)          REGINAE (7)         \n",
      "REGNA (5)           REGNANT (7)         REGRANT (7)         REGRANTING (17)*    \n",
      "REGRATE (7)         REGRATING (16)*     REGREEN (7)         REGREENING (10)     \n",
      "REGREET (7)         REGREETING (10)     REGRET (6)          REGRETTER (9)       \n",
      "REGRETTING (10)     REIGN (5)           REIGNING (8)        REIGNITE (8)        \n",
      "REIGNITING (10)     REIN (1)            REINING (7)         REINITIATE (10)     \n",
      "REINITIATING (19)*  REINTEGRATE (18)*   REINTEGRATING (20)* REINTER (7)         \n",
      "REINTERRING (11)    REITERATE (9)       REITERATING (18)*   RENEGE (6)          \n",
      "RENEGER (7)         RENEGING (8)        RENIG (5)           RENIGGING (9)       \n",
      "RENIN (5)           RENITENT (8)        RENNET (6)          RENNIN (6)          \n",
      "RENT (1)            RENTE (5)           RENTER (6)          RENTIER (7)         \n",
      "RENTING (7)         RERAN (5)           RERIG (5)           RERIGGING (9)       \n",
      "RETAG (5)           RETAGGING (16)*     RETAIN (6)          RETAINER (8)        \n",
      "RETAINING (16)*     RETARGET (8)        RETARGETING (18)*   RETE (1)            \n",
      "RETEAR (6)          RETEARING (16)*     RETENE (6)          RETIA (5)           \n",
      "RETIARII (8)        RETIE (5)           RETINA (6)          RETINAE (7)         \n",
      "RETINE (6)          RETINENE (8)        RETINITE (8)        RETINT (6)          \n",
      "RETINTING (9)       RETIRANT (8)        RETIRE (6)          RETIREE (7)         \n",
      "RETIRER (7)         RETIRING (8)        RETRAIN (7)         RETRAINING (17)*    \n",
      "RETREAT (7)         RETREATANT (10)     RETREATER (9)       RETREATING (17)*    \n",
      "RETTING (7)         RIANT (5)           RIATA (5)           RIGGER (6)          \n",
      "RIGGING (7)         RING (1)            RINGENT (7)         RINGER (6)          \n",
      "RINGGIT (7)         RINGING (7)         RINNING (7)         RITE (1)            \n",
      "RITTER (6)          TAGGER (6)          TAGRAG (6)          TANAGER (7)         \n",
      "TANGERINE (16)*     TANGIER (14)*       TANNER (6)          TANTARA (7)         \n",
      "TANTRA (6)          TARE (1)            TARGE (5)           TARGET (6)          \n",
      "TARGETING (16)*     TARING (6)          TARN (1)            TARRE (5)           \n",
      "TARRIER (7)         TARRING (7)         TART (1)            TARTAN (6)          \n",
      "TARTANA (7)         TARTAR (6)          TARTER (6)          TARTING (7)         \n",
      "TARTRATE (8)        TATAR (5)           TATER (5)           TATTER (6)          \n",
      "TATTERING (16)*     TATTIER (7)         TEAR (1)            TEARER (6)          \n",
      "TEARIER (7)         TEARING (14)*       TEENAGER (8)        TEENER (6)          \n",
      "TEENIER (7)         TEETER (6)          TEETERING (9)       TENNER (6)          \n",
      "TENTER (6)          TENTERING (9)       TENTIER (7)         TERAI (5)           \n",
      "TERETE (6)          TERGA (5)           TERGITE (7)         TERN (1)            \n",
      "TERNATE (7)         TERNE (5)           TERRA (5)           TERRAE (6)          \n",
      "TERRAIN (7)         TERRANE (7)         TERRARIA (8)        TERREEN (7)         \n",
      "TERRENE (7)         TERRET (6)          TERRIER (7)         TERRINE (7)         \n",
      "TERRIT (6)          TERTIAN (7)         TETRA (5)           TETTER (6)          \n",
      "TIARA (5)           TIER (1)            TIERING (7)         TIGER (5)           \n",
      "TINIER (6)          TINNER (6)          TINNIER (7)         TINTER (6)          \n",
      "TIRE (1)            TIRING (6)          TITER (5)           TITRANT (7)         \n",
      "TITRATE (7)         TITRATING (9)       TITRE (5)           TITTER (6)          \n",
      "TITTERER (8)        TITTERING (9)       TRAGI (5)           TRAIN (5)           \n",
      "TRAINEE (7)         TRAINER (7)         TRAINING (8)        TRAIT (5)           \n",
      "TREAT (5)           TREATER (7)         TREATING (15)*      TREE (1)            \n",
      "TREEING (7)         TREEN (5)           TRET (1)            TRIAGE (6)          \n",
      "TRIAGING (8)        TRIENE (6)          TRIENNIA (8)        TRIER (5)           \n",
      "TRIG (1)            TRIGGER (7)         TRIGGERING (10)     TRIGGING (8)        \n",
      "TRINE (5)           TRINING (7)         TRINITARIAN (11)    TRITE (5)           \n",
      "TRITER (6)          "
     ]
    }
   ],
   "source": [
    "report(enable1)"
   ]
  }
 ],
 "metadata": {
  "kernelspec": {
   "display_name": "Python 3",
   "language": "python",
   "name": "python3"
  },
  "language_info": {
   "codemirror_mode": {
    "name": "ipython",
    "version": 3
   },
   "file_extension": ".py",
   "mimetype": "text/x-python",
   "name": "python",
   "nbconvert_exporter": "python",
   "pygments_lexer": "ipython3",
   "version": "3.7.2"
  }
 },
 "nbformat": 4,
 "nbformat_minor": 2
}
