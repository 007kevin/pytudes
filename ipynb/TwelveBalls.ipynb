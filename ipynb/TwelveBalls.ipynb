{
 "cells": [
  {
   "cell_type": "markdown",
   "metadata": {},
   "source": [
    "<div align=\"right\"><i>Peter Norvig<br>2012; updated August 2019</i></div>\n",
    "\n",
    "# Weighing Twelve Balls on a Balance Scale\n",
    "\n",
    "> *You are given twelve identical-looking balls and a two-sided scale. One of the balls is of a different weight, although you don't know whether it's lighter or heavier. How can you use just three weighings of the scale to determine not only what the different ball is, but also whether it's lighter or heavier?*\n",
    "\n",
    "This is a traditional brain-teaser puzzle, meant to be solved with paper and pencil. \n",
    "But I want to solve not just this specific puzzle, but related puzzles where you can vary (a) the number of balls, (b) the number of weighings allowed, and (c) whether the odd ball might be heavier, lighter, or either, or neither. For that I'll ned a program. (I originally wrote this program in 2012, but am republishing it here in revised form because the problem was mentioned in the [538 Riddler](https://fivethirtyeight.com/features/which-billiard-ball-is-rigged/) for 16 August 2019. It also appeared in a [Numberplay](https://wordplay.blogs.nytimes.com/2014/07/21/12coin/) column in 2014, with coins instead of balls.)\n",
    "\n",
    "# Design\n",
    "\n",
    "Here are the concepts I'm dealing with:\n",
    "\n",
    "- **balls**: In the general case I have N balls. I'll represent them with a list like `[1, 2, 3]` for N = 3.\n",
    "- **oddballs**: Exactly one of the balls is **odd** in its weight. \n",
    "I'll represent the situation where ball N is heavier as +N, and where ball N is lighter as -N. (I'll represent the situation where no ball is odd with `0`; that's not needed for the puzzle stated above, but is a nice extension.) With N = 3, the set of all possible oddballs is `{+1, -1, +2, -2, +3, -3}`. \n",
    "- **puzzle**: I'll call `Puzzle(N, W, {-1, +1})` to create a puzzle with N balls, W weighings allowed, and the oddballs allowing for each ball to be lighter (-1) or heavier (+1). The third argument can be any subset of `{-1, 0, +1}`, where the `0` stands for \"allow the possibility that no ball is odd; they all weigh the same.\" \n",
    "- **weighing**: I can weigh a collection of balls on the left versus a collection on the right, and the result will be that the left side is greater than, equal to, or less than the right in weight. I'll denote that with the call `weigh(L, R, oddball)`, which returns a string, `'gt'`, `'eq'`, or `'lt'`.\n",
    "- **weight**: I'll arbitrarily say that a normal ball weighs 100, a lighter ball 99, and a heavier ball 101.\n",
    "- **solution**: Given a puzzle, a solution is a **strategy tree** that can correctly discover the odd ball, whatever it is, in the allowable number of weighings.\n",
    "- **strategy tree**: A tree with oddballs (integers) as leaf nodes, and interior nodes with 5 components:  `Tree(L, R, gt, eq, lt)` is a node where `L` and `R` are the collections of balls to be weighed, and `gt`, `eq`, and `lt` are subtrees for the three possible results of the weighing.\n",
    "- **following a path in a tree**: I'll use `follow(tree, oddball)` to say *follow the path through the tree, doing each weighing under the assumption of the given oddball, and return the leaf node reached by the path&mdash;the oddball that the tree predicts.* Note that the function `follow` gets to see what the oddball is, but the `tree` never gets direct access to that; the tree has to figure it out by doing weighings.\n",
    "- **valid tree**: a tree is a valid solution to a puzzle if no branch uses more than the allowable number of weighings, and if, for every possible oddball in the puzzle, following the path through the tree correctly returns that oddball as the answer. I'll use `valid(tree, puzzle)` for this.\n",
    "\n",
    "\n",
    "# Implementation\n",
    "\n",
    "Let's start implementing the concepts:"
   ]
  },
  {
   "cell_type": "code",
   "execution_count": 1,
   "metadata": {},
   "outputs": [],
   "source": [
    "from collections import namedtuple\n",
    "import random\n",
    "\n",
    "#### Types\n",
    "\n",
    "Ball = Oddball = int\n",
    "\n",
    "class Puzzle:\n",
    "    \"Represent a specific ball-weighing puzzle.\"\n",
    "    def __init__(self, N=12, weighings=3, oddities={-1, +1}):\n",
    "        self.weighings = weighings\n",
    "        self.balls     = list(range(1, N + 1))\n",
    "        self.oddballs  = {b * o for b in self.balls for o in oddities}\n",
    "        \n",
    "Tree = namedtuple('Tree', 'L, R, gt, eq, lt')\n",
    "\n",
    "#### Functions\n",
    "    \n",
    "def weigh(L, R, oddball) -> str:\n",
    "    \"Weigh balls L against balls R, given the oddball; return 'gt', 'eq', or 'lt'.\"\n",
    "    diff = sum(weight(b, oddball) for b in L) - sum(weight(b, oddball) for b in R)\n",
    "    return ('gt' if diff > 0 else\n",
    "            'lt' if diff < 0 else\n",
    "            'eq')\n",
    "\n",
    "def weight(ball, oddball) -> int: \n",
    "    return 101 if +ball == oddball else 99 if -ball == oddball else 100\n",
    "    \n",
    "def solve(puzzle) -> Tree or None:\n",
    "    \"Return a valid tree; one that solves the puzzle, or None.\"\n",
    "    tree = find_tree(puzzle, puzzle.oddballs, puzzle.weighings)\n",
    "    return tree if valid(tree, puzzle) else None\n",
    "    \n",
    "def follow(tree, oddball) -> Oddball:\n",
    "    \"Follow a path through the tree and return the oddball that the tree leads us to.\"\n",
    "    if isinstance(tree, Oddball):\n",
    "        return tree\n",
    "    else:\n",
    "        result = weigh(tree.L, tree.R, oddball)\n",
    "        return follow(getattr(tree, result), oddball)\n",
    "    \n",
    "def valid(tree, puzzle) -> bool:\n",
    "    \"Does the strategy tree solve the puzzle correctly for all possible oddballs?\"\n",
    "    return (tree is not None and\n",
    "            depth(tree) <= puzzle.weighings and \n",
    "            all(follow(tree, oddball) == oddball \n",
    "                for oddball in puzzle.oddballs))\n",
    "\n",
    "def depth(tree) -> int:\n",
    "    \"Maximum depth of a strategy tree.\"\n",
    "    return (0 if isinstance(tree, Oddball) else \n",
    "            1 + max(depth(tree.gt), depth(tree.eq), depth(tree.lt)))"
   ]
  },
  {
   "cell_type": "markdown",
   "metadata": {},
   "source": [
    "Let's try out some of these functions:"
   ]
  },
  {
   "cell_type": "code",
   "execution_count": 2,
   "metadata": {},
   "outputs": [
    {
     "data": {
      "text/plain": [
       "(3,\n",
       " [1, 2, 3, 4, 5, 6, 7, 8],\n",
       " {-8, -7, -6, -5, -4, -3, -2, -1, 1, 2, 3, 4, 5, 6, 7, 8})"
      ]
     },
     "execution_count": 2,
     "metadata": {},
     "output_type": "execute_result"
    }
   ],
   "source": [
    "p8 = Puzzle(8) \n",
    "\n",
    "p8.weighings, p8.balls, p8.oddballs"
   ]
  },
  {
   "cell_type": "code",
   "execution_count": 3,
   "metadata": {},
   "outputs": [
    {
     "data": {
      "text/plain": [
       "'eq'"
      ]
     },
     "execution_count": 3,
     "metadata": {},
     "output_type": "execute_result"
    }
   ],
   "source": [
    "# If we weigh balls 1, 2 against 3, 4, and the oddball is that 5 is lighter, the result should be 'eq'\n",
    "weigh([1, 2], [3, 4], -5)"
   ]
  },
  {
   "cell_type": "code",
   "execution_count": 4,
   "metadata": {},
   "outputs": [
    {
     "data": {
      "text/plain": [
       "100"
      ]
     },
     "execution_count": 4,
     "metadata": {},
     "output_type": "execute_result"
    }
   ],
   "source": [
    "weight(1, oddball=-5)"
   ]
  },
  {
   "cell_type": "code",
   "execution_count": 5,
   "metadata": {},
   "outputs": [
    {
     "data": {
      "text/plain": [
       "99"
      ]
     },
     "execution_count": 5,
     "metadata": {},
     "output_type": "execute_result"
    }
   ],
   "source": [
    "weight(5, oddball=-5)"
   ]
  },
  {
   "cell_type": "markdown",
   "metadata": {},
   "source": [
    "# Strategy for Finding a Valid Tree\n",
    "\n",
    "Now for the tricky part. We want to find a valid tree to solve a puzzle. The key idea is that a **weighing** gives us information by making a **partition** of the possible **oddballs** into entries for eaach of the three possible weighing results: `gt`, `eq`, or `lt`. Subsequent subtrees can handle each of the partitions.\n"
   ]
  },
  {
   "cell_type": "code",
   "execution_count": 6,
   "metadata": {},
   "outputs": [],
   "source": [
    "def partition(L, R, oddballs) -> dict:\n",
    "    \"Build a dict of the possible outcomes (oddballs) from weighing L versus R.\"\n",
    "    part = dict(gt=set(), eq=set(), lt=set())\n",
    "    for odd in oddballs:\n",
    "        part[weigh(L, R, odd)].add(odd)\n",
    "    return part"
   ]
  },
  {
   "cell_type": "markdown",
   "metadata": {},
   "source": [
    "For example, with 12 balls, if we weigh balls 1 and 2 on the left versus 11 and 12 on the right, then there are 4 ways  the left side can be greater than the right: either 1 or 2 is heavier or 11 or 12 is lighter. Similarly there are 4 ways of getting a `lt` weighing result. The remaining 16 possible oddballs&mdash;balls 3 through 10 being either heavier or lighter&mdash;show up in the `eq` entry of the partition:"
   ]
  },
  {
   "cell_type": "code",
   "execution_count": 7,
   "metadata": {},
   "outputs": [
    {
     "data": {
      "text/plain": [
       "{'gt': {-12, -11, 1, 2},\n",
       " 'eq': {-10, -9, -8, -7, -6, -5, -4, -3, 3, 4, 5, 6, 7, 8, 9, 10},\n",
       " 'lt': {-2, -1, 11, 12}}"
      ]
     },
     "execution_count": 7,
     "metadata": {},
     "output_type": "execute_result"
    }
   ],
   "source": [
    "p12 = Puzzle(12, 3)\n",
    "\n",
    "partition([1, 2], [11, 12], p12.oddballs)"
   ]
  },
  {
   "cell_type": "markdown",
   "metadata": {},
   "source": [
    "If this was the first weighing in our strategy tree, could we go on to solve the puzzle in 3 weighings? **No!** Any one weighing can at best partition the remaining possibilities into 3 equal entries. To solve the puzzle, we need every path in the tree to end up with only one possibility. So any two weighings can handle at most  3 &times; 3 = 9 possibilities; here we have 16, which is too many. We call this a **bad partition**.\n",
    "\n",
    "The following is a **good partition** because each of the entries has 8 possibilities, and 8 is less than 9. (Note: being a good partition does not guarantee that the problem is solvable from there; but being a bad partition guarantees that it is not solvable.)"
   ]
  },
  {
   "cell_type": "code",
   "execution_count": 8,
   "metadata": {},
   "outputs": [
    {
     "data": {
      "text/plain": [
       "{'gt': {-12, -11, -10, -9, 1, 2, 3, 4},\n",
       " 'eq': {-8, -7, -6, -5, 5, 6, 7, 8},\n",
       " 'lt': {-4, -3, -2, -1, 9, 10, 11, 12}}"
      ]
     },
     "execution_count": 8,
     "metadata": {},
     "output_type": "execute_result"
    }
   ],
   "source": [
    "partition([1, 2, 3, 4], [9, 10, 11, 12], p12.oddballs)"
   ]
  },
  {
   "cell_type": "markdown",
   "metadata": {},
   "source": [
    "So now we have a viable approach to implementing `find_tree`:\n",
    "\n",
    "   - We call `find_tree(puzzle, oddballs, weighings)`. At the top level, the oddballs and number of weighings come from the puzzle. At recursive levels, we will reduce the number of oddball possibilities according to the partition, and the number of remaining weighings by 1 each time.\n",
    "   - At each step we will randomly select two groups of balls, `L` and `R`, to be weighed.\n",
    "   - We will then see what partition `L` and `R` gives us, and whether the partition is good or bad.\n",
    "   - If the partition is bad, try another random selection of `L` and `R`.\n",
    "   - Use a **greedy** approach where we accept the first good partition.\n",
    "      (If we don't find a good partition after 1,000 tries, we give up.)\n",
    "   - Once we have a good partition, we recursively find a tree for each of the branches of the partition."
   ]
  },
  {
   "cell_type": "code",
   "execution_count": 9,
   "metadata": {},
   "outputs": [],
   "source": [
    "def find_tree(puzzle, oddballs, weighings) -> Tree or Oddball or None:\n",
    "    \"Find a strategy tree that covers all the oddballs in the given number of weighings.\"\n",
    "    if len(oddballs) == 1:\n",
    "        return oddballs.pop() # One oddball possibility left; we're done: leaf node\n",
    "    elif len(oddballs) == 0:\n",
    "        return 0              # No oddball\n",
    "    elif weighings == 0:\n",
    "        return None           # Can't find a solution in the allowable weighings\n",
    "    else:\n",
    "        L, R, part = find_good_partition(puzzle, oddballs, weighings - 1)\n",
    "        if not part: \n",
    "            return None\n",
    "        subtrees = {r: find_tree(puzzle, part[r], weighings - 1) for r in part}\n",
    "        if None not in subtrees.values(): \n",
    "            return Tree(L, R, **subtrees)\n",
    "    \n",
    "def find_good_partition(puzzle, oddballs, weighings) -> (list, list, dict):\n",
    "    \"Return (L, R, partition) such that no partition entry has more than 3**weighings oddballs.\"\n",
    "    for _ in range(1000): \n",
    "        L, R = random_LR(puzzle, oddballs)\n",
    "        part = partition(L, R, oddballs)\n",
    "        if all(len(entry) <= 3 ** weighings for entry in part.values()):\n",
    "            return L, R, part\n",
    "    return [], [], {} # Fail\n",
    "    \n",
    "def random_LR(puzzle, oddballs):\n",
    "    \"Random choice of balls for L and R side.\"\n",
    "    # Pick a random number of balls, B, then randomly pick B balls for each side.\n",
    "    B = random.choice(range(1, (len(puzzle.balls) - 1) // 3 + 2))\n",
    "    random.shuffle(puzzle.balls) \n",
    "    return puzzle.balls[:B], puzzle.balls[-B:]"
   ]
  },
  {
   "cell_type": "markdown",
   "metadata": {},
   "source": [
    "Here we see that `find_good_partition` does its job:"
   ]
  },
  {
   "cell_type": "code",
   "execution_count": 10,
   "metadata": {},
   "outputs": [
    {
     "data": {
      "text/plain": [
       "([12, 3, 6, 9],\n",
       " [10, 5, 11, 7],\n",
       " {'gt': {-11, -10, -7, -5, 3, 6, 9, 12},\n",
       "  'eq': {-8, -4, -2, -1, 1, 2, 4, 8},\n",
       "  'lt': {-12, -9, -6, -3, 5, 7, 10, 11}})"
      ]
     },
     "execution_count": 10,
     "metadata": {},
     "output_type": "execute_result"
    }
   ],
   "source": [
    "find_good_partition(p12, p12.oddballs, 2)"
   ]
  },
  {
   "cell_type": "markdown",
   "metadata": {},
   "source": [
    "It uses `random`, so it won't get the same result every time:"
   ]
  },
  {
   "cell_type": "code",
   "execution_count": 11,
   "metadata": {},
   "outputs": [
    {
     "data": {
      "text/plain": [
       "([2, 3, 1, 12],\n",
       " [11, 8, 9, 4],\n",
       " {'gt': {-11, -9, -8, -4, 1, 2, 3, 12},\n",
       "  'eq': {-10, -7, -6, -5, 5, 6, 7, 10},\n",
       "  'lt': {-12, -3, -2, -1, 4, 8, 9, 11}})"
      ]
     },
     "execution_count": 11,
     "metadata": {},
     "output_type": "execute_result"
    }
   ],
   "source": [
    "find_good_partition(p12, p12.oddballs, 2)"
   ]
  },
  {
   "cell_type": "markdown",
   "metadata": {},
   "source": [
    "# Solving Some Puzzles\n",
    "\n",
    "Now we're ready to solve puzzles!"
   ]
  },
  {
   "cell_type": "code",
   "execution_count": 12,
   "metadata": {},
   "outputs": [
    {
     "data": {
      "text/plain": [
       "Tree(L=[2, 7, 5, 10], R=[4, 9, 11, 8], gt=Tree(L=[5, 9, 7, 8], R=[1, 4, 2, 3], gt=Tree(L=[8, 10, 5], R=[1, 2, 7], gt=5, eq=-4, lt=7), eq=Tree(L=[8, 3, 9, 5], R=[10, 2, 6, 11], gt=-11, eq=0, lt=10), lt=Tree(L=[8, 6, 5], R=[9, 1, 11], gt=-9, eq=2, lt=-8)), eq=Tree(L=[12, 2, 10, 9], R=[7, 6, 11, 3], gt=Tree(L=[8, 3, 12], R=[2, 11, 4], gt=12, eq=-6, lt=-3), eq=Tree(L=[6, 3, 11], R=[8, 1, 4], gt=-1, eq=0, lt=1), lt=Tree(L=[1, 7, 10], R=[11, 6, 12], gt=-12, eq=3, lt=6)), lt=Tree(L=[7, 6, 3, 1], R=[9, 8, 2, 5], gt=Tree(L=[6, 9, 12], R=[2, 8, 4], gt=-2, eq=-5, lt=0), eq=Tree(L=[4], R=[11], gt=4, eq=-10, lt=11), lt=Tree(L=[8, 2, 7], R=[4, 12, 1], gt=8, eq=9, lt=-7)))"
      ]
     },
     "execution_count": 12,
     "metadata": {},
     "output_type": "execute_result"
    }
   ],
   "source": [
    "solve(p12)"
   ]
  },
  {
   "cell_type": "markdown",
   "metadata": {},
   "source": [
    "OK, that's hard to read&mdash;my bad. Let's look at a much easier puzzle: 3 balls, 1 weighing allowed, and the odd ball can only be lighter:"
   ]
  },
  {
   "cell_type": "code",
   "execution_count": 13,
   "metadata": {},
   "outputs": [
    {
     "data": {
      "text/plain": [
       "Tree(L=[1], R=[2], gt=-2, eq=-3, lt=-1)"
      ]
     },
     "execution_count": 13,
     "metadata": {},
     "output_type": "execute_result"
    }
   ],
   "source": [
    "tree = solve(Puzzle(3, 1, {-1}))\n",
    "tree"
   ]
  },
  {
   "cell_type": "markdown",
   "metadata": {},
   "source": [
    "This tree says you weigh one ball against another (leaving the third unweighed), and the three possible weighing results tell you which of the three balls  is lighter. "
   ]
  },
  {
   "cell_type": "markdown",
   "metadata": {},
   "source": [
    "\n",
    "\n",
    "# Prettier Output\n",
    "\n",
    "Let's make the output easier to read. I'll use `[1·2·3·4 ⟘ 9·10·11·12] ➔` to mean *\"Weigh balls 1,2,3,4 versus 9,10,11,12 to get a result...\"*. I'll indent each interior node in the tree, and I'll use `>:` to mean *the result when the left hand side is greater than the right in weight is...*  \n",
    "\n",
    "Also, note that at the top node of a tree, there's no sense randomly shuffling the balls&mdash;the only choice that matters is how many balls, `B`, to put on each side. Putting `1·2·3·4` on the left is no different than `3·7·9·12`, because each ball is undifferentiated at the start. I'll alter `random_LR` for this."
   ]
  },
  {
   "cell_type": "code",
   "execution_count": 14,
   "metadata": {},
   "outputs": [],
   "source": [
    "def do(puzzle):\n",
    "    \"Print the solution to the puzzle as indented text.\"\n",
    "    print(indented(solve(puzzle)))\n",
    "    \n",
    "def indented(tree, i=0, prefix=''):\n",
    "    \"Pretty, indented string of a strategy tree.\"\n",
    "    if isinstance(tree, Tree):\n",
    "        subtrees = (indented(tree.gt, i+1, '>:'), indented(tree.eq, i+1, '=:'), indented(tree.lt, i+1, '<:'))\n",
    "        indent   = ('' if i == 0 else ('\\n' + ' ' * 5 * i))\n",
    "        return f'{indent}{prefix}[{items(tree.L)} ⟘ {items(tree.R)}] ➔ {\" \".join(subtrees)})'\n",
    "    elif tree == 0 or tree == None:\n",
    "        return f'{prefix}{tree}'\n",
    "    else:\n",
    "        return f'{prefix}{tree:+d}'\n",
    "    \n",
    "def items(collection): return '·'.join(map(str, sorted(collection)))\n",
    "\n",
    "def random_LR(puzzle, oddballs):\n",
    "    \"Random choice of balls for L and R side.\"\n",
    "    # Pick a random number of balls, B, then pick B balls for each side.\n",
    "    B = random.choice(range(1, (len(puzzle.balls) - 1) // 3 + 2))\n",
    "    if oddballs == puzzle.oddballs:\n",
    "        puzzle.balls.sort()\n",
    "    else:\n",
    "        random.shuffle(puzzle.balls) \n",
    "    return puzzle.balls[:B], puzzle.balls[-B:]"
   ]
  },
  {
   "cell_type": "code",
   "execution_count": 15,
   "metadata": {},
   "outputs": [
    {
     "name": "stdout",
     "output_type": "stream",
     "text": [
      "[1 ⟘ 3] ➔ >:-3 =:-2 <:-1)\n"
     ]
    }
   ],
   "source": [
    "# 3 balls, 1 weighing, only lighter balls possible\n",
    "do(Puzzle(3, 1, {-1}))"
   ]
  },
  {
   "cell_type": "code",
   "execution_count": 16,
   "metadata": {},
   "outputs": [
    {
     "name": "stdout",
     "output_type": "stream",
     "text": [
      "[1 ⟘ 3] ➔ \n",
      "     >:[3 ⟘ 2] ➔ >:0 =:+1 <:-3) \n",
      "     =:[2 ⟘ 1] ➔ >:+2 =:0 <:-2) \n",
      "     <:[2 ⟘ 3] ➔ >:0 =:-1 <:+3))\n"
     ]
    }
   ],
   "source": [
    "# 3 balls, 2 weighings, lighter or heavier balls possible\n",
    "do(Puzzle(3, 2))"
   ]
  },
  {
   "cell_type": "code",
   "execution_count": 17,
   "metadata": {},
   "outputs": [
    {
     "name": "stdout",
     "output_type": "stream",
     "text": [
      "[1·2·3·4 ⟘ 9·10·11·12] ➔ \n",
      "     >:[1·3·6·9 ⟘ 2·4·8·11] ➔ \n",
      "          >:[3·6·11·12 ⟘ 2·8·9·10] ➔ >:+3 =:+1 <:-11) \n",
      "          =:[12 ⟘ 1] ➔ >:0 =:-10 <:-12) \n",
      "          <:[1·7·11·12 ⟘ 4·5·8·9] ➔ >:-9 =:+2 <:+4)) \n",
      "     =:[3·8·10·11 ⟘ 4·6·7·9] ➔ \n",
      "          >:[4·9·10·12 ⟘ 1·6·8·11] ➔ >:-6 =:-7 <:+8) \n",
      "          =:[2·5 ⟘ 1·6] ➔ >:+5 =:0 <:-5) \n",
      "          <:[7·10·11 ⟘ 1·6·12] ➔ >:+7 =:-8 <:+6)) \n",
      "     <:[2·4·5·11 ⟘ 3·7·8·10] ➔ \n",
      "          >:[3·9 ⟘ 2·8] ➔ >:0 =:+11 <:-3) \n",
      "          =:[6·9·11 ⟘ 3·5·12] ➔ >:+9 =:-1 <:+12) \n",
      "          <:[5·7·11·12 ⟘ 2·6·9·10] ➔ >:-2 =:-4 <:+10)))\n"
     ]
    }
   ],
   "source": [
    "# The original puzzle with 12 balls\n",
    "do(p12)"
   ]
  },
  {
   "cell_type": "markdown",
   "metadata": {},
   "source": [
    "# Other Puzzles\n",
    "\n"
   ]
  },
  {
   "cell_type": "markdown",
   "metadata": {},
   "source": [
    "We can do 12 balls in 3 weighings even if it is possible that all the balls weigh the same (we use `0` to denote this situation):"
   ]
  },
  {
   "cell_type": "code",
   "execution_count": 18,
   "metadata": {},
   "outputs": [
    {
     "name": "stdout",
     "output_type": "stream",
     "text": [
      "[1·2·3·4 ⟘ 9·10·11·12] ➔ \n",
      "     >:[3·5·7·12 ⟘ 1·4·6·10] ➔ \n",
      "          >:[10 ⟘ 7] ➔ >:0 =:+3 <:-10) \n",
      "          =:[2·10·11 ⟘ 4·6·7] ➔ >:+2 =:-9 <:-11) \n",
      "          <:[4·7·11·12 ⟘ 5·6·8·9] ➔ >:+4 =:+1 <:-12)) \n",
      "     =:[2·6·8·12 ⟘ 1·7·10·11] ➔ \n",
      "          >:[2·8·12 ⟘ 1·6·11] ➔ >:+8 =:-7 <:+6) \n",
      "          =:[5·8·10·12 ⟘ 3·6·7·9] ➔ >:+5 =:0 <:-5) \n",
      "          <:[2·3·4 ⟘ 7·8·10] ➔ >:-8 =:-6 <:+7)) \n",
      "     <:[2·4·5·11 ⟘ 1·3·6·8] ➔ \n",
      "          >:[4·7·10·12 ⟘ 3·5·9·11] ➔ >:-3 =:-1 <:+11) \n",
      "          =:[3·11·12 ⟘ 5·7·10] ➔ >:+12 =:+9 <:+10) \n",
      "          <:[5·6·9 ⟘ 4·8·12] ➔ >:-4 =:-2 <:0)))\n"
     ]
    }
   ],
   "source": [
    "do(Puzzle(12, 3, {-1, 0, +1}))"
   ]
  },
  {
   "cell_type": "markdown",
   "metadata": {},
   "source": [
    "We can tackle much larger puzzles. With 4 weighings, we can theoretically handle up to 3<sup>4</sup> = 81 possibilities. Can we solve for 40 balls, each of which might be heavier or lighter?"
   ]
  },
  {
   "cell_type": "code",
   "execution_count": 19,
   "metadata": {},
   "outputs": [
    {
     "name": "stdout",
     "output_type": "stream",
     "text": [
      "None\n"
     ]
    }
   ],
   "source": [
    "do(Puzzle(40, 4))"
   ]
  },
  {
   "cell_type": "markdown",
   "metadata": {},
   "source": [
    "Unfortunately, no. How about 39 balls, and how about we allow for the possibility that no ball is odd. That's 39 &times; 2 + 1 = 79 possibilities."
   ]
  },
  {
   "cell_type": "code",
   "execution_count": 20,
   "metadata": {},
   "outputs": [
    {
     "name": "stdout",
     "output_type": "stream",
     "text": [
      "[1·2·3·4·5·6·7·8·9·10·11·12·13 ⟘ 27·28·29·30·31·32·33·34·35·36·37·38·39] ➔ \n",
      "     >:[4·6·7·9·10·13·17·18·32·33·35·37·39 ⟘ 1·2·3·11·14·16·19·20·22·23·28·31·36] ➔ \n",
      "          >:[1·2·4·7·9·16·21·26·28·36·37·39 ⟘ 10·12·15·18·19·22·23·24·27·29·32·34] ➔ \n",
      "               >:[2·4·6·10·12·15·17·19·20·21·23·31·36 ⟘ 3·5·8·9·11·13·16·18·26·33·35·37·39] ➔ >:+4 =:+7 <:+9) \n",
      "               =:[10·12·18·19·23·25·30·36·39 ⟘ 4·6·8·14·15·24·28·31·35] ➔ >:-31 =:+13 <:+6) \n",
      "               <:[6·8·10·16·20·21·26·28·29·33·34 ⟘ 2·3·7·9·11·14·22·25·31·32·39] ➔ >:+10 =:-36 <:-28)) \n",
      "          =:[1·4·6·8·11·18·19·22·38 ⟘ 9·12·24·27·30·31·33·37·39] ➔ \n",
      "               >:[6·7·9·13·30·36 ⟘ 23·24·25·26·27·34] ➔ >:-27 =:+8 <:-30) \n",
      "               =:[1·6·17·19·26·30·31·35·37·39 ⟘ 5·9·14·15·18·20·23·24·27·34] ➔ >:-34 =:-29 <:+5) \n",
      "               <:[10·11·12·16·23·25·38 ⟘ 2·7·13·21·22·34·36] ➔ >:+12 =:0 <:-38)) \n",
      "          <:[5·6·8·9·11·13·19·21·22·31·34·36·37 ⟘ 1·2·10·12·14·15·17·24·27·30·32·33·38] ➔ \n",
      "               >:[2·4·18·26·38 ⟘ 11·15·21·24·32] ➔ >:-32 =:-33 <:+11) \n",
      "               =:[2·5·6·9·10·11·15·19·24·25·30·35·36 ⟘ 1·7·12·16·17·18·20·21·22·28·31·38·39] ➔ >:-39 =:+3 <:-35) \n",
      "               <:[1·4·15·30·33 ⟘ 2·9·10·12·16] ➔ >:+1 =:-37 <:+2))) \n",
      "     =:[5·8·11·18·19·23·24·26·27·28·32·36·37 ⟘ 1·2·9·10·12·15·20·22·25·29·34·35·39] ➔ \n",
      "          >:[4·8·10·22·23·27·29·32·37 ⟘ 6·13·17·18·20·24·25·33·36] ➔ \n",
      "               >:[1·2·10·15·19·20·23·32·37 ⟘ 4·6·9·12·13·17·18·22·39] ➔ >:+23 =:-25 <:-20) \n",
      "               =:[14·28 ⟘ 15·19] ➔ >:-15 =:+26 <:+19) \n",
      "               <:[6·10·14·18·21·31·34 ⟘ 4·5·7·24·28·30·36] ➔ >:+18 =:-22 <:+24)) \n",
      "          =:[11·14·17·19·24·32·35·37·38 ⟘ 4·6·8·10·16·22·26·31·33] ➔ \n",
      "               >:[4·5·13·19·20·22·27·32·33·38 ⟘ 7·11·12·16·17·18·29·36·37·39] ➔ >:-16 =:+14 <:+17) \n",
      "               =:[1·2·3·9·17·21·26·28·31·32·38 ⟘ 7·8·10·11·12·18·22·29·33·34·36] ➔ >:+21 =:0 <:-21) \n",
      "               <:[3·4·6·9·14·21·30·32·33·38 ⟘ 1·2·5·10·11·13·17·22·24·36] ➔ >:-17 =:+16 <:-14)) \n",
      "          <:[2·8·10·15·17·24·26·27·28·33·34·35 ⟘ 4·5·6·11·12·18·22·23·29·30·31·39] ➔ \n",
      "               >:[6·7·13·15·17·19·23·25·26 ⟘ 1·11·12·14·16·22·32·36·38] ➔ >:+15 =:-18 <:-23) \n",
      "               =:[4·7·11·13·14·15·17·18·27·36·37·38·39 ⟘ 2·6·10·16·19·20·22·23·24·31·32·33·35] ➔ >:-19 =:+25 <:+20) \n",
      "               <:[8·12·20·25·26·27·28·32·34 ⟘ 3·4·5·13·19·21·24·31·38] ➔ >:-24 =:+22 <:-26))) \n",
      "     <:[2·8·11·15·19·21·22·25·29·31·34·39 ⟘ 1·5·7·12·13·23·30·33·35·36·37·38] ➔ \n",
      "          >:[2·3·6·8·13·33·36·39 ⟘ 1·7·9·10·25·27·31·34] ➔ \n",
      "               >:[4·5·6·8·27·28·29·33 ⟘ 7·10·15·20·21·30·32·39] ➔ >:-7 =:-1 <:+39) \n",
      "               =:[7·13·14·15·22·28·32·35·36·39 ⟘ 5·6·8·19·21·27·29·34·37·38] ➔ >:-5 =:-12 <:+29) \n",
      "               <:[3·8·13·24·31·35·36·37 ⟘ 5·7·11·15·19·21·22·29] ➔ >:+31 =:+34 <:-13)) \n",
      "          =:[1·3·10·11·13·17·19·20·28·36·38 ⟘ 2·5·6·12·14·15·16·29·32·37·39] ➔ \n",
      "               >:[1·9·15·16·18·19·23·28·30·32·34·37 ⟘ 3·7·10·12·13·14·20·22·24·29·33·35] ➔ >:+28 =:-6 <:0) \n",
      "               =:[5·6·11·18·20·22·23·25·26·30·32·34·36 ⟘ 1·2·8·9·10·13·14·17·19·27·29·31·39] ➔ >:-9 =:-4 <:+27) \n",
      "               <:[2·8·9·11·13·21·22·24·28·31·33·35·39 ⟘ 3·7·12·15·16·19·23·27·29·30·32·34·38] ➔ >:-3 =:-10 <:+32)) \n",
      "          <:[1·8·11·12·24·28·30·33·35·39 ⟘ 3·4·10·14·15·16·19·23·27·37] ➔ \n",
      "               >:[1·3·5·7·9·11·14·30·31·32·34·37·38 ⟘ 4·8·12·13·15·17·19·23·26·28·29·33·36] ➔ >:+30 =:+35 <:+33) \n",
      "               =:[10·11·20·23·24·26·28·29·31·39 ⟘ 2·3·4·5·9·16·27·33·34·38] ➔ >:-2 =:+36 <:+38) \n",
      "               <:[8·9·12·14·19·27·33·34·37 ⟘ 1·3·6·10·17·18·24·38·39] ➔ >:+37 =:-11 <:-8))))\n"
     ]
    }
   ],
   "source": [
    "do(Puzzle(39, 4, {-1, 0, +1}))"
   ]
  },
  {
   "cell_type": "markdown",
   "metadata": {},
   "source": [
    "We can do **27** balls in 3 weighings if we know that the odd ball can only be lighter, not heavier. And we can do 26 balls under the condition that either an odd ball is lighter or all the balls weigh the same. In both cases there are 27 possibilities, so that's the most we can possibly do."
   ]
  },
  {
   "cell_type": "code",
   "execution_count": 21,
   "metadata": {},
   "outputs": [
    {
     "name": "stdout",
     "output_type": "stream",
     "text": [
      "[1·2·3·4·5·6·7·8·9 ⟘ 19·20·21·22·23·24·25·26·27] ➔ \n",
      "     >:[6·7·12·15·17·19·20·25 ⟘ 2·5·10·13·16·24·26·27] ➔ \n",
      "          >:[1·2·5·6·10·14·20·25·26 ⟘ 3·9·13·15·16·18·19·23·27] ➔ >:-27 =:-24 <:-26) \n",
      "          =:[6·11·14·16·22 ⟘ 1·15·21·25·27] ➔ >:-21 =:-23 <:-22) \n",
      "          <:[1·3·6·11·13·20·22·26 ⟘ 4·7·10·12·14·15·19·24] ➔ >:-19 =:-25 <:-20)) \n",
      "     =:[2·4·12·15·18·25 ⟘ 1·9·13·14·17·26] ➔ \n",
      "          >:[11·13·15·16·21·23 ⟘ 7·9·12·14·24·27] ➔ >:-14 =:-17 <:-13) \n",
      "          =:[5·7·12·16·17·22·23·25 ⟘ 6·8·9·10·13·19·24·26] ➔ >:-10 =:-11 <:-16) \n",
      "          <:[2·6·9·15·21 ⟘ 4·8·11·12·23] ➔ >:-12 =:-18 <:-15)) \n",
      "     <:[2·4·6·10·11·12·14·18·19 ⟘ 1·3·9·13·22·24·25·26·27] ➔ \n",
      "          >:[3·8·13·16·20·24·27 ⟘ 4·6·7·9·12·14·15] ➔ >:-9 =:-1 <:-3) \n",
      "          =:[2·3·8·9·12·15·19·22·23 ⟘ 1·5·6·10·14·17·25·26·27] ➔ >:-5 =:-7 <:-8) \n",
      "          <:[4·5·7·8·12·13·16·22 ⟘ 3·6·9·11·17·18·24·25] ➔ >:-6 =:-2 <:-4)))\n"
     ]
    }
   ],
   "source": [
    "do(Puzzle(27, 3, {-1}))"
   ]
  },
  {
   "cell_type": "code",
   "execution_count": 22,
   "metadata": {},
   "outputs": [
    {
     "name": "stdout",
     "output_type": "stream",
     "text": [
      "[1·2·3·4·5·6·7·8·9 ⟘ 18·19·20·21·22·23·24·25·26] ➔ \n",
      "     >:[1·5·7·8·9·12·20·21·26 ⟘ 2·3·10·13·14·17·19·23·25] ➔ \n",
      "          >:[4·6·9·11·17·19·22·26 ⟘ 2·5·10·16·20·21·24·25] ➔ >:-25 =:-23 <:-19) \n",
      "          =:[1·15·22·25·26 ⟘ 7·14·18·19·20] ➔ >:-18 =:-24 <:-22) \n",
      "          <:[5·8·12·16·21·22·23·24 ⟘ 2·3·6·11·14·19·20·25] ➔ >:-20 =:-26 <:-21)) \n",
      "     =:[6·7·10·15·16·20·21·23 ⟘ 8·9·11·13·14·19·24·26] ➔ \n",
      "          >:[4·10·12·14·19·20 ⟘ 8·9·11·15·22·26] ➔ >:-11 =:-13 <:-14) \n",
      "          =:[6·11·12·14·21·22·23·25 ⟘ 7·8·9·13·15·16·17·20] ➔ >:-17 =:0 <:-12) \n",
      "          <:[5·11·12·16·19·24·25·26 ⟘ 2·6·8·10·17·18·20·23] ➔ >:-10 =:-15 <:-16)) \n",
      "     <:[5·8·9·12·13·14·19·23·25 ⟘ 1·2·6·16·17·18·21·22·24] ➔ \n",
      "          >:[2·7·8·9·10·13·20·21·22 ⟘ 5·6·11·15·16·17·19·25·26] ➔ >:-6 =:-1 <:-2) \n",
      "          =:[4·13·14·23·25 ⟘ 1·3·12·18·22] ➔ >:-3 =:-7 <:-4) \n",
      "          <:[2·3·8·13·14·15·22 ⟘ 1·6·7·9·18·20·26] ➔ >:-9 =:-5 <:-8)))\n"
     ]
    }
   ],
   "source": [
    "do(Puzzle(26, 3, {-1, 0}))"
   ]
  },
  {
   "cell_type": "markdown",
   "metadata": {},
   "source": [
    "Can we solve the 13-ball, heavier-or-lighter problem, which has 26 possibilities? "
   ]
  },
  {
   "cell_type": "code",
   "execution_count": 23,
   "metadata": {},
   "outputs": [
    {
     "name": "stdout",
     "output_type": "stream",
     "text": [
      "None\n"
     ]
    }
   ],
   "source": [
    "do(Puzzle(13))"
   ]
  },
  {
   "cell_type": "markdown",
   "metadata": {},
   "source": [
    "**No**, and the reason is that there is no first weighing that partitions the 26 possibilities into 9/9/8; the best we can do is partition into 8/10/8 or 10/6/10:"
   ]
  },
  {
   "cell_type": "code",
   "execution_count": 24,
   "metadata": {},
   "outputs": [
    {
     "data": {
      "text/plain": [
       "{'gt': {-13, -12, -11, -10, 1, 2, 3, 4},\n",
       " 'eq': {-9, -8, -7, -6, -5, 5, 6, 7, 8, 9},\n",
       " 'lt': {-4, -3, -2, -1, 10, 11, 12, 13}}"
      ]
     },
     "execution_count": 24,
     "metadata": {},
     "output_type": "execute_result"
    }
   ],
   "source": [
    "partition([1, 2, 3, 4], [10, 11, 12, 13], Puzzle(13).oddballs)"
   ]
  },
  {
   "cell_type": "code",
   "execution_count": 25,
   "metadata": {},
   "outputs": [
    {
     "data": {
      "text/plain": [
       "{'gt': {-13, -12, -11, -10, -9, 1, 2, 3, 4, 5},\n",
       " 'eq': {-8, -7, -6, 6, 7, 8},\n",
       " 'lt': {-5, -4, -3, -2, -1, 9, 10, 11, 12, 13}}"
      ]
     },
     "execution_count": 25,
     "metadata": {},
     "output_type": "execute_result"
    }
   ],
   "source": [
    "partition([1, 2, 3, 4, 5], [9, 10, 11, 12, 13], Puzzle(13).oddballs)"
   ]
  },
  {
   "cell_type": "markdown",
   "metadata": {},
   "source": [
    "Here's a puzzle with 25 balls, and the possibilities are that either one of the odd-numbered balls is heavier, or one of the even-numbered balls is lighter, or all the balls weigh the same."
   ]
  },
  {
   "cell_type": "code",
   "execution_count": 26,
   "metadata": {},
   "outputs": [
    {
     "name": "stdout",
     "output_type": "stream",
     "text": [
      "[1·2·3·4·5·6·7·8·9 ⟘ 17·18·19·20·21·22·23·24·25] ➔ \n",
      "     >:[1·6·7·9·10·16·18·19·24 ⟘ 2·3·4·8·11·15·17·23·25] ➔ \n",
      "          >:[8·9·13·15·20 ⟘ 2·7·12·14·21] ➔ >:+9 =:+1 <:+7) \n",
      "          =:[5·11·14·16·18·21·22·24 ⟘ 1·2·6·7·9·10·17·19] ➔ >:+5 =:-20 <:-22) \n",
      "          <:[8·13·16·17·19·23·25 ⟘ 2·3·4·9·11·15·24] ➔ >:-24 =:-18 <:+3)) \n",
      "     =:[1·7·11·16·19 ⟘ 4·12·13·15·23] ➔ \n",
      "          >:[1·3·6·8·16·22·25 ⟘ 2·5·12·17·20·21·24] ➔ >:-12 =:+11 <:0) \n",
      "          =:[12·14·19 ⟘ 3·10·21] ➔ >:-10 =:0 <:-14) \n",
      "          <:[3·4·5·7·8·10·15·24 ⟘ 9·13·17·18·19·20·22·25] ➔ >:+15 =:-16 <:+13)) \n",
      "     <:[2·7·14·16·17·21·22 ⟘ 3·6·15·18·19·24·25] ➔ \n",
      "          >:[7·9·11·22·23·25 ⟘ 6·8·10·12·18·21] ➔ >:-6 =:+17 <:+21) \n",
      "          =:[8·11·13·16·19·24 ⟘ 2·3·4·5·15·25] ➔ >:-4 =:+23 <:-8) \n",
      "          <:[2·8·9·10·11·12·13·25 ⟘ 4·6·14·15·17·20·23·24] ➔ >:+25 =:+19 <:-2)))\n"
     ]
    }
   ],
   "source": [
    "p = Puzzle(25, 3)\n",
    "p.oddballs = {(+b if b % 2 else -b) for b in p.balls} | {0}\n",
    "\n",
    "do(p)"
   ]
  },
  {
   "cell_type": "code",
   "execution_count": 27,
   "metadata": {},
   "outputs": [
    {
     "name": "stdout",
     "output_type": "stream",
     "text": [
      "{0, 1, 3, 5, 7, 9, 11, 13, 15, 17, 19, 21, 23, 25, -24, -22, -20, -18, -16, -14, -12, -10, -8, -6, -4, -2}\n"
     ]
    }
   ],
   "source": [
    "print(p.oddballs)"
   ]
  },
  {
   "cell_type": "markdown",
   "metadata": {},
   "source": [
    "# What's Next?\n",
    "\n",
    "- What other puzzles can you solve?\n",
    "- Can you make a table of solvable and unsolvable puzzles?\n",
    "- What happens when it is a possibility that *two or more* balls are odd?\n",
    "- Can you prove which puzzles are unsolvable? Can you modify the `find_tree` function so that it only fails when the puzzle really is unsolvable, and not when it happens to have bad luck with `random`?\n",
    "- What else can you discover?\n"
   ]
  }
 ],
 "metadata": {
  "kernelspec": {
   "display_name": "Python 3",
   "language": "python",
   "name": "python3"
  },
  "language_info": {
   "codemirror_mode": {
    "name": "ipython",
    "version": 3
   },
   "file_extension": ".py",
   "mimetype": "text/x-python",
   "name": "python",
   "nbconvert_exporter": "python",
   "pygments_lexer": "ipython3",
   "version": "3.7.2"
  }
 },
 "nbformat": 4,
 "nbformat_minor": 2
}
