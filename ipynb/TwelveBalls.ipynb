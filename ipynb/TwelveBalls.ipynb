{
 "cells": [
  {
   "cell_type": "markdown",
   "metadata": {},
   "source": [
    "<div align=\"right\"><i>Peter Norvig<br>2012; updated 18 August 2019</i></div>\n",
    "\n",
    "# Weighing Twelve Balls on a Balance Scale\n",
    "\n",
    "> *You are given twelve identical-looking balls and a two-sided scale. One of the balls is of a different weight, although you don't know whether it's lighter or heavier. How can you use just three weighings of the scale to determine not only what the different ball is, but also whether it's lighter or heavier?*\n",
    "\n",
    "This is a traditional brain-teaser puzzle, meant to be solved with paper and pencil. \n",
    "But I want to solve not just this specific puzzle, but related puzzles where you can vary (a) the number of balls, (b) the number of weighings allowed, and (c) whether the odd ball might be heavier, lighter, or either. For that I'll ned a program. (I originally solved wrote this program in 2012, but am republishing it here in revised form because the problem was mentioned in the [538 Riddler](https://fivethirtyeight.com/features/which-billiard-ball-is-rigged/) for 16 August 2019.)\n",
    "\n",
    "# Design\n",
    "\n",
    "Here are the concepts I'm dealing with:\n",
    "\n",
    "- **balls**: In the general case I have N balls. I'll represent with a list like `[1, 2, 3]` for N = 3.\n",
    "- **oddballs**: Exactly one of the balls is **odd** in its weight; if ball N is heavier, I'll represent that as +N; if it is lighter, as -N. With N = 3, I will represent the list of possible oddballs as `[+1, -1, +2, -2, +3, -3]`.\n",
    "- **puzzle**: A specific puzzle declares the number of balls, the maximum number of weighings allowed, and the possible oddballs. \n",
    "- **weighing**: I can weigh a collection of balls on the left versus a collection on the right, and the result will be that the left side is greater than, equal to, or less than the right in weight. I'll denote that with the call `weigh(L, R, oddball)`, which returns a string, `'gt'`, `'eq'`, or `'lt'`.\n",
    "- **weight**: I'll arbitrarily say that a normal ball weighs 100, a lighter ball 99, and a heavier ball 101.\n",
    "- **solution**: Given a puzzle, a solution is a data structure that can correctly  states the number of balls, the number of weighings allowed, and whether the odd ball can be lighter, heavier, or either. For example, the original puzzle is solved with a call to `solve(12, 3, {+1, -1})`. The solution is a **strategy tree**.\n",
    "- **strategy tree**: a tree where each node is either a leaf node consisting of an *oddball* integer, or is an interior node with 5 components: the balls to be placed on the left and right side of the scale, and a subtree for each of the three possible outcomes: `'gt'`, `'eq'`, or `'lt'`. The constructor `Tree(L, R, gt, eq, lt)` creates a tree, where `L` and `R` are collections of balls, and `gt`, `eq`, and `lt` are trees.\n",
    "- **following a path in a tree**: I'll use `follow(tree, oddball)` to say \"follow the path through the tree, at each weighing assuming the given oddball, and return the leaf node reached&mdash;the oddball that the tree predicts.\n",
    "- **valid tree**: a tree is a valid solution if no branch uses more than the allowable number of weighings, and if, for every possible oddball, following the path through the tree gives the correct oddball as the answer. We'll delay the discussion of how to find a valid tree until later.\n",
    "\n",
    "\n",
    "# Implementation\n",
    "\n",
    "Let's start implementing the concepts:"
   ]
  },
  {
   "cell_type": "code",
   "execution_count": 1,
   "metadata": {},
   "outputs": [],
   "source": [
    "from collections import namedtuple\n",
    "import random\n",
    "\n",
    "#### Types\n",
    "\n",
    "Ball = Oddball = int\n",
    "\n",
    "class Puzzle:\n",
    "    \"Represent a specific ball-weighing puzzle.\"\n",
    "    def __init__(self, N=12, weighings=3, oddities={+1, -1}):\n",
    "        self.N = N\n",
    "        self.weighings = weighings\n",
    "        self.balls = list(range(1, N + 1))\n",
    "        self.oddballs = [b * o for b in self.balls for o in oddities]  \n",
    "        \n",
    "Tree = namedtuple('Tree', 'L, R, gt, eq, lt')\n",
    "\n",
    "#### Functions\n",
    "    \n",
    "def weigh(L, R, oddball) -> str:\n",
    "    \"Weigh balls L against balls R, given the oddball; return 'gt', 'eq', or 'lt'.\"\n",
    "    diff = sum(weight(b, oddball) for b in L) - sum(weight(b, oddball) for b in R)\n",
    "    return ('gt' if diff > 0 else\n",
    "            'lt' if diff < 0 else\n",
    "            'eq')\n",
    "\n",
    "def weight(ball, oddball) -> int: \n",
    "    return 101 if +ball == oddball else 99 if -ball == oddball else 100\n",
    "    \n",
    "def solve(puzzle) -> Tree:\n",
    "    \"Return a valid tree; one that solves the puzzle.\"\n",
    "    tree = find_tree(puzzle, puzzle.oddballs, puzzle.weighings)\n",
    "    assert valid(tree, puzzle)\n",
    "    return tree\n",
    "    \n",
    "def follow(tree, oddball) -> Oddball:\n",
    "    \"Follow a path through the tree and return the oddball that the tree leads us to.\"\n",
    "    if isinstance(tree, Oddball):\n",
    "        return tree\n",
    "    else:\n",
    "        result = weigh(tree.L, tree.R, oddball)\n",
    "        return follow(getattr(tree, result), oddball)\n",
    "    \n",
    "def valid(tree, puzzle) -> bool:\n",
    "    \"Does the strategy tree solve the puzzle correctly for all possible oddballs?\"\n",
    "    return (depth(tree) <= puzzle.weighings and \n",
    "            all(follow(tree, oddball) == oddball \n",
    "                for oddball in puzzle.oddballs))\n",
    "\n",
    "def depth(tree) -> int:\n",
    "    \"Maximum depth of a strategy tree.\"\n",
    "    return (0 if isinstance(tree, Oddball) else \n",
    "            1 + max(depth(tree.gt), depth(tree.eq), depth(tree.lt)))"
   ]
  },
  {
   "cell_type": "markdown",
   "metadata": {},
   "source": [
    "Let's try out some of these functions:"
   ]
  },
  {
   "cell_type": "code",
   "execution_count": 2,
   "metadata": {},
   "outputs": [
    {
     "name": "stdout",
     "output_type": "stream",
     "text": [
      "3\n",
      "[1, 2, 3, 4, 5, 6, 7, 8, 9, 10, 11, 12]\n",
      "[1, -1, 2, -2, 3, -3, 4, -4, 5, -5, 6, -6, 7, -7, 8, -8, 9, -9, 10, -10, 11, -11, 12, -12]\n"
     ]
    }
   ],
   "source": [
    "p12 = Puzzle(12) # The original puzzle with 12 balls\n",
    "\n",
    "print(p12.weighings)\n",
    "print(p12.balls)\n",
    "print(p12.oddballs)"
   ]
  },
  {
   "cell_type": "code",
   "execution_count": 3,
   "metadata": {},
   "outputs": [
    {
     "data": {
      "text/plain": [
       "'eq'"
      ]
     },
     "execution_count": 3,
     "metadata": {},
     "output_type": "execute_result"
    }
   ],
   "source": [
    "# If we weigh balls 1, 2 against 3, 4, and the oddball is that 5 is lighter, the result should be 'eq'\n",
    "weigh([1, 2], [3, 4], -5)"
   ]
  },
  {
   "cell_type": "code",
   "execution_count": 4,
   "metadata": {},
   "outputs": [
    {
     "data": {
      "text/plain": [
       "100"
      ]
     },
     "execution_count": 4,
     "metadata": {},
     "output_type": "execute_result"
    }
   ],
   "source": [
    "weight(1, oddball=-5)"
   ]
  },
  {
   "cell_type": "code",
   "execution_count": 5,
   "metadata": {},
   "outputs": [
    {
     "data": {
      "text/plain": [
       "99"
      ]
     },
     "execution_count": 5,
     "metadata": {},
     "output_type": "execute_result"
    }
   ],
   "source": [
    "weight(5, oddball=-5)"
   ]
  },
  {
   "cell_type": "markdown",
   "metadata": {},
   "source": [
    "# Strategy for Finding a Valid Tree\n",
    "\n",
    "Now for the tricky part. We want to find a valid tree to solve a puzzle. The key idea is that a **weighing** gives us information by making a **partition** of the possible **oddballs** into entries for eaach of the three possible weighing results: `gt`, `eq`, or `lt`. Subsequent subtrees can handle each of the partitions.\n"
   ]
  },
  {
   "cell_type": "code",
   "execution_count": 6,
   "metadata": {},
   "outputs": [],
   "source": [
    "def partition(L, R, oddballs) -> dict:\n",
    "    \"Give all the possible outcomes of weighing L versus R.\"\n",
    "    part = dict(gt=[], eq=[], lt=[])\n",
    "    for odd in oddballs:\n",
    "        part[weigh(L, R, odd)].append(odd)\n",
    "    return part"
   ]
  },
  {
   "cell_type": "markdown",
   "metadata": {},
   "source": [
    "For example, with 12 balls, if we weigh balls 1 and 2 on the left versus 11 and 12 on the right, then there are 4 ways  the left side can be greater than the right: either 1 or 2 is heavier or 11 or 12 is lighter. Similarly there are 4 ways of getting a `lt` weighing result. The remaining 16 possible oddballs&mdash;balls 3 through 10 being either heavier or lighter&mdash;show up in the `eq` entry of the partition:"
   ]
  },
  {
   "cell_type": "code",
   "execution_count": 7,
   "metadata": {},
   "outputs": [
    {
     "data": {
      "text/plain": [
       "{'gt': [1, 2, -11, -12],\n",
       " 'eq': [3, -3, 4, -4, 5, -5, 6, -6, 7, -7, 8, -8, 9, -9, 10, -10],\n",
       " 'lt': [-1, -2, 11, 12]}"
      ]
     },
     "execution_count": 7,
     "metadata": {},
     "output_type": "execute_result"
    }
   ],
   "source": [
    "partition([1, 2], [11, 12], p12.oddballs)"
   ]
  },
  {
   "cell_type": "markdown",
   "metadata": {},
   "source": [
    "If this was the first weighing in our strategy tree, could we go on to solve the puzzle in 3 weighings? **No!** Any one weighing can at best partition the remaining possibilities into 3 equal entries. To solve the puzzle, we need every path in the tree to end up with only one possibility. So any two weighings can handle at most  3 &times; 3 = 9 possibilities; here we have 16, which is too many. We call this a **bad partition**.\n",
    "\n",
    "The following is a **good partition** because each of the entries has 8 possibilities, and 8 is less than 9. (Note: being a good partition does not guarantee that the problem is solvable from there; but being a bad partition guarantees that it is not solvable.)"
   ]
  },
  {
   "cell_type": "code",
   "execution_count": 8,
   "metadata": {},
   "outputs": [
    {
     "data": {
      "text/plain": [
       "{'gt': [1, 2, 3, 4, -9, -10, -11, -12],\n",
       " 'eq': [5, -5, 6, -6, 7, -7, 8, -8],\n",
       " 'lt': [-1, -2, -3, -4, 9, 10, 11, 12]}"
      ]
     },
     "execution_count": 8,
     "metadata": {},
     "output_type": "execute_result"
    }
   ],
   "source": [
    "partition([1, 2, 3, 4], [9, 10, 11, 12], p12.oddballs)"
   ]
  },
  {
   "cell_type": "markdown",
   "metadata": {},
   "source": [
    "So now we have a viable approach to implementing `find_tree`:\n",
    "\n",
    "   - We call `find_tree(puzzle, oddballs, weighings)`. At the top level, the oddballs and number of weighings come from the puzzle. At recursive levels, we will reduce the number of oddball possibilities according to the partition, and the number of remaining weighings by 1 each time.\n",
    "   - At each step we will randomly select two groups of balls, `L` and `R`, to be weighed.\n",
    "   - We will then see what partition `L` and `R` gives us, and whether the partition is good or bad.\n",
    "   - If the partition is bad, try another random selection of `L` and `R`.\n",
    "   - Use a **greedy** approach where we accept the first good partition.\n",
    "      (If we don't find a good partition after 10,000 tries, we give up.)\n",
    "   - Once we have a good partition, we recursively find a tree for each of the branches of the partition."
   ]
  },
  {
   "cell_type": "code",
   "execution_count": 9,
   "metadata": {},
   "outputs": [],
   "source": [
    "def find_tree(puzzle, oddballs, weighings) -> Tree or Oddball:\n",
    "    \"Find a strategy tree that covers all the oddballs in the given number of weighings.\"\n",
    "    if len(oddballs) == 1:\n",
    "        return oddballs[0] # One oddball possibility left; we're done\n",
    "    elif len(oddballs) == 0 or weighings == 0:\n",
    "        return 0           # No valid strategy or an impossible situation\n",
    "    else:\n",
    "        L, R, part = find_good_partition(puzzle, oddballs, weighings - 1)\n",
    "        subtrees = {r: find_tree(puzzle, part[r], weighings - 1) for r in part}\n",
    "        return Tree(L, R, **subtrees)\n",
    "    \n",
    "def find_good_partition(puzzle, oddballs, weighings) -> tuple:\n",
    "    \"Return (L, R, partition) such that no partition entry has more than 3**weighings oddballs.\"\n",
    "    for _ in range(10000): \n",
    "        L, R = random_LR(puzzle, oddballs)\n",
    "        part = partition(L, R, oddballs)\n",
    "        if all(len(entry) <= 3 ** weighings for entry in part.values()):\n",
    "            return L, R, part\n",
    "    raise ValueError('find_good_partition: not found')\n",
    "    \n",
    "def random_LR(puzzle, oddballs):\n",
    "    \"Random choice of balls for L and R side.\"\n",
    "    # Pick a random number of balls, B, then randomly pick B balls for each side.\n",
    "    B = random.choice(range(1, (len(puzzle.balls) - 1) // 3 + 2))\n",
    "    random.shuffle(puzzle.balls) \n",
    "    return sorted(puzzle.balls[:B]), sorted(puzzle.balls[-B:])"
   ]
  },
  {
   "cell_type": "markdown",
   "metadata": {},
   "source": [
    "Here we see that `find_good_partition` does its job:"
   ]
  },
  {
   "cell_type": "code",
   "execution_count": 10,
   "metadata": {},
   "outputs": [
    {
     "data": {
      "text/plain": [
       "([2, 3, 7, 9],\n",
       " [1, 6, 10, 11],\n",
       " {'gt': [-1, 2, 3, -6, 7, 9, -10, -11],\n",
       "  'eq': [4, -4, 5, -5, 8, -8, 12, -12],\n",
       "  'lt': [1, -2, -3, 6, -7, -9, 10, 11]})"
      ]
     },
     "execution_count": 10,
     "metadata": {},
     "output_type": "execute_result"
    }
   ],
   "source": [
    "find_good_partition(p12, p12.oddballs, 2)"
   ]
  },
  {
   "cell_type": "markdown",
   "metadata": {},
   "source": [
    "But it uses `random`, so it won't get the same result every time:"
   ]
  },
  {
   "cell_type": "code",
   "execution_count": 11,
   "metadata": {},
   "outputs": [
    {
     "data": {
      "text/plain": [
       "([1, 2, 8, 11],\n",
       " [3, 4, 7, 10],\n",
       " {'gt': [1, 2, -3, -4, -7, 8, -10, 11],\n",
       "  'eq': [5, -5, 6, -6, 9, -9, 12, -12],\n",
       "  'lt': [-1, -2, 3, 4, 7, -8, 10, -11]})"
      ]
     },
     "execution_count": 11,
     "metadata": {},
     "output_type": "execute_result"
    }
   ],
   "source": [
    "find_good_partition(p12, p12.oddballs, 2)"
   ]
  },
  {
   "cell_type": "markdown",
   "metadata": {},
   "source": [
    "# Solving Some Puzzles\n",
    "\n",
    "Now we're ready to solve puzzles!"
   ]
  },
  {
   "cell_type": "code",
   "execution_count": 12,
   "metadata": {},
   "outputs": [
    {
     "data": {
      "text/plain": [
       "Tree(L=[4, 7, 10, 12], R=[3, 6, 8, 9], gt=Tree(L=[1, 4, 5, 7], R=[2, 6, 10, 12], gt=Tree(L=[7, 10], R=[3, 4], gt=7, eq=-6, lt=4), eq=Tree(L=[3, 5, 6, 10], R=[1, 4, 7, 9], gt=-9, eq=-8, lt=-3), lt=Tree(L=[3, 5, 6, 8], R=[2, 4, 10, 11], gt=0, eq=12, lt=10)), eq=Tree(L=[1, 3, 11, 12], R=[5, 6, 7, 9], gt=Tree(L=[2, 8, 12], R=[1, 4, 5], gt=-5, eq=11, lt=1), eq=Tree(L=[2, 4, 11, 12], R=[1, 3, 5, 10], gt=2, eq=0, lt=-2), lt=Tree(L=[1, 2, 6], R=[3, 9, 11], gt=-11, eq=5, lt=-1)), lt=Tree(L=[5, 7, 9, 10], R=[1, 2, 4, 12], gt=Tree(L=[3, 7, 8], R=[2, 9, 12], gt=-12, eq=-4, lt=9), eq=Tree(L=[1, 4, 8], R=[2, 6, 10], gt=8, eq=3, lt=6), lt=Tree(L=[12], R=[7], gt=-7, eq=-10, lt=0)))"
      ]
     },
     "execution_count": 12,
     "metadata": {},
     "output_type": "execute_result"
    }
   ],
   "source": [
    "solve(p12)"
   ]
  },
  {
   "cell_type": "markdown",
   "metadata": {},
   "source": [
    "OK, that's hard to read&mdash;my bad. Let's look at a much easier puzzle: 3 balls, 1 weighing allowed, and the odd ball can only be lighter:"
   ]
  },
  {
   "cell_type": "code",
   "execution_count": 13,
   "metadata": {},
   "outputs": [
    {
     "data": {
      "text/plain": [
       "Tree(L=[1], R=[3], gt=-3, eq=-2, lt=-1)"
      ]
     },
     "execution_count": 13,
     "metadata": {},
     "output_type": "execute_result"
    }
   ],
   "source": [
    "tree = solve(Puzzle(3, 1, {-1}))\n",
    "tree"
   ]
  },
  {
   "cell_type": "markdown",
   "metadata": {},
   "source": [
    "This tree says you weigh one ball against another (leaving the third unweighed), and the three possible weighing results tell you which of the three balls  is lighter.\n",
    "\n",
    "To handle bigger puzzles, let's make the trees easier to read by producing formatted, indented output. Also, note that at the top node of a tree, there's no sense randomly shuffling the balls; the only choice that matters is how many balls, `B`, to put on each side. I'll alter `random_LR` to do that; that should also make trees easier to understand."
   ]
  },
  {
   "cell_type": "code",
   "execution_count": 14,
   "metadata": {},
   "outputs": [],
   "source": [
    "def do(puzzle):\n",
    "    \"Print the solution to the puzzle as indented text.\"\n",
    "    print(indented(solve(puzzle)))\n",
    "    \n",
    "def indented(tree, i=0, prefix=''):\n",
    "    \"Pretty, indented string of a strategy tree.\"\n",
    "    if isinstance(tree, Tree):\n",
    "        subtrees = f\"{indented(tree.gt, i+1, '>:')} {indented(tree.eq, i+1, '=:')} {indented(tree.lt, i+1, '<:')}\"\n",
    "        indent   = '' if i == 0 else ('\\n' + \" \" * 5 * i)\n",
    "        return f'{indent}{prefix}({items(tree.L)} ⟘ {items(tree.R)}) ➔ {subtrees})'\n",
    "    elif tree == 0:\n",
    "        return f'{prefix}0'\n",
    "    else:\n",
    "        return f'{prefix}{tree:+d}'\n",
    "    \n",
    "def items(collection): return '·'.join(map(str, collection))\n",
    "\n",
    "def random_LR(puzzle, oddballs):\n",
    "    \"Random choice of balls for L and R side.\"\n",
    "    # Pick a random number of balls, B, then pick B balls for each side.\n",
    "    B = random.choice(range(1, (len(puzzle.balls) - 1) // 3 + 2))\n",
    "    if oddballs == puzzle.oddballs:\n",
    "        puzzle.balls.sort()\n",
    "    else:\n",
    "        random.shuffle(puzzle.balls) \n",
    "    return sorted(puzzle.balls[:B]), sorted(puzzle.balls[-B:])"
   ]
  },
  {
   "cell_type": "code",
   "execution_count": 15,
   "metadata": {},
   "outputs": [
    {
     "name": "stdout",
     "output_type": "stream",
     "text": [
      "(1 ⟘ 3) ➔ >:-3 =:-2 <:-1)\n"
     ]
    }
   ],
   "source": [
    "# 3 balls, 1 weighing, only lighter\n",
    "do(Puzzle(3, 1, {-1}))"
   ]
  },
  {
   "cell_type": "code",
   "execution_count": 16,
   "metadata": {},
   "outputs": [
    {
     "name": "stdout",
     "output_type": "stream",
     "text": [
      "(1 ⟘ 3) ➔ \n",
      "     >:(2 ⟘ 1) ➔ >:0 =:-3 <:+1) \n",
      "     =:(1 ⟘ 2) ➔ >:-2 =:0 <:+2) \n",
      "     <:(2 ⟘ 3) ➔ >:0 =:-1 <:+3))\n"
     ]
    }
   ],
   "source": [
    "# 3 balls, 2 weighings, lighter or heavier\n",
    "do(Puzzle(3, 2))"
   ]
  },
  {
   "cell_type": "code",
   "execution_count": 17,
   "metadata": {},
   "outputs": [
    {
     "name": "stdout",
     "output_type": "stream",
     "text": [
      "(1·2·3·4 ⟘ 9·10·11·12) ➔ \n",
      "     >:(3·6·11·12 ⟘ 2·8·9·10) ➔ \n",
      "          >:(2·3·8·9 ⟘ 1·5·6·7) ➔ >:+3 =:-10 <:-9) \n",
      "          =:(2·4·8·9 ⟘ 6·10·11·12) ➔ >:+4 =:+1 <:0) \n",
      "          <:(1·6·11 ⟘ 3·7·12) ➔ >:-12 =:+2 <:-11)) \n",
      "     =:(1·5·7·10 ⟘ 2·4·8·11) ➔ \n",
      "          >:(1·7·11 ⟘ 5·9·10) ➔ >:+7 =:-8 <:+5) \n",
      "          =:(1·6·7·12 ⟘ 3·4·9·11) ➔ >:+6 =:0 <:-6) \n",
      "          <:(3·6·9 ⟘ 2·7·8) ➔ >:-7 =:-5 <:+8)) \n",
      "     <:(3·7·10·11 ⟘ 4·8·9·12) ➔ \n",
      "          >:(2·7·8 ⟘ 4·6·10) ➔ >:-4 =:+11 <:+10) \n",
      "          =:(3·11·12 ⟘ 1·6·8) ➔ >:-1 =:-2 <:0) \n",
      "          <:(1·3·12 ⟘ 4·5·11) ➔ >:+12 =:+9 <:-3)))\n"
     ]
    }
   ],
   "source": [
    "# 12 balls\n",
    "do(p12)"
   ]
  },
  {
   "cell_type": "code",
   "execution_count": 18,
   "metadata": {},
   "outputs": [
    {
     "name": "stdout",
     "output_type": "stream",
     "text": [
      "(1·2·3·4 ⟘ 9·10·11·12) ➔ \n",
      "     >:(2·4·7·12 ⟘ 1·3·6·9) ➔ \n",
      "          >:(4·5·9·10 ⟘ 1·3·6·8) ➔ >:+4 =:+2 <:-9) \n",
      "          =:(4·5·6·11 ⟘ 1·3·9·10) ➔ >:-10 =:0 <:-11) \n",
      "          <:(1·5·9·11 ⟘ 3·4·8·10) ➔ >:+1 =:-12 <:+3)) \n",
      "     =:(1·5·6·7 ⟘ 2·4·11·12) ➔ \n",
      "          >:(2·4·5·11 ⟘ 1·7·8·9) ➔ >:+5 =:+6 <:+7) \n",
      "          =:(1·4·8·12 ⟘ 5·7·10·11) ➔ >:+8 =:0 <:-8) \n",
      "          <:(5·10 ⟘ 3·7) ➔ >:-7 =:-6 <:-5)) \n",
      "     <:(2·7·8·9 ⟘ 1·3·6·10) ➔ \n",
      "          >:(6·10 ⟘ 3·9) ➔ >:-3 =:-1 <:+9) \n",
      "          =:(1·6·8 ⟘ 3·4·11) ➔ >:-4 =:+12 <:+11) \n",
      "          <:(3 ⟘ 10) ➔ >:0 =:-2 <:+10)))\n"
     ]
    }
   ],
   "source": [
    "# A different random solution\n",
    "do(p12)"
   ]
  },
  {
   "cell_type": "markdown",
   "metadata": {},
   "source": [
    "We can solve much larger puzzles. We can do 39 balls with 4 weighings:"
   ]
  },
  {
   "cell_type": "code",
   "execution_count": 19,
   "metadata": {},
   "outputs": [
    {
     "name": "stdout",
     "output_type": "stream",
     "text": [
      "(1·2·3·4·5·6·7·8·9·10·11·12·13 ⟘ 27·28·29·30·31·32·33·34·35·36·37·38·39) ➔ \n",
      "     >:(3·5·8·9·14·16·18·26·34·36·37·39 ⟘ 2·4·10·12·13·17·19·22·27·30·31·32) ➔ \n",
      "          >:(4·6·7·14·19·20·23·24·28·34·35·37 ⟘ 3·9·12·15·17·18·22·26·30·31·32·38) ➔ \n",
      "               >:(6·9·12·14·17·19·21·22·32·36 ⟘ 8·13·15·16·20·23·30·33·35·38) ➔ >:-30 =:-31 <:-32) \n",
      "               =:(7·8·11·16·17·19·21·24·27·34·36 ⟘ 2·6·12·14·15·18·26·30·33·37·39) ➔ >:+8 =:+5 <:-27) \n",
      "               <:(9·12·19·29·30 ⟘ 3·8·15·23·28) ➔ >:+9 =:0 <:+3)) \n",
      "          =:(8·9·13·20·26·27·29·30·34·35 ⟘ 1·5·10·18·19·25·28·32·33·38) ➔ \n",
      "               >:(3·7·14·16·20·25·27·29·30·33·34 ⟘ 2·4·5·8·12·13·24·31·35·38·39) ➔ >:-38 =:-28 <:-33) \n",
      "               =:(8·11·15·36·37·38 ⟘ 2·7·19·30·31·34) ➔ >:+11 =:+6 <:+7) \n",
      "               <:(1·2·3·9·10·17·26·28·34·35 ⟘ 6·7·12·15·16·22·24·30·32·37) ➔ >:+1 =:-29 <:-35)) \n",
      "          <:(1·2·3·8·13·21·25·26·29·33·37·38·39 ⟘ 6·7·12·16·17·19·23·24·27·28·30·31·34) ➔ \n",
      "               >:(3·6·7·16·17·18·20·22·24·25·27·29·39 ⟘ 2·5·9·12·19·23·30·31·33·34·36·37·38) ➔ >:-34 =:+13 <:+2) \n",
      "               =:(2·4·11·12·14·17·23·27·28·32·33·36 ⟘ 3·5·6·8·15·16·21·25·29·31·34·38) ➔ >:+4 =:+10 <:-36) \n",
      "               <:(1·6·10·18·19·21·23·27·29·31·33·37 ⟘ 2·3·4·8·13·16·17·20·26·32·34·39) ➔ >:-39 =:+12 <:-37))) \n",
      "     =:(1·3·6·9·14·16·22·23·28·30·32·39 ⟘ 2·4·8·12·17·19·21·24·26·29·31·33) ➔ \n",
      "          >:(1·3·13·14·23·24·25·28·32·36·38·39 ⟘ 4·5·9·15·16·22·26·27·29·31·35·37) ➔ \n",
      "               >:(3·4·7·8·10·14·18·26·29·36·37 ⟘ 1·5·6·9·11·12·13·27·31·34·38) ➔ >:+14 =:+23 <:-26) \n",
      "               =:(1·3·9·10·11·14·19·32 ⟘ 12·16·17·18·29·34·36·38) ➔ >:-17 =:-21 <:-19) \n",
      "               <:(7·17·22·23·24·32 ⟘ 6·10·15·20·25·30) ➔ >:+22 =:+16 <:-24)) \n",
      "          =:(4·11·14·20·32·33·36·39 ⟘ 2·3·8·15·18·19·28·37) ➔ \n",
      "               >:(7·12·14·18·22·26·27·31·33·34·36·37 ⟘ 2·5·6·8·9·13·15·16·24·28·30·38) ➔ >:-15 =:+20 <:-18) \n",
      "               =:(2·4·11·12·15·18·23·27·30·34 ⟘ 1·3·8·24·25·26·28·29·33·38) ➔ >:-25 =:0 <:+25) \n",
      "               <:(6·14·18·20·24·27·34 ⟘ 1·17·23·25·30·37·38) ➔ >:+18 =:+15 <:-20)) \n",
      "          <:(3·4·12·14·17·18·20·22·26·28·31 ⟘ 2·7·10·19·23·25·27·29·32·38·39) ➔ \n",
      "               >:(12·30·31·32·35·38 ⟘ 4·7·13·14·23·26) ➔ >:-23 =:+17 <:+26) \n",
      "               =:(19·25 ⟘ 16·21) ➔ >:-16 =:+24 <:+21) \n",
      "               <:(1·3·11·19·22·30·32 ⟘ 2·12·16·18·20·25·26) ➔ >:+19 =:-14 <:-22))) \n",
      "     <:(1·11·12·15·16·17·18·21·25·27·30·37·39 ⟘ 2·5·7·8·13·20·23·28·31·32·34·35·36) ➔ \n",
      "          >:(2·7·8·9·15·16·18·20·24·30·34·36·39 ⟘ 3·10·11·12·13·17·21·22·25·28·29·31·32) ➔ \n",
      "               >:(3·11·12·26·27·33 ⟘ 1·8·13·17·18·30) ➔ >:-13 =:+39 <:+30) \n",
      "               =:(3·8·10·12·16·17·21·24·30·35·36·37 ⟘ 6·7·11·14·15·19·25·26·27·29·38·39) ➔ >:+37 =:-5 <:+27) \n",
      "               <:(7·15·18·20·22·24·26·27·29·34·36·38 ⟘ 1·2·3·5·10·11·14·16·17·19·25·33) ➔ >:-2 =:-8 <:-7)) \n",
      "          =:(6·10·12·15·19·30·37 ⟘ 3·4·14·28·34·38·39) ➔ \n",
      "               >:(1·4·9·10·12·15·21·23·34 ⟘ 8·14·18·24·28·29·31·33·37) ➔ >:0 =:-3 <:-4) \n",
      "               =:(2·11·18·19·30·32·33 ⟘ 14·17·22·23·25·29·39) ➔ >:+33 =:-9 <:+29) \n",
      "               <:(2·3·8·14·15·16·24·25·27·29·33·35·37 ⟘ 1·4·10·12·17·19·21·22·23·26·36·38·39) ➔ >:-10 =:-6 <:+38)) \n",
      "          <:(4·7·12·15·16·20·21·22·27·34·35 ⟘ 1·2·3·24·25·29·30·32·33·36·37) ➔ \n",
      "               >:(2·3·6·7·14·15·22·24·31·34·36·38 ⟘ 4·5·11·12·19·20·25·26·29·30·33·35) ➔ >:+34 =:-1 <:+35) \n",
      "               =:(11·28·37 ⟘ 7·22·26) ➔ >:+28 =:+31 <:-11) \n",
      "               <:(7·10·12·25·26·30·34·36 ⟘ 3·4·19·20·24·31·35·38) ➔ >:+36 =:+32 <:-12))))\n"
     ]
    }
   ],
   "source": [
    "do(Puzzle(39, 4))"
   ]
  },
  {
   "cell_type": "markdown",
   "metadata": {},
   "source": [
    "We can do 26 balls in 3 weighings if we know that no ball can be heavier:"
   ]
  },
  {
   "cell_type": "code",
   "execution_count": 20,
   "metadata": {},
   "outputs": [
    {
     "name": "stdout",
     "output_type": "stream",
     "text": [
      "(1·2·3·4·5·6·7·8·9 ⟘ 18·19·20·21·22·23·24·25·26) ➔ \n",
      "     >:(3·7·8·9·14·16·20·21·23 ⟘ 2·4·6·10·12·13·18·19·24) ➔ \n",
      "          >:(3·8·16·19·21·22·25 ⟘ 4·5·9·10·11·20·24) ➔ >:-24 =:-18 <:-19) \n",
      "          =:(3·15·20·25 ⟘ 6·12·22·24) ➔ >:-22 =:-26 <:-25) \n",
      "          <:(1·3·7·9·21·22·24 ⟘ 2·8·13·14·17·18·23) ➔ >:-23 =:-20 <:-21)) \n",
      "     =:(7·11·15·17·21 ⟘ 2·8·10·14·20) ➔ \n",
      "          >:(4·9·16·18·20·22 ⟘ 2·5·6·8·14·26) ➔ >:-14 =:-10 <:0) \n",
      "          =:(13·15·19·20·21·22·23·25·26 ⟘ 1·4·7·9·10·12·14·18·24) ➔ >:-12 =:-16 <:-13) \n",
      "          <:(5·7·9·14·17·19·21 ⟘ 1·4·6·11·13·18·25) ➔ >:-11 =:-15 <:-17)) \n",
      "     <:(2·5·8·10·12·16·19·24·26 ⟘ 1·3·6·13·15·18·22·23·25) ➔ \n",
      "          >:(1·2·11·22 ⟘ 3·14·15·19) ➔ >:-3 =:-6 <:-1) \n",
      "          =:(6·9·12·13·17·21 ⟘ 1·2·4·5·14·16) ➔ >:-4 =:-7 <:-9) \n",
      "          <:(3·5·9·11·17·22·24·26 ⟘ 7·8·12·15·16·18·19·23) ➔ >:-8 =:-2 <:-5)))\n"
     ]
    }
   ],
   "source": [
    "do(Puzzle(26, 3, {-1}))"
   ]
  },
  {
   "cell_type": "markdown",
   "metadata": {},
   "source": [
    "# What's Next?\n",
    "\n",
    "- What other puzzles can you solve?\n",
    "- Can you make a table of solvable and unsolvable puzzles?\n",
    "- What happens when it is a possibility that *no* ball is odd?\n",
    "- What happens when it is a possibility that *two* balls are odd?\n",
    "- Can you prove which puzzles are unsolvable? Can you modify the `find_tree` function so that it only fails when the puzzle really is unsolvable, and not when it happens to have bad luck with `random`?\n",
    "\n",
    "It turns out that our solution for the 12-ball problem can handle the case where there is no oddball. It correctly returns 0, meaning there is no oddball, when given 0:"
   ]
  },
  {
   "cell_type": "code",
   "execution_count": 21,
   "metadata": {},
   "outputs": [
    {
     "data": {
      "text/plain": [
       "0"
      ]
     },
     "execution_count": 21,
     "metadata": {},
     "output_type": "execute_result"
    }
   ],
   "source": [
    "follow(solve(p12), oddball=0)"
   ]
  },
  {
   "cell_type": "markdown",
   "metadata": {},
   "source": [
    "Three weighings can theoretically handle 27 possibilities. Can we solve the 13-ball problem, which has 26 possibilities? **No**, because there is no first weighing that partitions the 26 possibilities into 9/9/8; the best we can do is partition them into 8/10/8 or 10/6/10:"
   ]
  },
  {
   "cell_type": "code",
   "execution_count": 22,
   "metadata": {},
   "outputs": [
    {
     "data": {
      "text/plain": [
       "{'gt': [1, 2, 3, 4, -10, -11, -12, -13],\n",
       " 'eq': [5, -5, 6, -6, 7, -7, 8, -8, 9, -9],\n",
       " 'lt': [-1, -2, -3, -4, 10, 11, 12, 13]}"
      ]
     },
     "execution_count": 22,
     "metadata": {},
     "output_type": "execute_result"
    }
   ],
   "source": [
    "p13 = Puzzle(13)\n",
    "partition([1, 2, 3, 4], [10, 11, 12, 13], p13.oddballs)"
   ]
  },
  {
   "cell_type": "code",
   "execution_count": 23,
   "metadata": {},
   "outputs": [
    {
     "data": {
      "text/plain": [
       "{'gt': [1, 2, 3, 4, 5, -9, -10, -11, -12, -13],\n",
       " 'eq': [6, -6, 7, -7, 8, -8],\n",
       " 'lt': [-1, -2, -3, -4, -5, 9, 10, 11, 12, 13]}"
      ]
     },
     "execution_count": 23,
     "metadata": {},
     "output_type": "execute_result"
    }
   ],
   "source": [
    "partition([1, 2, 3, 4, 5], [9, 10, 11, 12, 13], p13.oddballs)"
   ]
  },
  {
   "cell_type": "markdown",
   "metadata": {},
   "source": [
    "What else can you discover?"
   ]
  }
 ],
 "metadata": {
  "kernelspec": {
   "display_name": "Python 3",
   "language": "python",
   "name": "python3"
  },
  "language_info": {
   "codemirror_mode": {
    "name": "ipython",
    "version": 3
   },
   "file_extension": ".py",
   "mimetype": "text/x-python",
   "name": "python",
   "nbconvert_exporter": "python",
   "pygments_lexer": "ipython3",
   "version": "3.7.2"
  }
 },
 "nbformat": 4,
 "nbformat_minor": 2
}
