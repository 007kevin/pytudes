{
 "cells": [
  {
   "cell_type": "markdown",
   "metadata": {},
   "source": [
    "# Tracking Trump: Electoral Votes\n",
    "\n",
    "[Morning Consult](https://morningconsult.com) has a page called [Tracking Trump](https://morningconsult.com/tracking-trump/) that summarizes the presidential approval polls on a state-by-state basis, and tells you how many states Trump has a net positive or net negative approval rating. But I don't care about the number of *states*; I care about the number of *electoral votes*. This notebook computes that for me."
   ]
  },
  {
   "cell_type": "code",
   "execution_count": 1,
   "metadata": {},
   "outputs": [],
   "source": [
    "import urllib.request\n",
    "import re\n",
    "from collections import namedtuple, defaultdict\n",
    "\n",
    "Row = namedtuple('Row', 'state delta jan17app jan17dis jan17err app dis err')\n",
    "\n",
    "def read_data(url='https://morningconsult.com/tracking-trump/'):\n",
    "    \"Fetch data from the website and return a list of `Row` objects.\"\n",
    "    with urllib.request.urlopen(url) as response:\n",
    "        html = response.read().decode('utf-8')\n",
    "        rows = re.findall(r'<tr(.*?)</tr>', html, re.S)\n",
    "        return [parse_row(row) for row in rows[1:]]\n",
    "    \n",
    "def parse_row(row):\n",
    "    \"Parse an html string into a `Row` object.\"\n",
    "    state, *nums =  re.findall('>([^>]*?)</td', row.replace('%', ''))\n",
    "    return Row(state, *map(int, nums))\n",
    "\n",
    "def net(row): \"Approval minus disapproval.\"; return row.app - row.dis \n",
    "\n",
    "rows = read_data()\n",
    "\n",
    "def EV(swing=0, rows=rows):\n",
    "    \"How many electoral votes would Trump win today, given a swing.\"\n",
    "    return sum(votes[row.state] for row in rows if net(row) + swing > 0)\n",
    "\n",
    "votes = dict(AL=9,  AK=3,  AZ=11, AR=6,  CA=55, CO=9,  CT=7,  DE=3,  DC=3,  FL=29, \n",
    "             GA=16, HI=4,  ID=4,  IL=20, IN=11, IA=6,  KS=6,  KY=8,  LA=8,  ME=4, \n",
    "             MD=10, MA=11, MI=16, MN=10, MS=6,  MO=10, MT=3,  NE=5,  NV=6,  NH=4,  \n",
    "             NJ=14, NM=5,  NY=29, NC=15, ND=3,  OH=18, OK=7,  OR=7,  PA=20, RI=4,  \n",
    "             SC=9,  SD=3,  TN=11, TX=38, UT=6,  VT=3,  VA=13, WA=12, WV=5,  WI=10, WY=3)"
   ]
  },
  {
   "cell_type": "code",
   "execution_count": 2,
   "metadata": {},
   "outputs": [
    {
     "data": {
      "text/plain": [
       "164"
      ]
     },
     "execution_count": 2,
     "metadata": {},
     "output_type": "execute_result"
    }
   ],
   "source": [
    "EV()"
   ]
  },
  {
   "cell_type": "markdown",
   "metadata": {},
   "source": [
    "This says that Trump has a net positive approval (i.e. more approval than disapproval) in states with a total of **164** electoral votes. You need **270** to win.\n",
    "\n",
    "But of course these are approval polls, not ballots, and don't translate directly to votes. Things can change; the election is a long ways away, we don't know who's running, we don't know if there are third party candidate(s), and we don't know if there is systematic bias in the polling data. In the table below, I list the number of electoral votes Trump would get assuming he gets an increase of net approval of 0 to 9 percentage points across the board in every state. We see he would need a **7** percent upswing from the polling data in order to win."
   ]
  },
  {
   "cell_type": "code",
   "execution_count": 3,
   "metadata": {},
   "outputs": [
    {
     "data": {
      "text/plain": [
       "{0: 164,\n",
       " 1: 164,\n",
       " 2: 164,\n",
       " 3: 164,\n",
       " 4: 255,\n",
       " 5: 255,\n",
       " 6: 255,\n",
       " 7: 279,\n",
       " 8: 279,\n",
       " 9: 294}"
      ]
     },
     "execution_count": 3,
     "metadata": {},
     "output_type": "execute_result"
    }
   ],
   "source": [
    "{m: EV(m) for m in range(10)}"
   ]
  },
  {
   "cell_type": "markdown",
   "metadata": {},
   "source": [
    "Here are the states sorted by current net approval:"
   ]
  },
  {
   "cell_type": "code",
   "execution_count": 4,
   "metadata": {},
   "outputs": [
    {
     "name": "stdout",
     "output_type": "stream",
     "text": [
      "DC:  3 EV, net -62 (+17 -79 ?4)\n",
      "VT:  3 EV, net -31 (+33 -64 ?3)\n",
      "CA: 55 EV, net -29 (+33 -62 ?5)\n",
      "MA: 11 EV, net -29 (+33 -62 ?5)\n",
      "HI:  4 EV, net -28 (+34 -62 ?4)\n",
      "MD: 10 EV, net -28 (+34 -62 ?4)\n",
      "NY: 29 EV, net -23 (+36 -59 ?5)\n",
      "WA: 12 EV, net -23 (+36 -59 ?5)\n",
      "OR:  7 EV, net -22 (+37 -59 ?4)\n",
      "IL: 20 EV, net -21 (+37 -58 ?5)\n",
      "CT:  7 EV, net -20 (+38 -58 ?4)\n",
      "NM:  5 EV, net -19 (+38 -57 ?5)\n",
      "RI:  4 EV, net -19 (+38 -57 ?5)\n",
      "NJ: 14 EV, net -18 (+39 -57 ?4)\n",
      "CO:  9 EV, net -16 (+40 -56 ?4)\n",
      "DE:  3 EV, net -16 (+40 -56 ?4)\n",
      "MN: 10 EV, net -14 (+41 -55 ?4)\n",
      "MI: 16 EV, net -12 (+41 -53 ?6)\n",
      "WI: 10 EV, net -12 (+42 -54 ?4)\n",
      "NV:  6 EV, net -11 (+42 -53 ?5)\n",
      "IA:  6 EV, net -10 (+43 -53 ?4)\n",
      "AZ: 11 EV, net  -8 (+44 -52 ?4)\n",
      "NH:  4 EV, net  -8 (+44 -52 ?4)\n",
      "ME:  4 EV, net  -6 (+45 -51 ?4)\n",
      "PA: 20 EV, net  -6 (+45 -51 ?4)\n",
      "FL: 29 EV, net  -3 (+46 -49 ?5)\n",
      "GA: 16 EV, net  -3 (+46 -49 ?5)\n",
      "NC: 15 EV, net  -3 (+46 -49 ?5)\n",
      "OH: 18 EV, net  -3 (+46 -49 ?5)\n",
      "VA: 13 EV, net  -3 (+46 -49 ?5)\n",
      "KS:  6 EV, net  +2 (+49 -47 ?4)\n",
      "MO: 10 EV, net  +3 (+49 -46 ?5)\n",
      "UT:  6 EV, net  +3 (+49 -46 ?5)\n",
      "AK:  3 EV, net  +4 (+49 -45 ?6)\n",
      "MT:  3 EV, net  +4 (+50 -46 ?4)\n",
      "TX: 38 EV, net  +4 (+49 -45 ?6)\n",
      "IN: 11 EV, net  +8 (+52 -44 ?4)\n",
      "NE:  5 EV, net  +8 (+52 -44 ?4)\n",
      "ND:  3 EV, net  +9 (+52 -43 ?5)\n",
      "SC:  9 EV, net  +9 (+52 -43 ?5)\n",
      "AR:  6 EV, net +11 (+53 -42 ?5)\n",
      "ID:  4 EV, net +11 (+53 -42 ?5)\n",
      "LA:  8 EV, net +13 (+54 -41 ?5)\n",
      "OK:  7 EV, net +13 (+54 -41 ?5)\n",
      "KY:  8 EV, net +15 (+55 -40 ?5)\n",
      "SD:  3 EV, net +15 (+55 -40 ?5)\n",
      "TN: 11 EV, net +16 (+56 -40 ?4)\n",
      "MS:  6 EV, net +17 (+56 -39 ?5)\n",
      "AL:  9 EV, net +21 (+58 -37 ?5)\n",
      "WV:  5 EV, net +26 (+61 -35 ?4)\n",
      "WY:  3 EV, net +32 (+64 -32 ?4)\n"
     ]
    }
   ],
   "source": [
    "def undecided(row): return 100 - row.app - row.dis\n",
    "\n",
    "for r in sorted(rows, key=net):\n",
    "    print('{}: {:2d} EV, net {:+3d} (+{} -{} ?{})'\n",
    "           .format(r.state, votes[r.state], net(r), r.app, r.dis, undecided(r)))"
   ]
  },
  {
   "cell_type": "markdown",
   "metadata": {},
   "source": [
    "Here are all the states with more than 5% undecided. This is evidence that most people have made up their mind."
   ]
  },
  {
   "cell_type": "code",
   "execution_count": 5,
   "metadata": {},
   "outputs": [
    {
     "data": {
      "text/plain": [
       "{'AK': 6, 'MI': 6, 'TX': 6}"
      ]
     },
     "execution_count": 5,
     "metadata": {},
     "output_type": "execute_result"
    }
   ],
   "source": [
    "{r.state: undecided(r)\n",
    " for r in rows if undecided(r) > 5}"
   ]
  }
 ],
 "metadata": {
  "kernelspec": {
   "display_name": "Python 3",
   "language": "python",
   "name": "python3"
  },
  "language_info": {
   "codemirror_mode": {
    "name": "ipython",
    "version": 3
   },
   "file_extension": ".py",
   "mimetype": "text/x-python",
   "name": "python",
   "nbconvert_exporter": "python",
   "pygments_lexer": "ipython3",
   "version": "3.7.0"
  }
 },
 "nbformat": 4,
 "nbformat_minor": 2
}
