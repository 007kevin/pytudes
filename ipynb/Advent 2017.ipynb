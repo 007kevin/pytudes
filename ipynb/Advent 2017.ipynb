{
 "cells": [
  {
   "cell_type": "markdown",
   "metadata": {},
   "source": [
    "# December 2017: Advent of Code Solutions\n",
    "\n",
    "Peter Norvig\n",
    "\n",
    "I'm doing the [Advent of Code](https://adventofcode.com) puzzles, just like [last year](https://github.com/norvig/pytudes/blob/master/ipynb/Advent%20of%20Code.ipynb). My terms of engagement are:\n",
    "\n",
    "* You'll need to follow the links in the section headers (e.g. **[Day 1](https://adventofcode.com/2017/day/1)**) to understand what each puzzle is asking; I won't repeat the puzzle description.\n",
    "* What you see is mostly the algorithm I came up with first, although sometimes I go back and refactor for clarity.\n",
    "* I'll clean up the code a bit: adding docstrings, making variable names longer and more descriptive, adding `assert` statements.\n",
    "* I will discuss any errors I made along the way; usually I won't show the erroneous code, just a description of what I did wrong.\n",
    "* The way Advent of Code works is that you read the puzzle descriotion for Part One, but only when you correctly solve it do you get to see Part Two. This is typical in software development: you deploy some code, and then some new requirements arise. So it makes sense to program by creating small functions and data types that form a *vocabulary* for the domain at hand, and can be recombined to solve new problems in the domain.\n",
    "* Each day's code should run in a few seconds; certainly less than a minute.\n",
    "* There is a contest to see who can solve each day's puzzle fastest; I do not expect to be competitive.\n",
    "\n",
    "\n",
    "\n",
    "\n",
    "\n",
    "# Day 0: Imports and Utility Functions\n",
    "\n",
    "I might need these:"
   ]
  },
  {
   "cell_type": "code",
   "execution_count": 1,
   "metadata": {
    "collapsed": true
   },
   "outputs": [],
   "source": [
    "# Python 3.x Utility Functions\n",
    "\n",
    "%matplotlib inline\n",
    "import matplotlib.pyplot as plt\n",
    "\n",
    "import re\n",
    "import numpy as np\n",
    "import math\n",
    "import random\n",
    "import time\n",
    "\n",
    "from collections import Counter, defaultdict, namedtuple, deque, abc, OrderedDict\n",
    "from functools   import lru_cache\n",
    "from statistics  import mean, median, mode, stdev, variance\n",
    "from itertools   import (permutations, combinations, chain, cycle, product, islice, \n",
    "                         takewhile, zip_longest, count as count_from)\n",
    "from heapq       import heappop, heappush\n",
    "from numba       import jit\n",
    "\n",
    "letters  = 'abcdefghijklmnopqrstuvwxyz'\n",
    "\n",
    "cache = lru_cache(None)\n",
    "\n",
    "cat = ''.join\n",
    "\n",
    "Ø   = frozenset() # Empty set\n",
    "inf = float('inf')\n",
    "BIG = 10 ** 999\n",
    "\n",
    "################ Functions for Input, Parsing\n",
    "\n",
    "def Input(day, year=2017):\n",
    "    \"Open this day's input file.\"\n",
    "    return open('data/advent{}/input{}.txt'.format(year, day))\n",
    "\n",
    "def Inputstr(day, year=2017): \n",
    "    \"The contents of this day's input file as a str.\"\n",
    "    return Input(day, year).read().rstrip('\\n')\n",
    "    \n",
    "def Array(lines):\n",
    "    \"Parse an iterable of str lines into a 2-D array. If `lines` is a str, splitlines.\"\n",
    "    if isinstance(lines, str): lines = lines.splitlines()\n",
    "    return mapt(Vector, lines)\n",
    "\n",
    "def Vector(line):\n",
    "    \"Parse a str into a tuple of atoms (numbers or str tokens).\"\n",
    "    return mapt(Atom, line.replace(',', ' ').split())\n",
    "\n",
    "def Integers(text): \n",
    "    \"Return a tuple of all integers in a string.\"\n",
    "    return mapt(int, re.findall(r'-?\\b\\d+\\b', text))\n",
    "\n",
    "def Atom(token):\n",
    "    \"Parse a str token into a number, or leave it as a str.\"\n",
    "    try:\n",
    "        return int(token)\n",
    "    except ValueError:\n",
    "        try:\n",
    "            return float(token)\n",
    "        except ValueError:\n",
    "            return token\n",
    "        \n",
    "def error(err=RuntimeError, *args): raise err(*args)\n",
    "\n",
    "################ Functions on Iterables\n",
    "\n",
    "def first(iterable, default=None): \n",
    "    \"The first item in an iterable, or default if it is empty.\"\n",
    "    return next(iter(iterable), default)\n",
    "\n",
    "def first_true(iterable, pred=None, default=None):\n",
    "    \"\"\"Returns the first true value in the iterable.\n",
    "    If no true value is found, returns *default*\n",
    "    If *pred* is not None, returns the first item\n",
    "    for which pred(item) is true.\"\"\"\n",
    "    # first_true([a,b,c], default=x) --> a or b or c or x\n",
    "    # first_true([a,b], fn, x) --> a if fn(a) else b if fn(b) else x\n",
    "    return next(filter(pred, iterable), default)\n",
    "\n",
    "def nth(iterable, n, default=None):\n",
    "    \"Returns the nth item of iterable, or a default value\"\n",
    "    return next(islice(iterable, n, None), default)\n",
    "\n",
    "def upto(iterable, maxval):\n",
    "    \"From a monotonically increasing iterable, generate all the values <= maxval.\"\n",
    "    # Why <= maxval rather than < maxval? In part because that's how Ruby's upto does it.\n",
    "    return takewhile(lambda x: x <= maxval, iterable)\n",
    "\n",
    "identity = lambda x: x\n",
    "\n",
    "def groupby(iterable, key=identity):\n",
    "    \"Return a dict of {key(item): [items...]} grouping all items in iterable by keys.\"\n",
    "    groups = defaultdict(list)\n",
    "    for item in iterable:\n",
    "        groups[key(item)].append(item)\n",
    "    return groups\n",
    "\n",
    "def grouper(iterable, n, fillvalue=None):\n",
    "    \"\"\"Collect data into fixed-length chunks:\n",
    "    grouper('ABCDEFG', 3, 'x') --> ABC DEF Gxx\"\"\"\n",
    "    args = [iter(iterable)] * n\n",
    "    return zip_longest(*args, fillvalue=fillvalue)\n",
    "\n",
    "def overlapping(iterable, n):\n",
    "    \"\"\"Generate all (overlapping) n-element subsequences of iterable.\n",
    "    overlapping('ABCDEFG', 3) --> ABC BCD CDE DEF EFG\"\"\"\n",
    "    if isinstance(iterable, abc.Sequence):\n",
    "        yield from (iterable[i:i+n] for i in range(len(iterable) + 1 - n))\n",
    "    else:\n",
    "        result = deque(maxlen=n)\n",
    "        for x in iterable:\n",
    "            result.append(x)\n",
    "            if len(result) == n:\n",
    "                yield tuple(result)\n",
    "                \n",
    "def pairwise(iterable):\n",
    "    \"s -> (s0,s1), (s1,s2), (s2, s3), ...\"\n",
    "    return overlapping(iterable, 2)\n",
    "\n",
    "def sequence(iterable, type=tuple):\n",
    "    \"Coerce iterable to sequence: leave alone if already a sequence, else make it `type`.\"\n",
    "    return iterable if isinstance(iterable, abc.Sequence) else type(iterable)\n",
    "\n",
    "def join(iterable, sep=''):\n",
    "    \"Join the items in iterable, converting each to a string first.\"\n",
    "    return sep.join(map(str, iterable))\n",
    "                \n",
    "def powerset(iterable):\n",
    "    \"Yield all subsets of items.\"\n",
    "    items = list(iterable)\n",
    "    for r in range(len(items)+1):\n",
    "        for c in combinations(items, r):\n",
    "            yield c\n",
    "            \n",
    "def quantify(iterable, pred=bool):\n",
    "    \"Count how many times the predicate is true.\"\n",
    "    return sum(map(pred, iterable))\n",
    "\n",
    "def length(iterable):\n",
    "    \"Same as len(list(iterable)), but without consuming memory.\"\n",
    "    return sum(1 for _ in iterable)\n",
    "\n",
    "def shuffled(iterable):\n",
    "    \"Create a new list out of iterable, and shuffle it.\"\n",
    "    new = list(iterable)\n",
    "    random.shuffle(new)\n",
    "    return new\n",
    "    \n",
    "flatten = chain.from_iterable\n",
    "\n",
    "################ Functional programming\n",
    "\n",
    "def mapt(fn, *args): \n",
    "    \"Do a map, and make the results into a tuple.\"\n",
    "    return tuple(map(fn, *args))\n",
    "\n",
    "def map2d(fn, grid):\n",
    "    \"Apply fn to every element in a 2-dimensional grid.\"\n",
    "    return tuple(mapt(fn, row) for row in grid)\n",
    "\n",
    "def repeat(n, fn, arg, *args, **kwds):\n",
    "    \"Repeat arg = fn(arg) n times, return arg.\"\n",
    "    return nth(repeatedly(fn, arg, *args, **kwds), n)\n",
    "\n",
    "def repeatedly(fn, arg, *args, **kwds):\n",
    "    \"Yield arg, fn(arg), fn(fn(arg)), ...\"\n",
    "    yield arg\n",
    "    while True:\n",
    "        arg = fn(arg, *args, **kwds)\n",
    "        yield arg\n",
    "        \n",
    "def compose(f, g): \n",
    "    \"The function that computes f(g(x)).\"\n",
    "    return lambda x: f(g(x))\n",
    "\n",
    "################ Making immutable objects\n",
    "            \n",
    "class Set(frozenset):\n",
    "    \"A frozenset, but with a prettier printer.\"\n",
    "    def __repr__(self): return '{' + join(sorted(self), ', ') + '}'\n",
    "    \n",
    "def canon(items, typ=None):\n",
    "    \"Canonicalize these order-independent items into a hashable canonical form.\"\n",
    "    typ = typ or (cat if isinstance(items, str) else tuple)\n",
    "    return typ(sorted(items))\n",
    "            \n",
    "################ Math Functions\n",
    "            \n",
    "def transpose(matrix): return tuple(zip(*matrix))\n",
    "\n",
    "def isqrt(n):\n",
    "    \"Integer square root (rounds down).\"\n",
    "    return int(n ** 0.5)\n",
    "\n",
    "def ints(start, end, step=1):\n",
    "    \"The integers from start to end, inclusive: range(start, end+1)\"\n",
    "    return range(start, end + 1, step)\n",
    "\n",
    "def floats(start, end, step=1.0):\n",
    "    \"Yield floats from start to end (inclusive), by increments of step.\"\n",
    "    m = (1.0 if step >= 0 else -1.0)\n",
    "    while start * m <= end * m:\n",
    "        yield start\n",
    "        start += step\n",
    "        \n",
    "def multiply(numbers):\n",
    "    \"Multiply all the numbers together.\"\n",
    "    result = 1\n",
    "    for n in numbers:\n",
    "        result *= n\n",
    "    return result\n",
    "\n",
    "import operator as op\n",
    "\n",
    "operations = {'>': op.gt, '>=': op.ge, '==': op.eq,\n",
    "              '<': op.lt, '<=': op.le, '!=': op.ne,\n",
    "              '+': op.add, '-': op.sub, '*': op.mul, \n",
    "              '/': op.truediv, '**': op.pow}\n",
    "\n",
    "################ 2-D points implemented using (x, y) tuples\n",
    "\n",
    "def X(point): return point[0]\n",
    "def Y(point): return point[1]\n",
    "\n",
    "origin = (0, 0)\n",
    "HEADINGS = UP, LEFT, DOWN, RIGHT = (0, -1), (-1, 0), (0, 1), (1, 0)\n",
    "\n",
    "def turn_right(heading): return HEADINGS[HEADINGS.index(heading) - 1]\n",
    "def turn_around(heading):return HEADINGS[HEADINGS.index(heading) - 2]\n",
    "def turn_left(heading):  return HEADINGS[HEADINGS.index(heading) - 3]\n",
    "\n",
    "def add(A, B): \n",
    "    \"Element-wise addition of two n-dimensional vectors.\"\n",
    "    return mapt(sum, zip(A, B))\n",
    "\n",
    "def neighbors4(point): \n",
    "    \"The four neighboring squares.\"\n",
    "    x, y = point\n",
    "    return (          (x, y-1),\n",
    "            (x-1, y),           (x+1, y), \n",
    "                      (x, y+1))\n",
    "\n",
    "def neighbors8(point): \n",
    "    \"The eight neighboring squares.\"\n",
    "    x, y = point \n",
    "    return ((x-1, y-1), (x, y-1), (x+1, y-1),\n",
    "            (x-1, y),             (x+1, y),\n",
    "            (x-1, y+1), (x, y+1), (x+1, y+1))\n",
    "\n",
    "def cityblock_distance(P, Q=origin): \n",
    "    \"Manhatten distance between two points.\"\n",
    "    return sum(abs(p - q) for p, q in zip(P, Q))\n",
    "\n",
    "def distance(P, Q=origin): \n",
    "    \"Straight-line (hypotenuse) distance between two points.\"\n",
    "    return sum((p - q) ** 2 for p, q in zip(P, Q)) ** 0.5\n",
    "\n",
    "def king_distance(P, Q=origin):\n",
    "    \"Number of chess King moves between two points.\"\n",
    "    return max(abs(p - q) for p, q in zip(P, Q))\n",
    "\n",
    "################ Debugging \n",
    "\n",
    "def trace1(f):\n",
    "    \"Print a trace of the input and output of a function on one line.\"\n",
    "    def traced_f(*args):\n",
    "        result = f(*args)\n",
    "        print('{}({}) = {}'.format(f.__name__, ', '.join(map(str, args)), result))\n",
    "        return result\n",
    "    return traced_f\n",
    "\n",
    "def grep(pattern, iterable):\n",
    "    \"Print lines from iterable that match pattern.\"\n",
    "    for line in iterable:\n",
    "        if re.search(pattern, line):\n",
    "            print(line)\n",
    "            \n",
    "class Struct:\n",
    "    \"A structure that can have any fields defined.\"\n",
    "    def __init__(self, **entries): self.__dict__.update(entries)\n",
    "    def __repr__(self): \n",
    "        fields = ['{}={}'.format(f, self.__dict__[f]) \n",
    "                  for f in sorted(self.__dict__)]\n",
    "        return 'Struct({})'.format(', '.join(fields))\n",
    "\n",
    "################ A* and Breadth-First Search (tracking states, not actions)\n",
    "\n",
    "def always(value): return (lambda *args: value)\n",
    "\n",
    "def Astar(start, moves_func, h_func, cost_func=always(1)):\n",
    "    \"Find a shortest sequence of states from start to a goal state (where h_func(s) == 0).\"\n",
    "    frontier  = [(h_func(start), start)] # A priority queue, ordered by path length, f = g + h\n",
    "    previous  = {start: None}  # start state has no previous state; other states will\n",
    "    path_cost = {start: 0}     # The cost of the best path to a state.\n",
    "    Path      = lambda s: ([] if (s is None) else Path(previous[s]) + [s])\n",
    "    while frontier:\n",
    "        (f, s) = heappop(frontier)\n",
    "        if h_func(s) == 0:\n",
    "            return Path(s)\n",
    "        for s2 in moves_func(s):\n",
    "            g = path_cost[s] + cost_func(s, s2)\n",
    "            if s2 not in path_cost or g < path_cost[s2]:\n",
    "                heappush(frontier, (g + h_func(s2), s2))\n",
    "                path_cost[s2] = g\n",
    "                previous[s2] = s\n",
    "\n",
    "def bfs(start, moves_func, goals):\n",
    "    \"Breadth-first search\"\n",
    "    goal_func = (goals if callable(goals) else lambda s: s in goals)\n",
    "    return Astar(start, moves_func, lambda s: (0 if goal_func(s) else 1))"
   ]
  },
  {
   "cell_type": "code",
   "execution_count": 2,
   "metadata": {},
   "outputs": [
    {
     "data": {
      "text/plain": [
       "'pass'"
      ]
     },
     "execution_count": 2,
     "metadata": {},
     "output_type": "execute_result"
    }
   ],
   "source": [
    "def tests():\n",
    "    \"Tests for my utility functions.\"\n",
    "    \n",
    "    # Functions for Input, Parsing\n",
    "    assert Array('''1 2 3\n",
    "                    4 5 6''') == ((1, 2, 3), \n",
    "                                  (4, 5, 6))\n",
    "    assert Vector('testing 1 2 3.') == ('testing', 1, 2, 3.0)\n",
    "    assert Integers('test1 (2, -3), #4') == (2, -3, 4)\n",
    "    assert Atom('123.4') == 123.4 and Atom('x') == 'x'\n",
    "    \n",
    "    # Functions on Iterables\n",
    "    assert first('abc') == first(['a', 'b', 'c']) == 'a'\n",
    "    assert first_true([0, None, False, {}, 42, 43]) == 42\n",
    "    assert nth('abc', 1) == nth(iter('abc'), 1) == 'b'\n",
    "    assert cat(upto('abcdef', 'd')) == 'abcd'\n",
    "    assert cat(['do', 'g']) == 'dog'\n",
    "    assert groupby([-3, -2, -1, 1, 2], abs) == {1: [-1, 1], 2: [-2, 2], 3: [-3]}\n",
    "    assert list(grouper(range(8), 3)) == [(0, 1, 2), (3, 4, 5), (6, 7, None)]\n",
    "    assert list(overlapping((0, 1, 2, 3, 4), 3)) == [(0, 1, 2), (1, 2, 3), (2, 3, 4)]\n",
    "    assert list(overlapping('abcdefg', 4)) == ['abcd', 'bcde', 'cdef', 'defg']  \n",
    "    assert list(pairwise((0, 1, 2, 3, 4))) == [(0, 1), (1, 2), (2, 3), (3, 4)]\n",
    "    assert sequence('seq') == 'seq'\n",
    "    assert sequence((i**2 for i in range(5))) == (0, 1, 4, 9, 16)\n",
    "    assert join(range(5)) == '01234'\n",
    "    assert join(range(5), ', ') == '0, 1, 2, 3, 4'\n",
    "    assert transpose(((1, 2, 3), (4, 5, 6))) == ((1, 4), (2, 5), (3, 6))\n",
    "    assert isqrt(9) == 3 == isqrt(10)\n",
    "    assert ints(1, 100) == range(1, 101)\n",
    "    assert identity('anything') == 'anything'\n",
    "    assert set(powerset({1, 2, 3})) == {\n",
    "        (), (1,), (1, 2), (1, 2, 3), (1, 3), (2,), (2, 3), (3,)}\n",
    "    assert quantify(['testing', 1, 2, 3, int, len], callable) == 2 # int and len are callable\n",
    "    assert quantify([0, False, None, '', [], (), {}, 42]) == 1  # Only 42 is truish\n",
    "    assert set(shuffled('abc')) == set('abc')\n",
    "    \n",
    "    # Functional programming\n",
    "    assert mapt(math.sqrt, [1, 9, 4]) == (1, 3, 2)\n",
    "    assert map2d(abs, ((1, -2, -3), (-4, -5, 6))) == ((1, 2, 3), (4, 5, 6))\n",
    "    assert repeat(3, isqrt, 256) == 2\n",
    "    assert compose(isqrt, abs)(-9) == 3\n",
    "            \n",
    "    # Making immutable objects\n",
    "\n",
    "    assert Set([1, 2, 3, 3]) == {1, 2, 3}\n",
    "    assert canon('abecedarian') == 'aaabcdeeinr'\n",
    "    assert canon([9, 1, 4]) == canon({1, 4, 9}) == (1, 4, 9)\n",
    "    \n",
    "    # Math\n",
    "    assert transpose([(1, 2, 3), (4, 5, 6)]) == ((1, 4), (2, 5), (3, 6))\n",
    "    assert isqrt(10) == isqrt(9) == 3\n",
    "    assert ints(1, 5) == range(1, 6)\n",
    "    assert list(floats(1, 5)) == [1., 2., 3., 4., 5.]\n",
    "    assert multiply(ints(1, 10)) == math.factorial(10) == 3628800\n",
    "    \n",
    "    # 2-D points\n",
    "    P = (3, 4)\n",
    "    assert X(P) == 3 and Y(P) == 4\n",
    "    assert cityblock_distance(P) == cityblock_distance(P, origin) == 7\n",
    "    assert distance(P) == distance(P, origin) == 5\n",
    "    assert turn_right(UP) == turn_left(DOWN) == turn_around(LEFT) == RIGHT\n",
    "    \n",
    "    # Search\n",
    "    assert Astar((4, 4), neighbors8, distance) == [(4, 4), (3, 3), (2, 2), (1, 1), (0, 0)]\n",
    "    assert bfs((4, 4), neighbors8, {origin}) == [(4, 4), (3, 3), (2, 2), (1, 1), (0, 0)]\n",
    "    forty2 = always(42)\n",
    "    assert forty2() == forty2('?') == forty2(4, 2) == 42\n",
    "\n",
    "    return 'pass'\n",
    "\n",
    "tests()"
   ]
  },
  {
   "cell_type": "markdown",
   "metadata": {},
   "source": [
    "# [Day 1](https://adventofcode.com/2017/day/1): Inverse Captcha\n",
    "\n",
    "This was easier than I remember last year's puzzles being:\n"
   ]
  },
  {
   "cell_type": "code",
   "execution_count": 3,
   "metadata": {},
   "outputs": [
    {
     "data": {
      "text/plain": [
       "(2014, (3, 2, 9, 4, 1, 9, 9, 4, 7, 1))"
      ]
     },
     "execution_count": 3,
     "metadata": {},
     "output_type": "execute_result"
    }
   ],
   "source": [
    "digits = mapt(int, Inputstr(1))\n",
    "N = len(digits)\n",
    "\n",
    "N, digits[:10]"
   ]
  },
  {
   "cell_type": "code",
   "execution_count": 4,
   "metadata": {},
   "outputs": [
    {
     "data": {
      "text/plain": [
       "1158"
      ]
     },
     "execution_count": 4,
     "metadata": {},
     "output_type": "execute_result"
    }
   ],
   "source": [
    "sum(digits[i] \n",
    "    for i in range(N) \n",
    "    if digits[i] == digits[i - 1])"
   ]
  },
  {
   "cell_type": "markdown",
   "metadata": {},
   "source": [
    "**Part Two**:"
   ]
  },
  {
   "cell_type": "code",
   "execution_count": 5,
   "metadata": {},
   "outputs": [
    {
     "data": {
      "text/plain": [
       "1132"
      ]
     },
     "execution_count": 5,
     "metadata": {},
     "output_type": "execute_result"
    }
   ],
   "source": [
    "sum(digits[i] \n",
    "    for i in range(N) \n",
    "    if digits[i] == digits[i - N // 2])"
   ]
  },
  {
   "cell_type": "markdown",
   "metadata": {},
   "source": [
    "# [Day 2](https://adventofcode.com/2017/day/2): Corruption Checksum\n"
   ]
  },
  {
   "cell_type": "code",
   "execution_count": 6,
   "metadata": {
    "collapsed": true
   },
   "outputs": [],
   "source": [
    "rows2 = Array('''790\t99\t345\t1080\t32\t143\t1085\t984\t553\t98\t123\t97\t197\t886\t125\t947\n",
    "302\t463\t59\t58\t55\t87\t508\t54\t472\t63\t469\t419\t424\t331\t337\t72\n",
    "899\t962\t77\t1127\t62\t530\t78\t880\t129\t1014\t93\t148\t239\t288\t357\t424\n",
    "2417\t2755\t254\t3886\t5336\t3655\t5798\t3273\t5016\t178\t270\t6511\t223\t5391\t1342\t2377\n",
    "68\t3002\t3307\t166\t275\t1989\t1611\t364\t157\t144\t3771\t1267\t3188\t3149\t156\t3454\n",
    "1088\t1261\t21\t1063\t1173\t278\t1164\t207\t237\t1230\t1185\t431\t232\t660\t195\t1246\n",
    "49\t1100\t136\t1491\t647\t1486\t112\t1278\t53\t1564\t1147\t1068\t809\t1638\t138\t117\n",
    "158\t3216\t1972\t2646\t3181\t785\t2937\t365\t611\t1977\t1199\t2972\t201\t2432\t186\t160\n",
    "244\t86\t61\t38\t58\t71\t243\t52\t245\t264\t209\t265\t308\t80\t126\t129\n",
    "1317\t792\t74\t111\t1721\t252\t1082\t1881\t1349\t94\t891\t1458\t331\t1691\t89\t1724\n",
    "3798\t202\t3140\t3468\t1486\t2073\t3872\t3190\t3481\t3760\t2876\t182\t2772\t226\t3753\t188\n",
    "2272\t6876\t6759\t218\t272\t4095\t4712\t6244\t4889\t2037\t234\t223\t6858\t3499\t2358\t439\n",
    "792\t230\t886\t824\t762\t895\t99\t799\t94\t110\t747\t635\t91\t406\t89\t157\n",
    "2074\t237\t1668\t1961\t170\t2292\t2079\t1371\t1909\t221\t2039\t1022\t193\t2195\t1395\t2123\n",
    "8447\t203\t1806\t6777\t278\t2850\t1232\t6369\t398\t235\t212\t992\t7520\t7304\t7852\t520\n",
    "3928\t107\t3406\t123\t2111\t2749\t223\t125\t134\t146\t3875\t1357\t508\t1534\t4002\t4417''')"
   ]
  },
  {
   "cell_type": "code",
   "execution_count": 7,
   "metadata": {},
   "outputs": [
    {
     "data": {
      "text/plain": [
       "46402"
      ]
     },
     "execution_count": 7,
     "metadata": {},
     "output_type": "execute_result"
    }
   ],
   "source": [
    "sum(abs(max(row) - min(row)) for row in rows2)"
   ]
  },
  {
   "cell_type": "markdown",
   "metadata": {},
   "source": [
    "**Part Two**:"
   ]
  },
  {
   "cell_type": "code",
   "execution_count": 8,
   "metadata": {},
   "outputs": [
    {
     "data": {
      "text/plain": [
       "265"
      ]
     },
     "execution_count": 8,
     "metadata": {},
     "output_type": "execute_result"
    }
   ],
   "source": [
    "def evendiv(row): \n",
    "    return first(a // b for a in row for b in row if a > b and a // b == a / b)\n",
    "\n",
    "sum(map(evendiv, rows2))"
   ]
  },
  {
   "cell_type": "markdown",
   "metadata": {},
   "source": [
    "This day was also very easy. It was nice that my pre-defined `array` function did the whole job of parsing the input. In Part One, I was slowed down by a typo: I had `\"=\"` instead of `\"-\"` in `\"max(row) - min(row)\"`. I was confused by Python's misleading error message, which said `\"SyntaxError: keyword can't be an expression\"`. Later on, Alex Martelli explained to me that the message meant that in `abs(max(row)=...)` it thought that `max(row)` was a keyword argument to `abs`, as in `abs(x=-1)`.\n",
    "\n",
    "In Part Two, note that to check that `a/b` is an exact integer, I used `a // b == a / b`, which I think is more clear  than the marginally-faster expression one would typically use here, `a % b == 0`, which requires you to think about two things: division and the modulus operator (is it `a % b` or `b % a`?)."
   ]
  },
  {
   "cell_type": "markdown",
   "metadata": {},
   "source": [
    "# [Day 3](https://adventofcode.com/2017/day/3): Spiral Memory\n",
    "\n",
    "For today the data is just one number:"
   ]
  },
  {
   "cell_type": "code",
   "execution_count": 9,
   "metadata": {
    "collapsed": true
   },
   "outputs": [],
   "source": [
    "M = 277678"
   ]
  },
  {
   "cell_type": "markdown",
   "metadata": {},
   "source": [
    "This puzzle takes some thinking, not just fast typing. I decided to break the problem into three parts:\n",
    "- Generate a spiral (by writing a new function called `spiral`).\n",
    "- Find the Nth square on the spiral (with my function `nth`).\n",
    "- Find the distance from that square to the center (with my function `cityblock_distance`).\n",
    "\n",
    "I suspect many people will do all three of these in one function. That's probably the best way to get the answer really quickly, but I'd rather be clear than quick (and I'm anticipating that `spiral` will come in handy in Part Two), so I'll factor out each part, obeying the *single responsibility principle*. \n",
    "\n",
    "Now I need to make `spiral()` generate the coordinates of squares on an infinite spiral, in order, going out from the center square, `(0, 0)`. After the center square, the spiral goes 1 square right, then 1 square up, then 2 square left, then 2 square down, thus completing one revolution; then it does subsequent revolutions. In general if the previous revolution ended with *s* squares down, then the next revolution consists of *s*+1 squares right, *s*+1 squares up, *s*+2 squares left and *s*+2 down.  A small test confirms that this matches the example diagram in the puzzle description (although I had a bug on my first try because I only incremented `s` once per revolution, not twice):"
   ]
  },
  {
   "cell_type": "code",
   "execution_count": 10,
   "metadata": {},
   "outputs": [
    {
     "data": {
      "text/plain": [
       "[(0, 0),\n",
       " (0, -1),\n",
       " (-1, -1),\n",
       " (-1, 0),\n",
       " (-1, 1),\n",
       " (0, 1),\n",
       " (1, 1),\n",
       " (1, 0),\n",
       " (1, -1),\n",
       " (1, -2)]"
      ]
     },
     "execution_count": 10,
     "metadata": {},
     "output_type": "execute_result"
    }
   ],
   "source": [
    "def spiral():\n",
    "    \"Yield successive (x, y) coordinates of squares on a spiral.\"\n",
    "    x = y = s = 0   # (x, y) is the position; s is the side length.\n",
    "    yield (x, y)\n",
    "    while True:\n",
    "        for (dx, dy) in (RIGHT, UP, LEFT, DOWN):\n",
    "            if dy: s += 1 # Increment side length before RIGHT and LEFT\n",
    "            for _ in range(s):\n",
    "                x += dx; y += dy\n",
    "                yield (x, y)\n",
    "\n",
    "list(islice(spiral(), 10))"
   ]
  },
  {
   "cell_type": "markdown",
   "metadata": {},
   "source": [
    "Now we can find the `N`th square. As this is Python, indexes start at 0, whereas the puzzle description starts counting at 1, so I have to subtract 1. Then I can find the distance to the origin:"
   ]
  },
  {
   "cell_type": "code",
   "execution_count": 11,
   "metadata": {},
   "outputs": [
    {
     "data": {
      "text/plain": [
       "(263, -212)"
      ]
     },
     "execution_count": 11,
     "metadata": {},
     "output_type": "execute_result"
    }
   ],
   "source": [
    "nth(spiral(), M - 1)"
   ]
  },
  {
   "cell_type": "code",
   "execution_count": 12,
   "metadata": {},
   "outputs": [
    {
     "data": {
      "text/plain": [
       "475"
      ]
     },
     "execution_count": 12,
     "metadata": {},
     "output_type": "execute_result"
    }
   ],
   "source": [
    "cityblock_distance(_)"
   ]
  },
  {
   "cell_type": "markdown",
   "metadata": {},
   "source": [
    "For **Part Two** I can re-use my `spiral` generator, yay! Here's a function to sum the neighboring squares (I can use my `neighbors8` function, yay!):"
   ]
  },
  {
   "cell_type": "code",
   "execution_count": 13,
   "metadata": {
    "collapsed": true
   },
   "outputs": [],
   "source": [
    "def spiralsums():\n",
    "    \"Yield the values of a spiral where each square has the sum of the 8 neighbors.\"\n",
    "    value = defaultdict(int)\n",
    "    for p in spiral():\n",
    "        value[p] = sum(value[q] for q in neighbors8(p)) or 1\n",
    "        yield value[p]"
   ]
  },
  {
   "cell_type": "code",
   "execution_count": 14,
   "metadata": {},
   "outputs": [
    {
     "data": {
      "text/plain": [
       "[1, 1, 2, 4, 5, 10, 11, 23, 25, 26, 54, 57]"
      ]
     },
     "execution_count": 14,
     "metadata": {},
     "output_type": "execute_result"
    }
   ],
   "source": [
    "list(islice(spiralsums(), 12))"
   ]
  },
  {
   "cell_type": "markdown",
   "metadata": {},
   "source": [
    "Looks good, so let's get the answer:"
   ]
  },
  {
   "cell_type": "code",
   "execution_count": 15,
   "metadata": {},
   "outputs": [
    {
     "data": {
      "text/plain": [
       "279138"
      ]
     },
     "execution_count": 15,
     "metadata": {},
     "output_type": "execute_result"
    }
   ],
   "source": [
    "first(x for x in spiralsums() if x > M)"
   ]
  },
  {
   "cell_type": "markdown",
   "metadata": {},
   "source": [
    "# [Day 4](https://adventofcode.com/2017/day/4): High-Entropy Passphrases\n",
    "\n",
    "This is the first time I will have to store an input file and read it with the function `Input`. It should be straightforward, though:"
   ]
  },
  {
   "cell_type": "code",
   "execution_count": 16,
   "metadata": {},
   "outputs": [
    {
     "data": {
      "text/plain": [
       "337"
      ]
     },
     "execution_count": 16,
     "metadata": {},
     "output_type": "execute_result"
    }
   ],
   "source": [
    "def is_valid(line): return is_unique(line.split())\n",
    "\n",
    "def is_unique(items): return len(items) == len(set(items))\n",
    "\n",
    "quantify(Input(4), is_valid)"
   ]
  },
  {
   "cell_type": "markdown",
   "metadata": {},
   "source": [
    "**Part Two:**"
   ]
  },
  {
   "cell_type": "code",
   "execution_count": 17,
   "metadata": {},
   "outputs": [
    {
     "data": {
      "text/plain": [
       "231"
      ]
     },
     "execution_count": 17,
     "metadata": {},
     "output_type": "execute_result"
    }
   ],
   "source": [
    "def is_valid2(line): return is_unique(mapt(canon, line.split()))\n",
    "\n",
    "quantify(Input(4), is_valid2)"
   ]
  },
  {
   "cell_type": "markdown",
   "metadata": {},
   "source": [
    "That was easy, and I started on time, but the leaders were still three times faster than me!"
   ]
  },
  {
   "cell_type": "markdown",
   "metadata": {},
   "source": [
    "# [Day 5](https://adventofcode.com/2017/day/5): A Maze of Twisty Trampolines, All Alike\n",
    "\n",
    "Let's first make sure we can read the data/program okay:"
   ]
  },
  {
   "cell_type": "code",
   "execution_count": 18,
   "metadata": {},
   "outputs": [
    {
     "data": {
      "text/plain": [
       "(0, 2, 0, 0, -2, -2, -1, -4, -5, -6)"
      ]
     },
     "execution_count": 18,
     "metadata": {},
     "output_type": "execute_result"
    }
   ],
   "source": [
    "program = mapt(int, Input(5))\n",
    "\n",
    "program[:10]"
   ]
  },
  {
   "cell_type": "markdown",
   "metadata": {},
   "source": [
    "Now I'll make a little interpreter, `run`, which takes a program, loads it into memory,\n",
    " and executes the instruction, maintaining a program counter, `pc`, and doing the incrementing/branching as described in the puzzle,\n",
    "until the program counter no longer points to a location in memory:"
   ]
  },
  {
   "cell_type": "code",
   "execution_count": 19,
   "metadata": {},
   "outputs": [
    {
     "data": {
      "text/plain": [
       "364539"
      ]
     },
     "execution_count": 19,
     "metadata": {},
     "output_type": "execute_result"
    }
   ],
   "source": [
    "def run(program):\n",
    "    memory = list(program)\n",
    "    pc = steps = 0\n",
    "    M = len(memory)\n",
    "    while 0 <= pc < M:\n",
    "        steps += 1\n",
    "        oldpc = pc\n",
    "        pc += memory[pc]\n",
    "        memory[oldpc] += 1\n",
    "    return steps\n",
    "        \n",
    "run(program)"
   ]
  },
  {
   "cell_type": "markdown",
   "metadata": {},
   "source": [
    "**Part Two:**\n",
    "\n",
    "Part Two seems tricky, so I'll include an optional argument, `verbose`, and check if the printout it produces matches the example in the puzzle description:"
   ]
  },
  {
   "cell_type": "code",
   "execution_count": 20,
   "metadata": {},
   "outputs": [
    {
     "name": "stdout",
     "output_type": "stream",
     "text": [
      "1 0 [1, 3, 0, 1, -3]\n",
      "2 1 [2, 3, 0, 1, -3]\n",
      "3 4 [2, 2, 0, 1, -3]\n",
      "4 1 [2, 2, 0, 1, -2]\n",
      "5 3 [2, 3, 0, 1, -2]\n",
      "6 4 [2, 3, 0, 2, -2]\n",
      "7 2 [2, 3, 0, 2, -1]\n",
      "8 2 [2, 3, 1, 2, -1]\n",
      "9 3 [2, 3, 2, 2, -1]\n",
      "10 5 [2, 3, 2, 3, -1]\n"
     ]
    },
    {
     "data": {
      "text/plain": [
       "10"
      ]
     },
     "execution_count": 20,
     "metadata": {},
     "output_type": "execute_result"
    }
   ],
   "source": [
    "@jit\n",
    "def run2(program, verbose=False):\n",
    "    memory = list(program)\n",
    "    pc = steps = 0\n",
    "    M = len(memory)\n",
    "    while 0 <= pc < M:\n",
    "        steps += 1\n",
    "        oldpc = pc\n",
    "        pc += memory[pc]\n",
    "        memory[oldpc] += (-1 if memory[oldpc] >= 3 else 1)\n",
    "        if verbose: print(steps, pc, memory)\n",
    "    return steps\n",
    "        \n",
    "run2([0, 3, 0, 1, -3], True)"
   ]
  },
  {
   "cell_type": "markdown",
   "metadata": {},
   "source": [
    "That looks right, so I can solve the puzzle:"
   ]
  },
  {
   "cell_type": "code",
   "execution_count": 21,
   "metadata": {},
   "outputs": [
    {
     "name": "stdout",
     "output_type": "stream",
     "text": [
      "CPU times: user 5.09 s, sys: 19.4 ms, total: 5.11 s\n",
      "Wall time: 5.11 s\n"
     ]
    },
    {
     "data": {
      "text/plain": [
       "27477714"
      ]
     },
     "execution_count": 21,
     "metadata": {},
     "output_type": "execute_result"
    }
   ],
   "source": [
    "%time run2(program)"
   ]
  },
  {
   "cell_type": "markdown",
   "metadata": {},
   "source": [
    "Thanks to [Clement Sreeves](https://github.com/ClementSreeves) for the suggestion of making a distinction between the `program` and the `memory`. In my first version, `run` would mutate the argument, which was OK for a short exercise, but not best practice for a reliable API. And thanks to [Max Albert](https://github.com/maxalbert) for speeding up the loop by pulling the `len(memory)` out of the loop."
   ]
  },
  {
   "cell_type": "markdown",
   "metadata": {},
   "source": [
    "# [Day 6](https://adventofcode.com/2017/day/6): Memory Reallocation "
   ]
  },
  {
   "cell_type": "markdown",
   "metadata": {},
   "source": [
    "I had to read the puzzle description carefully, but then it is pretty clear what to do. I'll keep a set of previously seen configurations, which will all be tuples. But in the function `spread`, I want to mutate the configuration of banks, so I will convert to a list at the start, then convert back to a tuple at the end."
   ]
  },
  {
   "cell_type": "code",
   "execution_count": 22,
   "metadata": {
    "collapsed": true
   },
   "outputs": [],
   "source": [
    "banks = Vector('4\t10\t4\t1\t8\t4\t9\t14\t5\t1\t14\t15\t0\t15\t3\t5')\n",
    "\n",
    "def realloc(banks):\n",
    "    \"How many cycles until we reach a configuration we've seen before?\"\n",
    "    seen = {banks}\n",
    "    for cycles in count_from(1):\n",
    "        banks = spread(banks)\n",
    "        if banks in seen:\n",
    "            return cycles\n",
    "        seen.add(banks)\n",
    "        \n",
    "def spread(banks):\n",
    "    \"Find the area with the most blocks, and spread them evenly to following areas.\"\n",
    "    banks  = list(banks)\n",
    "    maxi   = max(range(len(banks)), key=lambda i: banks[i])\n",
    "    blocks = banks[maxi]\n",
    "    banks[maxi] = 0\n",
    "    for i in range(maxi + 1, maxi + 1 + blocks):\n",
    "        banks[i % len(banks)] += 1\n",
    "    return tuple(banks)"
   ]
  },
  {
   "cell_type": "code",
   "execution_count": 23,
   "metadata": {},
   "outputs": [
    {
     "data": {
      "text/plain": [
       "(2, 4, 1, 2)"
      ]
     },
     "execution_count": 23,
     "metadata": {},
     "output_type": "execute_result"
    }
   ],
   "source": [
    "spread((0, 2, 7, 0))"
   ]
  },
  {
   "cell_type": "code",
   "execution_count": 24,
   "metadata": {},
   "outputs": [
    {
     "data": {
      "text/plain": [
       "5"
      ]
     },
     "execution_count": 24,
     "metadata": {},
     "output_type": "execute_result"
    }
   ],
   "source": [
    "realloc((0, 2, 7, 0))"
   ]
  },
  {
   "cell_type": "markdown",
   "metadata": {},
   "source": [
    "These tests look good; let's solve the problem:"
   ]
  },
  {
   "cell_type": "code",
   "execution_count": 25,
   "metadata": {},
   "outputs": [
    {
     "data": {
      "text/plain": [
       "12841"
      ]
     },
     "execution_count": 25,
     "metadata": {},
     "output_type": "execute_result"
    }
   ],
   "source": [
    "realloc(banks)"
   ]
  },
  {
   "cell_type": "markdown",
   "metadata": {},
   "source": [
    "**Part Two:** Here I will just replace the `set` of `seen` banks with a `dict` of `{bank: cycle_number}`; everything else is the same, and the final result is the current cycle number minus the cycle number of the previously-seen tuple of banks."
   ]
  },
  {
   "cell_type": "code",
   "execution_count": 26,
   "metadata": {},
   "outputs": [
    {
     "data": {
      "text/plain": [
       "4"
      ]
     },
     "execution_count": 26,
     "metadata": {},
     "output_type": "execute_result"
    }
   ],
   "source": [
    "def realloc2(banks):\n",
    "    \"When we hit a cycle, what is the length of the cycle?\"\n",
    "    seen = {banks: 0}\n",
    "    for cycles in count_from(1):\n",
    "        banks = spread(banks)\n",
    "        if banks in seen:\n",
    "            return cycles - seen[banks]\n",
    "        seen[banks] = cycles\n",
    "\n",
    "realloc2((0, 2, 7, 0))"
   ]
  },
  {
   "cell_type": "code",
   "execution_count": 27,
   "metadata": {},
   "outputs": [
    {
     "data": {
      "text/plain": [
       "8038"
      ]
     },
     "execution_count": 27,
     "metadata": {},
     "output_type": "execute_result"
    }
   ],
   "source": [
    "realloc2(banks)"
   ]
  },
  {
   "cell_type": "markdown",
   "metadata": {},
   "source": [
    "# [Day 7](https://adventofcode.com/2017/day/7): Recursive Circus"
   ]
  },
  {
   "cell_type": "markdown",
   "metadata": {},
   "source": [
    "First I'll read the data into two dicts as follows: the input line:\n",
    "\n",
    "     tcmdaji (40) -> wjbdxln, amtqhf\n",
    "     \n",
    "creates:\n",
    "\n",
    "     weight['tcmdaji'] = 40\n",
    "     above['tcmdaji'] = ['wjbdxln', 'amtqhf']"
   ]
  },
  {
   "cell_type": "code",
   "execution_count": 28,
   "metadata": {
    "collapsed": true
   },
   "outputs": [],
   "source": [
    "def towers(lines):\n",
    "    \"Return (weight, above) dicts.\"\n",
    "    weight = {}\n",
    "    above = {}\n",
    "    for line in lines:\n",
    "        name, w, *rest = re.findall(r'\\w+', line)\n",
    "        weight[name] = int(w)\n",
    "        above[name] = set(rest)\n",
    "    return weight, above\n",
    "\n",
    "weight, above = towers(Input(7))\n",
    "\n",
    "programs = set(above)"
   ]
  },
  {
   "cell_type": "markdown",
   "metadata": {},
   "source": [
    "Now the root progam is the one that is not above anything:"
   ]
  },
  {
   "cell_type": "code",
   "execution_count": 29,
   "metadata": {},
   "outputs": [
    {
     "data": {
      "text/plain": [
       "{'wiapj'}"
      ]
     },
     "execution_count": 29,
     "metadata": {},
     "output_type": "execute_result"
    }
   ],
   "source": [
    "programs - set(flatten(above.values()))"
   ]
  },
  {
   "cell_type": "markdown",
   "metadata": {},
   "source": [
    "**Part Two:**\n",
    "\n",
    "A program is *wrong* if it is the bottom of a tower that is a different weight from all its sibling towers:"
   ]
  },
  {
   "cell_type": "code",
   "execution_count": 30,
   "metadata": {
    "collapsed": true
   },
   "outputs": [],
   "source": [
    "def wrong(p): return tower_weight(p) not in map(tower_weight, siblings(p))"
   ]
  },
  {
   "cell_type": "markdown",
   "metadata": {},
   "source": [
    "Here we define `tower_weight`, `siblings`, and the `below` dict:"
   ]
  },
  {
   "cell_type": "code",
   "execution_count": 31,
   "metadata": {
    "collapsed": true
   },
   "outputs": [],
   "source": [
    "def tower_weight(p): \n",
    "    \"Total weight for the tower whose root (bottom) is p.\"\n",
    "    return weight[p] + sum(map(tower_weight, above[p]))\n",
    "\n",
    "def siblings(p): \n",
    "    \"The other programs at the same level as this one.\"\n",
    "    if p not in below:\n",
    "        return Ø # the root has no siblings\n",
    "    else:\n",
    "        return above[below[p]] - {p}\n",
    "\n",
    "below = {a: b for b in programs for a in above[b]}"
   ]
  },
  {
   "cell_type": "code",
   "execution_count": 32,
   "metadata": {},
   "outputs": [
    {
     "data": {
      "text/plain": [
       "{'eionkb', 'lsire', 'wiapj', 'ycpcv'}"
      ]
     },
     "execution_count": 32,
     "metadata": {},
     "output_type": "execute_result"
    }
   ],
   "source": [
    "set(filter(wrong, programs))"
   ]
  },
  {
   "cell_type": "markdown",
   "metadata": {},
   "source": [
    "So these four programs are wrong. Which one should we correct? The one that is wrong, and has no wrong program above it:"
   ]
  },
  {
   "cell_type": "code",
   "execution_count": 33,
   "metadata": {},
   "outputs": [
    {
     "data": {
      "text/plain": [
       "'eionkb'"
      ]
     },
     "execution_count": 33,
     "metadata": {},
     "output_type": "execute_result"
    }
   ],
   "source": [
    "def wrongest(programs):\n",
    "    return first(p for p in programs\n",
    "                 if wrong(p) \n",
    "                 and not any(wrong(p2) for p2 in above[p]))\n",
    "\n",
    "wrongest(programs)                              "
   ]
  },
  {
   "cell_type": "markdown",
   "metadata": {},
   "source": [
    "Now what should we correct it to? To the weight that makes it the same weight as the sibling towers:"
   ]
  },
  {
   "cell_type": "code",
   "execution_count": 34,
   "metadata": {},
   "outputs": [
    {
     "data": {
      "text/plain": [
       "1072"
      ]
     },
     "execution_count": 34,
     "metadata": {},
     "output_type": "execute_result"
    }
   ],
   "source": [
    "def correct(p):\n",
    "    \"Return the weight that would make p's tower's weight the same as its sibling towers.\"\n",
    "    delta = tower_weight(first(siblings(p))) - tower_weight(p) \n",
    "    return weight[p] + delta\n",
    "\n",
    "correct(wrongest(programs))"
   ]
  },
  {
   "cell_type": "markdown",
   "metadata": {},
   "source": [
    "# [Day 8](https://adventofcode.com/2017/day/8): Memory Reallocation \n",
    "\n",
    "This one looks easy: a simple interpreter for straight-line code where each instruction has 7 tokens. It is nice that my `Array` function parses the whole program."
   ]
  },
  {
   "cell_type": "code",
   "execution_count": 35,
   "metadata": {},
   "outputs": [
    {
     "data": {
      "text/plain": [
       "6828"
      ]
     },
     "execution_count": 35,
     "metadata": {},
     "output_type": "execute_result"
    }
   ],
   "source": [
    "program8 = Array(Input(8))\n",
    "\n",
    "def run8(program):\n",
    "    \"Run the program and return final value of registers.\"\n",
    "    registers = defaultdict(int)\n",
    "    for (r, inc, delta, _if, r2, cmp, amount) in program:\n",
    "        if operations[cmp](registers[r2], amount):\n",
    "            registers[r] += delta * (+1 if inc == 'inc' else -1)\n",
    "    return registers\n",
    "\n",
    "max(run8(program8).values())"
   ]
  },
  {
   "cell_type": "markdown",
   "metadata": {},
   "source": [
    "**Part Two:**\n",
    "\n",
    "Here I modify the interpreter to keep track of the highest value of any register at any time."
   ]
  },
  {
   "cell_type": "code",
   "execution_count": 36,
   "metadata": {},
   "outputs": [
    {
     "data": {
      "text/plain": [
       "7234"
      ]
     },
     "execution_count": 36,
     "metadata": {},
     "output_type": "execute_result"
    }
   ],
   "source": [
    "def run8_2(program):\n",
    "    registers = defaultdict(int)\n",
    "    highest = 0\n",
    "    for (r, inc, delta, _if, r2, cmp, amount) in program:\n",
    "        if operations[cmp](registers[r2], amount):\n",
    "            registers[r] += delta * (+1 if inc == 'inc' else -1)\n",
    "            highest = max(highest, registers[r])\n",
    "    return highest\n",
    "\n",
    "run8_2(program8)"
   ]
  },
  {
   "cell_type": "markdown",
   "metadata": {},
   "source": [
    "# [Day 9](https://adventofcode.com/2017/day/9): Stream Processing\n",
    "\n",
    "For this problem I could have a single finite-state machine that handles all five magic characters, `'{<!>}'`, but I think it is easier to first clean up the garbage, using regular expressions:"
   ]
  },
  {
   "cell_type": "code",
   "execution_count": 37,
   "metadata": {},
   "outputs": [
    {
     "data": {
      "text/plain": [
       "'{{{{{{{},},{{},}},{{{{}},{{{{{}}},{}},},{{{{},{,{{{}}}}},},{{{}},{{}}}'"
      ]
     },
     "execution_count": 37,
     "metadata": {},
     "output_type": "execute_result"
    }
   ],
   "source": [
    "text1 = re.sub(r'!.', '', Inputstr(9))  # Delete canceled characters\n",
    "text2 = re.sub(r'<.*?>', '', text1)     # Delete garbage\n",
    "\n",
    "text2[:70]"
   ]
  },
  {
   "cell_type": "markdown",
   "metadata": {},
   "source": [
    "Now I can deal with the nested braces (which can't be handled with regular expressions). The puzzle says \"*Each group is assigned a score which is one more than the score of the group that immediately contains it,*\" which is the same as saying that a group's score is its nesting level, a quantity that increases with each open-brace character, and decreases with each close-brace:"
   ]
  },
  {
   "cell_type": "code",
   "execution_count": 38,
   "metadata": {},
   "outputs": [
    {
     "data": {
      "text/plain": [
       "9662"
      ]
     },
     "execution_count": 38,
     "metadata": {},
     "output_type": "execute_result"
    }
   ],
   "source": [
    "def total_score(text):\n",
    "    \"Total of group scores; each group scores one more than the group it is nested in.\"\n",
    "    total = 0\n",
    "    level = 0 # Level of nesting\n",
    "    for c in text:\n",
    "        if c == '{':\n",
    "            level += 1\n",
    "            total += level\n",
    "        elif c == '}':\n",
    "            level -= 1\n",
    "    return total\n",
    "\n",
    "total_score(text2)"
   ]
  },
  {
   "cell_type": "markdown",
   "metadata": {},
   "source": [
    "**Part Two:**\n",
    "\n",
    "At first I thought that the amount of garbage is just the difference in lengths of `text2` and `text3`:"
   ]
  },
  {
   "cell_type": "code",
   "execution_count": 39,
   "metadata": {},
   "outputs": [
    {
     "data": {
      "text/plain": [
       "5989"
      ]
     },
     "execution_count": 39,
     "metadata": {},
     "output_type": "execute_result"
    }
   ],
   "source": [
    "len(text1) - len(text2)"
   ]
  },
  {
   "cell_type": "markdown",
   "metadata": {},
   "source": [
    "But this turned out to be wrong; it counts the angle brackets themselves s being deleted, whereas the puzzle is actually asking how many character between the angle brackets are deleted. So that would be:"
   ]
  },
  {
   "cell_type": "code",
   "execution_count": 40,
   "metadata": {},
   "outputs": [
    {
     "data": {
      "text/plain": [
       "4903"
      ]
     },
     "execution_count": 40,
     "metadata": {},
     "output_type": "execute_result"
    }
   ],
   "source": [
    "text3 = re.sub(r'<.*?>', '<>', text1)  # Delete garbage inside brackets, but not brackets\n",
    "\n",
    "len(text1) - len(text3)"
   ]
  },
  {
   "cell_type": "markdown",
   "metadata": {},
   "source": [
    "# [Day 10](https://adventofcode.com/2017/day/10): Stream Processing"
   ]
  },
  {
   "cell_type": "markdown",
   "metadata": {},
   "source": [
    "I have to do a bunch of reversals of substrings of `stream`. It looks complicated so I will include a `verbose` argument to `knothash` and confirm it works on the example puzzle. I break out the reversal into a separate function, `rev`. The way I handle reversal interacting with wraparound is that I first move all the items before the reversal position to the end of the list, then I do the reversal, then I move them back."
   ]
  },
  {
   "cell_type": "code",
   "execution_count": 41,
   "metadata": {
    "collapsed": true
   },
   "outputs": [],
   "source": [
    "stream = (63,144,180,149,1,255,167,84,125,65,188,0,2,254,229,24)\n",
    "\n",
    "def knothash(lengths, N=256, verbose=False):\n",
    "    \"Do a reversal for each of the numbers in `lengths`.\"\n",
    "    nums = list(range(N))\n",
    "    pos = skip = 0\n",
    "    for L in lengths:\n",
    "        nums = rev(nums, pos, L)\n",
    "        if verbose: print(nums)\n",
    "        pos = (pos + L + skip) % N\n",
    "        skip += 1\n",
    "    return nums[0] * nums[1]\n",
    "        \n",
    "def rev(nums, pos, L):\n",
    "    \"Reverse nums[pos:pos+L], handling wrap-around.\"\n",
    "    # Move first pos elements to end, reverse first L, move pos elements back\n",
    "    nums = nums[pos:] + nums[:pos]\n",
    "    nums[:L] = reversed(nums[:L])\n",
    "    nums = nums[-pos:] + nums[:-pos]\n",
    "    return nums"
   ]
  },
  {
   "cell_type": "code",
   "execution_count": 42,
   "metadata": {
    "collapsed": true
   },
   "outputs": [],
   "source": [
    "# Reverse [0, 1, 2]:\n",
    "assert rev(list(range(5)), 0, 3) == [2, 1, 0, 3, 4]"
   ]
  },
  {
   "cell_type": "code",
   "execution_count": 43,
   "metadata": {
    "collapsed": true
   },
   "outputs": [],
   "source": [
    "# Reverse [4, 0, 1], wrapping around:\n",
    "assert rev(list(range(5)), 4, 3) == [0, 4, 2, 3, 1]"
   ]
  },
  {
   "cell_type": "code",
   "execution_count": 44,
   "metadata": {},
   "outputs": [
    {
     "name": "stdout",
     "output_type": "stream",
     "text": [
      "[2, 1, 0, 3, 4]\n",
      "[4, 3, 0, 1, 2]\n",
      "[4, 3, 0, 1, 2]\n",
      "[3, 4, 2, 1, 0]\n"
     ]
    }
   ],
   "source": [
    "# Duplicate the example output\n",
    "assert knothash((3, 4, 1, 5), N=5, verbose=True) == 12"
   ]
  },
  {
   "cell_type": "markdown",
   "metadata": {},
   "source": [
    "That's correct, but the first time through I got it wrong because I forgot the `\"% N\"` on the update of `pos`."
   ]
  },
  {
   "cell_type": "code",
   "execution_count": 45,
   "metadata": {},
   "outputs": [
    {
     "data": {
      "text/plain": [
       "4480"
      ]
     },
     "execution_count": 45,
     "metadata": {},
     "output_type": "execute_result"
    }
   ],
   "source": [
    "knothash(stream)"
   ]
  },
  {
   "cell_type": "markdown",
   "metadata": {},
   "source": [
    "**Part Two**:\n",
    "\n",
    "Now it gets *really* complicated: string processing, the suffix, hex string output, and dense hashing. But just take them one at a time:"
   ]
  },
  {
   "cell_type": "code",
   "execution_count": 46,
   "metadata": {},
   "outputs": [
    {
     "name": "stdout",
     "output_type": "stream",
     "text": [
      "CPU times: user 13.7 ms, sys: 346 µs, total: 14 ms\n",
      "Wall time: 13.7 ms\n"
     ]
    },
    {
     "data": {
      "text/plain": [
       "'c500ffe015c83b60fad2e4b7d59dabc4'"
      ]
     },
     "execution_count": 46,
     "metadata": {},
     "output_type": "execute_result"
    }
   ],
   "source": [
    "stream2 = '63,144,180,149,1,255,167,84,125,65,188,0,2,254,229,24'\n",
    "\n",
    "def knothash2(lengthstr, N=256, rounds=64, suffix=(17, 31, 73, 47, 23),\n",
    "              verbose=False):\n",
    "    \"Do a reversal for each length; repeat `rounds` times.\"\n",
    "    nums = list(range(N))\n",
    "    lengths = mapt(ord, lengthstr) + suffix\n",
    "    pos = skip = 0\n",
    "    for round in range(rounds):\n",
    "        for L in lengths:\n",
    "            nums = rev(nums, pos, L)\n",
    "            if verbose: print(nums)\n",
    "            pos = (pos + L + skip) % N\n",
    "            skip += 1\n",
    "    return hexstr(dense_hash(nums))\n",
    "\n",
    "def hexstr(nums): \n",
    "    \"Convert a sequence of (0 to 255) ints into a hex str.\"\n",
    "    return cat(map('{:02x}'.format, nums))\n",
    "    \n",
    "def dense_hash(nums, blocksize=16): \n",
    "    \"XOR each block of nums, return the list of them.\"\n",
    "    return [XOR(block) for block in grouper(nums, blocksize)]\n",
    "\n",
    "def XOR(nums):\n",
    "    \"Exclusive-or all the numbers together.\"\n",
    "    result = 0\n",
    "    for n in nums:\n",
    "        result ^= n\n",
    "    return result\n",
    "    \n",
    "assert XOR([65, 27, 9, 1, 4, 3, 40, 50, 91, 7, 6, 0, 2, 5, 68, 22]) == 64\n",
    "assert hexstr([255, 0, 17]) == 'ff0011'\n",
    "\n",
    "assert knothash2('') == 'a2582a3a0e66e6e86e3812dcb672a272'\n",
    "\n",
    "%time knothash2(stream2)"
   ]
  },
  {
   "cell_type": "markdown",
   "metadata": {},
   "source": [
    "I had a bug: originally I used `'{:x}'` as the format instead of `'{:02x}'`; the later correctly formats `0` as `'00'`, not `'0'`."
   ]
  },
  {
   "cell_type": "markdown",
   "metadata": {},
   "source": [
    "# [Day 11](https://adventofcode.com/2017/day/11): Hex Ed\n",
    "\n",
    "The first thing I did was search [`[hex coordinates]`](https://www.google.com/search?source=hp&ei=Ft4xWoOqKcy4jAOs76a4CQ&q=hex+coordinates), and the #1 result (as I expected) was Amit Patel's \"[Hexagonal Grids](https://www.redblobgames.com/grids/hexagons/)\" page. I chose his \"odd-q vertical layout\" to define the six headings as (dx, dy) deltas:"
   ]
  },
  {
   "cell_type": "code",
   "execution_count": 47,
   "metadata": {
    "collapsed": true
   },
   "outputs": [],
   "source": [
    "headings6 = dict(n=(0, -1), ne=(1, 0), se=(1, 1), s=(0, 1), sw=(-1, 0), nw=(-1, -1))"
   ]
  },
  {
   "cell_type": "markdown",
   "metadata": {},
   "source": [
    "Now I can read the path, follow it, and see where it ends up. From there, we have to compute how far we are from the origin: I can use my `king_distance` function for that&mdash;the number of moves a Chess King would take."
   ]
  },
  {
   "cell_type": "code",
   "execution_count": 48,
   "metadata": {},
   "outputs": [
    {
     "data": {
      "text/plain": [
       "705"
      ]
     },
     "execution_count": 48,
     "metadata": {},
     "output_type": "execute_result"
    }
   ],
   "source": [
    "path = Vector(Inputstr(11))\n",
    "\n",
    "def follow(path):\n",
    "    \"Follow each step of the path; return final distance to origin.\"\n",
    "    pos = origin\n",
    "    for dir in path:\n",
    "        pos = add(pos, headings6[dir])\n",
    "    return king_distance(pos)\n",
    "\n",
    "follow(path)"
   ]
  },
  {
   "cell_type": "markdown",
   "metadata": {},
   "source": [
    "This one seemed so easy that I didn't bother testing it on the simple examples in the puzzle; all I did was confirm that the answer for my puzzle input was correct.\n",
    "\n",
    "**Part Two:**\n",
    "\n",
    "This looks pretty easy; repeat Part One, but keep track of the maximum number of steps we get from the origin at any point in the path:"
   ]
  },
  {
   "cell_type": "code",
   "execution_count": 49,
   "metadata": {},
   "outputs": [
    {
     "data": {
      "text/plain": [
       "1469"
      ]
     },
     "execution_count": 49,
     "metadata": {},
     "output_type": "execute_result"
    }
   ],
   "source": [
    "def follow2(path):\n",
    "    \"Follow each step of the path; return the farthest away we ever got.\"\n",
    "    pos = origin\n",
    "    maxsteps = 0\n",
    "    for dir in path:\n",
    "        pos = add(pos, headings6[dir])\n",
    "        maxsteps = max(maxsteps, king_distance(pos))\n",
    "    return maxsteps\n",
    "\n",
    "follow2(path)"
   ]
  },
  {
   "cell_type": "markdown",
   "metadata": {},
   "source": [
    "Again, no tests, just the final answer.\n",
    "\n",
    "# [Day 12](https://adventofcode.com/2017/day/12): Digital Plumber\n",
    "\n",
    "First I'll parse the data, creating a dict of `{program: direct_group_of_programs}`:"
   ]
  },
  {
   "cell_type": "code",
   "execution_count": 50,
   "metadata": {
    "collapsed": true
   },
   "outputs": [],
   "source": [
    "def groups(lines):\n",
    "    \"Dict of {i: {directly_connected_to_i}\"\n",
    "    return {lhs: {lhs} | set(rhs)\n",
    "            for (lhs, _, *rhs) in Array(lines)}\n",
    "    \n",
    "assert groups(Input(12))[0] == {0, 659, 737}"
   ]
  },
  {
   "cell_type": "markdown",
   "metadata": {},
   "source": [
    "That looks good. I recognize this as a [Union-Find](https://en.wikipedia.org/wiki/Disjoint-set_data_structure) problem, for which there are efficient algorithms. But for this small example, I don't need efficiency, I need clarity and simplicity. So I'll write `merge` to take a dict and merge together the sets that are connected:"
   ]
  },
  {
   "cell_type": "code",
   "execution_count": 51,
   "metadata": {
    "collapsed": true
   },
   "outputs": [],
   "source": [
    "def merge(G):\n",
    "    \"Merge all indirectly connected groups together.\"\n",
    "    for i in G:\n",
    "        for j in list(G[i]):\n",
    "            if G[i] != G[j]:\n",
    "                G[i].update(G[j])\n",
    "                G[j] = G[i]\n",
    "    return G\n",
    "\n",
    "G = merge(groups(Input(12)))"
   ]
  },
  {
   "cell_type": "code",
   "execution_count": 52,
   "metadata": {},
   "outputs": [
    {
     "data": {
      "text/plain": [
       "115"
      ]
     },
     "execution_count": 52,
     "metadata": {},
     "output_type": "execute_result"
    }
   ],
   "source": [
    "len(G[0])"
   ]
  },
  {
   "cell_type": "markdown",
   "metadata": {},
   "source": [
    "That's the answer for Part One.\n",
    "\n",
    "**Part Two**\n",
    "\n",
    "I did almost all the work; I just need to count the number of distinct groups. That's a set of sets, and regular `set`s are not hashable, so I use my `Set` class:"
   ]
  },
  {
   "cell_type": "code",
   "execution_count": 53,
   "metadata": {},
   "outputs": [
    {
     "data": {
      "text/plain": [
       "221"
      ]
     },
     "execution_count": 53,
     "metadata": {},
     "output_type": "execute_result"
    }
   ],
   "source": [
    "len({Set(G[i]) for i in G})"
   ]
  },
  {
   "cell_type": "markdown",
   "metadata": {},
   "source": [
    "# [Day 13](https://adventofcode.com/2017/day/13): Packet Scanners\n",
    "\n",
    "First thing: The puzzle says the data is *depth: range*, but `range` has a meaning in Python, so I'll use the term *width* instead.\n",
    "\n",
    "Second thing: I misread the puzzle description and mistakenly thought the scanners were going in a circular route,\n",
    "so that they'd be at the top at any time that is 0 mod *width*. That gave the wrong answer and I realized the scanners are actually going back-and-forth, so with a width of size *n*, it takes *n* - 1 steps to get to the bottom, and *n* - 1 steps to get back to the top, so the scanner will be \n",
    "at the top at times that are multiples of 2(*n* - 1). For example, with width 3, that would be times 0, 4, 8, ... "
   ]
  },
  {
   "cell_type": "code",
   "execution_count": 54,
   "metadata": {
    "collapsed": true
   },
   "outputs": [],
   "source": [
    "def trip_severity(scanners): \n",
    "    \"The sum of severities for each time the packet is caught.\"\n",
    "    return sum((d * w if caught(d, w) else 0) \n",
    "               for (d, w) in scanners)\n",
    "\n",
    "def caught(depth, width):\n",
    "    \"Does the scanner at this depth/width catch the packet?\"\n",
    "    return depth % (2 * (width - 1)) == 0\n",
    "\n",
    "example = ((0, 3), (1, 2), (4, 4), (6, 4))\n",
    "assert trip_severity(example) == 24"
   ]
  },
  {
   "cell_type": "code",
   "execution_count": 55,
   "metadata": {},
   "outputs": [
    {
     "data": {
      "text/plain": [
       "((0, 3), (1, 2), (2, 4), (4, 6), (6, 4))"
      ]
     },
     "execution_count": 55,
     "metadata": {},
     "output_type": "execute_result"
    }
   ],
   "source": [
    "scanners = mapt(Integers, Input(13))\n",
    "scanners[:5]"
   ]
  },
  {
   "cell_type": "code",
   "execution_count": 56,
   "metadata": {},
   "outputs": [
    {
     "data": {
      "text/plain": [
       "1504"
      ]
     },
     "execution_count": 56,
     "metadata": {},
     "output_type": "execute_result"
    }
   ],
   "source": [
    "trip_severity(scanners)"
   ]
  },
  {
   "cell_type": "markdown",
   "metadata": {},
   "source": [
    "**Part Two**\n",
    "\n",
    "A packet is safe if no scanner catches it. We now have the possibility of a delay, so I update `caught` to allow for an optional delay, and define `safe_delay`:  "
   ]
  },
  {
   "cell_type": "code",
   "execution_count": 57,
   "metadata": {},
   "outputs": [
    {
     "data": {
      "text/plain": [
       "10"
      ]
     },
     "execution_count": 57,
     "metadata": {},
     "output_type": "execute_result"
    }
   ],
   "source": [
    "def caught(depth, width, delay=0):\n",
    "    \"Does the scanner at this depth/width catch the packet with this delay?\"\n",
    "    return (depth + delay) % (2 * (width - 1)) == 0 \n",
    "\n",
    "def safe_delay(scanners):\n",
    "    \"Find the first delay such that no scanner catches the packet.\"\n",
    "    safe = lambda delay: not any(caught(d, w, delay) for (d, w) in scanners)\n",
    "    return first(filter(safe, count_from(0)))\n",
    "\n",
    "safe_delay(example)"
   ]
  },
  {
   "cell_type": "code",
   "execution_count": 58,
   "metadata": {},
   "outputs": [
    {
     "data": {
      "text/plain": [
       "3823370"
      ]
     },
     "execution_count": 58,
     "metadata": {},
     "output_type": "execute_result"
    }
   ],
   "source": [
    "safe_delay(scanners)"
   ]
  },
  {
   "cell_type": "markdown",
   "metadata": {},
   "source": [
    "# [Day 14](https://adventofcode.com/2017/day/14): Disk Defragmentation\n",
    "\n",
    "I found this puzzle description confusing: are they talking about what I call `knothash`, or is it `knothash2`? I decided for the latter, which turned out to be right:"
   ]
  },
  {
   "cell_type": "code",
   "execution_count": 59,
   "metadata": {
    "collapsed": true
   },
   "outputs": [],
   "source": [
    "key = 'ljoxqyyw'"
   ]
  },
  {
   "cell_type": "code",
   "execution_count": 60,
   "metadata": {},
   "outputs": [
    {
     "name": "stdout",
     "output_type": "stream",
     "text": [
      "CPU times: user 488 ms, sys: 1.32 ms, total: 490 ms\n",
      "Wall time: 489 ms\n"
     ]
    },
    {
     "data": {
      "text/plain": [
       "8316"
      ]
     },
     "execution_count": 60,
     "metadata": {},
     "output_type": "execute_result"
    }
   ],
   "source": [
    "def bits(key, i):\n",
    "    \"The bits in the hash of this key with this row number.\"\n",
    "    hash = knothash2(key + '-' + str(i))\n",
    "    return format(int(hash, base=16), '0128b')\n",
    "\n",
    "%time sum(bits(key, i).count('1') for i in range(128))"
   ]
  },
  {
   "cell_type": "markdown",
   "metadata": {},
   "source": [
    "**Part Two**\n",
    "\n",
    "So as not to worry about running off the edge of the grid, I'll surround the grid with `'0'` bits:"
   ]
  },
  {
   "cell_type": "code",
   "execution_count": 61,
   "metadata": {
    "collapsed": true
   },
   "outputs": [],
   "source": [
    "def Grid(key, N=128+2):\n",
    "    \"Make a grid, with a border around it.\"\n",
    "    return border('0', (list(bits(key, i)) for i in range(128)))\n",
    "\n",
    "def border(fill, grid):\n",
    "    \"Surround a grid with a border of fill cells.\"\n",
    "    rows  = [[fill] + list(row) + [fill] \n",
    "             for row in grid]\n",
    "    empty =  [fill] * len(rows[0])\n",
    "    return [empty] + rows + [empty]"
   ]
  },
  {
   "cell_type": "markdown",
   "metadata": {},
   "source": [
    "To find a region, start at some `(x, y)` position and [flood fill](https://en.wikipedia.org/wiki/Flood_fill) to neighbors that have the same value (a `'1'` bit)."
   ]
  },
  {
   "cell_type": "code",
   "execution_count": 62,
   "metadata": {
    "collapsed": true
   },
   "outputs": [],
   "source": [
    "def flood(grid, x, y, val, R):\n",
    "    \"For all cells with value val connected to grid[x][y], give them region number R.\"\n",
    "    if grid[y][x] == val:\n",
    "        grid[y][x] = R\n",
    "        for x2, y2 in neighbors4((x, y)):\n",
    "            flood(grid, x2, y2, val, R)"
   ]
  },
  {
   "cell_type": "code",
   "execution_count": 63,
   "metadata": {
    "collapsed": true
   },
   "outputs": [],
   "source": [
    "def flood_all(grid, val='1'):\n",
    "    \"Label all regions with consecutive ints starting at 1.\"\n",
    "    R = 0 # R is the region number\n",
    "    for y in range(1, len(grid) - 1):\n",
    "        for x in range(1, len(grid) - 1):\n",
    "            if grid[y][x] == val:\n",
    "                R += 1\n",
    "                flood(grid, x, y, val, R)\n",
    "    return R "
   ]
  },
  {
   "cell_type": "code",
   "execution_count": 64,
   "metadata": {},
   "outputs": [
    {
     "name": "stdout",
     "output_type": "stream",
     "text": [
      "CPU times: user 509 ms, sys: 1.64 ms, total: 511 ms\n",
      "Wall time: 510 ms\n"
     ]
    },
    {
     "data": {
      "text/plain": [
       "1074"
      ]
     },
     "execution_count": 64,
     "metadata": {},
     "output_type": "execute_result"
    }
   ],
   "source": [
    "%time flood_all(Grid(key))"
   ]
  },
  {
   "cell_type": "markdown",
   "metadata": {},
   "source": [
    "# [Day 15](https://adventofcode.com/2017/day/15): Dueling Generators\n",
    "\n",
    "My personalized inputs for this puzzle are `516` and `190`; the other numbers are shared by all puzzle-solvers. I decided to make infinite generators of numbers, using `gen`:"
   ]
  },
  {
   "cell_type": "code",
   "execution_count": 65,
   "metadata": {},
   "outputs": [
    {
     "name": "stdout",
     "output_type": "stream",
     "text": [
      "CPU times: user 15.3 s, sys: 66.6 ms, total: 15.4 s\n",
      "Wall time: 15.5 s\n"
     ]
    },
    {
     "data": {
      "text/plain": [
       "597"
      ]
     },
     "execution_count": 65,
     "metadata": {},
     "output_type": "execute_result"
    }
   ],
   "source": [
    "@jit\n",
    "def gen(prev, factor, m=2147483647):\n",
    "    \"Generate a sequence of numbers according to the rules; stop at 0.\"\n",
    "    while prev:\n",
    "        prev = (prev * factor) % m\n",
    "        yield prev\n",
    "        \n",
    "def judge(A, B, N, mask=2**16-1): \n",
    "    \"How many of the first N numbers from A and B agree in the masked bits (default last 16)?\"\n",
    "    return quantify(a & mask == b & mask\n",
    "                    for (a, b, _) in zip(A, B, range(N)))\n",
    "\n",
    "\n",
    "def A(): return gen(516, 16807)\n",
    "def B(): return gen(190, 48271)\n",
    "\n",
    "%time judge(A(), B(), 40*10**6)"
   ]
  },
  {
   "cell_type": "markdown",
   "metadata": {},
   "source": [
    "Notice I also decided to use `@jit` (i.e. `numba.jit`) to speed things up, since this is the slowest-running day yet.\n",
    "\n",
    "**Part Two**\n",
    "\n",
    "A small change: only consider numbers that match the **criteria** of being divisible by 4 or 8, respectively;"
   ]
  },
  {
   "cell_type": "code",
   "execution_count": 66,
   "metadata": {},
   "outputs": [
    {
     "name": "stdout",
     "output_type": "stream",
     "text": [
      "CPU times: user 9.87 s, sys: 26.7 ms, total: 9.9 s\n",
      "Wall time: 9.92 s\n"
     ]
    },
    {
     "data": {
      "text/plain": [
       "303"
      ]
     },
     "execution_count": 66,
     "metadata": {},
     "output_type": "execute_result"
    }
   ],
   "source": [
    "def criteria(m, iterable): \n",
    "    \"Elements of iterable that are divisible by m\"\n",
    "    return (n for n in iterable if n % m == 0)\n",
    "        \n",
    "%time judge(criteria(4, A()), criteria(8, B()), 5*10**6)"
   ]
  },
  {
   "cell_type": "markdown",
   "metadata": {},
   "source": [
    "# [Day 16](https://adventofcode.com/2017/day/16): Permutation Promenade\n",
    "\n",
    "Let's read the input and check that it looks reasonable:"
   ]
  },
  {
   "cell_type": "code",
   "execution_count": 67,
   "metadata": {},
   "outputs": [
    {
     "data": {
      "text/plain": [
       "('x5/15',\n",
       " 's15',\n",
       " 'x1/3',\n",
       " 'pn/f',\n",
       " 'x11/2',\n",
       " 's13',\n",
       " 'x6/3',\n",
       " 'pe/a',\n",
       " 'x14/12',\n",
       " 's15')"
      ]
     },
     "execution_count": 67,
     "metadata": {},
     "output_type": "execute_result"
    }
   ],
   "source": [
    "dance = Vector(Inputstr(16))\n",
    "dance[:10]"
   ]
  },
  {
   "cell_type": "code",
   "execution_count": 68,
   "metadata": {},
   "outputs": [
    {
     "data": {
      "text/plain": [
       "10000"
      ]
     },
     "execution_count": 68,
     "metadata": {},
     "output_type": "execute_result"
    }
   ],
   "source": [
    "len(dance)"
   ]
  },
  {
   "cell_type": "markdown",
   "metadata": {},
   "source": [
    "I'll define `perform` to perform the dance:"
   ]
  },
  {
   "cell_type": "code",
   "execution_count": 69,
   "metadata": {},
   "outputs": [
    {
     "data": {
      "text/plain": [
       "'lbdiomkhgcjanefp'"
      ]
     },
     "execution_count": 69,
     "metadata": {},
     "output_type": "execute_result"
    }
   ],
   "source": [
    "dancers = 'abcdefghijklmnop'\n",
    "\n",
    "def perform(dance, dancers=dancers):\n",
    "    D = deque(dancers)\n",
    "    def swap(i, j): D[i], D[j] = D[j], D[i]\n",
    "    for move in dance:\n",
    "        op, arg = move[0], move[1:]\n",
    "        if   op == 's': D.rotate(int(arg))\n",
    "        elif op == 'x': swap(*Integers(arg))\n",
    "        elif op == 'p': swap(D.index(arg[0]), D.index(arg[2]))\n",
    "    return cat(D)\n",
    "            \n",
    "perform(dance)"
   ]
  },
  {
   "cell_type": "markdown",
   "metadata": {},
   "source": [
    "That's the right answer.\n",
    "\n",
    "**Part Two**\n",
    "\n",
    "My first thought was to define a dance as a permutation: a list of numbers `[11, 1, 9, ...]` which says that the net effect of the dance is that the first dancer (`a`) ends up in position, the second (`b`) stays in position 1, and so on. Applying that permutation once is a lot faster than interpreting all 10,000 moves of the dance, and it is feasible to apply the permutation a billion times. I tried that (code not shown here), but that was a mistake: it took 15 minutes to run, and it got the wrong answer. The problem is that a dance is *not* just a permutation, because a dance can reference dancer *names*, not just positions.\n",
    "\n",
    "It would take about 10,000 times 20 minutes to perform a billion repetitions of the dance, so that's out. But even though the dance is not a permutation, it might repeat after a short period. Let's check:"
   ]
  },
  {
   "cell_type": "code",
   "execution_count": 70,
   "metadata": {},
   "outputs": [
    {
     "name": "stdout",
     "output_type": "stream",
     "text": [
      "abcdefghijklmnop is seen in iterations (0, 56)\n"
     ]
    }
   ],
   "source": [
    "seen = {dancers: 0}\n",
    "d = dancers\n",
    "for i in range(1, 1000):\n",
    "    d = perform(dance, d)\n",
    "    if d in seen:\n",
    "        print(d, 'is seen in iterations', (seen[d], i))\n",
    "        break\n",
    "    seen[d] = i"
   ]
  },
  {
   "cell_type": "markdown",
   "metadata": {},
   "source": [
    "So we get back to the start position after 56 repetitions of the dance. What happens after a billion repetitions?"
   ]
  },
  {
   "cell_type": "code",
   "execution_count": 71,
   "metadata": {},
   "outputs": [
    {
     "data": {
      "text/plain": [
       "48"
      ]
     },
     "execution_count": 71,
     "metadata": {},
     "output_type": "execute_result"
    }
   ],
   "source": [
    "1000000000 % 56"
   ]
  },
  {
   "cell_type": "markdown",
   "metadata": {},
   "source": [
    "The end position after a billion repetitions is the same as after 48:"
   ]
  },
  {
   "cell_type": "code",
   "execution_count": 72,
   "metadata": {},
   "outputs": [
    {
     "data": {
      "text/plain": [
       "'ejkflpgnamhdcboi'"
      ]
     },
     "execution_count": 72,
     "metadata": {},
     "output_type": "execute_result"
    }
   ],
   "source": [
    "def whole(N, dance, dancers=dancers):\n",
    "    \"Repeat `perform(dance)` N times.\"\n",
    "    for i in range(N):\n",
    "        dancers = perform(dance, dancers)\n",
    "    return dancers\n",
    "    \n",
    "whole(48, dance)"
   ]
  },
  {
   "cell_type": "markdown",
   "metadata": {},
   "source": [
    "\n",
    "# [Day 17](https://adventofcode.com/2017/day/17): Spinlock\n",
    "\n",
    "This one looks pretty easy:"
   ]
  },
  {
   "cell_type": "code",
   "execution_count": 73,
   "metadata": {},
   "outputs": [
    {
     "data": {
      "text/plain": [
       "355"
      ]
     },
     "execution_count": 73,
     "metadata": {},
     "output_type": "execute_result"
    }
   ],
   "source": [
    "step = 314\n",
    "\n",
    "def spinlock(step=step, N=2017):\n",
    "    \"Make N inserts into the buffer, skipping ahead by `step` each time.\"\n",
    "    buf = [0]\n",
    "    pos = 0\n",
    "    for i in ints(1, N):\n",
    "        pos = (pos + step) % i + 1\n",
    "        buf[pos:pos] = [i]\n",
    "    return buf\n",
    "        \n",
    "buf = spinlock()\n",
    "\n",
    "buf[buf.index(2017)+1]"
   ]
  },
  {
   "cell_type": "markdown",
   "metadata": {},
   "source": [
    "That's the right answer.\n",
    "\n",
    "**Part Two**\n",
    "\n",
    "But Part Two is not so easy, if we care about the run time. Insertion into a `list` has to move all the elements after the insertion down, so insertion is O(N) and `spinlock` is O(N<sup>2</sup>). That's no problem when N = 2017, but when N is 50 million?  We're gonna need a bigger boat, where by \"boat\" I mean algorithm or data structure. My first thought is a (circular) linked list, because insertion is O(1). I can implement the three key methods: `skip` to move ahead, `insert` to add a new node after the current one, and `find` to find a piece of data (with a linear search):"
   ]
  },
  {
   "cell_type": "code",
   "execution_count": 74,
   "metadata": {
    "collapsed": true
   },
   "outputs": [],
   "source": [
    "class Node:\n",
    "    \"A Node in a singly-linked list\"\n",
    "    \n",
    "    __slots__ = ('data', 'next') # Declaring slots makes it more efficient\n",
    "    \n",
    "    def __init__(self, data, next): self.data, self.next = data, next\n",
    "                \n",
    "    def skip(self, n):\n",
    "        \"Skip ahead n nodes, and return that node.\"\n",
    "        node = self\n",
    "        for i in range(n):\n",
    "            node = node.next\n",
    "        return node\n",
    "        \n",
    "    def insert(self, value):\n",
    "        \"Insert a new node with the given value after this node.\"\n",
    "        self.next = Node(value, self.next)\n",
    "        return self.next\n",
    "    \n",
    "    def find(self, value):\n",
    "        \"Find the node with the given data value.\"\n",
    "        node = self\n",
    "        while node.data != value:\n",
    "            node = node.next\n",
    "        return node"
   ]
  },
  {
   "cell_type": "markdown",
   "metadata": {},
   "source": [
    "Now I can rewrite `spinlock` to use this class:"
   ]
  },
  {
   "cell_type": "code",
   "execution_count": 75,
   "metadata": {
    "collapsed": true
   },
   "outputs": [],
   "source": [
    "def spinlock2(step=step, N=2017):\n",
    "    node = Node(0, None)\n",
    "    node.next = node # Make node be a circular linked list\n",
    "    for i in ints(1, N):\n",
    "        node = node.skip(step).insert(i)\n",
    "    return node"
   ]
  },
  {
   "cell_type": "markdown",
   "metadata": {},
   "source": [
    "Let's replicate the Part One results:"
   ]
  },
  {
   "cell_type": "code",
   "execution_count": 76,
   "metadata": {},
   "outputs": [
    {
     "data": {
      "text/plain": [
       "355"
      ]
     },
     "execution_count": 76,
     "metadata": {},
     "output_type": "execute_result"
    }
   ],
   "source": [
    "spinlock2().find(2017).next.data"
   ]
  },
  {
   "cell_type": "markdown",
   "metadata": {},
   "source": [
    "Good news! We get the same answer. But how fast/slow is it?"
   ]
  },
  {
   "cell_type": "code",
   "execution_count": 77,
   "metadata": {},
   "outputs": [
    {
     "name": "stdout",
     "output_type": "stream",
     "text": [
      "CPU times: user 1.42 s, sys: 6.51 ms, total: 1.42 s\n",
      "Wall time: 1.42 s\n"
     ]
    },
    {
     "data": {
      "text/plain": [
       "<__main__.Node at 0x11859e0b8>"
      ]
     },
     "execution_count": 77,
     "metadata": {},
     "output_type": "execute_result"
    }
   ],
   "source": [
    "%time spinlock2(N=100000)"
   ]
  },
  {
   "cell_type": "markdown",
   "metadata": {},
   "source": [
    "Bad news! More than a second for just 100,000 insertions, which projects to over 10 minutes for 50 million insertions. I did in fact try\n",
    "\n",
    "     spinlock2(N=50000000).find(0).next.data\n",
    "     \n",
    "and it eventually gave the right answer, but while it was running I had plenty of time to think.\n",
    "I realized that, if we go back to the original `spinlock` version, the value `0` will always be in `buf[0]`, and the value we are looking for will always be in `buf[1]`. So I can create a version of `spinlock` that only keeps track of `buf[0:2]`. That should run in a few seconds, not minutes:"
   ]
  },
  {
   "cell_type": "code",
   "execution_count": 78,
   "metadata": {},
   "outputs": [
    {
     "name": "stdout",
     "output_type": "stream",
     "text": [
      "CPU times: user 5.51 s, sys: 6.74 ms, total: 5.52 s\n",
      "Wall time: 5.52 s\n"
     ]
    },
    {
     "data": {
      "text/plain": [
       "6154117"
      ]
     },
     "execution_count": 78,
     "metadata": {},
     "output_type": "execute_result"
    }
   ],
   "source": [
    "def spinlock3(step=step, N=2017):\n",
    "    \"Make N inserts into a simulated buffer, but ignore all except buf[0:2].\"\n",
    "    pos = 0\n",
    "    buf = [0, 0]\n",
    "    for i in ints(1, N):\n",
    "        pos = (pos + step) % i + 1\n",
    "        if pos <= 1:\n",
    "            buf[pos] = i\n",
    "    return buf\n",
    "\n",
    "%time spinlock3(N=50000000)[1]"
   ]
  },
  {
   "cell_type": "markdown",
   "metadata": {},
   "source": [
    "The moral of the story is *keep your eyes on the prize*. I got distracted because I asked the wrong question. I asked myself \"how can I make my solution in `spinlock` faster?\" and answered myself \"insertion is O(N<sup>2</sup>) and it should be O(N).\" I knew how to do that, with a linked list, but that was the right answer to the wrong question. I should have asked myself \"how do I solve Part Two quickly,\" concentrating on solving the actual problem. Once I did that, I realized I didn't need all those insertions: not doing them at all is a better idea than doing them faster."
   ]
  },
  {
   "cell_type": "markdown",
   "metadata": {},
   "source": [
    "# [Day 18](https://adventofcode.com/2017/day/17): Duet\n",
    "\n",
    "First, read the input, and take a peak at it:"
   ]
  },
  {
   "cell_type": "code",
   "execution_count": 79,
   "metadata": {},
   "outputs": [
    {
     "data": {
      "text/plain": [
       "(('set', 'i', 31),\n",
       " ('set', 'a', 1),\n",
       " ('mul', 'p', 17),\n",
       " ('jgz', 'p', 'p'),\n",
       " ('mul', 'a', 2),\n",
       " ('add', 'i', -1),\n",
       " ('jgz', 'i', -2),\n",
       " ('add', 'a', -1),\n",
       " ('set', 'i', 127),\n",
       " ('set', 'p', 826))"
      ]
     },
     "execution_count": 79,
     "metadata": {},
     "output_type": "execute_result"
    }
   ],
   "source": [
    "program18 = Array(Input(18))\n",
    "program18[:10]"
   ]
  },
  {
   "cell_type": "markdown",
   "metadata": {},
   "source": [
    "Now write an interpreter for the assembly language:"
   ]
  },
  {
   "cell_type": "code",
   "execution_count": 80,
   "metadata": {},
   "outputs": [
    {
     "data": {
      "text/plain": [
       "7071"
      ]
     },
     "execution_count": 80,
     "metadata": {},
     "output_type": "execute_result"
    }
   ],
   "source": [
    "def run18(program):\n",
    "    \"Interpret the assembly language program; return recovered `snd`.\"\n",
    "    regs = defaultdict(int)\n",
    "    pc = snd = 0\n",
    "    while True:\n",
    "        instr = program[pc]\n",
    "        pc += 1\n",
    "        op, x, y = instr[0], instr[1], instr[-1]\n",
    "        vy = value(regs, y)\n",
    "        if   op == 'snd': snd = regs[x]\n",
    "        elif op == 'set': regs[x] = vy\n",
    "        elif op == 'add': regs[x] += vy\n",
    "        elif op == 'mul': regs[x] *= vy\n",
    "        elif op == 'mod': regs[x] %=  vy\n",
    "        elif op == 'jgz' and regs[x] > 0: pc += vy - 1\n",
    "        elif op == 'rcv' and regs[x] != 0: return snd\n",
    "        \n",
    "def value(regs, y): return (y if isinstance(y, int) else regs[y])\n",
    "\n",
    "run18(program18)"
   ]
  },
  {
   "cell_type": "markdown",
   "metadata": {},
   "source": [
    "That was easy. (One tricky bit: the `pc` is incremented by 1 every time through the loop, regardless of the instruction. Therefore, the `'jgz'` jump instruction increments by \"`vy - 1`\" so that the net increment is \"`vy`\".)\n",
    "\n",
    "**Part Two**\n",
    "\n",
    "In Part Two we have to run two copies of the program, and send messages between them.  I'll break up the loop in `run18` into\n",
    "two functions. First, `run18_2`, creates (in `ps`) two structures to hold the state variables necessary to run a program:\n",
    "- `id`: The id number (0 or 1) of this copy of the program.\n",
    "- `pc`: The program counter.\n",
    "- `sends`: A count of the number of `snd` instructions executed.\n",
    "- `regs`: A dict of the program registers (`a` to `z`).\n",
    "- `status`: A program has a status which can be:\n",
    "  * `'run'` when it is ready to execute an instruction, \n",
    "  * `'wait'` when it is waiting for a value to arrive in its input queue, or \n",
    "  * `'end'` when the `pc` has run off the end of the program and it has terminated.\n",
    "\n",
    "`run18_2`  repeatedly calls the second function, `step18(program, p)` to execute one instruction of `program` with the state variables in `p`. I choose randomly which of the two programs to step on each iteration.  The function exits when neither copy of the program can run, according to their status. "
   ]
  },
  {
   "cell_type": "code",
   "execution_count": 81,
   "metadata": {
    "collapsed": true
   },
   "outputs": [],
   "source": [
    "def run18_2(program):\n",
    "    \"Run two copies of program, with different state variables. Return final states.\"\n",
    "    Qs = [deque(), deque()]\n",
    "    ps = [Struct(id=id, pc=0, sends=0, regs=defaultdict(int, p=id), status='run')\n",
    "          for id in (0, 1)]\n",
    "    while any(p.status == 'run' for p in ps):\n",
    "        step18(program, Qs, random.choice(ps))\n",
    "    return ps"
   ]
  },
  {
   "cell_type": "markdown",
   "metadata": {},
   "source": [
    "`step18` has most of the guts of thee previous `run18` function, but with a few changes:\n",
    "- State variables are accessed indirectly: `p.pc` instead of just `pc`.\n",
    "- If the `pc` is out of bounds, the program terminates; the status is set to `'end'`.\n",
    "- The `snd` instruction sends a value to the other program's queue.\n",
    "- The `rcv` instruction pops a value off the queue if there is one, otherwise the status is set to `'wait'`.\n",
    "- The \"`X`\" in \"`jgz X Y`\" might be an integer, not a register name, so use `vx = value(p.regs, x)`. I was stuck for a *long* time before I realized this. Finally I tried the strategy of *look carefully at the input*. I noticed  the instruction `\"jgz 1 3\"`, and it was a simple change to make the program work."
   ]
  },
  {
   "cell_type": "code",
   "execution_count": 82,
   "metadata": {},
   "outputs": [
    {
     "data": {
      "text/plain": [
       "8001"
      ]
     },
     "execution_count": 82,
     "metadata": {},
     "output_type": "execute_result"
    }
   ],
   "source": [
    "def step18(program, Qs, p):\n",
    "    \"Execute one instruction in program, using state variables in p.\"\n",
    "    if p.pc < 0 or p.pc > len(program):\n",
    "        p.status = 'end'\n",
    "    else:\n",
    "        instr = program[p.pc]\n",
    "        op, x, y = instr[0], instr[1], instr[-1]\n",
    "        vx, vy = value(p.regs, x), value(p.regs, y)\n",
    "        if   op == 'snd': Qs[1-p.id].append(vy); p.sends += 1\n",
    "        elif op == 'set': p.regs[x] = vy\n",
    "        elif op == 'add': p.regs[x] += vy\n",
    "        elif op == 'mul': p.regs[x] *= vy\n",
    "        elif op == 'mod': p.regs[x] %= vy\n",
    "        elif op == 'jgz' and vx > 0: p.pc += vy - 1\n",
    "        elif op == 'rcv': \n",
    "            if not Qs[p.id]:\n",
    "                p.status = 'wait'\n",
    "                return # don't update pc; try again next time\n",
    "            else:\n",
    "                p.regs[x] = Qs[p.id].popleft()\n",
    "                p.status = 'run'\n",
    "        p.pc += 1\n",
    "        \n",
    "run18_2(program18)[1].sends"
   ]
  },
  {
   "cell_type": "markdown",
   "metadata": {},
   "source": [
    "# [Day 19](https://adventofcode.com/2017/day/19): A Series of Tubes"
   ]
  },
  {
   "cell_type": "markdown",
   "metadata": {},
   "source": [
    "At first I was confused; I thought this was a maze-following problem where I had to make a choice of directions at every turn. Actually, the direction is always determined: keep going in the current direction as long as possible, but when we hit a `'+'` character, find the new direction to go in (there will only be one possibility). Leave breadcrumbs (the `'.'` character) so that we don't back up along a previously-followed path. As in Day 14, the grid is surrounded by a border of space characters so that we don't have to worry about `(x, y)` going off the edge."
   ]
  },
  {
   "cell_type": "code",
   "execution_count": 83,
   "metadata": {
    "collapsed": true
   },
   "outputs": [],
   "source": [
    "diagram = Inputstr(19)\n",
    "\n",
    "def follow_tubes(diagram):\n",
    "    \"Follow [-+|] lines, yielding characters along the path.\"\n",
    "    grid = border(' ', diagram.splitlines())\n",
    "    x, y = grid[1].index('|'), 1\n",
    "    dx, dy = 0, 1\n",
    "    while grid[y][x] != ' ':\n",
    "        yield grid[y][x]\n",
    "        if grid[y][x] == '+':\n",
    "            dx, dy = new_direction(grid, x, y)\n",
    "        grid[y][x] = '.' # Leave a breadcrumb\n",
    "        x += dx; y += dy\n",
    "    \n",
    "def new_direction(grid, x, y):\n",
    "    \"Find a direction that continues the path.\"\n",
    "    for (dx, dy) in (UP, DOWN, RIGHT, LEFT):\n",
    "        if grid[y+dy][x+dx] not in (' ', '.'):\n",
    "            return dx, dy"
   ]
  },
  {
   "cell_type": "code",
   "execution_count": 84,
   "metadata": {},
   "outputs": [
    {
     "data": {
      "text/plain": [
       "'VEBTPXCHLI'"
      ]
     },
     "execution_count": 84,
     "metadata": {},
     "output_type": "execute_result"
    }
   ],
   "source": [
    "cat(filter(str.isalpha, follow_tubes(diagram)))"
   ]
  },
  {
   "cell_type": "markdown",
   "metadata": {},
   "source": [
    "That's the right answer.\n",
    "\n",
    "**Part Two**\n",
    "\n",
    "This is a surprisingly easy Part Two; I already generated the characters in the path; all I have to do is count them: "
   ]
  },
  {
   "cell_type": "code",
   "execution_count": 85,
   "metadata": {},
   "outputs": [
    {
     "data": {
      "text/plain": [
       "18702"
      ]
     },
     "execution_count": 85,
     "metadata": {},
     "output_type": "execute_result"
    }
   ],
   "source": [
    "length(follow_tubes(diagram))"
   ]
  },
  {
   "cell_type": "markdown",
   "metadata": {},
   "source": [
    "# [Day 20](https://adventofcode.com/2017/day/20): Particle Swarm\n",
    "\n",
    "I'll create structures for particles, each will have fields for particle's number (`id`), position (`p`), velocity(`v`), and acceleration (`a`). I have `particles` as a function that creartes a collection, and not a collection in its own right, because I anticipate that I will want to mutate particles, so I'll need a fresh copy every time I want to do something with them."
   ]
  },
  {
   "cell_type": "code",
   "execution_count": 86,
   "metadata": {},
   "outputs": [
    {
     "data": {
      "text/plain": [
       "[Struct(a=(-7, 8, -10), id=0, p=(1199, -2918, 1457), v=(-13, 115, -8)),\n",
       " Struct(a=(-6, -5, 6), id=1, p=(2551, 2418, -1471), v=(-106, -108, 39)),\n",
       " Struct(a=(-6, 2, -9), id=2, p=(-73, 1626, 1321), v=(58, -118, -8)),\n",
       " Struct(a=(3, 3, 11), id=3, p=(-3297, -894, -551), v=(183, 31, -61)),\n",
       " Struct(a=(7, -12, -1), id=4, p=(-1425, 4298, 617), v=(32, -166, -32))]"
      ]
     },
     "execution_count": 86,
     "metadata": {},
     "output_type": "execute_result"
    }
   ],
   "source": [
    "def particles(lines=tuple(Input(20))):\n",
    "    \"Parse the input file into a list of particles.\"\n",
    "    return [Particle(id, *grouper(Integers(line), 3)) \n",
    "            for id, line in enumerate(lines)]\n",
    "\n",
    "def Particle(id, p, v, a): return Struct(id=id, p=p, v=v, a=a)   \n",
    "\n",
    "particles()[:5]"
   ]
  },
  {
   "cell_type": "markdown",
   "metadata": {},
   "source": [
    "I'm not quite sure how to determine what \"in the long run\" means, so I'll just interpret it as meaning \"after 1000 updates.\" "
   ]
  },
  {
   "cell_type": "code",
   "execution_count": 87,
   "metadata": {},
   "outputs": [
    {
     "data": {
      "text/plain": [
       "243"
      ]
     },
     "execution_count": 87,
     "metadata": {},
     "output_type": "execute_result"
    }
   ],
   "source": [
    "def update(particles):\n",
    "    \"Update velocity and position of all particles.\"\n",
    "    for r in particles:\n",
    "        r.v = add(r.v, r.a)\n",
    "        r.p = add(r.p, r.v) \n",
    "    return particles\n",
    "\n",
    "def closest(particles):\n",
    "    \"Find the particle closest to origin.\"\n",
    "    return min(particles, key=lambda r: sum(map(abs, r.p)))\n",
    "\n",
    "# Answer: the id of the particle closest to origin after 1000 updates\n",
    "closest(repeat(1000, update, particles())).id"
   ]
  },
  {
   "cell_type": "markdown",
   "metadata": {},
   "source": [
    "**Part Two**\n",
    "\n",
    "I'll add the function `remove_collisions`, and now the thing we repeatedly do is the composition of `remove_collisions` and `update`. Also, instead of finding the `id` of the `closest` particle, now we just need to count the number of surviving particles:"
   ]
  },
  {
   "cell_type": "code",
   "execution_count": 88,
   "metadata": {},
   "outputs": [
    {
     "data": {
      "text/plain": [
       "648"
      ]
     },
     "execution_count": 88,
     "metadata": {},
     "output_type": "execute_result"
    }
   ],
   "source": [
    "def remove_collisions(particles):\n",
    "    \"Eliminate particles that are in the same place as another.\"\n",
    "    num_particles_at = Counter(r.p for r in particles)\n",
    "    return [r for r in particles if num_particles_at[r.p] == 1]\n",
    "    \n",
    "# Answer: number of particles remaining after collisions removed\n",
    "len(repeat(1000, compose(remove_collisions, update), particles()))"
   ]
  },
  {
   "cell_type": "markdown",
   "metadata": {},
   "source": [
    "I got the right answer both times, so my assumption that \"in the long run\" means \"1000 updates\" turned out to work for my input data, but I feel bad that it is not guaranteed to work for all input data."
   ]
  },
  {
   "cell_type": "markdown",
   "metadata": {},
   "source": [
    "# [Day 21](https://adventofcode.com/2017/day/21): Fractal Art\n",
    "\n",
    "Today looks like a complex one, so I'll break the code up into more chunks and have more test assertions than usual. I can identify the following important data types:\n",
    "\n",
    "- `Enhancements`: a `dict` of `{grid: larger_grid}` rewrite rules.\n",
    "- `grid`: a square of 0-or-1 pixels, such as `((0, 1), (0, 1))`. The function `Pixels` translates text into this form.\n",
    "\n",
    "I define the functions `rotate` and `flip`; the puzzle descriptions says \"When searching for a rule to use, rotate and flip the pattern as necessary,\" but I'm going to be doing many searches, and only one initialization of the rule set, so it will be more efficient to do the rotating and flipping just once:"
   ]
  },
  {
   "cell_type": "code",
   "execution_count": 89,
   "metadata": {
    "collapsed": true
   },
   "outputs": [],
   "source": [
    "def Enhancements(lines):\n",
    "    \"Create a dict of {grid: enhanced_grid}; include all rotations/flips.\"\n",
    "    enhancements = {}\n",
    "    for line in lines:\n",
    "        lhs, rhs = map(Pixels, line.split('=>'))\n",
    "        for rot in range(4):\n",
    "            enhancements[lhs] = enhancements[flip(lhs)] = rhs\n",
    "            lhs = rotate(lhs)\n",
    "    return enhancements\n",
    "\n",
    "def Pixels(text): \n",
    "    \"Translate the str '.#/.#' to the grid ((0, 1), (0, 1))\"\n",
    "    bits = {'#': 1, '.': 0}\n",
    "    return tuple(tuple(bits[p] for p in row.strip())\n",
    "                 for row in text.split('/'))\n",
    "        \n",
    "def rotate(subgrid): \n",
    "    \"Rotate a subgrid 90 degrees clockwise.\"\n",
    "    return tuple(zip(*reversed(subgrid)))\n",
    "\n",
    "def flip(subgrid): \n",
    "    \"Reverse every row of the subgrid.\"\n",
    "    return tuple(tuple(reversed(row)) for row in subgrid)"
   ]
  },
  {
   "cell_type": "markdown",
   "metadata": {},
   "source": [
    "Let's test some assertions, and then look at all the 2x2 enhancement rulesfrom my input file; with rotations and flips there should be 2<sup>4</sup> = 16 entries:"
   ]
  },
  {
   "cell_type": "code",
   "execution_count": 90,
   "metadata": {},
   "outputs": [
    {
     "data": {
      "text/plain": [
       "{((0, 0), (0, 0)): ((0, 0, 0), (0, 1, 0), (0, 1, 0)),\n",
       " ((0, 0), (0, 1)): ((0, 0, 0), (1, 0, 0), (1, 0, 0)),\n",
       " ((0, 0), (1, 0)): ((0, 0, 0), (1, 0, 0), (1, 0, 0)),\n",
       " ((0, 0), (1, 1)): ((1, 0, 1), (0, 1, 0), (0, 1, 0)),\n",
       " ((0, 1), (0, 0)): ((0, 0, 0), (1, 0, 0), (1, 0, 0)),\n",
       " ((0, 1), (0, 1)): ((1, 0, 1), (0, 1, 0), (0, 1, 0)),\n",
       " ((0, 1), (1, 0)): ((1, 1, 0), (1, 1, 0), (0, 0, 0)),\n",
       " ((0, 1), (1, 1)): ((0, 1, 1), (1, 1, 1), (1, 0, 0)),\n",
       " ((1, 0), (0, 0)): ((0, 0, 0), (1, 0, 0), (1, 0, 0)),\n",
       " ((1, 0), (0, 1)): ((1, 1, 0), (1, 1, 0), (0, 0, 0)),\n",
       " ((1, 0), (1, 0)): ((1, 0, 1), (0, 1, 0), (0, 1, 0)),\n",
       " ((1, 0), (1, 1)): ((0, 1, 1), (1, 1, 1), (1, 0, 0)),\n",
       " ((1, 1), (0, 0)): ((1, 0, 1), (0, 1, 0), (0, 1, 0)),\n",
       " ((1, 1), (0, 1)): ((0, 1, 1), (1, 1, 1), (1, 0, 0)),\n",
       " ((1, 1), (1, 0)): ((0, 1, 1), (1, 1, 1), (1, 0, 0)),\n",
       " ((1, 1), (1, 1)): ((0, 1, 1), (1, 0, 0), (1, 1, 0))}"
      ]
     },
     "execution_count": 90,
     "metadata": {},
     "output_type": "execute_result"
    }
   ],
   "source": [
    "assert Pixels('../##') == ((0, 0), (1, 1))\n",
    "assert rotate(((0, 0), (1, 1))) == ((1, 0), (1, 0))\n",
    "assert flip(((0, 0, 1), (1, 1, 0))) == ((1, 0, 0), (0, 1, 1))\n",
    "\n",
    "Enhancements('''\n",
    "../.. => .../.#./.#.\n",
    "#./.. => .../#../#..\n",
    "##/.. => #.#/.#./.#.\n",
    ".#/#. => ##./##./...\n",
    "##/#. => .##/###/#..\n",
    "##/## => .##/#../##.\n",
    "'''.strip().splitlines())"
   ]
  },
  {
   "cell_type": "code",
   "execution_count": 91,
   "metadata": {
    "collapsed": true
   },
   "outputs": [],
   "source": [
    "assert len(_) == 2 ** 4"
   ]
  },
  {
   "cell_type": "markdown",
   "metadata": {},
   "source": [
    "Looks good; let's create the complete `enhancements` for my data. There should be 2<sup>4</sup> + 2<sup>9</sup> = 528 entries:"
   ]
  },
  {
   "cell_type": "code",
   "execution_count": 92,
   "metadata": {
    "collapsed": true
   },
   "outputs": [],
   "source": [
    "enhancements = Enhancements(Input(21))\n",
    "\n",
    "assert len(enhancements) == 2 ** 4 + 2 ** 9"
   ]
  },
  {
   "cell_type": "markdown",
   "metadata": {},
   "source": [
    "Now on each iteration we `enhance` the grid by first dividing it into pieces with `divide_grid`, then using my utility function `map2d` to apply `enhancements` to each piece, and then call `stitch_grid` to put all the pieces back together into a bigger grid:"
   ]
  },
  {
   "cell_type": "code",
   "execution_count": 93,
   "metadata": {
    "collapsed": true
   },
   "outputs": [],
   "source": [
    "def enhance(grid): \n",
    "    \"Expand small pieces into bigger ones and stitch them together.\"\n",
    "    return stitch_grid(map2d(enhancements.get, divide_grid(grid)))\n",
    "\n",
    "def divide_grid(grid):\n",
    "    \"Slice the grid into d x d pieces and enhance each piece.\"\n",
    "    N = len(grid[0])\n",
    "    d = (2 if N % 2 == 0 else 3 if N % 3 == 0 else error())\n",
    "    return [[tuple(row[c:c+d] for row in grid[r:r+d])\n",
    "             for c in range(0, N, d)]\n",
    "            for r in range(0, N, d)]\n",
    "\n",
    "def stitch_grid(pieces): \n",
    "    \"Stitch the pieces back into one big grid.\"\n",
    "    N = sum(map(len, pieces[0]))\n",
    "    return tuple(tuple(getpixel(pieces, r, c) \n",
    "                       for c in range(N))\n",
    "                 for r in range(N))\n",
    "\n",
    "def getpixel(pieces, r, c):\n",
    "    \"The pixel at location (r, c), from a matrix of d x d pieces.\"\n",
    "    # Use `//` to find the right piece, and `%` to find the pixel within the piece\n",
    "    d = len(pieces[0][0])\n",
    "    piece = pieces[r // d][c // d]\n",
    "    return piece[r % d][c % d]"
   ]
  },
  {
   "cell_type": "code",
   "execution_count": 94,
   "metadata": {
    "collapsed": true
   },
   "outputs": [],
   "source": [
    "# Some tests\n",
    "corners = Pixels('#..#/..../..../#..#')\n",
    "pieces  = [[((1, 0), \n",
    "             (0, 0)), ((0, 1), \n",
    "                       (0, 0))], \n",
    "           [((0, 0), \n",
    "             (1, 0)), ((0, 0), \n",
    "                       (0, 1))]]\n",
    "\n",
    "assert divide_grid(corners) == pieces\n",
    "assert stitch_grid(pieces) == corners"
   ]
  },
  {
   "cell_type": "code",
   "execution_count": 95,
   "metadata": {},
   "outputs": [
    {
     "data": {
      "text/plain": [
       "((0, 1, 0), (0, 0, 1), (1, 1, 1))"
      ]
     },
     "execution_count": 95,
     "metadata": {},
     "output_type": "execute_result"
    }
   ],
   "source": [
    "# An extended test \n",
    "grid = Pixels('.#./..#/###')\n",
    "grid"
   ]
  },
  {
   "cell_type": "code",
   "execution_count": 96,
   "metadata": {},
   "outputs": [
    {
     "data": {
      "text/plain": [
       "[[((0, 1, 0), (0, 0, 1), (1, 1, 1))]]"
      ]
     },
     "execution_count": 96,
     "metadata": {},
     "output_type": "execute_result"
    }
   ],
   "source": [
    "divide_grid(_)"
   ]
  },
  {
   "cell_type": "code",
   "execution_count": 97,
   "metadata": {},
   "outputs": [
    {
     "data": {
      "text/plain": [
       "((((1, 0, 1, 0), (0, 0, 1, 0), (0, 1, 0, 1), (0, 1, 0, 0)),),)"
      ]
     },
     "execution_count": 97,
     "metadata": {},
     "output_type": "execute_result"
    }
   ],
   "source": [
    "map2d(enhancements.get, _)"
   ]
  },
  {
   "cell_type": "code",
   "execution_count": 98,
   "metadata": {},
   "outputs": [
    {
     "data": {
      "text/plain": [
       "((1, 0, 1, 0), (0, 0, 1, 0), (0, 1, 0, 1), (0, 1, 0, 0))"
      ]
     },
     "execution_count": 98,
     "metadata": {},
     "output_type": "execute_result"
    }
   ],
   "source": [
    "stitch_grid(_)"
   ]
  },
  {
   "cell_type": "code",
   "execution_count": 99,
   "metadata": {},
   "outputs": [
    {
     "data": {
      "text/plain": [
       "[[((1, 0), (0, 0)), ((1, 0), (1, 0))], [((0, 1), (0, 1)), ((0, 1), (0, 0))]]"
      ]
     },
     "execution_count": 99,
     "metadata": {},
     "output_type": "execute_result"
    }
   ],
   "source": [
    "divide_grid(_)"
   ]
  },
  {
   "cell_type": "code",
   "execution_count": 100,
   "metadata": {},
   "outputs": [
    {
     "data": {
      "text/plain": [
       "((((0, 0, 0), (1, 0, 0), (1, 0, 0)), ((1, 0, 1), (0, 1, 0), (0, 1, 0))),\n",
       " (((1, 0, 1), (0, 1, 0), (0, 1, 0)), ((0, 0, 0), (1, 0, 0), (1, 0, 0))))"
      ]
     },
     "execution_count": 100,
     "metadata": {},
     "output_type": "execute_result"
    }
   ],
   "source": [
    "map2d(enhancements.get, _)"
   ]
  },
  {
   "cell_type": "code",
   "execution_count": 101,
   "metadata": {},
   "outputs": [
    {
     "data": {
      "text/plain": [
       "((0, 0, 0, 1, 0, 1),\n",
       " (1, 0, 0, 0, 1, 0),\n",
       " (1, 0, 0, 0, 1, 0),\n",
       " (1, 0, 1, 0, 0, 0),\n",
       " (0, 1, 0, 1, 0, 0),\n",
       " (0, 1, 0, 1, 0, 0))"
      ]
     },
     "execution_count": 101,
     "metadata": {},
     "output_type": "execute_result"
    }
   ],
   "source": [
    "stitch_grid(_)"
   ]
  },
  {
   "cell_type": "code",
   "execution_count": 102,
   "metadata": {},
   "outputs": [
    {
     "data": {
      "text/plain": [
       "12"
      ]
     },
     "execution_count": 102,
     "metadata": {},
     "output_type": "execute_result"
    }
   ],
   "source": [
    "sum(flatten(_))"
   ]
  },
  {
   "cell_type": "markdown",
   "metadata": {},
   "source": [
    "That looks right; Let's try to solve the whole puzzle:"
   ]
  },
  {
   "cell_type": "code",
   "execution_count": 103,
   "metadata": {},
   "outputs": [
    {
     "data": {
      "text/plain": [
       "147"
      ]
     },
     "execution_count": 103,
     "metadata": {},
     "output_type": "execute_result"
    }
   ],
   "source": [
    "sum(flatten(repeat(5, enhance, grid)))"
   ]
  },
  {
   "cell_type": "markdown",
   "metadata": {},
   "source": [
    "That's correct!\n",
    "\n",
    "**Part Two**\n",
    "\n",
    "Huh &mdash; It looks like I don't need to change any code for Part Two, just do `18` repetitions instead of `5`. \n",
    "\n",
    "Well, almost. Doing that gave an answer (in a few seconds); but the answer was wrong. I carefully looked over all my code, and realized there was a place  where I had swapped the order of `r` and `c`. Once I fixed that (the fix is already incorporated above), I got the right answer:"
   ]
  },
  {
   "cell_type": "code",
   "execution_count": 104,
   "metadata": {},
   "outputs": [
    {
     "name": "stdout",
     "output_type": "stream",
     "text": [
      "CPU times: user 5.35 s, sys: 108 ms, total: 5.45 s\n",
      "Wall time: 5.47 s\n"
     ]
    },
    {
     "data": {
      "text/plain": [
       "1936582"
      ]
     },
     "execution_count": 104,
     "metadata": {},
     "output_type": "execute_result"
    }
   ],
   "source": [
    "%time sum(flatten(repeat(18, enhance, grid)))"
   ]
  },
  {
   "cell_type": "markdown",
   "metadata": {},
   "source": [
    "# [Day 22](https://adventofcode.com/2017/day/22): Sporifica Virus\n",
    "\n",
    "This one looks to be of medium difficulty. One important choice: since we are dealing with \"a seemingly-infinite two-dimensional grid of compute nodes,\" and I think it will be sparse, I'll represent the grid with a `set` of the positions of infected nodes, rather than with a 2-dimensional array.  I'll define a `namedtuple` to hold the state of the network: the current position of the virus, its heading, the number of infections caused so far, and the set of infected nodes:"
   ]
  },
  {
   "cell_type": "code",
   "execution_count": 105,
   "metadata": {
    "collapsed": true
   },
   "outputs": [],
   "source": [
    "Net = namedtuple('Net', 'current, heading, caused, infected')\n",
    "\n",
    "def parse_net(lines):\n",
    "    \"Read the initial state of the network.\"\n",
    "    lines = list(lines)\n",
    "    current = (len(lines) // 2, len(lines[0].strip()) // 2)\n",
    "    return Net(current, UP, 0,\n",
    "               {(x, y) \n",
    "                for (y, row) in enumerate(lines) \n",
    "                for (x, node) in enumerate(row)\n",
    "                if node == '#'})"
   ]
  },
  {
   "cell_type": "code",
   "execution_count": 106,
   "metadata": {},
   "outputs": [
    {
     "data": {
      "text/plain": [
       "Net(current=(1, 1), heading=(0, -1), caused=0, infected={(0, 1), (2, 0)})"
      ]
     },
     "execution_count": 106,
     "metadata": {},
     "output_type": "execute_result"
    }
   ],
   "source": [
    "test = '''\n",
    "..#\n",
    "#..\n",
    "...\n",
    "'''.strip().splitlines()\n",
    "    \n",
    "parse_net(test)"
   ]
  },
  {
   "cell_type": "markdown",
   "metadata": {},
   "source": [
    "Now the logic for one step of the simulation, called a *burst*:"
   ]
  },
  {
   "cell_type": "code",
   "execution_count": 107,
   "metadata": {
    "collapsed": true
   },
   "outputs": [],
   "source": [
    "def burst(net):\n",
    "    \"Simulate the virus through one step and return the new state of the network.\"\n",
    "    (current, heading, caused, infected) = net\n",
    "    heading = (turn_right if current in infected else turn_left)(heading)\n",
    "    if current in infected:\n",
    "        infected.remove(current)\n",
    "    else:\n",
    "        caused += 1\n",
    "        infected.add(current)\n",
    "    return Net(add(current, heading), heading, caused, infected)"
   ]
  },
  {
   "cell_type": "code",
   "execution_count": 108,
   "metadata": {},
   "outputs": [
    {
     "data": {
      "text/plain": [
       "Net(current=(1, 0), heading=(1, 0), caused=5, infected={(0, 1), (-1, 1), (-1, 0), (2, 0), (1, 1)})"
      ]
     },
     "execution_count": 108,
     "metadata": {},
     "output_type": "execute_result"
    }
   ],
   "source": [
    "# We're supposed to get 5 infections caused in the first 7 steps:\n",
    "repeat(7, burst, parse_net(test))"
   ]
  },
  {
   "cell_type": "code",
   "execution_count": 109,
   "metadata": {},
   "outputs": [
    {
     "data": {
      "text/plain": [
       "Net(current=(2, 0), heading=(0, -1), caused=41, infected={(5, -1), (3, 2), (-1, 0), (3, -3), (1, 0), (1, -2), (4, -2), (-1, 1), (2, -3), (5, 0), (2, 2), (0, -1), (4, 1), (1, 1)})"
      ]
     },
     "execution_count": 109,
     "metadata": {},
     "output_type": "execute_result"
    }
   ],
   "source": [
    "# And 41 out of 70:\n",
    "repeat(70, burst, parse_net(test))"
   ]
  },
  {
   "cell_type": "markdown",
   "metadata": {},
   "source": [
    "This testing revealed a problem: I had (yet again) messed up the order of (x, y). (I think it is confusing that we have two traditional orders: (x, y) and (row, col), and they are not the same.) After fixing that, I was\n",
    "ready to solve the problem:"
   ]
  },
  {
   "cell_type": "code",
   "execution_count": 110,
   "metadata": {},
   "outputs": [
    {
     "data": {
      "text/plain": [
       "5460"
      ]
     },
     "execution_count": 110,
     "metadata": {},
     "output_type": "execute_result"
    }
   ],
   "source": [
    "repeat(10000, burst, parse_net(Input(22))).caused"
   ]
  },
  {
   "cell_type": "markdown",
   "metadata": {},
   "source": [
    "**Part Two**\n",
    "\n",
    "It looks like I can't re-use any of my code from Part One (except by copy-and-paste), because I want to replace my `set` of `infected` nodes with a `dict` of node `status`, which can be `I`, `F`, `C`, or `W`:"
   ]
  },
  {
   "cell_type": "code",
   "execution_count": 111,
   "metadata": {
    "collapsed": true
   },
   "outputs": [],
   "source": [
    "Net2 = namedtuple('Net2', 'current, heading, caused, status')\n",
    "\n",
    "def parse_net2(lines):\n",
    "    \"Read the initial state of the network.\"\n",
    "    lines = list(lines)\n",
    "    current = (len(lines) // 2, len(lines[0].strip()) // 2)\n",
    "    return Net2(current, UP, 0,\n",
    "                 {(x, y): 'I'\n",
    "                  for (y, row) in enumerate(lines) \n",
    "                  for (x, node) in enumerate(row)\n",
    "                  if node == '#'})\n",
    "\n",
    "def burst2(net):\n",
    "    \"Simulate the evolved virus through one step and return the new state of the network.\"\n",
    "    (current, heading, caused, status) = net\n",
    "    cur = status.get(current, 'C')\n",
    "    if   cur == 'C':\n",
    "        heading = turn_left(heading)\n",
    "        status[current] = 'W'\n",
    "    elif cur == 'W':\n",
    "        # heading unchanged\n",
    "        status[current] = 'I'\n",
    "        caused += 1\n",
    "    elif cur == 'I':\n",
    "        heading = turn_right(heading)\n",
    "        status[current] = 'F'\n",
    "    elif cur == 'F':\n",
    "        heading = turn_around(heading)\n",
    "        status[current] = 'C'\n",
    "    return Net2(add(current, heading), heading, caused, status)"
   ]
  },
  {
   "cell_type": "code",
   "execution_count": 112,
   "metadata": {},
   "outputs": [
    {
     "data": {
      "text/plain": [
       "26"
      ]
     },
     "execution_count": 112,
     "metadata": {},
     "output_type": "execute_result"
    }
   ],
   "source": [
    "# Of the first 100 bursts, 26 will result in infection\n",
    "repeat(100, burst2, parse_net2(test)).caused"
   ]
  },
  {
   "cell_type": "code",
   "execution_count": 113,
   "metadata": {},
   "outputs": [
    {
     "name": "stdout",
     "output_type": "stream",
     "text": [
      "CPU times: user 21.2 s, sys: 62 ms, total: 21.2 s\n",
      "Wall time: 21.3 s\n"
     ]
    },
    {
     "data": {
      "text/plain": [
       "2511702"
      ]
     },
     "execution_count": 113,
     "metadata": {},
     "output_type": "execute_result"
    }
   ],
   "source": [
    "# Ready to answer Part Two\n",
    "# (A little nervous about 10,000,000 repetitions, but I think it will be under a minute.)\n",
    "%time repeat(10000000, burst2, parse_net2(Input(22))).caused"
   ]
  },
  {
   "cell_type": "markdown",
   "metadata": {},
   "source": [
    "I had another bug here that gave me the wrong answer the first time: I had put the \"`caused += 1`\" line under the condition where the status *was* `'I'`, whereas it actually belongs under the condition where the status *becomes* `'I'`.\n",
    "\n",
    "# [Day 23](https://adventofcode.com/2017/day/23): Coprocessor Conflagration\n",
    "\n",
    "Part One looks straightforward. I won't make the \"X might be an integer\" mistake again:\n",
    "\n"
   ]
  },
  {
   "cell_type": "code",
   "execution_count": 114,
   "metadata": {},
   "outputs": [
    {
     "data": {
      "text/plain": [
       "9409"
      ]
     },
     "execution_count": 114,
     "metadata": {},
     "output_type": "execute_result"
    }
   ],
   "source": [
    "def run23(program):\n",
    "    regs = {L: 0 for L in 'abcdefgh'}\n",
    "    pc = 0\n",
    "    mulcount = 0\n",
    "    while 0 <= pc < len(program):\n",
    "        op, X, Y = program[pc]\n",
    "        pc += 1\n",
    "        if   op == 'set': regs[X] = value(regs, Y)\n",
    "        elif op == 'sub': regs[X] -= value(regs, Y)\n",
    "        elif op == 'mul': regs[X] *= value(regs, Y); mulcount += 1\n",
    "        elif op == 'jnz' and value(regs, X): pc += value(regs, Y) - 1\n",
    "    return mulcount\n",
    "\n",
    "run23(Array(Input(23)))"
   ]
  },
  {
   "cell_type": "markdown",
   "metadata": {},
   "source": [
    "**Part Two**\n",
    "\n",
    "The hint of \"You'll need to **optimize the program**\" reminded me of a puzzle from 2016 where I had to understand what the program was doing and make it more efficient. It wasn't obvious what Day 23's program was doing, but I began the process of re-writing it as a Python program, converting the `jnz` instructions to `if` and `while` statements. Eventually I realized that the inner loop was doing \"`b % d`\", and my  program became the following:"
   ]
  },
  {
   "cell_type": "code",
   "execution_count": 115,
   "metadata": {},
   "outputs": [
    {
     "name": "stdout",
     "output_type": "stream",
     "text": [
      "CPU times: user 944 ms, sys: 3.78 ms, total: 948 ms\n",
      "Wall time: 947 ms\n"
     ]
    },
    {
     "data": {
      "text/plain": [
       "913"
      ]
     },
     "execution_count": 115,
     "metadata": {},
     "output_type": "execute_result"
    }
   ],
   "source": [
    "@jit\n",
    "def run23_2():\n",
    "    a = 1\n",
    "    d = e = f = g = h = 0\n",
    "    b = 99\n",
    "    c = b\n",
    "    if a:\n",
    "        b *= 100\n",
    "        b -= -100000\n",
    "        c = b\n",
    "        c -= -17000\n",
    "    while True:\n",
    "        f = 1\n",
    "        d = 2\n",
    "        e = 2\n",
    "        while True:\n",
    "            if b % d == 0:\n",
    "                f = 0\n",
    "            d -= -1\n",
    "            g = d - b\n",
    "            if g == 0:\n",
    "                if f == 0:\n",
    "                    h -= -1\n",
    "                g = b - c\n",
    "                if g == 0:\n",
    "                    return h\n",
    "                b -= -17\n",
    "                break\n",
    "            \n",
    "%time run23_2()"
   ]
  },
  {
   "cell_type": "markdown",
   "metadata": {},
   "source": [
    "The `numba.jit` decorator really helps here, speeding up execution from 13 seconds to 1 second. It also helped on Day 15, but not as dramatically, and was not able to help on Day 15 or Day 22.\n",
    "\n",
    "\n",
    "# [Day 24](https://adventofcode.com/2017/day/24): Electromagnetic Moat\n",
    "\n",
    "First I will read the data and store it as a table of `{port_number: [all_components_with_that_number_on_either_side]}`. I also define two simple utility functions:"
   ]
  },
  {
   "cell_type": "code",
   "execution_count": 116,
   "metadata": {},
   "outputs": [],
   "source": [
    "def component_table(pairs):\n",
    "    \"Make a table of {port: {components_with_that_port}\"\n",
    "    ctable = defaultdict(set)\n",
    "    for pair in pairs:\n",
    "        ctable[pair[0]].add(pair)\n",
    "        ctable[pair[1]].add(pair)\n",
    "    return ctable\n",
    "\n",
    "ctable = component_table(map(Integers, Input(24)))\n",
    "\n",
    "def other_port(component, port):\n",
    "    \"The other port in a two-port component.\"\n",
    "    return (component[1] if component[0] == port else component[0])\n",
    "\n",
    "def strength(chain): return sum(flatten(chain))"
   ]
  },
  {
   "cell_type": "markdown",
   "metadata": {},
   "source": [
    "We are dealing with an optimization problem involving paths in a graph (called *chains* in this problem), and we're looking for the chain that maximizes `strength`. I'll represent a chain as a tuple of components. I could have defined a single function that traverses the graph and also keeeps track of the maximum, but  I think it is cleaner to keep the two aspects of the problem separate. First a function to generate all possible chains:"
   ]
  },
  {
   "cell_type": "code",
   "execution_count": 117,
   "metadata": {},
   "outputs": [],
   "source": [
    "def chains(chain=(), port=0, ctable=ctable):\n",
    "    \"Given a partial chain ending in `port`, yield all chains that extend it.\"\n",
    "    yield chain\n",
    "    for c in ctable[port]:\n",
    "        if c not in chain: \n",
    "            # Extend with components, c, that match port but are not already in chain\n",
    "            yield from chains(chain + (c,), other_port(c, port), ctable)"
   ]
  },
  {
   "cell_type": "markdown",
   "metadata": {},
   "source": [
    "And then asking for the strength of the strongest chain:"
   ]
  },
  {
   "cell_type": "code",
   "execution_count": 118,
   "metadata": {},
   "outputs": [
    {
     "name": "stdout",
     "output_type": "stream",
     "text": [
      "CPU times: user 2.33 s, sys: 6.18 ms, total: 2.34 s\n",
      "Wall time: 2.34 s\n"
     ]
    },
    {
     "data": {
      "text/plain": [
       "1695"
      ]
     },
     "execution_count": 118,
     "metadata": {},
     "output_type": "execute_result"
    }
   ],
   "source": [
    "%time strength(max(chains(), key=strength))"
   ]
  },
  {
   "cell_type": "markdown",
   "metadata": {},
   "source": [
    "I was worried it was going to be slow, so I measured the `%time`, but it turned out not too bad.\n",
    "\n",
    "**Part Two**\n",
    "\n",
    "Now we want to find the strength of the longest chain, but if there is a tie, pick the strongest one:"
   ]
  },
  {
   "cell_type": "code",
   "execution_count": 119,
   "metadata": {},
   "outputs": [
    {
     "name": "stdout",
     "output_type": "stream",
     "text": [
      "CPU times: user 2.4 s, sys: 3.9 ms, total: 2.4 s\n",
      "Wall time: 2.4 s\n"
     ]
    },
    {
     "data": {
      "text/plain": [
       "1673"
      ]
     },
     "execution_count": 119,
     "metadata": {},
     "output_type": "execute_result"
    }
   ],
   "source": [
    "def length_and_strength(c): return len(c), strength(c)\n",
    "\n",
    "%time strength(max(chains(), key=length_and_strength))"
   ]
  },
  {
   "cell_type": "markdown",
   "metadata": {},
   "source": [
    "I think I made the right choice in defining things the way I did. My code is simple, and gets the right answers in a few seconds. But I realize there are some inefficiencies:\n",
    "\n",
    "- Calculating the strength of a chain is O(N), but since we always form new chains by extending an old chain (for which we know the strength) with one new component, calculating the strength of the new chain could be O(1).\n",
    "- A chain is a `tuple`, so checking \"`c not in chain`\" is O(N). If the chain were a `set`, it would be O(1).\n",
    "- A new chain is created by *copying* the previous chain and appending a new component. A more efficient approach is to *mutate* the chain by adding a component, and then removing the component when it is time to consider other possibilities. This is called *backtracking*.\n",
    "\n",
    "Here is a backtracking implementation. It keeps track of a single `chain`, `port`, and `strength`. A call to `recurse(best_strength)` returns the best strength, either the one passed in, or one found by adding components to the current chain. When `recurse` returns, `chain`, `port`, and `strength` are reset to their original values, and the best strength found is returned as the value of the call to `recurse`. This is indeed faster (and gives the same answer): "
   ]
  },
  {
   "cell_type": "code",
   "execution_count": 120,
   "metadata": {},
   "outputs": [
    {
     "name": "stdout",
     "output_type": "stream",
     "text": [
      "CPU times: user 612 ms, sys: 1.7 ms, total: 613 ms\n",
      "Wall time: 614 ms\n"
     ]
    },
    {
     "data": {
      "text/plain": [
       "1695"
      ]
     },
     "execution_count": 120,
     "metadata": {},
     "output_type": "execute_result"
    }
   ],
   "source": [
    "def strongest_chain(ctable=ctable):\n",
    "    \"\"\"Return the strength of the strongest chain, using backtracking.\"\"\"\n",
    "    chain = set()\n",
    "    port = 0\n",
    "    strength = 0\n",
    "    def recurse(best_strength):\n",
    "        nonlocal chain, port, strength\n",
    "        for c in ctable[port] - chain:\n",
    "            # Update chain, port, strength\n",
    "            # then recurse and possibly update best_strength\n",
    "            # then backtrack and restore chain, port, strength\n",
    "            chain.add(c)\n",
    "            port = other_port(c, port)\n",
    "            strength += sum(c)\n",
    "            best_strength = max(strength, recurse(best_strength))\n",
    "            chain.remove(c)\n",
    "            port = other_port(c, port)\n",
    "            strength -= sum(c)\n",
    "        return best_strength\n",
    "    return recurse(0)\n",
    "\n",
    "%time strongest_chain()"
   ]
  },
  {
   "cell_type": "markdown",
   "metadata": {},
   "source": [
    "You can decide whether the saving in time is worth the complication in code."
   ]
  },
  {
   "cell_type": "markdown",
   "metadata": {},
   "source": [
    "# [Day 25](https://adventofcode.com/2017/day/25): The Halting Problem\n",
    "\n",
    "I won't write a parser for my input; instead I'll translate it into a `dict` by hand:"
   ]
  },
  {
   "cell_type": "code",
   "execution_count": 121,
   "metadata": {
    "collapsed": true
   },
   "outputs": [],
   "source": [
    "def machine():\n",
    "    \"machine()[state][value] == (new_value, move, new_state)}\"\n",
    "    L, R = -1, +1\n",
    "    A, B, C, D, E, F = 'ABCDEF'\n",
    "    return {A: ((1, R, B), (0, L, C)),\n",
    "            B: ((1, L, A), (1, R, D)),\n",
    "            C: ((0, L, B), (0, L, E)),\n",
    "            D: ((1, R, A), (0, R, B)),\n",
    "            E: ((1, L, F), (1, L, C)),\n",
    "            F: ((1, R, D), (1, R, A))}"
   ]
  },
  {
   "cell_type": "markdown",
   "metadata": {},
   "source": [
    "Now a simple interpreter for machines like this:"
   ]
  },
  {
   "cell_type": "code",
   "execution_count": 127,
   "metadata": {},
   "outputs": [
    {
     "data": {
      "text/plain": [
       "4769"
      ]
     },
     "execution_count": 127,
     "metadata": {},
     "output_type": "execute_result"
    }
   ],
   "source": [
    "def turing(machine, state, steps):\n",
    "    \"Run the Turing machine for given number of steps, then return tape.\"\n",
    "    tape = defaultdict(int)\n",
    "    cursor = 0\n",
    "    for step in range(steps):\n",
    "        tape[cursor], move, state = machine[state][tape[cursor]]\n",
    "        cursor += move\n",
    "    return tape\n",
    "\n",
    "sum(turing(machine(), 'A', 12667664).values())"
   ]
  },
  {
   "cell_type": "markdown",
   "metadata": {},
   "source": [
    "# A Note on Reuse\n",
    "\n",
    "One interesting question: for what days did my Part Two code reuse the Part One code? How so?\n",
    "Here are my answers:\n",
    "\n",
    "\n",
    "* **Total Reuse**: The major function defined in Part One is called again in Part Two:\n",
    "<br>Days 3 (`spiral`), 6 (`spread`, but `realloc2` is copy-paste-edit), 9, 12, 14 (`bits`), \n",
    "15 (`A, B, gen, judge`), 16 (`perform`), 19 (`follow_tubes`), 20 (`update, particles`), 21 (`enhance`),\n",
    "24 (`chains`, `strength`)\n",
    "\n",
    "* **Generalization**: A major function from Part One is generalized in Part Two (e.g. by adding an optional parameter):\n",
    "<br>Days 13 (`caught`)\n",
    "\n",
    "* **Copy-edit**: The major function from Part One is copied and edited for Part Two:\n",
    "<br>Days 5 (`run2`), 8 (`run8_2`), 10 (`knothash2`), 11 (`follow2`), 17 (`spinlock2`), 18 (`run18_2`), 22 (`parse_net2`, `burst2`)\n",
    "\n",
    "* **All new**: All the code for Part Two (except possibly reading and parsing the input) is brand new: \n",
    "<br>Days 1, 2, 4, 7, 23\n",
    "\n",
    "I think I did a reasonably good job of facilitating reuse. It seems like using generators and higher-order functions like `repeat` helps.\n",
    "\n"
   ]
  },
  {
   "cell_type": "markdown",
   "metadata": {},
   "source": [
    "# Verification and Timing\n",
    "\n",
    "A little test harness and a report on run times:"
   ]
  },
  {
   "cell_type": "code",
   "execution_count": 129,
   "metadata": {},
   "outputs": [
    {
     "name": "stdout",
     "output_type": "stream",
     "text": [
      "Day  5:  5.1 sec\n",
      "Day 15: 26.1 sec\n",
      "Day 17:  6.1 sec\n",
      "Day 21:  6.0 sec\n",
      "Day 22: 24.1 sec\n",
      "CPU times: user 1min 21s, sys: 3.5 s, total: 1min 25s\n",
      "Wall time: 1min 26s\n"
     ]
    }
   ],
   "source": [
    "%%time\n",
    "\n",
    "def run_tests(tests, short=5.0):\n",
    "    \"Run daily test assertions; report times > `short` seconds.\"\n",
    "    for day in sorted(tests):\n",
    "        t0 = time.time()\n",
    "        assert tests[day]()\n",
    "        dt = time.time() - t0\n",
    "        if dt > short: \n",
    "            print('Day {:2d}: {:4.1f} sec'.format(day, dt))\n",
    "    \n",
    "run_tests({\n",
    "  1: lambda: sum(digits[i] for i in range(N) if digits[i] == digits[i - 1]) == 1158 and\n",
    "             sum(digits[i] for i in range(N) if digits[i] == digits[i - N // 2]) == 1132,\n",
    "  2: lambda: sum(abs(max(row) - min(row)) for row in rows2) == 46402 and\n",
    "             sum(map(evendiv, rows2)) == 265,\n",
    "  3: lambda: cityblock_distance(nth(spiral(), M - 1)) == 475 and\n",
    "             first(x for x in spiralsums() if x > M) == 279138,\n",
    "  4: lambda: quantify(Input(4), is_valid) == 337 and\n",
    "             quantify(Input(4), is_valid2) == 231,\n",
    "  5: lambda: run(program) ==  364539 and\n",
    "             run2(program) == 27477714,\n",
    "  6: lambda: realloc(banks) == 12841 and\n",
    "             realloc2(banks) == 8038,\n",
    "  7: lambda: first(programs - set(flatten(above.values()))) == 'wiapj' and\n",
    "             correct(wrongest(programs)) == 1072,\n",
    "  8: lambda: max(run8(program8).values()) == 6828 and\n",
    "             run8_2(program8) == 7234,\n",
    "  9: lambda: total_score(text2) == 9662 and\n",
    "             len(text1) - len(text3) == 4903,\n",
    " 10: lambda: knothash(stream) == 4480 and\n",
    "             knothash2(stream2) == 'c500ffe015c83b60fad2e4b7d59dabc4',\n",
    " 11: lambda: follow(path) == 705 and\n",
    "             follow2(path) == 1469,\n",
    " 12: lambda: len(G[0]) == 115 and\n",
    "             len({Set(G[i]) for i in G}) == 221,\n",
    " 13: lambda: trip_severity(scanners) == 1504  and\n",
    "             safe_delay(scanners) == 3823370,\n",
    " 14: lambda: sum(bits(key, i).count('1') for i in range(128)) == 8316 and\n",
    "             flood_all(Grid(key)) == 1074,\n",
    " 15: lambda: judge(A(), B(), 40*10**6) == 597 and\n",
    "             judge(criteria(4, A()), criteria(8, B()), 5*10**6) == 303,\n",
    " 16: lambda: perform(dance) == 'lbdiomkhgcjanefp' and\n",
    "             whole(48, dance) == 'ejkflpgnamhdcboi',\n",
    " 17: lambda: spinlock2().find(2017).next.data == 355 and\n",
    "             spinlock3(N=50*10**6)[1] == 6154117,\n",
    " 18: lambda: run18(program18) == 7071  and\n",
    "             run18_2(program18)[1].sends == 8001,\n",
    " 19: lambda: cat(filter(str.isalpha, follow_tubes(diagram))) == 'VEBTPXCHLI' and\n",
    "             quantify(follow_tubes(diagram)) == 18702,\n",
    " 20: lambda: closest(repeat(1000, update, particles())).id == 243 and\n",
    "             len(repeat(1000, compose(remove_collisions, update), particles())) == 648,\n",
    " 21: lambda: sum(flatten(repeat(5,  enhance, grid))) == 147 and\n",
    "             sum(flatten(repeat(18, enhance, grid))) == 1936582,\n",
    " 22: lambda: repeat(10000, burst, parse_net(Input(22))).caused == 5460 and\n",
    "             repeat(10000000, burst2, parse_net2(Input(22))).caused == 2511702,\n",
    " 23: lambda: run23(Array(Input(23))) == 9409 and\n",
    "             run23_2() == 913,\n",
    " 24: lambda: strongest_chain() == 1695 and\n",
    "             strength(max(chains(), key=length_and_strength)) == 1673,\n",
    " 25: lambda: sum(turing(machine(), 'A', 12667664).values()) == 4769\n",
    "})"
   ]
  },
  {
   "cell_type": "markdown",
   "metadata": {},
   "source": [
    "# Development Time\n",
    "\n",
    "Here is a plot of the time taken to program solutions to both parts of each puzzle each day, for me, the first person to finish, and the hundredth person.  I'm usually about triple the time of the first solver, and a little slower than the 100th."
   ]
  },
  {
   "cell_type": "code",
   "execution_count": 125,
   "metadata": {},
   "outputs": [
    {
     "data": {
      "image/png": "[encoded data removed]",
      "text/plain": [
       "<matplotlib.figure.Figure at 0x11e68d3c8>"
      ]
     },
     "metadata": {},
     "output_type": "display_data"
    }
   ],
   "source": [
    "def plot_times(times):\n",
    "    plt.style.use('seaborn-whitegrid')\n",
    "    X = ints(1, len(times[0]) - 2)\n",
    "    for (label, c, *Y) in times:\n",
    "        plt.plot(X, Y, c+':', label=label)\n",
    "    plt.xlabel('Day Number'); \n",
    "    plt.ylabel('Minutes to Solve Both Parts')\n",
    "    plt.legend(loc='upper left')\n",
    "\n",
    "plot_times([\n",
    " ('Me',   'o', 4, 6, 20, 5, 12, 30, 33, 10, 21, 40, 13, 12, 30, 41, 13, 64, 54, 74, 50, 18, 40, 25, 50, 10, 10),\n",
    " ('100th','v', 6, 6, 23, 4,  5,  9, 25,  8, 12, 25, 12,  9, 22, 25, 10, 27, 16, 41, 18, 21, 45, 20, 54, 21, 11),\n",
    " ('1st',  '^', 1, 1,  4, 1,  2,  3, 10,  3,  4,  6,  3,  2,  6,  5,  2,  5,  5, 10,  5,  7, 10,  6, 19,  6, 2)])"
   ]
  }
 ],
 "metadata": {
  "kernelspec": {
   "display_name": "Python 3",
   "language": "python",
   "name": "python3"
  },
  "language_info": {
   "codemirror_mode": {
    "name": "ipython",
    "version": 3
   },
   "file_extension": ".py",
   "mimetype": "text/x-python",
   "name": "python",
   "nbconvert_exporter": "python",
   "pygments_lexer": "ipython3",
   "version": "3.5.3"
  }
 },
 "nbformat": 4,
 "nbformat_minor": 2
}
