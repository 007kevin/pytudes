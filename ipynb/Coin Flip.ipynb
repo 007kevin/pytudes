{
 "cells": [
  {
   "cell_type": "markdown",
   "metadata": {},
   "source": [
    "<div align=\"right\"><i>Peter Norvig</i></div>\n",
    "\n",
    "# The Devil and the Coin Flip Game\n",
    "\n",
    "If the Devil ever challenges me to a [fiddle contest](https://en.wikipedia.org/wiki/The_Devil_Went_Down_to_Georgia), I'm going down. But here is a contest where I'd have a better chance:\n",
    "\n",
    "> *You're playing a game with the Devil, with your soul at stake. You're sitting at a circular table which has 4 coins, arranged in a diamond, at the 12, 3, 6, and 9 o'clock positions. You are blindfolded, and can never see the coins or the table.*\n",
    "\n",
    "> *Your goal is to get all 4 coins showing heads, by telling the devil the position(s) of some coins to flip. We call this a \"move\" on your part. The Devil must faithfully perform the requested flips, but may first sneakily rotate the table any number of quarter-turns, so that the coins are in different positions. You keep making moves, and the Devil keeps rotating and flipping, until all 4 coins show heads.*\n",
    "\n",
    "> *Example: You tell the Devil to flip the 12 o'clock and 6 o'clock positions. The devil might rotate the table a quarter turn clockwiae, and then flip the coins that have moved into the 12 o'clock and 6 o'clock positions (which were formerly at 3 o'clock and 9 o'clock).  Or the Devil could have made any other rotation before flipping.*\n",
    "\n",
    "> *What is a shortest sequence of moves that is **guaranteed** to win, no matter what the initial state of the coins, and no matter what rotations the Devil applies?*\n",
    "\n",
    "(This same puzzle also appeared in [The Riddler on 21 June 2019](https://fivethirtyeight.com/features/i-would-walk-500-miles-and-i-would-riddle-500-more/), with the role of the devil played by a banker. I'm not sure which is scarier.)\n",
    "\n",
    "# Analysis\n",
    "\n",
    "- We're looking for a \"shortest sequence of moves\" that reaches a goal. That's a [shortest path search problem](https://en.wikipedia.org/wiki/Shortest_path_problem). I've done that before.\n",
    "- Since the Devil gets to make moves too, you might think that this is a [minimax](https://en.wikipedia.org/wiki/Minimax) problem: that we should choose the move that leads to the shortest path, given that the Devil has the option of making moves that lead to the longest path.\n",
    "- But minimax only works when you know what moves the opponent is making: he did *that*, so I'll do *this*. In this problem the player is blinfolded; that makes it a [partially observable problem](https://en.wikipedia.org/wiki/Partially_observable_system) (in this case, not observable at all, but it is traditional to say \"partially\").\n",
    "- In such problems, we don't know for sure the true state of the world before or after any move. So we should represent what *is* known: *the set of states that we believe to be possible*. We call this a *belief state*. At the start of the game, each of the four coins could be either heads or tails, so that's 2<sup>4</sup> = 16 possibilities in the initial belief state:\n",
    "       {HHHH, HHHT, HHTH, HHTT, HTHH, HTHT, HTTH, HTTT, \n",
    "        THHH, THHT, THTH, THTT, TTHH, TTHT, TTTH, TTTT}\n",
    "- So we have a single-agent shortest-path search in the space of belief states (not the space of physical states of the coins). We search for a path from the inital belief state to the goal belief state, which is `{HHHH}` (meaning that 4 heads is the only possibility).\n",
    "- A move updates the belief state as follows: for every four-coin sequence in the current belief state, rotate it in every possible way, and then flip the coins specified by the position(s) in the move. Collect all these results together to form the new belief state. The search space is small (just 2<sup>16</sup> possible belief states), so run time will be fast. \n",
    "- I'll [Keep It Simple](https://en.wikipedia.org/wiki/KISS_principle), and not worry about rotational symmetry  (although we'll come back to that later).\n",
    "\n",
    "\n",
    "# Basic Data Structures and Functions\n",
    "\n",
    "What data structures will I be dealing with?\n",
    "\n",
    "\n",
    "\n",
    "- `Coins`: a *coin sequence* (four coins, in order, on the table) is represented as a `str` of four characters, such as `'HTTT'`. \n",
    "- `Belief`: a *belief state* is a `frozenset` of `Coins` (frozen so it can be hashed), like `{'HHHT', 'TTTH'}`.\n",
    "- `Position`: an integer index into the coin sequence; position `0` selects the `H` in `'HTTT'`.\n",
    "- `Move`: a set of positions to flip, such as `{0, 2}`. \n",
    "- `Strategy`: an ordered list of moves. A\n",
    "blindfolded player has no feedback, thus there are no  decision points in the strategy. \n",
    "\n",
    "I take the coin sequence `'HTTT'` to mean there is an `'H'` at the 12 o'clock position, then 3, , 6, and 9 o'clock in that order are `'T'`."
   ]
  },
  {
   "cell_type": "code",
   "execution_count": 1,
   "metadata": {},
   "outputs": [],
   "source": [
    "from collections import deque\n",
    "from itertools   import product, combinations, chain\n",
    "import random\n",
    "\n",
    "Coins     = ''.join   # A coin sequence; a str: 'HHHT'.\n",
    "Belief    = frozenset # A set of possible coin sequences: {'HHHT', 'TTTH'}.\n",
    "Position  = int       # An index into a coin sequence.\n",
    "Move      = set       # A set of positions to flip: {0, 2}\n",
    "Strategy  = tuple     # A sequence of Moves: ({0, 1, 2, 3}, {0, 2}, ...)"
   ]
  },
  {
   "cell_type": "markdown",
   "metadata": {},
   "source": [
    "What basic functions do I need to manipulate these data structures?\n",
    "\n",
    "- `all_moves()`: returns a list of every possible move a player can make.\n",
    "- `all_coins()`: returns a belief state consisting of the set of all 16 possible coin sequences: `{'HHHH', 'HHHT', ...}`.\n",
    "- `rotations(coins)`: returns a belief set of all 4 rotations of the coin sequence.\n",
    "- `flip(coins, move)`: flips the specified positions within the coin sequence.\n",
    " (But leave `'HHHH'` alone, because it ends the game.)\n",
    "- `update(belief, move)`: returns an updated belief state: all the coin sequences that could result from any rotation followed by the specified flips.\n"
   ]
  },
  {
   "cell_type": "code",
   "execution_count": 2,
   "metadata": {},
   "outputs": [],
   "source": [
    "def all_moves() -> (Move,): \n",
    "    \"List of all possible moves.\"\n",
    "    return tuple(map(Move, powerset(range(4))))\n",
    "\n",
    "def all_coins() -> Belief:\n",
    "    \"The belief set consisting of all possible coin sequences.\"\n",
    "    return Belief(map(Coins, product('HT', repeat=4)))\n",
    "\n",
    "def rotations(coins) -> {Coins}: \n",
    "    \"A set of all possible rotations of a coin sequence.\"\n",
    "    return {coins[r:] + coins[:r] for r in range(4)}\n",
    "\n",
    "def flip(coins, move) -> Coins:\n",
    "    \"Flip the coins in the positions specified by the move (but leave 'HHHH' alone).\"\n",
    "    if 'T' not in coins: return coins # Don't flip 'HHHH'\n",
    "    coins = list(coins) # Need a mutable sequence\n",
    "    for i in move:\n",
    "        coins[i] = ('H' if coins[i] == 'T' else 'T')\n",
    "    return Coins(coins)\n",
    "\n",
    "def update(belief, move) -> Belief:\n",
    "    \"Update belief: consider all possible rotations, then flip.\"\n",
    "    return Belief(flip(c, move)\n",
    "                  for coins in belief\n",
    "                  for c in rotations(coins))\n",
    "\n",
    "flatten = chain.from_iterable\n",
    "\n",
    "def powerset(iterable): \n",
    "    \"powerset([1,2,3]) --> () (1,) (2,) (3,) (1,2) (1,3) (2,3) (1,2,3)\"\n",
    "    # https://docs.python.org/3/library/itertools.html#itertools-recipes\n",
    "    s = list(iterable)\n",
    "    return flatten(combinations(s, r) for r in range(len(s) + 1))"
   ]
  },
  {
   "cell_type": "markdown",
   "metadata": {},
   "source": [
    "Let's try out these functions:"
   ]
  },
  {
   "cell_type": "code",
   "execution_count": 3,
   "metadata": {},
   "outputs": [],
   "source": [
    "all_moves()"
   ]
  },
  {
   "cell_type": "code",
   "execution_count": 4,
   "metadata": {},
   "outputs": [],
   "source": [
    "all_coins()"
   ]
  },
  {
   "cell_type": "code",
   "execution_count": 5,
   "metadata": {},
   "outputs": [
    {
     "data": {
      "text/plain": [
       "{'HHHT', 'HHTH', 'HTHH', 'THHH'}"
      ]
     },
     "execution_count": 5,
     "metadata": {},
     "output_type": "execute_result"
    }
   ],
   "source": [
    "rotations('HHHT')"
   ]
  },
  {
   "cell_type": "code",
   "execution_count": 6,
   "metadata": {},
   "outputs": [
    {
     "data": {
      "text/plain": [
       "'THTT'"
      ]
     },
     "execution_count": 6,
     "metadata": {},
     "output_type": "execute_result"
    }
   ],
   "source": [
    "flip('HHHT', {0, 2})"
   ]
  },
  {
   "cell_type": "markdown",
   "metadata": {},
   "source": [
    "There are 16 coin sequences in the `all_coins` belief state. If we update this belief state by flipping all 4 positions, we should get a new belief state where we have eliminated the possibility of 4 tails (because if there had been 4 heads, you would have already won), leaving 15 possible coin sequences:"
   ]
  },
  {
   "cell_type": "code",
   "execution_count": 7,
   "metadata": {},
   "outputs": [
    {
     "data": {
      "text/plain": [
       "frozenset({'HHHH',\n",
       "           'HHHT',\n",
       "           'HHTH',\n",
       "           'HHTT',\n",
       "           'HTHH',\n",
       "           'HTHT',\n",
       "           'HTTH',\n",
       "           'HTTT',\n",
       "           'THHH',\n",
       "           'THHT',\n",
       "           'THTH',\n",
       "           'THTT',\n",
       "           'TTHH',\n",
       "           'TTHT',\n",
       "           'TTTH'})"
      ]
     },
     "execution_count": 7,
     "metadata": {},
     "output_type": "execute_result"
    }
   ],
   "source": [
    "update(all_coins(), {0, 1, 2, 3})"
   ]
  },
  {
   "cell_type": "code",
   "execution_count": 8,
   "metadata": {},
   "outputs": [
    {
     "data": {
      "text/plain": [
       "[(), (1,), (2,), (3,), (1, 2), (1, 3), (2, 3), (1, 2, 3)]"
      ]
     },
     "execution_count": 8,
     "metadata": {},
     "output_type": "execute_result"
    }
   ],
   "source": [
    "list(powerset([1,2,3]))"
   ]
  },
  {
   "cell_type": "markdown",
   "metadata": {},
   "source": [
    "Everything looks good so far. "
   ]
  },
  {
   "cell_type": "markdown",
   "metadata": {},
   "source": [
    "# Search for a Winning Strategy\n",
    "\n",
    "The generic function `search` does a breadth-first search starting\n",
    "from a `start` state, looking for a `goal`  state, considering possible `actions` at each turn,\n",
    "and computing the `result` of each action (`result` is a function such that `result(state, action)` returns the new state that results from executing the action in the current state). `search` works by keeping a `queue` of unexplored possibilities, where each entry in the queue is a pair consisting of a *strategy* (sequence of moves) and a *state* that that strategy leads to. We also keep track of a set of `explored` states, so that we don't repeat ourselves. I've defined this function (or one just like it) multiple times before, for use in different search problems."
   ]
  },
  {
   "cell_type": "code",
   "execution_count": 9,
   "metadata": {},
   "outputs": [],
   "source": [
    "def search(start, goal, actions, result) -> Strategy:\n",
    "    \"Breadth-first search from start state to goal; return strategy to get to goal.\"\n",
    "    explored = set()\n",
    "    queue = deque([(Strategy(), start)])\n",
    "    while queue: # Entries in queue are (move_sequence, end_state) pairs\n",
    "        (strategy, state) = queue.popleft()\n",
    "        if state == goal:\n",
    "            return strategy\n",
    "        for action in actions:\n",
    "            state2 = result(state, action)\n",
    "            if state2 not in explored:\n",
    "                queue.append((strategy + (action,), state2))\n",
    "                explored.add(state2)"
   ]
  },
  {
   "cell_type": "markdown",
   "metadata": {},
   "source": [
    "Note that `search` doesn't know anything about belief states&mdash;it is designed to work on plain-old physical states of the world. But amazingly, we can still use it to search over belief states: it just works, as long as we properly specify the start state, the goal state, and the means of moving between states.\n",
    "\n",
    "The `coin_search` function calls  `search` to solve our specific problem:"
   ]
  },
  {
   "cell_type": "code",
   "execution_count": 10,
   "metadata": {},
   "outputs": [
    {
     "data": {
      "text/plain": [
       "({0, 1, 2, 3},\n",
       " {0, 2},\n",
       " {0, 1, 2, 3},\n",
       " {0, 1},\n",
       " {0, 1, 2, 3},\n",
       " {0, 2},\n",
       " {0, 1, 2, 3},\n",
       " {0},\n",
       " {0, 1, 2, 3},\n",
       " {0, 2},\n",
       " {0, 1, 2, 3},\n",
       " {0, 1},\n",
       " {0, 1, 2, 3},\n",
       " {0, 2},\n",
       " {0, 1, 2, 3})"
      ]
     },
     "execution_count": 10,
     "metadata": {},
     "output_type": "execute_result"
    }
   ],
   "source": [
    "def coin_search() -> Strategy: \n",
    "    \"Use `search` to solve the Coin Flip problem.\"\n",
    "    return search(start=all_coins(), goal={'HHHH'}, actions=all_moves(), result=update)\n",
    "\n",
    "coin_search()"
   ]
  },
  {
   "cell_type": "markdown",
   "metadata": {},
   "source": [
    "That's a 15-move strategy that is guaranteed to lead to a win. **Stop  here** if all you want is the answer to the puzzle. \n",
    "\n",
    "----\n",
    "\n",
    "Or you can continue on ...\n",
    "\n",
    "# Verifying the Winning Strategy\n",
    "\n",
    "I don't have a proof, but I have some evidence that this strategy is the answer:\n",
    "- Exploring with paper and pencil, it looks good. \n",
    "- A colleague did the puzzle and got the same answer. \n",
    "- It passes the `probably_wins` test below.\n",
    "\n",
    "The call `probably_wins(strategy, k)` plays the strategy *&nbsp;k* times against each possible starting position, assuming a Devil that chooses rotations at random. Note this is dealing with concrete, individual states of the world, like `HTHH`, not belief states. If `probably_wins` returns `False`, then the strategy is *definitely* flawed. If it returns `True`, then the strategy is *probably* good, but that does not prove it will win every time (and either way `probably_wins` makes no claims about being a *shortest* strategy)."
   ]
  },
  {
   "cell_type": "code",
   "execution_count": 11,
   "metadata": {},
   "outputs": [
    {
     "data": {
      "text/plain": [
       "True"
      ]
     },
     "execution_count": 11,
     "metadata": {},
     "output_type": "execute_result"
    }
   ],
   "source": [
    "def probably_wins(strategy, k=1000) -> bool:\n",
    "    \"Is this a winning strategy? A probabilistic algorithm.\"\n",
    "    return all('T' not in play(strategy, coins)\n",
    "               for coins in all_coins() \n",
    "               for _ in range(k))\n",
    "\n",
    "def play(strategy, coins) -> Coins:\n",
    "    \"Play strategy for one game against a random Devil, starting with coins; return final state of coins.\"\n",
    "    for move in strategy:\n",
    "        if 'T' not in coins: return coins\n",
    "        coins = random.choice(list(rotations(coins)))\n",
    "        coins = flip(coins, move)\n",
    "    return coins\n",
    "\n",
    "probably_wins(strategy=coin_search())"
   ]
  },
  {
   "cell_type": "markdown",
   "metadata": {},
   "source": [
    "# Canonical Coin Sequences and Moves\n",
    "\n",
    "Consider these coin sequences: `{'HHHT', 'HHTH', 'HTHH', 'THHH'}`. In a sense, these are all the same: they all denote the same sequence of coins with the table rotated to different degrees. Since the devil is free to rotate the table any amount at any time, we could be justified in treating all four of these as equivalent, and collapsing them into one representative member. I will **redefine** `Coins` so that is still takes an iterable of `'H'` or `'T'` characters and joins them into a `str`, but I will make it consider all possible rotations of the resulting string and (arbitraily) choose the one that comes first in alphabetical order (which would be `'HHHT'` for the four coin sequences mentioned here)."
   ]
  },
  {
   "cell_type": "code",
   "execution_count": 12,
   "metadata": {},
   "outputs": [],
   "source": [
    "def Coins(coins) -> str: \n",
    "    \"The canonical representation (after rotation) of the 'H'/'T' sequence.\"\n",
    "    return min(rotations(''.join(coins)))"
   ]
  },
  {
   "cell_type": "code",
   "execution_count": 13,
   "metadata": {},
   "outputs": [],
   "source": [
    "assert Coins('HHHT') == Coins('HHTH') == Coins('HTHH') == Coins('THHH') == 'HHHT'"
   ]
  },
  {
   "cell_type": "markdown",
   "metadata": {},
   "source": [
    "With `Coins` redefined, the result of `all_coins()` is different:"
   ]
  },
  {
   "cell_type": "code",
   "execution_count": 14,
   "metadata": {},
   "outputs": [
    {
     "data": {
      "text/plain": [
       "frozenset({'HHHH', 'HHHT', 'HHTT', 'HTHT', 'HTTT', 'TTTT'})"
      ]
     },
     "execution_count": 14,
     "metadata": {},
     "output_type": "execute_result"
    }
   ],
   "source": [
    "all_coins()"
   ]
  },
  {
   "cell_type": "markdown",
   "metadata": {},
   "source": [
    "The starting belief set is down from 16  to 6, namely:  {4 heads, 3 heads, 2 adjacent heads, 2 opposite heads, 1 head, and no heads}, respectively. \n",
    "\n",
    "Now for canonical moves. The moves `{0}` and `{1}` should be considered the same, since they both say \"flip one coin.\" To get that, look at the canonicalized set of `all_coins(N)`, and for each one pull out  the set of positions that have an `H` in them and flip those positions. (The positions with a `T` should be symmetric, so we don't need them as well.)"
   ]
  },
  {
   "cell_type": "code",
   "execution_count": 15,
   "metadata": {},
   "outputs": [],
   "source": [
    "def all_moves() -> [Move]:\n",
    "    \"All canonical moves.\"\n",
    "    return [Move(i for i in range(4) if coins[i] == 'H')\n",
    "            for coins in sorted(all_coins())]"
   ]
  },
  {
   "cell_type": "code",
   "execution_count": 16,
   "metadata": {},
   "outputs": [
    {
     "data": {
      "text/plain": [
       "[{0, 1, 2, 3}, {0, 1, 2}, {0, 1}, {0, 2}, {0}, set()]"
      ]
     },
     "execution_count": 16,
     "metadata": {},
     "output_type": "execute_result"
    }
   ],
   "source": [
    "all_moves()"
   ]
  },
  {
   "cell_type": "markdown",
   "metadata": {},
   "source": [
    "So again we've gone down from 16 to 6.\n",
    "\n",
    "Let's make sure we didn't break anything and that we still get the same 15-step solution:"
   ]
  },
  {
   "cell_type": "code",
   "execution_count": 17,
   "metadata": {},
   "outputs": [
    {
     "data": {
      "text/plain": [
       "({0, 1, 2, 3},\n",
       " {0, 2},\n",
       " {0, 1, 2, 3},\n",
       " {0, 1},\n",
       " {0, 1, 2, 3},\n",
       " {0, 2},\n",
       " {0, 1, 2, 3},\n",
       " {0, 1, 2},\n",
       " {0, 1, 2, 3},\n",
       " {0, 2},\n",
       " {0, 1, 2, 3},\n",
       " {0, 1},\n",
       " {0, 1, 2, 3},\n",
       " {0, 2},\n",
       " {0, 1, 2, 3})"
      ]
     },
     "execution_count": 17,
     "metadata": {},
     "output_type": "execute_result"
    }
   ],
   "source": [
    "coin_search()"
   ]
  },
  {
   "cell_type": "markdown",
   "metadata": {},
   "source": [
    "# Winning Strategies for N Coins\n",
    "\n",
    "What if there are 3 coins on the table arranged in a triangle? Or 6 coins in a hexagon? To answer that, I'll generalize all the functions that have a \"4\" in them: `all_moves, all_coins`, `rotations` and `coin_search`, as well as `probably_wins`. In each case the chage is trivial."
   ]
  },
  {
   "cell_type": "code",
   "execution_count": 18,
   "metadata": {},
   "outputs": [],
   "source": [
    "def all_moves(N=4) -> [Move]:\n",
    "    \"All canonical moves for a sequence of N coins.\"\n",
    "    return [Move(i for i in range(N) if coins[i] == 'H')\n",
    "            for coins in sorted(all_coins(N))]\n",
    "\n",
    "def all_coins(N=4) -> Belief:\n",
    "    \"Return the belief set consisting of all possible coin sequences.\"\n",
    "    return Belief(map(Coins, product('HT', repeat=N)))\n",
    "\n",
    "def rotations(coins) -> {Coins}: \n",
    "    \"A list of all possible rotations of a coin sequence.\"\n",
    "    return {coins[r:] + coins[:r] for r in range(len(coins))}\n",
    "\n",
    "def coin_search(N=4) -> Strategy: \n",
    "    \"Use the generic `search` function to solve the Coin Flip problem.\"\n",
    "    return search(start=all_coins(N), goal={'H' * N}, actions=all_moves(N), result=update)\n",
    "\n",
    "def probably_wins(strategy, N=4, k=1000) -> bool:\n",
    "    \"Is this a winning strategy? A probabilistic algorithm.\"\n",
    "    return all('T' not in play(strategy, coins)\n",
    "               for coins in all_coins(N) \n",
    "               for _ in range(k))"
   ]
  },
  {
   "cell_type": "markdown",
   "metadata": {},
   "source": [
    "Let's test the new definitions:"
   ]
  },
  {
   "cell_type": "code",
   "execution_count": 19,
   "metadata": {},
   "outputs": [],
   "source": [
    "assert all_moves(3) == [{0, 1, 2}, {0, 1}, {0}, set()]\n",
    "assert all_moves(4) == [{0, 1, 2, 3}, {0, 1, 2}, {0, 1}, {0, 2}, {0}, set()]\n",
    "\n",
    "assert all_coins(4) == {'HHHH', 'HHHT', 'HHTT', 'HTHT', 'HTTT', 'TTTT'}\n",
    "assert all_coins(5) == {'HHHHH','HHHHT', 'HHHTT','HHTHT','HHTTT', 'HTHTT', 'HTTTT', 'TTTTT'}\n",
    "\n",
    "assert rotations('HHHHHT') == {'HHHHHT', 'HHHHTH', 'HHHTHH', 'HHTHHH', 'HTHHHH', 'THHHHH'}\n",
    "assert update({'TTTTTTT'}, {3}) == {'HTTTTTT'}\n",
    "assert (update(rotations('HHHHHT'), {0}) == update({'HHTHHH'}, {1}) == update({'THHHHH'}, {2})\n",
    "        == {'HHHHHH', 'HHHHTT', 'HHHTHT', 'HHTHHT'})"
   ]
  },
  {
   "cell_type": "code",
   "execution_count": 20,
   "metadata": {},
   "outputs": [
    {
     "data": {
      "text/plain": [
       "({0, 1, 2, 3},\n",
       " {0, 2},\n",
       " {0, 1, 2, 3},\n",
       " {0, 1},\n",
       " {0, 1, 2, 3},\n",
       " {0, 2},\n",
       " {0, 1, 2, 3},\n",
       " {0, 1, 2},\n",
       " {0, 1, 2, 3},\n",
       " {0, 2},\n",
       " {0, 1, 2, 3},\n",
       " {0, 1},\n",
       " {0, 1, 2, 3},\n",
       " {0, 2},\n",
       " {0, 1, 2, 3})"
      ]
     },
     "execution_count": 20,
     "metadata": {},
     "output_type": "execute_result"
    }
   ],
   "source": [
    "coin_search(4)"
   ]
  },
  {
   "cell_type": "markdown",
   "metadata": {},
   "source": [
    "How many distinct canonical coin sequences are there for up to a dozen coins?"
   ]
  },
  {
   "cell_type": "code",
   "execution_count": 21,
   "metadata": {},
   "outputs": [
    {
     "data": {
      "text/plain": [
       "{1: 2,\n",
       " 2: 3,\n",
       " 3: 4,\n",
       " 4: 6,\n",
       " 5: 8,\n",
       " 6: 14,\n",
       " 7: 20,\n",
       " 8: 36,\n",
       " 9: 60,\n",
       " 10: 108,\n",
       " 11: 188,\n",
       " 12: 352}"
      ]
     },
     "execution_count": 21,
     "metadata": {},
     "output_type": "execute_result"
    }
   ],
   "source": [
    "{N: len(all_coins(N))\n",
    " for N in range(1, 13)}"
   ]
  },
  {
   "cell_type": "markdown",
   "metadata": {},
   "source": [
    "On the one hand this is encouraging; there are only 352 canonical coin sequences of length 12, far less than the 4,096 non-canonical squences. On the other hand, it is discouraging; since we are searching over belief states, that would be 2<sup>352</sup> belief states, which is more than a googol. However, we should be able to easily handle up to N=7, because 2<sup>20</sup> is only a million.\n",
    "\n",
    "# Winning Strategies for N = 1 to 7 Coins"
   ]
  },
  {
   "cell_type": "code",
   "execution_count": 22,
   "metadata": {},
   "outputs": [
    {
     "data": {
      "text/plain": [
       "{1: ({0},),\n",
       " 2: ({0, 1}, {0}, {0, 1}),\n",
       " 3: None,\n",
       " 4: ({0, 1, 2, 3},\n",
       "  {0, 2},\n",
       "  {0, 1, 2, 3},\n",
       "  {0, 1},\n",
       "  {0, 1, 2, 3},\n",
       "  {0, 2},\n",
       "  {0, 1, 2, 3},\n",
       "  {0, 1, 2},\n",
       "  {0, 1, 2, 3},\n",
       "  {0, 2},\n",
       "  {0, 1, 2, 3},\n",
       "  {0, 1},\n",
       "  {0, 1, 2, 3},\n",
       "  {0, 2},\n",
       "  {0, 1, 2, 3}),\n",
       " 5: None,\n",
       " 6: None,\n",
       " 7: None}"
      ]
     },
     "execution_count": 22,
     "metadata": {},
     "output_type": "execute_result"
    }
   ],
   "source": [
    "{N: coin_search(N) for N in range(1, 8)}"
   ]
  },
  {
   "cell_type": "markdown",
   "metadata": {},
   "source": [
    "Too bad; there are no winning strategies for N = 3, 5, 6, or 7.  \n",
    "\n",
    "There *are* winning strategies for N = 1, 2, 4; they have lengths 1, 3, 15, respectively. Hmmm. That suggests ...\n",
    "\n",
    "# A Conjecture\n",
    "\n",
    "- For every N that is a power of 2, there will be a shortest winning strategy of length 2<sup>N</sup> - 1.\n",
    "- For every N that is not a power of 2, there will be no winning strategy. \n",
    "\n",
    "# Winning Strategy for 8 Coins\n",
    "\n",
    "For N = 8, there are 2<sup>36</sup> = 69 billion belief states and if the conjecture is true there will be a shortest winning strategy with 255 steps. All the computations up to now have been less than a second, but this one should take more than a minute. Let's see:"
   ]
  },
  {
   "cell_type": "code",
   "execution_count": 23,
   "metadata": {},
   "outputs": [
    {
     "name": "stdout",
     "output_type": "stream",
     "text": [
      "CPU times: user 1min 13s, sys: 208 ms, total: 1min 13s\n",
      "Wall time: 1min 13s\n"
     ]
    }
   ],
   "source": [
    "%time strategy8 = coin_search(8)"
   ]
  },
  {
   "cell_type": "code",
   "execution_count": 24,
   "metadata": {},
   "outputs": [
    {
     "data": {
      "text/plain": [
       "True"
      ]
     },
     "execution_count": 24,
     "metadata": {},
     "output_type": "execute_result"
    }
   ],
   "source": [
    "probably_wins(strategy8, N=8, k=100)"
   ]
  },
  {
   "cell_type": "code",
   "execution_count": 25,
   "metadata": {},
   "outputs": [
    {
     "data": {
      "text/plain": [
       "255"
      ]
     },
     "execution_count": 25,
     "metadata": {},
     "output_type": "execute_result"
    }
   ],
   "source": [
    "len(strategy8)"
   ]
  },
  {
   "cell_type": "markdown",
   "metadata": {},
   "source": [
    "**Eureka!** That's evidence in favor of the conjecture. But not proof. And it leaves many questions unanswered:\n",
    "- Can you show there are no winning strategies for *N* = 9? Currently, `coin_search(9)` should take about 20 million minutes.\n",
    "- Can you show there are no winning strategies for *N* = 10, 11, ...?\n",
    "- Can you prove there are no winning strategies for any *N* that is not a power of 2?\n",
    "- Can you find a winning strategy of length 65,535 for *N* = 16 and verify that it works?\n",
    "- Can you generate a winning strategy for any power of 2 (without proving it is shortest)?\n",
    "- Can you prove there are no shorter winning strategies for *N* = 16?\n",
    "- Can you prove the conjecture in general?\n",
    "- Can you *understand* and *explain* how the strategy works, rather than just listing the moves?"
   ]
  },
  {
   "cell_type": "markdown",
   "metadata": {},
   "source": [
    "# Visualizing Strategies\n",
    "\n",
    "Can I understand what is going on by showing how belief states are whittled down?\n",
    "\n"
   ]
  },
  {
   "cell_type": "code",
   "execution_count": 26,
   "metadata": {},
   "outputs": [],
   "source": [
    "def show(moves, N=4):\n",
    "    \"For each move, print the move number, move, and belief state.\"\n",
    "    belief = all_coins(N)\n",
    "    order = sorted(belief)\n",
    "    print('Move| Flips    | Belief State')\n",
    "    print('----+----------+-------------')\n",
    "    def show(i, move, order=sorted(belief)):\n",
    "        print(f'{i:3} | {movestr(move, N):8} | {beliefstr(belief, order)}')\n",
    "    show(0, set())\n",
    "    for (i, move) in enumerate(moves, 1):\n",
    "        belief = update(belief, move)\n",
    "        show(i, move)\n",
    "\n",
    "def beliefstr(belief, order) -> str: \n",
    "    return join(((coins if coins in belief else ' ' * len(coins))\n",
    "                 for coins in order), ' ')\n",
    "\n",
    "def movestr(move, N) -> str: \n",
    "    return join((i if i in move else ' ') \n",
    "                for i in range(N))\n",
    "    \n",
    "def join(items, sep='') -> str: \n",
    "    return sep.join(map(str, items))"
   ]
  },
  {
   "cell_type": "markdown",
   "metadata": {},
   "source": [
    "The following tables shows how moves change the belief state:"
   ]
  },
  {
   "cell_type": "code",
   "execution_count": 27,
   "metadata": {},
   "outputs": [
    {
     "name": "stdout",
     "output_type": "stream",
     "text": [
      "Move| Flips    | Belief State\n",
      "----+----------+-------------\n",
      "  0 |          | HH HT TT\n",
      "  1 | 01       | HH HT   \n",
      "  2 | 0        | HH    TT\n",
      "  3 | 01       | HH      \n"
     ]
    }
   ],
   "source": [
    "show(coin_search(2), 2)"
   ]
  },
  {
   "cell_type": "code",
   "execution_count": 28,
   "metadata": {},
   "outputs": [
    {
     "name": "stdout",
     "output_type": "stream",
     "text": [
      "Move| Flips    | Belief State\n",
      "----+----------+-------------\n",
      "  0 |          | HHHH HHHT HHTT HTHT HTTT TTTT\n",
      "  1 | 0123     | HHHH HHHT HHTT HTHT HTTT     \n",
      "  2 | 0 2      | HHHH HHHT HHTT      HTTT TTTT\n",
      "  3 | 0123     | HHHH HHHT HHTT      HTTT     \n",
      "  4 | 01       | HHHH HHHT      HTHT HTTT TTTT\n",
      "  5 | 0123     | HHHH HHHT      HTHT HTTT     \n",
      "  6 | 0 2      | HHHH HHHT           HTTT TTTT\n",
      "  7 | 0123     | HHHH HHHT           HTTT     \n",
      "  8 | 012      | HHHH      HHTT HTHT      TTTT\n",
      "  9 | 0123     | HHHH      HHTT HTHT          \n",
      " 10 | 0 2      | HHHH      HHTT           TTTT\n",
      " 11 | 0123     | HHHH      HHTT               \n",
      " 12 | 01       | HHHH           HTHT      TTTT\n",
      " 13 | 0123     | HHHH           HTHT          \n",
      " 14 | 0 2      | HHHH                     TTTT\n",
      " 15 | 0123     | HHHH                         \n"
     ]
    }
   ],
   "source": [
    "show(coin_search(4))"
   ]
  },
  {
   "cell_type": "markdown",
   "metadata": {},
   "source": [
    "We can see that every odd-numbered move flips all four coins to eliminate the possibility of `TTTT`, flipping it to `HHHH`. We can also see that moves 2, 4, and 6 flip two coins and have the effect of eventually eliminating the two \"two heads\" sequences from the belief state, and then move 8 eliminates the \"three heads\" and \"one heads\" sequences, while bringing back the \"two heads\" possibilities. Repeating moves 2, 4, and 6 in moves 10, 12, and 14 then re-eliminates the \"two heads\", and move 15 gets the belief state down to `{'HHHH'}`.\n",
    "\n",
    "You could call `show(strategy, 8)`, but the results look bad unless you have a very wide (345 characters) screen to view it on. So instead I'll add a `verbose` parameter to `play` and play out some games with a trace of each move:"
   ]
  },
  {
   "cell_type": "code",
   "execution_count": 29,
   "metadata": {},
   "outputs": [
    {
     "name": "stdout",
     "output_type": "stream",
     "text": [
      "   1: HHTH | rot: THHH | flip: 0123 HTTT\n",
      "   2: HTTT | rot: HTTT | flip: 0 2  HTTT\n",
      "   3: HTTT | rot: THTT | flip: 0123 HHHT\n",
      "   4: HHHT | rot: HHTH | flip: 01   HTTT\n",
      "   5: HTTT | rot: HTTT | flip: 0123 HHHT\n",
      "   6: HHHT | rot: HHHT | flip: 0 2  HTTT\n",
      "   7: HTTT | rot: HTTT | flip: 0123 HHHT\n",
      "   8: HHHT | rot: HTHH | flip: 012  HTHT\n",
      "   9: HTHT | rot: THTH | flip: 0123 HTHT\n",
      "  10: HTHT | rot: THTH | flip: 0 2  HHHH\n"
     ]
    },
    {
     "data": {
      "text/plain": [
       "'HHHH'"
      ]
     },
     "execution_count": 29,
     "metadata": {},
     "output_type": "execute_result"
    }
   ],
   "source": [
    "def play(strategy, coins, verbose=False):\n",
    "    \"Play strategy for one game against a random Devil, starting with coins; return final state of coins.\"\n",
    "    N = len(coins)\n",
    "    for i, move in enumerate(strategy, 1):\n",
    "        if 'T' not in coins: return coins\n",
    "        coins0 = coins\n",
    "        coins1 = random.choice(list(rotations(coins)))\n",
    "        coins  = flip(coins1, move)\n",
    "        if verbose: \n",
    "            print(f'{i:4d}: {coins0} | rot: {coins1} | flip: {movestr(move, N)} {coins}')\n",
    "    return coins\n",
    "\n",
    "play(coin_search(4), 'HHTH', True)"
   ]
  },
  {
   "cell_type": "code",
   "execution_count": 30,
   "metadata": {
    "scrolled": false
   },
   "outputs": [
    {
     "name": "stdout",
     "output_type": "stream",
     "text": [
      "   1: HTTHTTHT | rot: THTTHTHT | flip: 01234567 HHTHHTHT\n",
      "   2: HHTHHTHT | rot: THHTHHTH | flip: 0 2 4 6  HHHHHTTT\n",
      "   3: HHHHHTTT | rot: TTTHHHHH | flip: 01234567 HHHTTTTT\n",
      "   4: HHHTTTTT | rot: HHHTTTTT | flip: 01  45   HHTTTTHT\n",
      "   5: HHTTTTHT | rot: HTHHTTTT | flip: 01234567 HHHHTHTT\n",
      "   6: HHHHTHTT | rot: THTTHHHH | flip: 0 2 4 6  HHHHTTHT\n",
      "   7: HHHHTTHT | rot: HHTTHTHH | flip: 01234567 HHTHTTTT\n",
      "   8: HHTHTTTT | rot: THHTHTTT | flip: 012 456  HHTHTTTT\n",
      "   9: HHTHTTTT | rot: THHTHTTT | flip: 01234567 HHHHTTHT\n",
      "  10: HHHHTTHT | rot: THTHHHHT | flip: 0 2 4 6  HHHHTHTT\n",
      "  11: HHHHTHTT | rot: THTTHHHH | flip: 01234567 HHTTTTHT\n",
      "  12: HHTTTTHT | rot: THHTTTTH | flip: 01  45   HHTHHTHT\n",
      "  13: HHTHHTHT | rot: HTHHTHTH | flip: 01234567 HTHTTHTT\n",
      "  14: HTHTTHTT | rot: THTTHTHT | flip: 0 2 4 6  HHHTTTTT\n",
      "  15: HHHTTTTT | rot: HTTTTTHH | flip: 01234567 HHHHHTTT\n",
      "  16: HHHHHTTT | rot: HHTTTHHH | flip: 0123     HHHTTHHT\n",
      "  17: HHHTTHHT | rot: THHHTTHH | flip: 01234567 HHTTHTTT\n",
      "  18: HHTTHTTT | rot: THHTTHTT | flip: 0 2 4 6  HHHTHHTT\n",
      "  19: HHHTHHTT | rot: THHTTHHH | flip: 01234567 HHTTTHTT\n",
      "  20: HHTTTHTT | rot: THTTHHTT | flip: 01  45   HTTTTTTT\n",
      "  21: HTTTTTTT | rot: TTTTTTTH | flip: 01234567 HHHHHHHT\n",
      "  22: HHHHHHHT | rot: HHHHHTHH | flip: 0 2 4 6  HTHTHTTT\n",
      "  23: HTHTHTTT | rot: THTHTTTH | flip: 01234567 HHHTHTHT\n",
      "  24: HHHTHTHT | rot: HTHHHTHT | flip: 012 456  HTHTHTTT\n",
      "  25: HTHTHTTT | rot: HTHTTTHT | flip: 01234567 HHHTHTHT\n",
      "  26: HHHTHTHT | rot: THTHHHTH | flip: 0 2 4 6  HHHHHHHT\n",
      "  27: HHHHHHHT | rot: HHHHHHHT | flip: 01234567 HTTTTTTT\n",
      "  28: HTTTTTTT | rot: TTTTHTTT | flip: 01  45   HHTTTHTT\n",
      "  29: HHTTTHTT | rot: HTTHHTTT | flip: 01234567 HHHTHHTT\n",
      "  30: HHHTHHTT | rot: THHHTHHT | flip: 0 2 4 6  HHHTTHHT\n",
      "  31: HHHTTHHT | rot: HTHHHTTH | flip: 01234567 HHTTHTTT\n",
      "  32: HHTTHTTT | rot: HHTTHTTT | flip: 01234 6  HHTTHTTT\n",
      "  33: HHTTHTTT | rot: TTHHTTHT | flip: 01234567 HHHTTHHT\n",
      "  34: HHHTTHHT | rot: THHHTTHH | flip: 0 2 4 6  HHHTHHTT\n",
      "  35: HHHTHHTT | rot: THHTTHHH | flip: 01234567 HHTTTHTT\n",
      "  36: HHTTTHTT | rot: THTTHHTT | flip: 01  45   HTTTTTTT\n",
      "  37: HTTTTTTT | rot: HTTTTTTT | flip: 01234567 HHHHHHHT\n",
      "  38: HHHHHHHT | rot: HHHHHTHH | flip: 0 2 4 6  HTHTHTTT\n",
      "  39: HTHTHTTT | rot: THTHTTTH | flip: 01234567 HHHTHTHT\n",
      "  40: HHHTHTHT | rot: HHHTHTHT | flip: 012 456  HTTTTTTT\n",
      "  41: HTTTTTTT | rot: TTTHTTTT | flip: 01234567 HHHHHHHT\n",
      "  42: HHHHHHHT | rot: THHHHHHH | flip: 0 2 4 6  HHHTHTHT\n",
      "  43: HHHTHTHT | rot: HTHTHTHH | flip: 01234567 HTHTHTTT\n",
      "  44: HTHTHTTT | rot: TTHTHTHT | flip: 01  45   HHHTTHHT\n",
      "  45: HHHTTHHT | rot: HHTHHHTT | flip: 01234567 HHTTHTTT\n",
      "  46: HHTTHTTT | rot: TTHTTTHH | flip: 0 2 4 6  HHTTTHTT\n",
      "  47: HHTTTHTT | rot: HHTTTHTT | flip: 01234567 HHHTHHTT\n",
      "  48: HHHTHHTT | rot: HHHTHHTT | flip: 0123     HHHTTTTT\n",
      "  49: HHHTTTTT | rot: TTTHHHTT | flip: 01234567 HHHHHTTT\n",
      "  50: HHHHHTTT | rot: TTHHHHHT | flip: 0 2 4 6  HTHTTHTT\n",
      "  51: HTHTTHTT | rot: HTTHTTHT | flip: 01234567 HHTHHTHT\n",
      "  52: HHTHHTHT | rot: THTHHTHH | flip: 01  45   HHHHTTHT\n",
      "  53: HHHHTTHT | rot: HHHHTTHT | flip: 01234567 HHTHTTTT\n",
      "  54: HHTHTTTT | rot: TTTTHHTH | flip: 0 2 4 6  HHHHTHTT\n",
      "  55: HHHHTHTT | rot: THTTHHHH | flip: 01234567 HHTTTTHT\n",
      "  56: HHTTTTHT | rot: THTHHTTT | flip: 012 456  HHTHHTHT\n",
      "  57: HHTHHTHT | rot: HTHHTHTH | flip: 01234567 HTHTTHTT\n",
      "  58: HTHTTHTT | rot: HTTHTHTT | flip: 0 2 4 6  HHHHHTTT\n",
      "  59: HHHHHTTT | rot: HHTTTHHH | flip: 01234567 HHHTTTTT\n",
      "  60: HHHTTTTT | rot: TTTHHHTT | flip: 01  45   HHTHTTTT\n",
      "  61: HHTHTTTT | rot: THTTTTHH | flip: 01234567 HHHHTTHT\n",
      "  62: HHHHTTHT | rot: TTHTHHHH | flip: 0 2 4 6  HHTTTTHT\n",
      "  63: HHTTTTHT | rot: HTHHTTTT | flip: 01234567 HHHHTHTT\n",
      "  64: HHHHTHTT | rot: THTTHHHH | flip: 012345   HHHTHHTT\n",
      "  65: HHHTHHTT | rot: HHTTHHHT | flip: 01234567 HHTTTHTT\n",
      "  66: HHTTTHTT | rot: THHTTTHT | flip: 0 2 4 6  HHTTHTTT\n",
      "  67: HHTTHTTT | rot: HHTTHTTT | flip: 01234567 HHHTTHHT\n",
      "  68: HHHTTHHT | rot: HHHTTHHT | flip: 01  45   HTHTHTTT\n",
      "  69: HTHTHTTT | rot: HTTTHTHT | flip: 01234567 HHHTHTHT\n",
      "  70: HHHTHTHT | rot: THTHTHHH | flip: 0 2 4 6  HHHHHHHT\n",
      "  71: HHHHHHHT | rot: HHHTHHHH | flip: 01234567 HTTTTTTT\n",
      "  72: HTTTTTTT | rot: TTTHTTTT | flip: 012 456  HHHHHHHT\n",
      "  73: HHHHHHHT | rot: HHHHTHHH | flip: 01234567 HTTTTTTT\n",
      "  74: HTTTTTTT | rot: TTTTTHTT | flip: 0 2 4 6  HHHTHTHT\n",
      "  75: HHHTHTHT | rot: THHHTHTH | flip: 01234567 HTHTHTTT\n",
      "  76: HTHTHTTT | rot: THTHTTTH | flip: 01  45   HHHTHHTT\n",
      "  77: HHHTHHTT | rot: HHTTHHHT | flip: 01234567 HHTTTHTT\n",
      "  78: HHTTTHTT | rot: THTTHHTT | flip: 0 2 4 6  HHHTTHHT\n",
      "  79: HHHTTHHT | rot: THHHTTHH | flip: 01234567 HHTTHTTT\n",
      "  80: HHTTHTTT | rot: THTTTHHT | flip: 0123     HHTHHTHT\n",
      "  81: HHTHHTHT | rot: HHTHTHHT | flip: 01234567 HTHTTHTT\n",
      "  82: HTHTTHTT | rot: THTTHTTH | flip: 0 2 4 6  HHHHHTTT\n",
      "  83: HHHHHTTT | rot: TTHHHHHT | flip: 01234567 HHHTTTTT\n",
      "  84: HHHTTTTT | rot: HHHTTTTT | flip: 01  45   HHTTTTHT\n",
      "  85: HHTTTTHT | rot: HHTTTTHT | flip: 01234567 HHHHTHTT\n",
      "  86: HHHHTHTT | rot: HHTHTTHH | flip: 0 2 4 6  HHHHTTHT\n",
      "  87: HHHHTTHT | rot: HHTTHTHH | flip: 01234567 HHTHTTTT\n",
      "  88: HHTHTTTT | rot: HHTHTTTT | flip: 012 456  HHHHHTTT\n",
      "  89: HHHHHTTT | rot: HHTTTHHH | flip: 01234567 HHHTTTTT\n",
      "  90: HHHTTTTT | rot: HHHTTTTT | flip: 0 2 4 6  HTHTTHTT\n",
      "  91: HTHTTHTT | rot: THTTHTHT | flip: 01234567 HHTHHTHT\n",
      "  92: HHTHHTHT | rot: HTHTHHTH | flip: 01  45   HHTTTTHT\n",
      "  93: HHTTTTHT | rot: TTTHTHHT | flip: 01234567 HHHHTHTT\n",
      "  94: HHHHTHTT | rot: THHHHTHT | flip: 0 2 4 6  HHTHTTTT\n",
      "  95: HHTHTTTT | rot: HTHTTTTH | flip: 01234567 HHHHTTHT\n",
      "  96: HHHHTTHT | rot: HTHHHHTT | flip: 01234 6  HHTTHTTT\n",
      "  97: HHTTHTTT | rot: HTTTHHTT | flip: 01234567 HHHTTHHT\n",
      "  98: HHHTTHHT | rot: THHHTTHH | flip: 0 2 4 6  HHHTHHTT\n",
      "  99: HHHTHHTT | rot: HHHTHHTT | flip: 01234567 HHTTTHTT\n",
      " 100: HHTTTHTT | rot: HTTTHTTH | flip: 01  45   HTHTHTTT\n",
      " 101: HTHTHTTT | rot: THTHTTTH | flip: 01234567 HHHTHTHT\n",
      " 102: HHHTHTHT | rot: HTHTHTHH | flip: 0 2 4 6  HTTTTTTT\n",
      " 103: HTTTTTTT | rot: TTHTTTTT | flip: 01234567 HHHHHHHT\n",
      " 104: HHHHHHHT | rot: HHHHTHHH | flip: 012 456  HHTTHTTT\n",
      " 105: HHTTHTTT | rot: THTTTHHT | flip: 01234567 HHHTTHHT\n",
      " 106: HHHTTHHT | rot: HHHTTHHT | flip: 0 2 4 6  HHTTTHTT\n",
      " 107: HHTTTHTT | rot: HTTHHTTT | flip: 01234567 HHHTHHTT\n",
      " 108: HHHTHHTT | rot: THHHTHHT | flip: 01  45   HHHTHTHT\n",
      " 109: HHHTHTHT | rot: THHHTHTH | flip: 01234567 HTHTHTTT\n",
      " 110: HTHTHTTT | rot: TTHTHTHT | flip: 0 2 4 6  HTTTTTTT\n",
      " 111: HTTTTTTT | rot: TTTTHTTT | flip: 01234567 HHHHHHHT\n",
      " 112: HHHHHHHT | rot: HHHHHHTH | flip: 0123     HHTHTTTT\n",
      " 113: HHTHTTTT | rot: TTTTHHTH | flip: 01234567 HHHHTTHT\n",
      " 114: HHHHTTHT | rot: HHTTHTHH | flip: 0 2 4 6  HHTTTTHT\n",
      " 115: HHTTTTHT | rot: HHTTTTHT | flip: 01234567 HHHHTHTT\n",
      " 116: HHHHTHTT | rot: HTTHHHHT | flip: 01  45   HTHTTHTT\n",
      " 117: HTHTTHTT | rot: HTTHTHTT | flip: 01234567 HHTHHTHT\n",
      " 118: HHTHHTHT | rot: HTHHTHTH | flip: 0 2 4 6  HHHHHTTT\n",
      " 119: HHHHHTTT | rot: HTTTHHHH | flip: 01234567 HHHTTTTT\n",
      " 120: HHHTTTTT | rot: TTTTHHHT | flip: 012 456  HHHTTTTT\n",
      " 121: HHHTTTTT | rot: TTTTTHHH | flip: 01234567 HHHHHTTT\n",
      " 122: HHHHHTTT | rot: HHHHTTTH | flip: 0 2 4 6  HHTHHTHT\n",
      " 123: HHTHHTHT | rot: HHTHTHHT | flip: 01234567 HTHTTHTT\n",
      " 124: HTHTTHTT | rot: HTTHTTHT | flip: 01  45   HHHHTTHT\n",
      " 125: HHHHTTHT | rot: HHTTHTHH | flip: 01234567 HHTHTTTT\n",
      " 126: HHTHTTTT | rot: HHTHTTTT | flip: 0 2 4 6  HHHHTHTT\n",
      " 127: HHHHTHTT | rot: HHHTHTTH | flip: 01234567 HHTTTTHT\n",
      " 128: HHTTTTHT | rot: TTTHTHHT | flip: 0123456  HHHTHTTT\n",
      " 129: HHHTHTTT | rot: HHTHTTTH | flip: 01234567 HHHTTTHT\n",
      " 130: HHHTTTHT | rot: HTHHHTTT | flip: 0 2 4 6  HTTHTTTT\n",
      " 131: HTTHTTTT | rot: TTTHTTHT | flip: 01234567 HHHHTHHT\n",
      " 132: HHHHTHHT | rot: HTHHHHTH | flip: 01  45   HHHTTTHT\n",
      " 133: HHHTTTHT | rot: TTTHTHHH | flip: 01234567 HHHTHTTT\n",
      " 134: HHHTHTTT | rot: HTTTHHHT | flip: 0 2 4 6  HTTHTTTT\n",
      " 135: HTTHTTTT | rot: THTTTTHT | flip: 01234567 HHHHTHHT\n",
      " 136: HHHHTHHT | rot: THHHHTHH | flip: 012 456  HHTTHTHT\n",
      " 137: HHTTHTHT | rot: HHTTHTHT | flip: 01234567 HHTHTHTT\n",
      " 138: HHTHTHTT | rot: THTTHHTH | flip: 0 2 4 6  HHHHHHTT\n",
      " 139: HHHHHHTT | rot: HTTHHHHH | flip: 01234567 HHTTTTTT\n",
      " 140: HHTTTTTT | rot: THHTTTTT | flip: 01  45   HHTTHTHT\n",
      " 141: HHTTHTHT | rot: HHTTHTHT | flip: 01234567 HHTHTHTT\n",
      " 142: HHTHTHTT | rot: HHTHTHTT | flip: 0 2 4 6  HHHHHHTT\n",
      " 143: HHHHHHTT | rot: HTTHHHHH | flip: 01234567 HHTTTTTT\n",
      " 144: HHTTTTTT | rot: HHTTTTTT | flip: 0123     HHTTTTTT\n",
      " 145: HHTTTTTT | rot: TTTTHHTT | flip: 01234567 HHHHHHTT\n",
      " 146: HHHHHHTT | rot: HHHHHHTT | flip: 0 2 4 6  HHTTHTHT\n",
      " 147: HHTTHTHT | rot: THTHHTTH | flip: 01234567 HHTHTHTT\n",
      " 148: HHTHTHTT | rot: THHTHTHT | flip: 01  45   HHTHTHTT\n",
      " 149: HHTHTHTT | rot: HHTHTHTT | flip: 01234567 HHTTHTHT\n",
      " 150: HHTTHTHT | rot: HHTTHTHT | flip: 0 2 4 6  HHTTTTTT\n",
      " 151: HHTTTTTT | rot: TTTHHTTT | flip: 01234567 HHHHHHTT\n",
      " 152: HHHHHHTT | rot: HHHHHHTT | flip: 012 456  HTTHTTTT\n",
      " 153: HTTHTTTT | rot: TTHTTHTT | flip: 01234567 HHHHTHHT\n",
      " 154: HHHHTHHT | rot: HHTHHTHH | flip: 0 2 4 6  HHHTTTHT\n",
      " 155: HHHTTTHT | rot: HHTTTHTH | flip: 01234567 HHHTHTTT\n",
      " 156: HHHTHTTT | rot: HHHTHTTT | flip: 01  45   HTTHTTTT\n",
      " 157: HTTHTTTT | rot: THTTHTTT | flip: 01234567 HHHHTHHT\n",
      " 158: HHHHTHHT | rot: HTHHHHTH | flip: 0 2 4 6  HHHTTTHT\n",
      " 159: HHHTTTHT | rot: HHHTTTHT | flip: 01234567 HHHTHTTT\n",
      " 160: HHHTHTTT | rot: HHTHTTTH | flip: 01234 6  HHTTHTHT\n",
      " 161: HHTTHTHT | rot: THHTTHTH | flip: 01234567 HHTHTHTT\n",
      " 162: HHTHTHTT | rot: HTTHHTHT | flip: 0 2 4 6  HHTTTTTT\n",
      " 163: HHTTTTTT | rot: TTTTHHTT | flip: 01234567 HHHHHHTT\n",
      " 164: HHHHHHTT | rot: HHHTTHHH | flip: 01  45   HHTTHTHT\n",
      " 165: HHTTHTHT | rot: HTTHTHTH | flip: 01234567 HHTHTHTT\n",
      " 166: HHTHTHTT | rot: HTHTHTTH | flip: 0 2 4 6  HHTTTTTT\n",
      " 167: HHTTTTTT | rot: TTTTTTHH | flip: 01234567 HHHHHHTT\n",
      " 168: HHHHHHTT | rot: HHTTHHHH | flip: 012 456  HTTHTTTT\n",
      " 169: HTTHTTTT | rot: HTTTTHTT | flip: 01234567 HHHHTHHT\n",
      " 170: HHHHTHHT | rot: THHHHTHH | flip: 0 2 4 6  HHHTHTTT\n",
      " 171: HHHTHTTT | rot: TTTHHHTH | flip: 01234567 HHHTTTHT\n",
      " 172: HHHTTTHT | rot: TTTHTHHH | flip: 01  45   HHHHTHHT\n",
      " 173: HHHHTHHT | rot: THHTHHHH | flip: 01234567 HTTHTTTT\n",
      " 174: HTTHTTTT | rot: TTTHTTHT | flip: 0 2 4 6  HHHTTTHT\n",
      " 175: HHHTTTHT | rot: THTHHHTT | flip: 01234567 HHHTHTTT\n",
      " 176: HHHTHTTT | rot: TTHHHTHT | flip: 0123     HHTTHTHT\n",
      " 177: HHTTHTHT | rot: THHTTHTH | flip: 01234567 HHTHTHTT\n",
      " 178: HHTHTHTT | rot: THTHTTHH | flip: 0 2 4 6  HHHHHHTT\n",
      " 179: HHHHHHTT | rot: HHTTHHHH | flip: 01234567 HHTTTTTT\n",
      " 180: HHTTTTTT | rot: TTTHHTTT | flip: 01  45   HHTHTHTT\n",
      " 181: HHTHTHTT | rot: THHTHTHT | flip: 01234567 HHTTHTHT\n",
      " 182: HHTTHTHT | rot: HTHHTTHT | flip: 0 2 4 6  HHTTTTTT\n",
      " 183: HHTTTTTT | rot: THHTTTTT | flip: 01234567 HHHHHHTT\n",
      " 184: HHHHHHTT | rot: TTHHHHHH | flip: 012 456  HHHTHTTT\n",
      " 185: HHHTHTTT | rot: HHHTHTTT | flip: 01234567 HHHTTTHT\n",
      " 186: HHHTTTHT | rot: THHHTTTH | flip: 0 2 4 6  HHHHTHHT\n",
      " 187: HHHHTHHT | rot: THHTHHHH | flip: 01234567 HTTHTTTT\n",
      " 188: HTTHTTTT | rot: THTTHTTT | flip: 01  45   HTTHTTTT\n",
      " 189: HTTHTTTT | rot: TTTHTTHT | flip: 01234567 HHHHTHHT\n",
      " 190: HHHHTHHT | rot: HHHHTHHT | flip: 0 2 4 6  HHHTTTHT\n",
      " 191: HHHTTTHT | rot: HTTTHTHH | flip: 01234567 HHHTHTTT\n",
      " 192: HHHTHTTT | rot: TTHHHTHT | flip: 012345   HHTHHTTT\n",
      " 193: HHTHHTTT | rot: HTTTHHTH | flip: 01234567 HHHTTHTT\n",
      " 194: HHHTTHTT | rot: THHHTTHT | flip: 0 2 4 6  HHTHHTTT\n",
      " 195: HHTHHTTT | rot: TTHHTHHT | flip: 01234567 HHHTTHTT\n",
      " 196: HHHTTHTT | rot: HTTHTTHH | flip: 01  45   HHHHHTHT\n",
      " 197: HHHHHTHT | rot: HHHTHTHH | flip: 01234567 HTHTTTTT\n",
      " 198: HTHTTTTT | rot: TTTTHTHT | flip: 0 2 4 6  HTHTTTTT\n",
      " 199: HTHTTTTT | rot: TTTTHTHT | flip: 01234567 HHHHHTHT\n",
      " 200: HHHHHTHT | rot: HTHTHHHH | flip: 012 456  HTHTTTTT\n",
      " 201: HTHTTTTT | rot: TTTTHTHT | flip: 01234567 HHHHHTHT\n",
      " 202: HHHHHTHT | rot: HHHHTHTH | flip: 0 2 4 6  HHHHHTHT\n",
      " 203: HHHHHTHT | rot: HHHHHTHT | flip: 01234567 HTHTTTTT\n",
      " 204: HTHTTTTT | rot: TTTTHTHT | flip: 01  45   HHTHHTTT\n",
      " 205: HHTHHTTT | rot: TTTHHTHH | flip: 01234567 HHHTTHTT\n",
      " 206: HHHTTHTT | rot: HHHTTHTT | flip: 0 2 4 6  HHHTTHTT\n",
      " 207: HHHTTHTT | rot: HTTHTTHH | flip: 01234567 HHTHHTTT\n",
      " 208: HHTHHTTT | rot: HHTHHTTT | flip: 0123     HTHTTTTT\n",
      " 209: HTHTTTTT | rot: THTHTTTT | flip: 01234567 HHHHHTHT\n",
      " 210: HHHHHTHT | rot: HHTHTHHH | flip: 0 2 4 6  HHHHHTHT\n",
      " 211: HHHHHTHT | rot: HHHHTHTH | flip: 01234567 HTHTTTTT\n",
      " 212: HTHTTTTT | rot: TTTTHTHT | flip: 01  45   HHTHHTTT\n",
      " 213: HHTHHTTT | rot: THHTHHTT | flip: 01234567 HHHTTHTT\n",
      " 214: HHHTTHTT | rot: HHTTHTTH | flip: 0 2 4 6  HHTHHTTT\n",
      " 215: HHTHHTTT | rot: HHTTTHHT | flip: 01234567 HHHTTHTT\n",
      " 216: HHHTTHTT | rot: HTTHTTHH | flip: 012 456  HHHHHTHT\n",
      " 217: HHHHHTHT | rot: HTHHHHHT | flip: 01234567 HTHTTTTT\n",
      " 218: HTHTTTTT | rot: HTTTTTHT | flip: 0 2 4 6  HTHTTTTT\n",
      " 219: HTHTTTTT | rot: THTTTTTH | flip: 01234567 HHHHHTHT\n",
      " 220: HHHHHTHT | rot: HTHTHHHH | flip: 01  45   HHTHHTTT\n",
      " 221: HHTHHTTT | rot: TTTHHTHH | flip: 01234567 HHHTTHTT\n",
      " 222: HHHTTHTT | rot: HHTTHTTH | flip: 0 2 4 6  HHTHHTTT\n",
      " 223: HHTHHTTT | rot: THHTTTHH | flip: 01234567 HHHTTHTT\n",
      " 224: HHHTTHTT | rot: HTTHTTHH | flip: 01234 6  HHTHTTHT\n",
      " 225: HHTHTTHT | rot: HHTHTTHT | flip: 01234567 HHTHTTHT\n",
      " 226: HHTHTTHT | rot: HTHHTHTT | flip: 0 2 4 6  HHHHTTTT\n",
      " 227: HHHHTTTT | rot: TTTHHHHT | flip: 01234567 HHHHTTTT\n",
      " 228: HHHHTTTT | rot: TTTHHHHT | flip: 01  45   HHTHTTHT\n",
      " 229: HHTHTTHT | rot: THTTHTHH | flip: 01234567 HHTHTTHT\n",
      " 230: HHTHTTHT | rot: HHTHTTHT | flip: 0 2 4 6  HHHHTTTT\n",
      " 231: HHHHTTTT | rot: HHTTTTHH | flip: 01234567 HHHHTTTT\n",
      " 232: HHHHTTTT | rot: HHHHTTTT | flip: 012 456  HHHHTTTT\n",
      " 233: HHHHTTTT | rot: HHTTTTHH | flip: 01234567 HHHHTTTT\n",
      " 234: HHHHTTTT | rot: HHHHTTTT | flip: 0 2 4 6  HHTHTTHT\n",
      " 235: HHTHTTHT | rot: THTHHTHT | flip: 01234567 HHTHTTHT\n",
      " 236: HHTHTTHT | rot: HTHTTHTH | flip: 01  45   HHTHTTHT\n",
      " 237: HHTHTTHT | rot: HTTHTHHT | flip: 01234567 HHTHTTHT\n",
      " 238: HHTHTTHT | rot: HTHHTHTT | flip: 0 2 4 6  HHHHTTTT\n",
      " 239: HHHHTTTT | rot: TTTTHHHH | flip: 01234567 HHHHTTTT\n",
      " 240: HHHHTTTT | rot: TTTHHHHT | flip: 0123     HHHTHHHT\n",
      " 241: HHHTHHHT | rot: HTHHHTHH | flip: 01234567 HTTTHTTT\n",
      " 242: HTTTHTTT | rot: TTTHTTTH | flip: 0 2 4 6  HHHTHHHT\n",
      " 243: HHHTHHHT | rot: HHTHHHTH | flip: 01234567 HTTTHTTT\n",
      " 244: HTTTHTTT | rot: HTTTHTTT | flip: 01  45   HTTTHTTT\n",
      " 245: HTTTHTTT | rot: TTTHTTTH | flip: 01234567 HHHTHHHT\n",
      " 246: HHHTHHHT | rot: HTHHHTHH | flip: 0 2 4 6  HTTTHTTT\n",
      " 247: HTTTHTTT | rot: HTTTHTTT | flip: 01234567 HHHTHHHT\n",
      " 248: HHHTHHHT | rot: THHHTHHH | flip: 012 456  HHTTHHTT\n",
      " 249: HHTTHHTT | rot: HHTTHHTT | flip: 01234567 HHTTHHTT\n",
      " 250: HHTTHHTT | rot: HHTTHHTT | flip: 0 2 4 6  HHTTHHTT\n",
      " 251: HHTTHHTT | rot: TTHHTTHH | flip: 01234567 HHTTHHTT\n",
      " 252: HHTTHHTT | rot: HHTTHHTT | flip: 01  45   TTTTTTTT\n",
      " 253: TTTTTTTT | rot: TTTTTTTT | flip: 01234567 HHHHHHHH\n"
     ]
    },
    {
     "data": {
      "text/plain": [
       "'HHHHHHHH'"
      ]
     },
     "execution_count": 30,
     "metadata": {},
     "output_type": "execute_result"
    }
   ],
   "source": [
    "play(strategy8, 'HTTHTTHT', True)"
   ]
  },
  {
   "cell_type": "code",
   "execution_count": null,
   "metadata": {},
   "outputs": [],
   "source": []
  }
 ],
 "metadata": {
  "kernelspec": {
   "display_name": "Python 3",
   "language": "python",
   "name": "python3"
  },
  "language_info": {
   "codemirror_mode": {
    "name": "ipython",
    "version": 3
   },
   "file_extension": ".py",
   "mimetype": "text/x-python",
   "name": "python",
   "nbconvert_exporter": "python",
   "pygments_lexer": "ipython3",
   "version": "3.7.2"
  }
 },
 "nbformat": 4,
 "nbformat_minor": 2
}
