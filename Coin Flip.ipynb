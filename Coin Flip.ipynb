{
 "cells": [
  {
   "cell_type": "markdown",
   "metadata": {},
   "source": [
    "# The Devil and the Coin Flip Game\n",
    "\n",
    ">You're playing a game with the devil, with your soul at stake. You're sitting at a circular table which has 4 coins, arranged in a diamond, at the 12, 3, 6, and 9 o'clock positions. We'll number those as positions 0, 1, 2, and 3, respectively. You are blindfolded, and can never see the coins or the table.\n",
    "\n",
    ">Your goal is to get all 4 coins showing heads, by telling the devil the position number(s) of some coins to flip. We call this a \"move\" on your part. The devil must faithfully perform the requested flips, but may first sneakily rotate the table any number of quarter-turns, so that the coins are in different positions. The game ends when 4 heads come up and you win; until then you  keep making moves.\n",
    "\n",
    "> Example: You tell the devil to flip positions 0 and 2 (the 12 o'clock and 6 o'clock positions). The devil could leave the table unrotated (or could rotate it a half-turn), and then flip the two coins that you specified. Or the devil could rotate the table a quarter turn in either direction, and then flip the coins that are now in the 12 o'clock and 6 o'clock locations, which are the two other coins from the ones you specified.  You won't know which of these actions the devil took.\n",
    "\n",
    "> What is a shortest sequence of moves that is guaranteed to win, no matter what the initial state of the coins, and no matter what rotations the devil applies?\n",
    "\n",
    "# Analysis\n",
    "\n",
    "The player, being blindfolded, does not know the true state of the coins. So the player should represent what is known: the *set of possible states* of the coins. We call this a *belief state*. At the start of the game, each of the four coins could be either heads or tails, so that's 2<sup>4</sup> = 16 possibilities in the belief state. \n",
    "\n",
    "Each possible move, such as `{0, 2}`, which means \"flip the 12 o'clock and 6 o'clock positions,\" updates the belief state as follows: for every coin sequence in the current belief state, rotate it in every possible way, and then flip the appropriate coins. Collect all these results together to form the new belief state. To solve the game, I need to come up with a sequence of moves that ends in a belief state consisting of just `{'HHHH'}`. I want it to be a shortest possible sequence, so a breadth-first search seems right. The search space will be tiny, so compute time will be trivial; the only issue is specifying the domain correctly. (To increase the chance of getting it correct, I won't try to do anything fancy, such as noticing that some sequences are rotational variants of other sequences.)\n",
    "\n",
    "\n",
    "# Implementation Choices\n",
    "\n",
    "Here are the main concepts, and my implementation choices:\n",
    "\n",
    "- `Coins`: A *coin sequence* is represented as a `str` of four characters, such as `'HTTT'`. \n",
    "- `Belief`: A *belief state* is represented as a `frozenset` of `Coins` (frozen so that it can be hashed in a `set`).\n",
    "- `initial_belief`: The set of all possible coin sequences.\n",
    "- `rotations`: The function `rotations(coins)` returns the set of all 4 rotations of the coin sequence.\n",
    "- `update`: The function `update(belief, move)` retuns an updated belief state, representing all the possible coin sequences that could result from any devil rotation followed by the specified flip(s). (But don't flip `'HHHH'`, because the game would have already ended.)\n",
    "- `flip`: The function `flip(coins, move)` flips the specified positions within the coin sequence."
   ]
  },
  {
   "cell_type": "code",
   "execution_count": 1,
   "metadata": {
    "collapsed": true
   },
   "outputs": [],
   "source": [
    "from collections import deque, Counter\n",
    "from itertools   import product, combinations\n",
    "import random\n",
    "\n",
    "Coins = ''.join # Function to make a 4-element Coin Sequence, such as 'HHHT'\n",
    "\n",
    "Belief = frozenset\n",
    "\n",
    "initial_belief = Belief(map(Coins, product('HT', repeat=4)))\n",
    "\n",
    "def rotations(coins): return {coins[r:] + coins[:r] for r in range(4)}\n",
    "\n",
    "def update(belief, move):\n",
    "    \"Update belief: consider all possible rotations, then flip.\"\n",
    "    return Belief((flip(c, move) if c != 'HHHH' else c)\n",
    "                  for coins in belief\n",
    "                  for c in rotations(coins))\n",
    "\n",
    "def flip(coins, move):\n",
    "    \"Flip the coins in the positions specified by the move.\"\n",
    "    coins = list(coins) # Need a mutable sequence\n",
    "    for i in move:\n",
    "        coins[i] = ('H' if coins[i] == 'T' else 'T')\n",
    "    return Coins(coins)"
   ]
  },
  {
   "cell_type": "markdown",
   "metadata": {},
   "source": [
    "Let's try out some of the functions to see if they look right:"
   ]
  },
  {
   "cell_type": "code",
   "execution_count": 2,
   "metadata": {
    "collapsed": false
   },
   "outputs": [
    {
     "data": {
      "text/plain": [
       "'THTT'"
      ]
     },
     "execution_count": 2,
     "metadata": {},
     "output_type": "execute_result"
    }
   ],
   "source": [
    "flip('HHHT', {0, 2})"
   ]
  },
  {
   "cell_type": "code",
   "execution_count": 3,
   "metadata": {
    "collapsed": false
   },
   "outputs": [
    {
     "data": {
      "text/plain": [
       "{'HHHT', 'HHTH', 'HTHH', 'THHH'}"
      ]
     },
     "execution_count": 3,
     "metadata": {},
     "output_type": "execute_result"
    }
   ],
   "source": [
    "rotations('HHHT')"
   ]
  },
  {
   "cell_type": "code",
   "execution_count": 4,
   "metadata": {
    "collapsed": false
   },
   "outputs": [
    {
     "data": {
      "text/plain": [
       "frozenset({'HHHH',\n",
       "           'HHHT',\n",
       "           'HHTH',\n",
       "           'HHTT',\n",
       "           'HTHH',\n",
       "           'HTHT',\n",
       "           'HTTH',\n",
       "           'HTTT',\n",
       "           'THHH',\n",
       "           'THHT',\n",
       "           'THTH',\n",
       "           'THTT',\n",
       "           'TTHH',\n",
       "           'TTHT',\n",
       "           'TTTH',\n",
       "           'TTTT'})"
      ]
     },
     "execution_count": 4,
     "metadata": {},
     "output_type": "execute_result"
    }
   ],
   "source": [
    "initial_belief"
   ]
  },
  {
   "cell_type": "code",
   "execution_count": 5,
   "metadata": {
    "collapsed": false
   },
   "outputs": [
    {
     "data": {
      "text/plain": [
       "frozenset({'HHHH',\n",
       "           'HHHT',\n",
       "           'HHTH',\n",
       "           'HHTT',\n",
       "           'HTHH',\n",
       "           'HTHT',\n",
       "           'HTTH',\n",
       "           'HTTT',\n",
       "           'THHH',\n",
       "           'THHT',\n",
       "           'THTH',\n",
       "           'THTT',\n",
       "           'TTHH',\n",
       "           'TTHT',\n",
       "           'TTTH'})"
      ]
     },
     "execution_count": 5,
     "metadata": {},
     "output_type": "execute_result"
    }
   ],
   "source": [
    "update(initial_belief, {0, 1, 2, 3})"
   ]
  },
  {
   "cell_type": "markdown",
   "metadata": {},
   "source": [
    "That says that if we flip all 4 coins, we eliminate the possibility of 4 tails, cutting the possibilities down from 16 to 15."
   ]
  },
  {
   "cell_type": "markdown",
   "metadata": {},
   "source": [
    "Everything looks good so far. One more thing: we need to find all subsets of the 4 positions:"
   ]
  },
  {
   "cell_type": "code",
   "execution_count": 6,
   "metadata": {
    "collapsed": false
   },
   "outputs": [],
   "source": [
    "def powerset(sequence): \n",
    "    \"All subsets of a sequence.\"\n",
    "    return [set(c) \n",
    "            for r in range(len(sequence) + 1)\n",
    "            for c in combinations(sequence, r)]"
   ]
  },
  {
   "cell_type": "code",
   "execution_count": 7,
   "metadata": {
    "collapsed": false
   },
   "outputs": [
    {
     "data": {
      "text/plain": [
       "[set(),\n",
       " {0},\n",
       " {1},\n",
       " {2},\n",
       " {3},\n",
       " {0, 1},\n",
       " {0, 2},\n",
       " {0, 3},\n",
       " {1, 2},\n",
       " {1, 3},\n",
       " {2, 3},\n",
       " {0, 1, 2},\n",
       " {0, 1, 3},\n",
       " {0, 2, 3},\n",
       " {1, 2, 3},\n",
       " {0, 1, 2, 3}]"
      ]
     },
     "execution_count": 7,
     "metadata": {},
     "output_type": "execute_result"
    }
   ],
   "source": [
    "powerset(range(4))"
   ]
  },
  {
   "cell_type": "markdown",
   "metadata": {},
   "source": [
    "# Search for a Solution\n",
    "\n",
    "The function `search` does a breadth-first search starting\n",
    "at the initial `belief` state and applying a sequences of moves, trying to\n",
    "find a path that leads to the goal belief state `{'HHHH'}` (meaning that the only possibility is 4 heads).\n",
    "As is typical for search algorithms, we build a search tree, keeping a queue of tree `nodes` to consider, where each \n",
    "node consists of a path (a sequence of moves) and a resulting belief state. We also keep track, in `explored`, of\n",
    "the states we have already explored, so that we don't have to revisit them.\n",
    " "
   ]
  },
  {
   "cell_type": "code",
   "execution_count": 8,
   "metadata": {
    "collapsed": false
   },
   "outputs": [],
   "source": [
    "def search(start=initial_belief):\n",
    "    \"Breadth-first search from starting belief state using moves.\"\n",
    "    explored = set()\n",
    "    q = deque([Node([], start)])\n",
    "    while q:\n",
    "        (path, belief) = q.popleft()\n",
    "        if belief == {'HHHH'}:\n",
    "            return path\n",
    "        for move in powerset(range(4)):\n",
    "            belief2 = update(belief, move)\n",
    "            if belief2 not in explored:\n",
    "                explored.add(belief2)\n",
    "                q.append(Node(path + [move], belief2))\n",
    "                \n",
    "def Node(path, belief): return (path, belief)"
   ]
  },
  {
   "cell_type": "code",
   "execution_count": 9,
   "metadata": {
    "collapsed": false
   },
   "outputs": [
    {
     "data": {
      "text/plain": [
       "[{0, 1, 2, 3},\n",
       " {0, 2},\n",
       " {0, 1, 2, 3},\n",
       " {0, 1},\n",
       " {0, 1, 2, 3},\n",
       " {0, 2},\n",
       " {0, 1, 2, 3},\n",
       " {0},\n",
       " {0, 1, 2, 3},\n",
       " {0, 2},\n",
       " {0, 1, 2, 3},\n",
       " {0, 1},\n",
       " {0, 1, 2, 3},\n",
       " {0, 2},\n",
       " {0, 1, 2, 3}]"
      ]
     },
     "execution_count": 9,
     "metadata": {},
     "output_type": "execute_result"
    }
   ],
   "source": [
    "search()"
   ]
  },
  {
   "cell_type": "markdown",
   "metadata": {},
   "source": [
    "That's a 15-move sequence that is guaranteed to lead to a win. \n",
    "\n",
    "# Verifying the Solution\n",
    "\n",
    "Do I believe the solution is correct?  Playing with paper and pencil, it does appear to work. A colleague did the puzzle and got the same answer. And here's further validation: The function `random_devil` takes a sequence of moves and plays those moves with a devil that chooses randomly, returning the number of moves it takes until the player wins:"
   ]
  },
  {
   "cell_type": "code",
   "execution_count": 10,
   "metadata": {
    "collapsed": false
   },
   "outputs": [],
   "source": [
    "def random_devil(moves):\n",
    "    \"A random devil responds to moves; return the number of moves until win, or None.\"\n",
    "    coins = random.choice(list(initial_belief))\n",
    "    if coins == 'HHHH':\n",
    "        return 0\n",
    "    for (i, move) in enumerate(moves, 1):\n",
    "        coins = flip(random.choice(list(rotations(coins))), move)\n",
    "        if coins == 'HHHH': \n",
    "            return i"
   ]
  },
  {
   "cell_type": "markdown",
   "metadata": {},
   "source": [
    "There are 16 coin sequences so let's call `random_play` 16,000 times, and count the results:"
   ]
  },
  {
   "cell_type": "code",
   "execution_count": 11,
   "metadata": {
    "collapsed": false
   },
   "outputs": [
    {
     "data": {
      "text/plain": [
       "Counter({0: 1037,\n",
       "         1: 1006,\n",
       "         2: 1011,\n",
       "         3: 998,\n",
       "         4: 980,\n",
       "         5: 976,\n",
       "         6: 1057,\n",
       "         7: 1043,\n",
       "         8: 963,\n",
       "         9: 1021,\n",
       "         10: 966,\n",
       "         11: 1012,\n",
       "         12: 995,\n",
       "         13: 975,\n",
       "         14: 990,\n",
       "         15: 970})"
      ]
     },
     "execution_count": 11,
     "metadata": {},
     "output_type": "execute_result"
    }
   ],
   "source": [
    "moves = search()\n",
    "\n",
    "Counter(random_devil(moves) for _ in range(16000))"
   ]
  },
  {
   "cell_type": "markdown",
   "metadata": {},
   "source": [
    "This says that the player won all 16,000 times. (If the player ever lost, there would have been an entry for `None` in the Counter.)\n",
    "The remarkable thing, which I can't explain, is that there are very nearly 1,000 results for each of the counts from 0 to 15. Can you explain that?\n",
    "\n",
    "# Visualizing the Solution\n",
    "\n",
    "How does the solution work? One answer is \"it takes care of all possibilities.\" But it would be nice to gain more insight. I'll print a table showing the belief state after each move. But I will do two things to make the belief state easier to read. First, I will *canonicalize* the belief state to be independent of rotations. By that I mean that if the belief stae contains `{'HHHT', 'HHTH', 'HTHH', 'THHH'}`, which are all rotations of each other,  I will only print one of them. (Arbitrarily, I choose the one that comes first alphabetically, `'HHHT'`.) This gets us down from 16 coin sequences in the belief state to six.\n",
    "Second, I will print each coin sequence in its own column, so that they line up and it is easy to see when a particular coin sequence disappears from the belief state"
   ]
  },
  {
   "cell_type": "code",
   "execution_count": 12,
   "metadata": {
    "collapsed": false
   },
   "outputs": [],
   "source": [
    "def show(moves):\n",
    "    \"For each move, print the move number, move, and belief state.\"\n",
    "    belief = initial_belief\n",
    "    show_line(0, 'start', belief)\n",
    "    for (i, move) in enumerate(moves, 1):\n",
    "        belief = update(belief, move)\n",
    "        show_line(i, move, belief)\n",
    "        \n",
    "def join(items, sep=''): return sep.join(map(str, items))\n",
    "          \n",
    "def canonical(belief): return sorted(set(min(rotations(coins)) for coins in belief))\n",
    "\n",
    "def show_line(i, move, belief, order=canonical(initial_belief)):\n",
    "    \"Print the move number, move, and belief state.\"\n",
    "    ordered_belief = [(coins if coins in belief else '    ')\n",
    "                      for coins in order]\n",
    "    print('{:2} {:5} {}'.format(i, join(move), join(ordered_belief, ' ')))"
   ]
  },
  {
   "cell_type": "code",
   "execution_count": 13,
   "metadata": {
    "collapsed": false
   },
   "outputs": [
    {
     "name": "stdout",
     "output_type": "stream",
     "text": [
      " 0 start HHHH HHHT HHTT HTHT HTTT TTTT\n",
      " 1 0123  HHHH HHHT HHTT HTHT HTTT     \n",
      " 2 02    HHHH HHHT HHTT      HTTT TTTT\n",
      " 3 0123  HHHH HHHT HHTT      HTTT     \n",
      " 4 01    HHHH HHHT      HTHT HTTT TTTT\n",
      " 5 0123  HHHH HHHT      HTHT HTTT     \n",
      " 6 02    HHHH HHHT           HTTT TTTT\n",
      " 7 0123  HHHH HHHT           HTTT     \n",
      " 8 0     HHHH      HHTT HTHT      TTTT\n",
      " 9 0123  HHHH      HHTT HTHT          \n",
      "10 02    HHHH      HHTT           TTTT\n",
      "11 0123  HHHH      HHTT               \n",
      "12 01    HHHH           HTHT      TTTT\n",
      "13 0123  HHHH           HTHT          \n",
      "14 02    HHHH                     TTTT\n",
      "15 0123  HHHH                         \n"
     ]
    }
   ],
   "source": [
    "show(search())"
   ]
  },
  {
   "cell_type": "markdown",
   "metadata": {},
   "source": [
    "We can see that every odd-numbered move flips all four coins to eliminate the possibility of `TTTT`.\n",
    "We can also see that moves 2, 4, and 6 flip two coins and have the effect of eventually eliminating the two \"two heads\" sequences from the belief state, and then move 8 flips a single coin, thus eliminating the \"three heads\" and \"one heads\" sequences, and bringing back the \"two heads\" possibilities. Repeating moves 2, 4, and 6 in moves 10, 12, and 14 then re-eliminates the \"two heads\", and move 15 gets rid of the last possibility."
   ]
  }
 ],
 "metadata": {
  "kernelspec": {
   "display_name": "Python 3",
   "language": "python",
   "name": "python3"
  },
  "language_info": {
   "codemirror_mode": {
    "name": "ipython",
    "version": 3
   },
   "file_extension": ".py",
   "mimetype": "text/x-python",
   "name": "python",
   "nbconvert_exporter": "python",
   "pygments_lexer": "ipython3",
   "version": "3.6.0"
  }
 },
 "nbformat": 4,
 "nbformat_minor": 2
}
